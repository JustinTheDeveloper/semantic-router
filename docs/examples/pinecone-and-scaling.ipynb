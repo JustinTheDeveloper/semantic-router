{
 "cells": [
  {
   "cell_type": "markdown",
   "metadata": {
    "id": "UxqB7_Ieur0s"
   },
   "source": [
    "[![Open In Colab](https://colab.research.google.com/assets/colab-badge.svg)](https://colab.research.google.com/github/aurelio-labs/semantic-router/blob/main/docs/examples/pinecone-and-scaling.ipynb) [![Open nbviewer](https://raw.githubusercontent.com/pinecone-io/examples/master/assets/nbviewer-shield.svg)](https://nbviewer.org/github/aurelio-labs/semantic-router/blob/main/docs/examples/pinecone-and-scaling.ipynb)"
   ]
  },
  {
   "cell_type": "markdown",
   "metadata": {
    "id": "EduhQaNAur0u"
   },
   "source": [
    "# Scaling to Many Routes and Using Pinecone"
   ]
  },
  {
   "cell_type": "markdown",
   "metadata": {
    "id": "_4JgNeX4ur0v"
   },
   "source": [
    "Semantic router can be used with many hundreds, thousands, or even more routes. At very large scales it can be useful to use a vector database to store and search though your route vector space. Although we do not demonstrate _very large_ scale in this notebook, we will demonstrate more routes than usual and we will also see how to use the `PineconeIndex` for potential scalability and route persistence beyond our local machines."
   ]
  },
  {
   "cell_type": "markdown",
   "metadata": {
    "id": "bbmw8CO4ur0v"
   },
   "source": [
    "## Installing the Library"
   ]
  },
  {
   "cell_type": "code",
   "execution_count": null,
   "metadata": {
    "id": "dLElfRhgur0v"
   },
   "outputs": [],
   "source": [
    "# !pip install -qU \\\n",
    "#     \"semantic-router[local, pinecone]==0.0.22\" \\\n",
    "#     datasets==2.17.0"
   ]
  },
  {
   "cell_type": "markdown",
   "metadata": {},
   "source": [
    "## Downloading Routes"
   ]
  },
  {
   "cell_type": "code",
   "execution_count": 6,
   "metadata": {},
   "outputs": [
    {
     "data": {
      "text/plain": [
       "Dataset({\n",
       "    features: ['name', 'utterances', 'description', 'function_schema', 'llm', 'score_threshold'],\n",
       "    num_rows: 50\n",
       "})"
      ]
     },
     "execution_count": 6,
     "metadata": {},
     "output_type": "execute_result"
    }
   ],
   "source": [
    "from datasets import load_dataset\n",
    "\n",
    "data = load_dataset(\"aurelio-ai/generic-routes\", split=\"train\")\n",
    "data"
   ]
  },
  {
   "cell_type": "markdown",
   "metadata": {},
   "source": [
    "Each row in this dataset is a single route:"
   ]
  },
  {
   "cell_type": "code",
   "execution_count": 7,
   "metadata": {},
   "outputs": [
    {
     "data": {
      "text/plain": [
       "{'name': 'politics',\n",
       " 'utterances': [\"isn't politics the best thing ever\",\n",
       "  \"why don't you tell me about your political opinions\",\n",
       "  \"don't you just love the presidentdon't you just hate the president\",\n",
       "  \"they're going to destroy this country!\",\n",
       "  'they will save the country!'],\n",
       " 'description': None,\n",
       " 'function_schema': None,\n",
       " 'llm': None,\n",
       " 'score_threshold': 0.82}"
      ]
     },
     "execution_count": 7,
     "metadata": {},
     "output_type": "execute_result"
    }
   ],
   "source": [
    "data[0]"
   ]
  },
  {
   "cell_type": "markdown",
   "metadata": {},
   "source": [
    "We transform these into `Route` objects like so:"
   ]
  },
  {
   "cell_type": "code",
   "execution_count": 8,
   "metadata": {},
   "outputs": [
    {
     "data": {
      "text/plain": [
       "Route(name='politics', utterances=[\"isn't politics the best thing ever\", \"why don't you tell me about your political opinions\", \"don't you just love the presidentdon't you just hate the president\", \"they're going to destroy this country!\", 'they will save the country!'], description=None, function_schema=None, llm=None, score_threshold=0.82)"
      ]
     },
     "execution_count": 8,
     "metadata": {},
     "output_type": "execute_result"
    }
   ],
   "source": [
    "from semantic_router import Route\n",
    "\n",
    "routes = [Route(**data[i]) for i in range(len(data))]\n",
    "routes[0]"
   ]
  },
  {
   "cell_type": "markdown",
   "metadata": {},
   "source": [
    "Next we initialize an `encoder`. We will use a simple `HuggingFaceEncoder`, we can also use popular encoder APIs like `CohereEncoder` and `OpenAIEncoder`."
   ]
  },
  {
   "cell_type": "code",
   "execution_count": 9,
   "metadata": {
    "colab": {
     "base_uri": "https://localhost:8080/"
    },
    "id": "BI9AiDspur0y",
    "outputId": "27329a54-3f16-44a5-ac20-13a6b26afb97"
   },
   "outputs": [],
   "source": [
    "from semantic_router.encoders import HuggingFaceEncoder\n",
    "\n",
    "encoder = HuggingFaceEncoder()"
   ]
  },
  {
   "cell_type": "markdown",
   "metadata": {},
   "source": [
    "Now we initialize our `PineconeIndex`, all it requires is a [Pinecone API key](https://app.pinecone.io) (you do need to be using Pinecone Serverless)."
   ]
  },
  {
   "cell_type": "code",
   "execution_count": 2,
   "metadata": {},
   "outputs": [],
   "source": [
    "import os\n",
    "from getpass import getpass\n",
    "from semantic_router.index.pinecone import PineconeIndex\n",
    "\n",
    "os.environ[\"PINECONE_API_KEY\"] = os.environ.get(\"PINECONE_API_KEY\") or getpass(\n",
    "    \"Enter Pinecone API key: \"\n",
    ")\n",
    "\n",
    "index = PineconeIndex(index_name=\"index\", namespace=\"namespace\")"
   ]
  },
  {
   "cell_type": "code",
   "execution_count": 11,
   "metadata": {},
   "outputs": [
    {
     "name": "stderr",
     "output_type": "stream",
     "text": [
      "\u001b[32m2024-04-15 01:56:59 INFO semantic_router.utils.logger local\u001b[0m\n"
     ]
    }
   ],
   "source": [
    "from semantic_router import RouteLayer\n",
    "\n",
    "rl = RouteLayer(encoder=encoder, routes=routes, index=index)"
   ]
  },
  {
   "cell_type": "markdown",
   "metadata": {
    "id": "GuLCeIS5ur0y"
   },
   "source": [
    "We run the solely static routes layer:"
   ]
  },
  {
   "cell_type": "code",
   "execution_count": 12,
   "metadata": {
    "colab": {
     "base_uri": "https://localhost:8080/"
    },
    "id": "_rNREh7gur0y",
    "outputId": "f3a1dc0b-d760-4efb-b634-d3547011dcb7"
   },
   "outputs": [
    {
     "data": {
      "text/plain": [
       "'chitchat'"
      ]
     },
     "execution_count": 12,
     "metadata": {},
     "output_type": "execute_result"
    }
   ],
   "source": [
    "rl(\"how's the weather today?\").name"
   ]
  },
  {
   "cell_type": "markdown",
   "metadata": {},
   "source": [
    "_If you see a warning about no classification being found, wait a moment and run the above cell again._"
   ]
  },
  {
   "cell_type": "markdown",
   "metadata": {
    "id": "McbLKO26ur0y"
   },
   "source": [
    "## Loading Index From Previous Initialization"
   ]
  },
  {
   "cell_type": "markdown",
   "metadata": {
    "id": "ANAoEjxYur0y"
   },
   "source": [
    "Because we're using Pinecone our route index can now persist / be access from different locations by simply connecting to the pre-existing index, by default this index uses the identifier `\"semantic-router--index\"` — this is the index we'll be loading here, but we can change the name via the `index_name` parameter if preferred.\n",
    "\n",
    "First, let's delete our old route layer, `index`, and `routes`."
   ]
  },
  {
   "cell_type": "code",
   "execution_count": null,
   "metadata": {
    "id": "5jaF1Xa5ur0y"
   },
   "outputs": [],
   "source": [
    "del rl, index, routes"
   ]
  },
  {
   "cell_type": "markdown",
   "metadata": {},
   "source": [
    "Let's load our index first. As mentioned, `\"index\"` is the default index name and we are passing `\"namespace\"` as namespace name for the pinecone object."
   ]
  },
  {
   "cell_type": "code",
   "execution_count": 3,
   "metadata": {},
   "outputs": [],
   "source": [
    "index = PineconeIndex(index_name=\"index\", namespace=\"namespace\")"
   ]
  },
  {
   "cell_type": "markdown",
   "metadata": {},
   "source": [
    "We load the pre-existing routes from this index like so:"
   ]
  },
  {
   "cell_type": "code",
   "execution_count": 2,
   "metadata": {},
   "outputs": [
    {
     "data": {
      "text/plain": [
       "[('cybersecurity_best_practices',\n",
       "  'introduction to ethical hacking for developers'),\n",
       " ('coding_standards_and_conventions', 'JavaScript coding conventions'),\n",
       " ('chitchat', 'lovely weather today'),\n",
       " ('cybersecurity_best_practices', 'securing your web applications'),\n",
       " ('gaming_and_esports', 'what are the popular games right now?'),\n",
       " ('compliments', 'say something nice about me'),\n",
       " ('jokes', 'know any good jokes?'),\n",
       " ('data_structures_and_algorithms', 'algorithms every developer should know'),\n",
       " ('data_structures_and_algorithms', 'basic data structures for beginners'),\n",
       " ('interview_preparation', 'how to prepare for a coding interview'),\n",
       " ('career_advice', 'suggest some career development tips'),\n",
       " ('creative_writing_and_literature', 'how can I improve my writing skills?'),\n",
       " ('art_and_culture', 'tell me about your favorite artist'),\n",
       " ('language_learning', 'suggest ways to learn a new language'),\n",
       " ('fitness_tips', 'suggest a workout routine'),\n",
       " ('mental_health_support', 'what are ways to improve mental health?'),\n",
       " ('daily_inspiration', 'I need some inspiration for today'),\n",
       " ('compliments', 'give me a compliment'),\n",
       " ('gardening_and_horticulture', 'suggest some easy-care indoor plants'),\n",
       " ('career_advice_in_tech',\n",
       "  'how to build a portfolio for software development'),\n",
       " ('astronomy_and_space_exploration', 'tell me about the latest space mission'),\n",
       " ('hobbies_and_interests', 'suggest me a hobby'),\n",
       " ('creative_writing_and_literature', 'what are some tips for storytelling?'),\n",
       " ('art_and_culture', \"what's an interesting cultural tradition?\"),\n",
       " ('ethical_considerations_in_tech',\n",
       "  'the role of ethics in artificial intelligence'),\n",
       " ('development_tools', 'using Docker in development'),\n",
       " ('career_advice', 'how can I improve my resume?'),\n",
       " ('jokes', 'tell me a joke'),\n",
       " ('environmental_awareness', 'how can I be more eco-friendly?'),\n",
       " ('cloud_computing', 'introduction to cloud storage options'),\n",
       " ('cloud_computing', 'AWS vs Azure vs Google Cloud'),\n",
       " ('mindfulness_and_wellness', 'tell me about mindfulness'),\n",
       " ('frameworks_and_libraries', 'introduction to Django for web development'),\n",
       " ('career_advice', 'what are the emerging career fields?'),\n",
       " ('daily_inspiration', 'share something uplifting'),\n",
       " ('gaming_and_esports', 'suggest a good game for beginners'),\n",
       " ('chitchat', 'how are things going?'),\n",
       " ('historical_events', 'share an interesting piece of medieval history'),\n",
       " ('mental_health_support', 'share some self-care practices'),\n",
       " ('environmental_awareness', 'what are some ways to save the planet?'),\n",
       " ('mental_health_support', 'how can I manage stress?'),\n",
       " ('language_learning', 'how can I improve my Spanish?'),\n",
       " ('career_advice_in_tech', 'navigating career growth in tech'),\n",
       " ('cloud_computing', 'best practices for cloud security'),\n",
       " ('fitness_tips', 'give me a fitness tip'),\n",
       " ('machine_learning_in_development',\n",
       "  'how to start with machine learning in Python'),\n",
       " ('cybersecurity_best_practices', 'common security vulnerabilities to avoid'),\n",
       " ('chitchat', \"how's the weather today?\"),\n",
       " ('fitness_tips', 'how can I stay active at home?'),\n",
       " ('gardening_and_horticulture', 'how do I start a vegetable garden?'),\n",
       " ('interview_preparation', 'common programming interview questions'),\n",
       " ('environmental_awareness', 'tell me about sustainability practices'),\n",
       " ('art_and_culture', 'suggest some must-visit museums'),\n",
       " ('development_tools', 'recommendations for Python IDEs'),\n",
       " ('development_tools', 'best Git clients for macOS'),\n",
       " ('coding_standards_and_conventions', 'maintaining consistency in codebase'),\n",
       " ('ethical_considerations_in_tech', 'ethical hacking and its importance'),\n",
       " ('data_structures_and_algorithms', 'complexity analysis of algorithms'),\n",
       " ('food_and_recipes', 'tell me about a dish from your country'),\n",
       " ('coding_standards_and_conventions', 'why coding standards matter'),\n",
       " ('career_advice_in_tech', 'tips for landing your first tech job'),\n",
       " ('chitchat', \"let's go to the chippy\"),\n",
       " ('historical_events', 'tell me about a significant historical event'),\n",
       " ('food_and_recipes', \"what's your favorite food?\"),\n",
       " ('hobbies_and_interests', \"I'm looking for a new pastime\"),\n",
       " ('astronomy_and_space_exploration', 'how can I stargaze effectively?'),\n",
       " ('food_and_recipes', 'suggest a recipe for dinner'),\n",
       " ('debugging_tips', 'tips for debugging asynchronous code'),\n",
       " ('best_practices', 'how to write clean code in Python'),\n",
       " ('jokes', 'make me laugh'),\n",
       " ('language_syntax', 'how do closures work in JavaScript?'),\n",
       " ('book_recommendations', 'suggest a good book to read'),\n",
       " ('language_syntax', 'explain the syntax of Python functions'),\n",
       " ('best_practices', 'what are the best practices for REST API design?'),\n",
       " ('book_recommendations', 'I need a book recommendation'),\n",
       " ('astronomy_and_space_exploration',\n",
       "  'what are some interesting facts about the universe?'),\n",
       " ('gaming_and_esports', 'tell me about upcoming esports events'),\n",
       " ('interview_preparation', 'tips for technical interviews'),\n",
       " ('debugging_tips', 'best tools for JavaScript debugging'),\n",
       " ('mindfulness_and_wellness', 'give me a wellness tip'),\n",
       " ('debugging_tips', 'how do I debug segmentation faults in C++?'),\n",
       " ('historical_events', 'who was a notable figure in ancient history?'),\n",
       " ('language_learning',\n",
       "  'what are some effective language learning techniques?'),\n",
       " ('compliments', 'I need some positive vibes'),\n",
       " ('frameworks_and_libraries',\n",
       "  \"what's the difference between React and Angular?\"),\n",
       " ('chitchat', 'the weather is horrendous'),\n",
       " ('educational_facts', 'do you know any historical trivia?'),\n",
       " ('machine_learning_in_development', 'using TensorFlow for beginners'),\n",
       " ('educational_facts', 'share a science fact'),\n",
       " ('gardening_and_horticulture',\n",
       "  'what are some tips for sustainable gardening?'),\n",
       " ('daily_inspiration', 'give me an inspirational quote'),\n",
       " ('book_recommendations', \"what's your favorite book?\"),\n",
       " ('best_practices', 'best practices for error handling in JavaScript'),\n",
       " ('educational_facts', 'tell me an interesting fact'),\n",
       " ('machine_learning_in_development',\n",
       "  'machine learning model deployment best practices'),\n",
       " ('frameworks_and_libraries', 'best Python libraries for data analysis'),\n",
       " ('hobbies_and_interests', 'what are your interests?'),\n",
       " ('creative_writing_and_literature', 'suggest some classic literature'),\n",
       " ('language_syntax', 'what are the new features in Java 15?'),\n",
       " ('ethical_considerations_in_tech', 'privacy concerns in app development'),\n",
       " ('software_architecture', 'differences between MVC and MVVM'),\n",
       " ('motivation', 'give me a motivational quote'),\n",
       " ('open_source_contributions', 'how to start contributing to open source'),\n",
       " ('tech_trends', \"what's new in technology?\"),\n",
       " ('software_architecture', 'explain microservices architecture'),\n",
       " ('personal_questions', 'what do you like to do for fun?'),\n",
       " ('movie_suggestions', 'suggest a good movie for tonight'),\n",
       " ('programming_challenges', 'suggest a coding challenge for beginners'),\n",
       " ('movie_suggestions', 'recommend a movie'),\n",
       " ('web_development_trends', \"what's new in front-end development?\"),\n",
       " ('politics', \"they're going to destroy this country!\"),\n",
       " ('web_development_trends', 'emerging back-end technologies'),\n",
       " ('personal_questions', 'do you have any hobbies?'),\n",
       " ('version_control_systems', 'best practices for branching in Git'),\n",
       " ('science_and_innovation', 'what are the latest scientific discoveries?'),\n",
       " ('motivation', 'inspire me'),\n",
       " ('mobile_app_development', 'optimizing performance in mobile apps'),\n",
       " ('mobile_app_development', 'Kotlin vs Swift for mobile development'),\n",
       " ('programming_challenges', 'where can I find algorithmic puzzles?'),\n",
       " ('open_source_contributions', 'best practices for open-source contributors'),\n",
       " ('tech_trends', 'what are the emerging tech trends?'),\n",
       " ('travel_stories', 'tell me about your favorite travel destination'),\n",
       " ('pet_care_advice', 'what should I know about keeping a pet rabbit?'),\n",
       " ('philosophical_questions', 'what are your thoughts on free will?'),\n",
       " ('pet_care_advice', 'how can I train my dog?'),\n",
       " ('personal_questions', \"what's your favorite color?\"),\n",
       " ('travel_stories', 'share a travel story'),\n",
       " ('music_discovery', 'recommend songs for a workout playlist'),\n",
       " ('science_and_innovation', 'tell me about a recent innovation'),\n",
       " ('pet_care_advice', 'suggest some tips for cat care'),\n",
       " ('travel_stories', \"what's the most interesting place you've visited?\"),\n",
       " ('open_source_contributions', 'finding projects that accept contributions'),\n",
       " ('version_control_systems', 'how to revert a commit in Git'),\n",
       " ('music_discovery', 'who are the top artists right now?'),\n",
       " ('philosophical_questions', 'what is the meaning of life?'),\n",
       " ('philosophical_questions', 'do you believe in fate?'),\n",
       " ('version_control_systems', 'introduction to SVN for beginners'),\n",
       " ('tech_trends', 'tell me about the latest gadgets'),\n",
       " ('music_discovery', 'suggest some new music'),\n",
       " ('mobile_app_development',\n",
       "  'best tools for cross-platform mobile development'),\n",
       " ('politics', 'they will save the country!'),\n",
       " ('project_management_in_tech', 'tools for managing tech projects'),\n",
       " ('motivation', 'I need some motivation'),\n",
       " ('politics',\n",
       "  \"don't you just love the presidentdon't you just hate the president\"),\n",
       " ('project_management_in_tech', 'how to lead a development team'),\n",
       " ('politics', \"why don't you tell me about your political opinions\"),\n",
       " ('politics', \"isn't politics the best thing ever\"),\n",
       " ('web_development_trends', 'the future of web development'),\n",
       " ('mindfulness_and_wellness', 'how can I relax?'),\n",
       " ('programming_challenges', 'programming tasks to improve problem-solving'),\n",
       " ('movie_suggestions', \"what's your favorite movie?\"),\n",
       " ('software_architecture', 'introduction to domain-driven design'),\n",
       " ('science_and_innovation', 'how does AI impact our daily lives?'),\n",
       " ('project_management_in_tech', 'agile vs waterfall project management')]"
      ]
     },
     "execution_count": 2,
     "metadata": {},
     "output_type": "execute_result"
    }
   ],
   "source": [
    "index.get_routes()"
   ]
  },
  {
   "cell_type": "markdown",
   "metadata": {},
   "source": [
    "We will transform these into a dictionary format that we can use to initialize our `Route` objects."
   ]
  },
  {
   "cell_type": "code",
   "execution_count": 5,
   "metadata": {},
   "outputs": [],
   "source": [
    "routes_dict = {}\n",
    "for route, utterance in index.get_routes():\n",
    "    if route not in routes_dict:\n",
    "        routes_dict[route] = []\n",
    "    routes_dict[route].append(utterance)"
   ]
  },
  {
   "cell_type": "code",
   "execution_count": 6,
   "metadata": {},
   "outputs": [
    {
     "data": {
      "text/plain": [
       "{'fitness_tips': ['give me a fitness tip',\n",
       "  'suggest a workout routine',\n",
       "  'how can I stay active at home?'],\n",
       " 'language_learning': ['how can I improve my Spanish?',\n",
       "  'what are some effective language learning techniques?',\n",
       "  'suggest ways to learn a new language'],\n",
       " 'frameworks_and_libraries': ['introduction to Django for web development',\n",
       "  \"what's the difference between React and Angular?\",\n",
       "  'best Python libraries for data analysis'],\n",
       " 'book_recommendations': [\"what's your favorite book?\",\n",
       "  'suggest a good book to read',\n",
       "  'I need a book recommendation'],\n",
       " 'coding_standards_and_conventions': ['JavaScript coding conventions',\n",
       "  'maintaining consistency in codebase',\n",
       "  'why coding standards matter'],\n",
       " 'historical_events': ['share an interesting piece of medieval history',\n",
       "  'who was a notable figure in ancient history?',\n",
       "  'tell me about a significant historical event'],\n",
       " 'ethical_considerations_in_tech': ['ethical hacking and its importance',\n",
       "  'the role of ethics in artificial intelligence',\n",
       "  'privacy concerns in app development'],\n",
       " 'jokes': ['make me laugh', 'tell me a joke', 'know any good jokes?'],\n",
       " 'chitchat': [\"let's go to the chippy\",\n",
       "  'how are things going?',\n",
       "  'the weather is horrendous',\n",
       "  \"how's the weather today?\",\n",
       "  'lovely weather today'],\n",
       " 'environmental_awareness': ['how can I be more eco-friendly?',\n",
       "  'tell me about sustainability practices',\n",
       "  'what are some ways to save the planet?'],\n",
       " 'gardening_and_horticulture': ['suggest some easy-care indoor plants',\n",
       "  'how do I start a vegetable garden?',\n",
       "  'what are some tips for sustainable gardening?'],\n",
       " 'data_structures_and_algorithms': ['basic data structures for beginners',\n",
       "  'complexity analysis of algorithms',\n",
       "  'algorithms every developer should know'],\n",
       " 'educational_facts': ['share a science fact',\n",
       "  'do you know any historical trivia?',\n",
       "  'tell me an interesting fact'],\n",
       " 'art_and_culture': ['tell me about your favorite artist',\n",
       "  'suggest some must-visit museums',\n",
       "  \"what's an interesting cultural tradition?\"],\n",
       " 'mindfulness_and_wellness': ['give me a wellness tip',\n",
       "  'tell me about mindfulness',\n",
       "  'how can I relax?'],\n",
       " 'cybersecurity_best_practices': ['common security vulnerabilities to avoid',\n",
       "  'introduction to ethical hacking for developers',\n",
       "  'securing your web applications'],\n",
       " 'development_tools': ['using Docker in development',\n",
       "  'recommendations for Python IDEs',\n",
       "  'best Git clients for macOS'],\n",
       " 'gaming_and_esports': ['suggest a good game for beginners',\n",
       "  'what are the popular games right now?',\n",
       "  'tell me about upcoming esports events'],\n",
       " 'interview_preparation': ['tips for technical interviews',\n",
       "  'common programming interview questions',\n",
       "  'how to prepare for a coding interview'],\n",
       " 'daily_inspiration': ['give me an inspirational quote',\n",
       "  'I need some inspiration for today',\n",
       "  'share something uplifting'],\n",
       " 'cloud_computing': ['best practices for cloud security',\n",
       "  'AWS vs Azure vs Google Cloud',\n",
       "  'introduction to cloud storage options'],\n",
       " 'machine_learning_in_development': ['how to start with machine learning in Python',\n",
       "  'machine learning model deployment best practices',\n",
       "  'using TensorFlow for beginners'],\n",
       " 'mental_health_support': ['what are ways to improve mental health?',\n",
       "  'share some self-care practices',\n",
       "  'how can I manage stress?'],\n",
       " 'astronomy_and_space_exploration': ['how can I stargaze effectively?',\n",
       "  'tell me about the latest space mission',\n",
       "  'what are some interesting facts about the universe?'],\n",
       " 'career_advice_in_tech': ['how to build a portfolio for software development',\n",
       "  'tips for landing your first tech job',\n",
       "  'navigating career growth in tech'],\n",
       " 'hobbies_and_interests': ['what are your interests?',\n",
       "  'suggest me a hobby',\n",
       "  \"I'm looking for a new pastime\"],\n",
       " 'debugging_tips': ['how do I debug segmentation faults in C++?',\n",
       "  'best tools for JavaScript debugging',\n",
       "  'tips for debugging asynchronous code'],\n",
       " 'career_advice': ['suggest some career development tips',\n",
       "  'what are the emerging career fields?',\n",
       "  'how can I improve my resume?'],\n",
       " 'compliments': ['give me a compliment',\n",
       "  'say something nice about me',\n",
       "  'I need some positive vibes'],\n",
       " 'best_practices': ['how to write clean code in Python',\n",
       "  'best practices for error handling in JavaScript',\n",
       "  'what are the best practices for REST API design?'],\n",
       " 'food_and_recipes': [\"what's your favorite food?\",\n",
       "  'suggest a recipe for dinner',\n",
       "  'tell me about a dish from your country'],\n",
       " 'creative_writing_and_literature': ['suggest some classic literature',\n",
       "  'what are some tips for storytelling?',\n",
       "  'how can I improve my writing skills?'],\n",
       " 'language_syntax': ['explain the syntax of Python functions',\n",
       "  'how do closures work in JavaScript?',\n",
       "  'what are the new features in Java 15?'],\n",
       " 'travel_stories': [\"what's the most interesting place you've visited?\",\n",
       "  'share a travel story',\n",
       "  'tell me about your favorite travel destination'],\n",
       " 'philosophical_questions': ['do you believe in fate?',\n",
       "  'what are your thoughts on free will?',\n",
       "  'what is the meaning of life?'],\n",
       " 'programming_challenges': ['where can I find algorithmic puzzles?',\n",
       "  'suggest a coding challenge for beginners',\n",
       "  'programming tasks to improve problem-solving'],\n",
       " 'personal_questions': ['what do you like to do for fun?',\n",
       "  \"what's your favorite color?\",\n",
       "  'do you have any hobbies?'],\n",
       " 'movie_suggestions': ['recommend a movie',\n",
       "  \"what's your favorite movie?\",\n",
       "  'suggest a good movie for tonight'],\n",
       " 'science_and_innovation': ['what are the latest scientific discoveries?',\n",
       "  'how does AI impact our daily lives?',\n",
       "  'tell me about a recent innovation'],\n",
       " 'music_discovery': ['suggest some new music',\n",
       "  'who are the top artists right now?',\n",
       "  'recommend songs for a workout playlist'],\n",
       " 'web_development_trends': ['emerging back-end technologies',\n",
       "  \"what's new in front-end development?\",\n",
       "  'the future of web development'],\n",
       " 'tech_trends': ['tell me about the latest gadgets',\n",
       "  \"what's new in technology?\",\n",
       "  'what are the emerging tech trends?'],\n",
       " 'open_source_contributions': ['best practices for open-source contributors',\n",
       "  'finding projects that accept contributions',\n",
       "  'how to start contributing to open source'],\n",
       " 'mobile_app_development': ['Kotlin vs Swift for mobile development',\n",
       "  'optimizing performance in mobile apps',\n",
       "  'best tools for cross-platform mobile development'],\n",
       " 'politics': [\"isn't politics the best thing ever\",\n",
       "  \"don't you just love the presidentdon't you just hate the president\",\n",
       "  'they will save the country!',\n",
       "  \"why don't you tell me about your political opinions\",\n",
       "  \"they're going to destroy this country!\"],\n",
       " 'motivation': ['give me a motivational quote',\n",
       "  'I need some motivation',\n",
       "  'inspire me'],\n",
       " 'pet_care_advice': ['what should I know about keeping a pet rabbit?',\n",
       "  'suggest some tips for cat care',\n",
       "  'how can I train my dog?'],\n",
       " 'version_control_systems': ['best practices for branching in Git',\n",
       "  'introduction to SVN for beginners',\n",
       "  'how to revert a commit in Git'],\n",
       " 'software_architecture': ['differences between MVC and MVVM',\n",
       "  'introduction to domain-driven design',\n",
       "  'explain microservices architecture'],\n",
       " 'project_management_in_tech': ['agile vs waterfall project management',\n",
       "  'how to lead a development team',\n",
       "  'tools for managing tech projects']}"
      ]
     },
     "execution_count": 6,
     "metadata": {},
     "output_type": "execute_result"
    }
   ],
   "source": [
    "routes_dict"
   ]
  },
  {
   "cell_type": "markdown",
   "metadata": {},
   "source": [
    "Now we transform these into a list of `Route` objects."
   ]
  },
  {
   "cell_type": "code",
   "execution_count": 13,
   "metadata": {},
   "outputs": [
    {
     "data": {
      "text/plain": [
       "Route(name='food_and_recipes', utterances=[\"what's your favorite food?\", 'suggest a recipe for dinner', 'tell me about a dish from your country'], description=None, function_schema=None, llm=None, score_threshold=None)"
      ]
     },
     "execution_count": 13,
     "metadata": {},
     "output_type": "execute_result"
    }
   ],
   "source": [
    "routes = [\n",
    "    Route(name=route, utterances=utterances)\n",
    "    for route, utterances in routes_dict.items()\n",
    "]\n",
    "routes[0]"
   ]
  },
  {
   "cell_type": "markdown",
   "metadata": {},
   "source": [
    "Now we reinitialize our `RouteLayer`:"
   ]
  },
  {
   "cell_type": "code",
   "execution_count": 14,
   "metadata": {
    "colab": {
     "base_uri": "https://localhost:8080/",
     "height": 35
    },
    "id": "YyFKV8jMur0z",
    "outputId": "29cf80f4-552c-47bb-fbf9-019f5dfdf00a"
   },
   "outputs": [
    {
     "name": "stderr",
     "output_type": "stream",
     "text": [
      "\u001b[32m2024-04-15 01:57:19 INFO semantic_router.utils.logger local\u001b[0m\n"
     ]
    }
   ],
   "source": [
    "from semantic_router import RouteLayer\n",
    "\n",
    "rl = RouteLayer(encoder=encoder, routes=routes, index=index)"
   ]
  },
  {
   "cell_type": "markdown",
   "metadata": {},
   "source": [
    "And test it again:"
   ]
  },
  {
   "cell_type": "code",
   "execution_count": 15,
   "metadata": {},
   "outputs": [
    {
     "data": {
      "text/plain": [
       "'jokes'"
      ]
     },
     "execution_count": 15,
     "metadata": {},
     "output_type": "execute_result"
    }
   ],
   "source": [
    "rl(\"say something to make me laugh\").name"
   ]
  },
  {
   "cell_type": "code",
   "execution_count": 16,
   "metadata": {},
   "outputs": [
    {
     "data": {
      "text/plain": [
       "'jokes'"
      ]
     },
     "execution_count": 16,
     "metadata": {},
     "output_type": "execute_result"
    }
   ],
   "source": [
    "rl(\"tell me something amusing\").name"
   ]
  },
  {
   "cell_type": "code",
   "execution_count": 17,
   "metadata": {},
   "outputs": [
    {
     "data": {
      "text/plain": [
       "'chitchat'"
      ]
     },
     "execution_count": 17,
     "metadata": {},
     "output_type": "execute_result"
    }
   ],
   "source": [
    "rl(\"it's raining cats and dogs today\").name"
   ]
  },
  {
   "cell_type": "code",
   "execution_count": 7,
   "metadata": {},
   "outputs": [],
   "source": [
    "# delete index\n",
    "index.delete_index()"
   ]
  },
  {
   "cell_type": "markdown",
   "metadata": {
    "id": "Qt0vkq2Xur00"
   },
   "source": [
    "Perfect, our routes loaded from our `PineconeIndex` are working as expected! As mentioned, we can use the `PineconeIndex` for persistance and high scale use-cases, for example where we might have hundreds of thousands of utterances, or even millions."
   ]
  },
  {
   "cell_type": "markdown",
   "metadata": {
    "id": "J0oD1dxIur00"
   },
   "source": [
    "---"
   ]
  }
 ],
 "metadata": {
  "colab": {
   "provenance": []
  },
  "kernelspec": {
   "display_name": "decision-layer",
   "language": "python",
   "name": "python3"
  },
  "language_info": {
   "codemirror_mode": {
    "name": "ipython",
    "version": 3
   },
   "file_extension": ".py",
   "mimetype": "text/x-python",
   "name": "python",
   "nbconvert_exporter": "python",
   "pygments_lexer": "ipython3",
   "version": "3.12.2"
  }
 },
 "nbformat": 4,
 "nbformat_minor": 0
}
