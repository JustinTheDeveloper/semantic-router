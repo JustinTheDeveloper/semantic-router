{
 "cells": [
  {
   "cell_type": "markdown",
   "metadata": {},
   "source": [
    "# Test Dynamic Route Prompts"
   ]
  },
  {
   "cell_type": "markdown",
   "metadata": {},
   "source": [
    "## Define Functions"
   ]
  },
  {
   "cell_type": "code",
   "execution_count": 1,
   "metadata": {},
   "outputs": [],
   "source": [
    "from datetime import datetime, timedelta\n",
    "from zoneinfo import ZoneInfo\n",
    "\n",
    "# Function with one argument\n",
    "def get_time(timezone: str) -> str:\n",
    "    \"\"\"Finds the current time in a specific timezone.\n",
    "\n",
    "    :param timezone: The timezone to find the current time in, should\n",
    "        be a valid timezone from the IANA Time Zone Database like\n",
    "        \"America/New_York\" or \"Europe/London\". Do NOT put the place\n",
    "        name itself like \"rome\", or \"new york\", you must provide\n",
    "        the IANA format.\n",
    "    :type timezone: str\n",
    "    :return: The current time in the specified timezone.\"\"\"\n",
    "    now = datetime.now(ZoneInfo(timezone))\n",
    "    return now.strftime(\"%H:%M\")\n",
    "\n",
    "\n",
    "\n",
    "def get_time_difference(timezone1: str, timezone2: str) -> str:\n",
    "    \"\"\"Calculates the time difference between two timezones.\n",
    "    :param timezone1: The first timezone, should be a valid timezone from the IANA Time Zone Database like \"America/New_York\" or \"Europe/London\".\n",
    "    :param timezone2: The second timezone, should be a valid timezone from the IANA Time Zone Database like \"America/New_York\" or \"Europe/London\".\n",
    "    :type timezone1: str\n",
    "    :type timezone2: str\n",
    "    :return: The time difference in hours between the two timezones.\"\"\"\n",
    "    # Get the current time in UTC\n",
    "    now_utc = datetime.utcnow().replace(tzinfo=ZoneInfo('UTC'))\n",
    "    \n",
    "    # Convert the UTC time to the specified timezones\n",
    "    tz1_time = now_utc.astimezone(ZoneInfo(timezone1))\n",
    "    tz2_time = now_utc.astimezone(ZoneInfo(timezone2))\n",
    "    \n",
    "    # Calculate the difference in offsets from UTC\n",
    "    tz1_offset = tz1_time.utcoffset().total_seconds()\n",
    "    tz2_offset = tz2_time.utcoffset().total_seconds()\n",
    "    \n",
    "    # Calculate the difference in hours\n",
    "    hours_difference = (tz2_offset - tz1_offset) / 3600\n",
    "    \n",
    "    return f\"The time difference between {timezone1} and {timezone2} is {hours_difference} hours.\"\n",
    "\n",
    "# Function with three arguments\n",
    "def convert_time(time: str, from_timezone: str, to_timezone: str) -> str:\n",
    "    \"\"\"Converts a specific time from one timezone to another.\n",
    "    :param time: The time to convert in HH:MM format.\n",
    "    :param from_timezone: The original timezone of the time, should be a valid IANA timezone.\n",
    "    :param to_timezone: The target timezone for the time, should be a valid IANA timezone.\n",
    "    :type time: str\n",
    "    :type from_timezone: str\n",
    "    :type to_timezone: str\n",
    "    :return: The converted time in the target timezone.\n",
    "    :raises ValueError: If the time format or timezone strings are invalid.\n",
    "    \n",
    "    Example:\n",
    "        convert_time(\"12:30\", \"America/New_York\", \"Asia/Tokyo\") -> \"03:30\"\n",
    "    \"\"\"\n",
    "    try:\n",
    "        # Use today's date to avoid historical timezone issues\n",
    "        today = datetime.now().date()\n",
    "        datetime_string = f\"{today} {time}\"\n",
    "        time_obj = datetime.strptime(datetime_string, \"%Y-%m-%d %H:%M\").replace(tzinfo=ZoneInfo(from_timezone))\n",
    "        \n",
    "        converted_time = time_obj.astimezone(ZoneInfo(to_timezone))\n",
    "        \n",
    "        formatted_time = converted_time.strftime(\"%H:%M\")\n",
    "        return formatted_time\n",
    "    except Exception as e:\n",
    "        raise ValueError(f\"Error converting time: {e}\")"
   ]
  },
  {
   "cell_type": "code",
   "execution_count": 2,
   "metadata": {},
   "outputs": [],
   "source": [
    "functions = [get_time, get_time_difference, convert_time]"
   ]
  },
  {
   "cell_type": "markdown",
   "metadata": {},
   "source": [
    "## Get Function Schemas"
   ]
  },
  {
   "cell_type": "code",
   "execution_count": 3,
   "metadata": {},
   "outputs": [
    {
     "name": "stderr",
     "output_type": "stream",
     "text": [
      "c:\\Users\\Siraj\\Documents\\Personal\\Work\\Aurelio\\Virtual Environments\\semantic_router_3\\Lib\\site-packages\\tqdm\\auto.py:21: TqdmWarning: IProgress not found. Please update jupyter and ipywidgets. See https://ipywidgets.readthedocs.io/en/stable/user_install.html\n",
      "  from .autonotebook import tqdm as notebook_tqdm\n"
     ]
    },
    {
     "data": {
      "text/plain": [
       "[{'name': 'get_time',\n",
       "  'description': 'Finds the current time in a specific timezone.\\n\\n:param timezone: The timezone to find the current time in, should\\n    be a valid timezone from the IANA Time Zone Database like\\n    \"America/New_York\" or \"Europe/London\". Do NOT put the place\\n    name itself like \"rome\", or \"new york\", you must provide\\n    the IANA format.\\n:type timezone: str\\n:return: The current time in the specified timezone.',\n",
       "  'signature': '(timezone: str) -> str',\n",
       "  'output': \"<class 'str'>\"},\n",
       " {'name': 'get_time_difference',\n",
       "  'description': 'Calculates the time difference between two timezones.\\n:param timezone1: The first timezone, should be a valid timezone from the IANA Time Zone Database like \"America/New_York\" or \"Europe/London\".\\n:param timezone2: The second timezone, should be a valid timezone from the IANA Time Zone Database like \"America/New_York\" or \"Europe/London\".\\n:type timezone1: str\\n:type timezone2: str\\n:return: The time difference in hours between the two timezones.',\n",
       "  'signature': '(timezone1: str, timezone2: str) -> str',\n",
       "  'output': \"<class 'str'>\"},\n",
       " {'name': 'convert_time',\n",
       "  'description': 'Converts a specific time from one timezone to another.\\n:param time: The time to convert in HH:MM format.\\n:param from_timezone: The original timezone of the time, should be a valid IANA timezone.\\n:param to_timezone: The target timezone for the time, should be a valid IANA timezone.\\n:type time: str\\n:type from_timezone: str\\n:type to_timezone: str\\n:return: The converted time in the target timezone.\\n:raises ValueError: If the time format or timezone strings are invalid.\\n\\nExample:\\n    convert_time(\"12:30\", \"America/New_York\", \"Asia/Tokyo\") -> \"03:30\"',\n",
       "  'signature': '(time: str, from_timezone: str, to_timezone: str) -> str',\n",
       "  'output': \"<class 'str'>\"}]"
      ]
     },
     "execution_count": 3,
     "metadata": {},
     "output_type": "execute_result"
    }
   ],
   "source": [
    "from semantic_router.utils.function_call import get_schema_list\n",
    "\n",
    "schemas = get_schema_list(functions)\n",
    "schemas"
   ]
  },
  {
   "cell_type": "code",
   "execution_count": 4,
   "metadata": {},
   "outputs": [],
   "source": [
    "# Generate schemas for all functions\n",
    "# from semantic_router.llms.openai import get_schemas_openai\n",
    "# schemas = get_schemas_openai(functions)\n",
    "# schemas\n"
   ]
  },
  {
   "cell_type": "markdown",
   "metadata": {},
   "source": [
    "## Define Routes"
   ]
  },
  {
   "cell_type": "code",
   "execution_count": 5,
   "metadata": {},
   "outputs": [],
   "source": [
    "from semantic_router import Route\n",
    "\n",
    "\n",
    "# Define the dynamic route with multiple functions\n",
    "timezone_management_route = Route(\n",
    "    name=\"timezone_management\",\n",
    "    utterances=[\n",
    "        # Utterances for get_time function\n",
    "        \"what is the time in New York?\",\n",
    "        \"current time in Berlin?\",\n",
    "        \"tell me the time in Moscow right now\",\n",
    "        \"can you show me the current time in Tokyo?\",\n",
    "        \"please provide the current time in London\",\n",
    "\n",
    "        # Utterances for get_time_difference function\n",
    "        \"how many hours ahead is Tokyo from London?\",\n",
    "        \"time difference between Sydney and Cairo\",\n",
    "        \"what's the time gap between Los Angeles and New York?\",\n",
    "        \"how much time difference is there between Paris and Sydney?\",\n",
    "        \"calculate the time difference between Dubai and Toronto\",\n",
    "\n",
    "        # Utterances for convert_time function\n",
    "        \"convert 15:00 from New York time to Berlin time\",\n",
    "        \"change 09:00 from Paris time to Moscow time\",\n",
    "        \"adjust 20:00 from Rome time to London time\",\n",
    "        \"convert 12:00 from Madrid time to Chicago time\",\n",
    "        \"change 18:00 from Beijing time to Los Angeles time\",\n",
    "\n",
    "        # get_time and get_time_difference\n",
    "        \"What is the current time in Miami and how many hours is it behind London?\",\n",
    "        \"Can you tell me the time in Tokyo and the time difference with New York?\",\n",
    "        \"Please provide the current time in Paris and the time gap between Paris and Sydney.\",\n",
    "        \"Show me the current time in Los Angeles and calculate how much time difference there is with Tokyo.\",\n",
    "        \"What's the time now in Dubai and how many hours ahead is it from Toronto?\",\n",
    "\n",
    "        # get_time and convert_time\n",
    "        \"What is the current time in Rome? And could you convert 20:58 Rome time to Tokyo time?\",\n",
    "        \"Can you show me the current time in Madrid? Then, convert 13:00 from Madrid time to New York time.\",\n",
    "        \"Tell me the current time in Beijing? Following that, change 22:00 from Beijing time to London time.\",\n",
    "        \"Please provide the current time in Sydney? Next, convert 07:30 from Sydney time to Los Angeles time.\",\n",
    "        \"Display the current time in Toronto? Additionally, adjust 15:45 from Toronto time to Paris time.\",\n",
    "\n",
    "        # get_time_difference and convert_time\n",
    "        \"Calculate the time difference between New York and London and convert 09:00 New York time to London time.\",\n",
    "        \"Find out how many hours ahead Tokyo is from San Francisco and change 15:00 from San Francisco time to Tokyo time.\",\n",
    "        \"Determine the time gap between Sydney and Berlin and adjust 21:00 Sydney time to Berlin time.\",\n",
    "        \"What is the time difference between Cairo and Paris, and convert 18:00 Cairo time to Paris time?\",\n",
    "        \"Assess the hours difference between Chicago and Madrid and convert 12:00 Chicago time to Madrid time.\",\n",
    "\n",
    "        # All three functions\n",
    "        \"What is the time in Seattle? What is the time difference between Mumbai and Tokyo? What is 5:53 Toronto time in Sydney time?\"\n",
    "        \"What's the current time in San Francisco? How many hours behind is San Francisco from Berlin? Convert 14:00 from San Francisco time to Berlin time.\",\n",
    "        \"Tell me the time in Cairo, the time difference between Cairo and Tokyo, and convert 16:00 from Cairo time to Tokyo time.\",\n",
    "        \"Can you provide the current time in Sydney, the time gap between Sydney and London, and change 19:00 from Sydney time to London time?\",\n",
    "        \"Show me the current time in Chicago, calculate the time difference between Chicago and Paris, and adjust 10:00 from Chicago time to Paris time.\"\n",
    "    ],\n",
    "    function_schemas=schemas\n",
    ")\n",
    "\n",
    "routes = [timezone_management_route]"
   ]
  },
  {
   "cell_type": "markdown",
   "metadata": {},
   "source": [
    "## Define Encoder"
   ]
  },
  {
   "cell_type": "code",
   "execution_count": 6,
   "metadata": {},
   "outputs": [],
   "source": [
    "import os\n",
    "from getpass import getpass\n",
    "from semantic_router import RouteLayer\n",
    "from semantic_router.encoders import CohereEncoder, OpenAIEncoder\n",
    "\n",
    "# dashboard.cohere.ai\n",
    "# os.environ[\"COHERE_API_KEY\"] = os.getenv(\"COHERE_API_KEY\") or getpass(\n",
    "#     \"Enter Cohere API Key: \"\n",
    "# )\n",
    "# platform.openai.com\n",
    "os.environ[\"OPENAI_API_KEY\"] = os.getenv(\"OPENAI_API_KEY\") or getpass(\n",
    "    \"Enter OpenAI API Key: \"\n",
    ")\n",
    "\n",
    "# encoder = CohereEncoder()\n",
    "encoder = OpenAIEncoder()"
   ]
  },
  {
   "cell_type": "markdown",
   "metadata": {},
   "source": [
    "## Define Route Layer"
   ]
  },
  {
   "cell_type": "code",
   "execution_count": 7,
   "metadata": {},
   "outputs": [
    {
     "name": "stderr",
     "output_type": "stream",
     "text": [
      "\u001b[32m2024-05-03 02:35:19 INFO semantic_router.utils.logger local\u001b[0m\n",
      "\u001b[32m2024-05-03 02:35:19 INFO semantic_router.utils.logger Document 1 length: 29\u001b[0m\n",
      "\u001b[32m2024-05-03 02:35:19 INFO semantic_router.utils.logger Document 1 trunc length: 29\u001b[0m\n",
      "\u001b[32m2024-05-03 02:35:19 INFO semantic_router.utils.logger Document 2 length: 23\u001b[0m\n",
      "\u001b[32m2024-05-03 02:35:19 INFO semantic_router.utils.logger Document 2 trunc length: 23\u001b[0m\n",
      "\u001b[32m2024-05-03 02:35:19 INFO semantic_router.utils.logger Document 3 length: 36\u001b[0m\n",
      "\u001b[32m2024-05-03 02:35:19 INFO semantic_router.utils.logger Document 3 trunc length: 36\u001b[0m\n",
      "\u001b[32m2024-05-03 02:35:19 INFO semantic_router.utils.logger Document 4 length: 42\u001b[0m\n",
      "\u001b[32m2024-05-03 02:35:19 INFO semantic_router.utils.logger Document 4 trunc length: 42\u001b[0m\n",
      "\u001b[32m2024-05-03 02:35:19 INFO semantic_router.utils.logger Document 5 length: 41\u001b[0m\n",
      "\u001b[32m2024-05-03 02:35:19 INFO semantic_router.utils.logger Document 5 trunc length: 41\u001b[0m\n",
      "\u001b[32m2024-05-03 02:35:19 INFO semantic_router.utils.logger Document 6 length: 42\u001b[0m\n",
      "\u001b[32m2024-05-03 02:35:19 INFO semantic_router.utils.logger Document 6 trunc length: 42\u001b[0m\n",
      "\u001b[32m2024-05-03 02:35:19 INFO semantic_router.utils.logger Document 7 length: 40\u001b[0m\n",
      "\u001b[32m2024-05-03 02:35:19 INFO semantic_router.utils.logger Document 7 trunc length: 40\u001b[0m\n",
      "\u001b[32m2024-05-03 02:35:19 INFO semantic_router.utils.logger Document 8 length: 53\u001b[0m\n",
      "\u001b[32m2024-05-03 02:35:19 INFO semantic_router.utils.logger Document 8 trunc length: 53\u001b[0m\n",
      "\u001b[32m2024-05-03 02:35:19 INFO semantic_router.utils.logger Document 9 length: 59\u001b[0m\n",
      "\u001b[32m2024-05-03 02:35:19 INFO semantic_router.utils.logger Document 9 trunc length: 59\u001b[0m\n",
      "\u001b[32m2024-05-03 02:35:19 INFO semantic_router.utils.logger Document 10 length: 55\u001b[0m\n",
      "\u001b[32m2024-05-03 02:35:19 INFO semantic_router.utils.logger Document 10 trunc length: 55\u001b[0m\n",
      "\u001b[32m2024-05-03 02:35:19 INFO semantic_router.utils.logger Document 11 length: 47\u001b[0m\n",
      "\u001b[32m2024-05-03 02:35:19 INFO semantic_router.utils.logger Document 11 trunc length: 47\u001b[0m\n",
      "\u001b[32m2024-05-03 02:35:19 INFO semantic_router.utils.logger Document 12 length: 43\u001b[0m\n",
      "\u001b[32m2024-05-03 02:35:19 INFO semantic_router.utils.logger Document 12 trunc length: 43\u001b[0m\n",
      "\u001b[32m2024-05-03 02:35:19 INFO semantic_router.utils.logger Document 13 length: 42\u001b[0m\n",
      "\u001b[32m2024-05-03 02:35:19 INFO semantic_router.utils.logger Document 13 trunc length: 42\u001b[0m\n",
      "\u001b[32m2024-05-03 02:35:19 INFO semantic_router.utils.logger Document 14 length: 46\u001b[0m\n",
      "\u001b[32m2024-05-03 02:35:19 INFO semantic_router.utils.logger Document 14 trunc length: 46\u001b[0m\n",
      "\u001b[32m2024-05-03 02:35:19 INFO semantic_router.utils.logger Document 15 length: 50\u001b[0m\n",
      "\u001b[32m2024-05-03 02:35:19 INFO semantic_router.utils.logger Document 15 trunc length: 50\u001b[0m\n",
      "\u001b[32m2024-05-03 02:35:19 INFO semantic_router.utils.logger Document 16 length: 73\u001b[0m\n",
      "\u001b[32m2024-05-03 02:35:19 INFO semantic_router.utils.logger Document 16 trunc length: 73\u001b[0m\n",
      "\u001b[32m2024-05-03 02:35:19 INFO semantic_router.utils.logger Document 17 length: 72\u001b[0m\n",
      "\u001b[32m2024-05-03 02:35:19 INFO semantic_router.utils.logger Document 17 trunc length: 72\u001b[0m\n",
      "\u001b[32m2024-05-03 02:35:19 INFO semantic_router.utils.logger Document 18 length: 83\u001b[0m\n",
      "\u001b[32m2024-05-03 02:35:19 INFO semantic_router.utils.logger Document 18 trunc length: 83\u001b[0m\n",
      "\u001b[32m2024-05-03 02:35:19 INFO semantic_router.utils.logger Document 19 length: 99\u001b[0m\n",
      "\u001b[32m2024-05-03 02:35:19 INFO semantic_router.utils.logger Document 19 trunc length: 99\u001b[0m\n",
      "\u001b[32m2024-05-03 02:35:19 INFO semantic_router.utils.logger Document 20 length: 73\u001b[0m\n",
      "\u001b[32m2024-05-03 02:35:19 INFO semantic_router.utils.logger Document 20 trunc length: 73\u001b[0m\n",
      "\u001b[32m2024-05-03 02:35:19 INFO semantic_router.utils.logger Document 21 length: 86\u001b[0m\n",
      "\u001b[32m2024-05-03 02:35:19 INFO semantic_router.utils.logger Document 21 trunc length: 86\u001b[0m\n",
      "\u001b[32m2024-05-03 02:35:19 INFO semantic_router.utils.logger Document 22 length: 98\u001b[0m\n",
      "\u001b[32m2024-05-03 02:35:19 INFO semantic_router.utils.logger Document 22 trunc length: 98\u001b[0m\n",
      "\u001b[32m2024-05-03 02:35:19 INFO semantic_router.utils.logger Document 23 length: 99\u001b[0m\n",
      "\u001b[32m2024-05-03 02:35:19 INFO semantic_router.utils.logger Document 23 trunc length: 99\u001b[0m\n",
      "\u001b[32m2024-05-03 02:35:19 INFO semantic_router.utils.logger Document 24 length: 100\u001b[0m\n",
      "\u001b[32m2024-05-03 02:35:19 INFO semantic_router.utils.logger Document 24 trunc length: 100\u001b[0m\n",
      "\u001b[32m2024-05-03 02:35:19 INFO semantic_router.utils.logger Document 25 length: 96\u001b[0m\n",
      "\u001b[32m2024-05-03 02:35:19 INFO semantic_router.utils.logger Document 25 trunc length: 96\u001b[0m\n",
      "\u001b[32m2024-05-03 02:35:19 INFO semantic_router.utils.logger Document 26 length: 105\u001b[0m\n",
      "\u001b[32m2024-05-03 02:35:19 INFO semantic_router.utils.logger Document 26 trunc length: 105\u001b[0m\n",
      "\u001b[32m2024-05-03 02:35:19 INFO semantic_router.utils.logger Document 27 length: 113\u001b[0m\n",
      "\u001b[32m2024-05-03 02:35:19 INFO semantic_router.utils.logger Document 27 trunc length: 113\u001b[0m\n",
      "\u001b[32m2024-05-03 02:35:19 INFO semantic_router.utils.logger Document 28 length: 93\u001b[0m\n",
      "\u001b[32m2024-05-03 02:35:19 INFO semantic_router.utils.logger Document 28 trunc length: 93\u001b[0m\n",
      "\u001b[32m2024-05-03 02:35:19 INFO semantic_router.utils.logger Document 29 length: 96\u001b[0m\n",
      "\u001b[32m2024-05-03 02:35:19 INFO semantic_router.utils.logger Document 29 trunc length: 96\u001b[0m\n",
      "\u001b[32m2024-05-03 02:35:19 INFO semantic_router.utils.logger Document 30 length: 101\u001b[0m\n",
      "\u001b[32m2024-05-03 02:35:19 INFO semantic_router.utils.logger Document 30 trunc length: 101\u001b[0m\n",
      "\u001b[32m2024-05-03 02:35:19 INFO semantic_router.utils.logger Document 31 length: 271\u001b[0m\n",
      "\u001b[32m2024-05-03 02:35:19 INFO semantic_router.utils.logger Document 31 trunc length: 271\u001b[0m\n",
      "\u001b[32m2024-05-03 02:35:19 INFO semantic_router.utils.logger Document 32 length: 120\u001b[0m\n",
      "\u001b[32m2024-05-03 02:35:19 INFO semantic_router.utils.logger Document 32 trunc length: 120\u001b[0m\n",
      "\u001b[32m2024-05-03 02:35:19 INFO semantic_router.utils.logger Document 33 length: 133\u001b[0m\n",
      "\u001b[32m2024-05-03 02:35:19 INFO semantic_router.utils.logger Document 33 trunc length: 133\u001b[0m\n",
      "\u001b[32m2024-05-03 02:35:19 INFO semantic_router.utils.logger Document 34 length: 143\u001b[0m\n",
      "\u001b[32m2024-05-03 02:35:19 INFO semantic_router.utils.logger Document 34 trunc length: 143\u001b[0m\n"
     ]
    }
   ],
   "source": [
    "rl = RouteLayer(encoder=encoder, routes=routes)"
   ]
  },
  {
   "cell_type": "markdown",
   "metadata": {},
   "source": [
    "## Define Test Utterances"
   ]
  },
  {
   "cell_type": "code",
   "execution_count": 8,
   "metadata": {},
   "outputs": [],
   "source": [
    "test_utterances_get_time = [\n",
    "    \"Could you tell me the current time in Miami?\",\n",
    "    \"What's the time now in Cairo?\",\n",
    "    \"I need the time in Shanghai right now.\",\n",
    "    \"Please show the current time in Johannesburg.\",\n",
    "    \"What time is it currently in Buenos Aires?\",\n",
    "    \"Can you find the time in Seoul at this moment?\",\n",
    "    \"I'd like to know the time in Bangkok.\",\n",
    "    \"What is the time right now in Istanbul?\",\n",
    "    \"Could you check the time in Toronto?\",\n",
    "    \"Please provide the time in Mexico City.\",\n",
    "    \"Show me what time it is in Mumbai.\",\n",
    "    \"I need to know the current time in Manila.\",\n",
    "    \"What's the current time in Lagos?\",\n",
    "    \"Can you tell me what time it is in Jakarta?\",\n",
    "    \"Find out the current time in Sao Paulo.\",\n",
    "    \"What is the time in Paris at the moment?\",\n",
    "    \"Please tell me the time in Dubai.\",\n",
    "    \"I'm looking for the current time in Chicago.\",\n",
    "    \"Could you provide the time in Hong Kong?\",\n",
    "    \"What's the time in Barcelona right now?\",\n",
    "    \"Can you display the current time in Montreal?\",\n",
    "    \"I want to know the time in Helsinki.\",\n",
    "    \"Please find the current time in Zurich.\",\n",
    "    \"Tell me the current time in Copenhagen.\",\n",
    "    \"Show the current time in Athens.\",\n",
    "    \"What is the current time in Las Vegas?\",\n",
    "    \"Can you provide the current time in London?\",\n",
    "    \"Please tell me what time it is now in Tokyo.\",\n",
    "    \"I need the current time in Rome, please.\",\n",
    "    \"Could you show me the time in Sydney?\",\n",
    "    \"What time is it right now in Oslo?\",\n",
    "    \"Can you check the current time in New Delhi?\",\n",
    "    \"I'd like to know the current time in Rio de Janeiro.\",\n",
    "    \"Please display the current time in Toronto.\",\n",
    "    \"What's the time in Berlin at this moment?\",\n",
    "    \"Show me the time in Amsterdam.\",\n",
    "    \"Could you find out the time in Brussels?\",\n",
    "    \"I want to know the current time in Stockholm.\",\n",
    "    \"Please provide the time in Vienna.\",\n",
    "    \"Tell me the current time in Prague.\",\n",
    "    \"What is the time in Budapest right now?\",\n",
    "    \"Can you tell me the time in Lisbon?\",\n",
    "    \"I'm looking for the current time in Madrid.\",\n",
    "    \"Could you check the time in Warsaw?\",\n",
    "    \"Please show the current time in Helsinki.\",\n",
    "    \"What's the current time in Zurich?\",\n",
    "    \"Can you find the time in Moscow right now?\",\n",
    "    \"I need to know the time in Beijing.\",\n",
    "    \"Show me the current time in Seoul.\",\n",
    "    \"What time is it in Singapore?\"\n",
    "]"
   ]
  },
  {
   "cell_type": "code",
   "execution_count": 9,
   "metadata": {},
   "outputs": [],
   "source": [
    "test_utterances_get_time_difference = [\n",
    "    \"What's the hour difference between Vancouver and Miami?\",\n",
    "    \"Can you calculate the hours separating Helsinki from Denver?\",\n",
    "    \"Determine the time offset between Johannesburg and Rome.\",\n",
    "    \"How many hours separate Beijing from Vancouver?\",\n",
    "    \"Find the time difference from Madrid to Singapore.\",\n",
    "    \"What is the hour gap between Boston and San Diego?\",\n",
    "    \"Measure the time difference from Dubai to San Francisco.\",\n",
    "    \"How far ahead is Melbourne compared to Ottawa?\",\n",
    "    \"Calculate the hours between Seoul and Buenos Aires.\",\n",
    "    \"What's the time difference from Istanbul to Toronto?\",\n",
    "    \"Can you tell me how many hours are between Cairo and Montreal?\",\n",
    "    \"Determine the time gap from Manila to London.\",\n",
    "    \"How many hours ahead is Sydney from Mexico City?\",\n",
    "    \"What is the time difference between Oslo and Los Angeles?\",\n",
    "    \"Calculate the time offset from Paris to Tokyo.\",\n",
    "    \"How many hours separate New Delhi from Chicago?\",\n",
    "    \"Find out the time difference between Zurich and Seattle.\",\n",
    "    \"What's the hour difference from Lisbon to Hong Kong?\",\n",
    "    \"Measure the time gap between Stockholm and Houston.\",\n",
    "    \"Determine the hours separating Amsterdam from Shanghai.\",\n",
    "    \"Calculate the time difference from Brussels to Las Vegas.\",\n",
    "    \"How many hours ahead is Copenhagen from Phoenix?\",\n",
    "    \"What is the time difference between Warsaw and Atlanta?\",\n",
    "    \"Can you find the time gap from Budapest to Miami?\",\n",
    "    \"Tell me the hours separating Kuala Lumpur and New York.\",\n",
    "    \"What is the time difference between Toronto and Vancouver?\",\n",
    "    \"Can you show the time gap between Mexico City and Toronto?\",\n",
    "    \"How many hours are between London and New York?\",\n",
    "    \"Please calculate the time difference from Tokyo to San Francisco.\",\n",
    "    \"Determine the hours separating Paris from Montreal.\",\n",
    "    \"What's the hour difference between Dubai and London?\",\n",
    "    \"Measure the time gap from Seoul to Los Angeles.\",\n",
    "    \"How far ahead is Moscow compared to Lisbon?\",\n",
    "    \"Calculate the hours between Rome and Chicago.\",\n",
    "    \"What's the time difference from Bangkok to Johannesburg?\",\n",
    "    \"Can you tell me how many hours are between Mumbai and Dubai?\",\n",
    "    \"Determine the time gap from Beijing to Sydney.\",\n",
    "    \"How many hours ahead is Cairo from Buenos Aires?\",\n",
    "    \"What is the time difference between Helsinki and Denver?\",\n",
    "    \"Calculate the time offset from Zurich to Cairo.\",\n",
    "    \"How many hours separate Stockholm from Tokyo?\",\n",
    "    \"Find out the time difference between Madrid and Beijing.\",\n",
    "    \"What's the hour difference from Amsterdam to Miami?\",\n",
    "    \"Measure the time gap between Houston and Berlin.\",\n",
    "    \"Determine the hours separating Singapore from London.\",\n",
    "    \"Calculate the time difference from Athens to New Delhi.\",\n",
    "    \"How many hours ahead is Brussels from San Diego?\",\n",
    "    \"What is the time difference between Copenhagen and Toronto?\",\n",
    "    \"Can you find the time gap from Oslo to Rome?\",\n",
    "    \"Tell me the hours separating Montreal and Las Vegas.\"\n",
    "]"
   ]
  },
  {
   "cell_type": "code",
   "execution_count": 10,
   "metadata": {},
   "outputs": [],
   "source": [
    "test_utterances_convert_time = [\n",
    "    \"Please switch 14:30 from Los Angeles time to Tokyo time.\",\n",
    "    \"Modify 10:15 from London time to New York time.\",\n",
    "    \"Shift 23:00 from Hong Kong time to Paris time.\",\n",
    "    \"Transform 08:45 from Sydney time to Moscow time.\",\n",
    "    \"Reformat 17:20 from Cairo time to Berlin time.\",\n",
    "    \"Alter 12:00 from Chicago time to Dubai time.\",\n",
    "    \"Revise 19:30 from Toronto time to Seoul time.\",\n",
    "    \"Update 16:00 from Madrid time to Singapore time.\",\n",
    "    \"Change 11:00 from Rome time to Johannesburg time.\",\n",
    "    \"Convert 22:15 from Mumbai time to Vancouver time.\",\n",
    "    \"Adjust 07:50 from Bangkok time to San Francisco time.\",\n",
    "    \"Switch 13:30 from Montreal time to Lisbon time.\",\n",
    "    \"Modify 15:45 from Amsterdam time to Los Angeles time.\",\n",
    "    \"Shift 09:00 from Zurich time to Beijing time.\",\n",
    "    \"Transform 20:30 from Buenos Aires time to London time.\",\n",
    "    \"Reformat 18:00 from Seattle time to Athens time.\",\n",
    "    \"Alter 21:45 from Mexico City time to Helsinki time.\",\n",
    "    \"Revise 05:30 from Copenhagen time to Rio de Janeiro time.\",\n",
    "    \"Update 14:20 from Stockholm time to Cairo time.\",\n",
    "    \"Change 16:50 from Dublin time to Tokyo time.\",\n",
    "    \"Convert 12:30 from Brussels time to New Delhi time.\",\n",
    "    \"Adjust 10:00 from Vienna time to Shanghai time.\",\n",
    "    \"Switch 22:00 from Oslo time to Istanbul time.\",\n",
    "    \"Modify 08:00 from Helsinki time to Mexico City time.\",\n",
    "    \"Shift 17:15 from Prague time to Sydney time.\",\n",
    "    \"Reconfigure 13:00 from Paris time to Los Angeles time.\",\n",
    "    \"Rework 18:45 from Tokyo time to Rome time.\",\n",
    "    \"Adapt 06:30 from New York time to Dubai time.\",\n",
    "    \"Rearrange 21:15 from Berlin time to Mumbai time.\",\n",
    "    \"Recalculate 15:30 from San Francisco time to London time.\",\n",
    "    \"Realign 22:00 from Seoul time to New York time.\",\n",
    "    \"Reassign 11:45 from Lisbon time to Beijing time.\",\n",
    "    \"Reform 20:25 from Johannesburg time to Chicago time.\",\n",
    "    \"Reschedule 09:50 from Athens time to Toronto time.\",\n",
    "    \"Replot 14:10 from Montreal time to Cairo time.\",\n",
    "    \"Rephrase 16:40 from Houston time to Paris time.\",\n",
    "    \"Reposition 12:20 from Madrid time to Sydney time.\",\n",
    "    \"Reevaluate 07:55 from Singapore time to Vancouver time.\",\n",
    "    \"Redirect 19:00 from Rome time to Montreal time.\",\n",
    "    \"Revisit 10:30 from Dubai time to San Francisco time.\",\n",
    "    \"Refine 23:45 from Beijing time to Zurich time.\",\n",
    "    \"Remodel 08:10 from London time to Seoul time.\",\n",
    "    \"Revamp 17:00 from Sydney time to Madrid time.\",\n",
    "    \"Rehash 15:20 from Copenhagen time to Tokyo time.\",\n",
    "    \"Reinvent 22:30 from Las Vegas time to Amsterdam time.\",\n",
    "    \"Rebuild 13:15 from Rio de Janeiro time to Stockholm time.\",\n",
    "    \"Recreate 18:55 from Zurich time to Hong Kong time.\",\n",
    "    \"Redesign 21:40 from Chicago time to Athens time.\",\n",
    "    \"Reestablish 12:00 from Toronto time to Lisbon time.\",\n",
    "    \"Reformulate 20:00 from Moscow time to Buenos Aires time.\"\n",
    "]"
   ]
  },
  {
   "cell_type": "code",
   "execution_count": 11,
   "metadata": {},
   "outputs": [],
   "source": [
    "test_utterances_get_time_and_get_time_difference = [\n",
    "    \"What's the current time in Vancouver and how far behind is it from Tokyo?\",\n",
    "    \"Please tell me the current time in Helsinki and the hour difference with Cairo.\",\n",
    "    \"Can you find out the time in Sao Paulo and how many hours it is ahead of London?\",\n",
    "    \"I need the current time in Manila and the time difference to Berlin.\",\n",
    "    \"Show the current time in Zurich and calculate the time gap with Sydney.\",\n",
    "    \"Could you provide the time in Istanbul and tell me how many hours it is behind New York?\",\n",
    "    \"What is the time in Oslo right now and how many hours is it ahead of Montreal?\",\n",
    "    \"Can you display the current time in Mexico City and the hours difference with Tokyo?\",\n",
    "    \"Tell me the current time in Lisbon and how many hours it is behind Beijing.\",\n",
    "    \"I'd like to know the current time in Budapest and the time difference with Los Angeles.\",\n",
    "    \"Please show the current time in Stockholm and the hour gap to Dubai.\",\n",
    "    \"What's the time in Houston right now and how many hours ahead is it from Paris?\",\n",
    "    \"Can you check the current time in Atlanta and how far behind it is from Moscow?\",\n",
    "    \"Find out the current time in Denver and the time difference to Singapore.\",\n",
    "    \"I want to know the current time in Mumbai and how many hours it is ahead of Rio de Janeiro.\",\n",
    "    \"Please provide the current time in Seattle and the time gap with London.\",\n",
    "    \"Show me the current time in Johannesburg and how many hours it is behind Tokyo.\",\n",
    "    \"Could you tell me the current time in Phoenix and the hour difference with Cairo?\",\n",
    "    \"What is the current time in Brussels and how many hours is it ahead of Vancouver?\",\n",
    "    \"Can you find the current time in Dublin and how many hours it is behind Hong Kong?\",\n",
    "    \"Tell me the current time in Las Vegas and the time difference with Berlin.\",\n",
    "    \"I need the current time in Toronto and how many hours it is ahead of Madrid.\",\n",
    "    \"Please display the current time in Montreal and the hours difference with Sydney.\",\n",
    "    \"What's the current time in Copenhagen and how many hours behind is it from Tokyo?\",\n",
    "    \"Can you provide the current time in Athens and tell me the time difference with New York?\",\n",
    "    \"Could you check the current time in Prague and how many hours it is ahead of Denver?\",\n",
    "    \"What is the current time in Warsaw and the time difference with San Francisco?\",\n",
    "    \"Please find out the current time in Bangkok and how far behind it is from London.\",\n",
    "    \"Show me the current time in Kuala Lumpur and calculate the hours difference to New York.\",\n",
    "    \"Can you tell me the current time in Rome and how many hours it is behind Tokyo?\",\n",
    "    \"I need the current time in Beijing and the time gap with Los Angeles.\",\n",
    "    \"What's the current time in Santiago and how many hours ahead is it from Cairo?\",\n",
    "    \"Please provide the current time in Lagos and the hour difference with Paris.\",\n",
    "    \"Tell me the current time in Melbourne and how many hours it is behind Moscow.\",\n",
    "    \"Can you display the current time in Caracas and the hours difference with Berlin?\",\n",
    "    \"Find out the current time in Tehran and the time difference to Sydney.\",\n",
    "    \"I'd like to know the current time in Havana and how many hours it is ahead of Toronto.\",\n",
    "    \"What is the current time in Bogota and how many hours behind is it from Seoul?\",\n",
    "    \"Could you provide the current time in Nairobi and tell me the time gap with Dubai?\",\n",
    "    \"Show the current time in Lima and calculate the hours difference to Madrid.\",\n",
    "    \"Please check the current time in Dhaka and how far behind it is from New York.\",\n",
    "    \"Can you find the current time in Hanoi and the hour difference with London?\",\n",
    "    \"Tell me the current time in Riyadh and how many hours it is ahead of Montreal.\",\n",
    "    \"What's the current time in Belgrade and the time difference with San Francisco?\",\n",
    "    \"I want to know the current time in Quito and how many hours it is behind Tokyo.\",\n",
    "    \"Could you tell me the current time in Antwerp and the hour gap with Los Angeles?\",\n",
    "    \"Please show the current time in Edinburgh and how many hours ahead it is from Cairo.\",\n",
    "    \"Find out the current time in Casablanca and the time difference to Beijing.\",\n",
    "    \"Can you provide the current time in Accra and how many hours it is behind Paris?\",\n",
    "    \"What is the current time in Algiers and how many hours ahead is it from Vancouver?\"\n",
    "]"
   ]
  },
  {
   "cell_type": "code",
   "execution_count": 12,
   "metadata": {},
   "outputs": [],
   "source": [
    "test_utterances_get_time_and_convert_time = [\n",
    "    \"Could you provide the current time in Vancouver? Additionally, what is 15:00 Vancouver time in Tokyo time?\",\n",
    "    \"What's the current time in Oslo? And can you convert 14:00 from Oslo time to New York time?\",\n",
    "    \"I need the current time in Mexico City. Please convert 09:30 Mexico City time to London time.\",\n",
    "    \"Show me the current time in Helsinki. Also, change 16:30 from Helsinki time to Beijing time.\",\n",
    "    \"Can you tell me the current time in Cairo? Then, adjust 11:15 from Cairo time to Paris time.\",\n",
    "    \"Please find the current time in Lisbon. Convert 10:00 from Lisbon time to Sydney time.\",\n",
    "    \"What is the current time in Budapest? Can you switch 13:20 from Budapest time to Los Angeles time?\",\n",
    "    \"Display the current time in Jakarta. Change 18:00 Jakarta time to Moscow time.\",\n",
    "    \"Tell me the current time in Seoul. Convert 09:45 from Seoul time to Berlin time.\",\n",
    "    \"Can you show the current time in Zurich? And adjust 12:00 from Zurich time to Dubai time?\",\n",
    "    \"Please provide the current time in Toronto. Convert 20:00 from Toronto time to Madrid time.\",\n",
    "    \"What's the current time in Mumbai? Can you change 15:30 from Mumbai time to Chicago time?\",\n",
    "    \"Find the current time in Rio de Janeiro. Switch it to San Francisco time for 22:00.\",\n",
    "    \"Could you check the current time in Montreal? Convert 07:00 from Montreal time to Istanbul time.\",\n",
    "    \"I'd like to know the current time in Manila. Adjust 17:50 from Manila time to Athens time.\",\n",
    "    \"Please tell me the current time in Dubai. Convert 19:25 from Dubai time to Vancouver time.\",\n",
    "    \"Show the current time in Barcelona. Change 08:15 from Barcelona time to Tokyo time.\",\n",
    "    \"Can you provide the current time in Houston? Switch 12:30 from Houston time to Paris time.\",\n",
    "    \"What is the current time in Prague? Can you convert 14:50 from Prague time to Seoul time?\",\n",
    "    \"Display the current time in Stockholm. Adjust 11:00 from Stockholm time to Johannesburg time.\",\n",
    "    \"Tell me the current time in Las Vegas. Convert 16:40 from Las Vegas time to Rome time.\",\n",
    "    \"Can you find the current time in San Diego? Change 13:00 from San Diego time to Hong Kong time.\",\n",
    "    \"Please show the current time in Brussels. Convert 18:30 from Brussels time to Sydney time.\",\n",
    "    \"What's the current time in Copenhagen? Can you adjust 15:20 from Copenhagen time to New Delhi time?\",\n",
    "    \"Find out the current time in Warsaw. Switch 20:00 from Warsaw time to Los Angeles time.\",\n",
    "    \"Could you show the current time in Frankfurt? Convert 10:00 from Frankfurt time to Beijing time.\",\n",
    "    \"What is the current time in Atlanta? Can you switch 15:00 from Atlanta time to Paris time?\",\n",
    "    \"Please find the current time in Cape Town. Adjust 12:45 from Cape Town time to New York time.\",\n",
    "    \"Tell me the current time in Ankara. Change 17:30 from Ankara time to London time.\",\n",
    "    \"Can you provide the current time in Milan? Convert 14:20 from Milan time to Tokyo time.\",\n",
    "    \"Display the current time in Phoenix. Switch 11:00 from Phoenix time to Moscow time.\",\n",
    "    \"I need the current time in Buenos Aires. Please convert 19:00 Buenos Aires time to Seoul time.\",\n",
    "    \"What's the current time in Dublin? Can you adjust 13:15 from Dublin time to Shanghai time?\",\n",
    "    \"Show me the current time in Tehran. Change 16:00 from Tehran time to Berlin time.\",\n",
    "    \"Can you tell me the current time in Bogota? Convert 18:30 from Bogota time to Sydney time.\",\n",
    "    \"Please check the current time in Santiago. Switch 20:45 from Santiago time to Los Angeles time.\",\n",
    "    \"Find out the current time in Lagos. Adjust 09:00 from Lagos time to Hong Kong time.\",\n",
    "    \"Could you provide the current time in Perth? Convert 22:15 from Perth time to Madrid time.\",\n",
    "    \"What is the current time in Beirut? Can you change 07:30 from Beirut time to Toronto time?\",\n",
    "    \"Display the current time in Kiev. Switch 12:50 from Kiev time to Vancouver time.\",\n",
    "    \"Tell me the current time in Edinburgh. Convert 15:40 from Edinburgh time to Dubai time.\",\n",
    "    \"Can you show the current time in Belgrade? Adjust 14:25 from Belgrade time to Singapore time.\",\n",
    "    \"Please provide the current time in Vienna. Change 17:00 from Vienna time to Johannesburg time.\",\n",
    "    \"What's the current time in Oslo? Can you convert 19:00 from Oslo time to Cairo time?\",\n",
    "    \"Find the current time in Havana. Switch it to Melbourne time for 21:30.\",\n",
    "    \"Could you check the current time in Dhaka? Convert 08:45 from Dhaka time to Rome time.\",\n",
    "    \"I'd like to know the current time in Quito. Adjust 10:30 from Quito time to Paris time.\",\n",
    "    \"Please tell me the current time in Antwerp. Change 13:50 from Antwerp time to Beijing time.\",\n",
    "    \"Show the current time in Glasgow. Convert 11:15 from Glasgow time to New Delhi time.\",\n",
    "    \"Can you find the current time in Caracas? Switch 16:00 from Caracas time to Tokyo time.\"\n",
    "]"
   ]
  },
  {
   "cell_type": "code",
   "execution_count": 13,
   "metadata": {},
   "outputs": [],
   "source": [
    "test_utterances_get_time_difference_and_convert_time = [\n",
    "    \"What's the time difference between Los Angeles and Tokyo, and can you convert 10:00 from Los Angeles to Tokyo time?\",\n",
    "    \"Please find out how many hours ahead London is from New York and switch 14:30 from London to New York time.\",\n",
    "    \"Can you determine the hour gap between Paris and Sydney, and adjust 16:00 Paris time to Sydney time?\",\n",
    "    \"Show the time difference from Rome to Beijing and change 18:15 from Rome to Beijing time.\",\n",
    "    \"Calculate how far ahead Mumbai is from Toronto and convert 20:00 Mumbai time to Toronto time.\",\n",
    "    \"Find out the hours difference between Seoul and London, and convert 09:00 Seoul time to London time.\",\n",
    "    \"What is the time gap between Chicago and Dubai, and can you switch 12:45 from Chicago to Dubai time?\",\n",
    "    \"Determine how many hours are between Johannesburg and New York, and adjust 11:00 Johannesburg time to New York time.\",\n",
    "    \"Measure the time difference from Bangkok to Los Angeles and convert 13:30 Bangkok time to Los Angeles time.\",\n",
    "    \"Assess the hour difference between Vancouver and Paris, and change 15:00 Vancouver time to Paris time.\",\n",
    "    \"Calculate the time offset between Houston and Tokyo, and switch 17:00 Houston time to Tokyo time.\",\n",
    "    \"How many hours separate Cairo from Berlin? Please convert 19:00 Cairo time to Berlin time.\",\n",
    "    \"What's the time difference from Singapore to San Francisco, and can you adjust 21:00 Singapore time to San Francisco time?\",\n",
    "    \"Determine the hours separating Melbourne from Madrid, and convert 08:00 Melbourne time to Madrid time.\",\n",
    "    \"Find the time gap between Zurich and Sydney, and change 10:15 Zurich time to Sydney time.\",\n",
    "    \"How far ahead is Helsinki compared to Denver? Convert 12:30 Helsinki time to Denver time.\",\n",
    "    \"What is the hour difference between Oslo and Los Angeles, and can you convert 14:45 Oslo time to Los Angeles time?\",\n",
    "    \"Measure the time difference from Montreal to Dubai and switch 16:20 Montreal time to Dubai time.\",\n",
    "    \"Can you tell me how many hours are between Amsterdam and Beijing, and adjust 18:00 Amsterdam time to Beijing time?\",\n",
    "    \"Determine the time gap from Brussels to Johannesburg and convert 20:30 Brussels time to Johannesburg time.\",\n",
    "    \"Calculate the hours between Stockholm and Houston, and change 07:00 Stockholm time to Houston time.\",\n",
    "    \"What's the time difference from Dublin to Tokyo, and can you convert 09:30 Dublin time to Tokyo time?\",\n",
    "    \"How many hours ahead is Copenhagen from Phoenix? Please adjust 11:45 Copenhagen time to Phoenix time.\",\n",
    "    \"Find out the time difference between Warsaw and Atlanta, and switch 13:15 Warsaw time to Atlanta time.\",\n",
    "    \"Measure the time gap between Lisbon and Hong Kong, and convert 15:50 Lisbon time to Hong Kong time.\",\n",
    "    \"Identify the time difference between Miami and Singapore, and convert 08:00 Miami time to Singapore time.\",\n",
    "    \"Estimate how many hours ahead is Berlin from Los Angeles, and switch 12:00 Berlin time to Los Angeles time.\",\n",
    "    \"Can you calculate the time gap between Tokyo and Rome, and adjust 15:30 Tokyo time to Rome time?\",\n",
    "    \"Reveal the hours difference from Madrid to Shanghai, and change 17:45 Madrid time to Shanghai time.\",\n",
    "    \"Compute the time offset between Toronto and Cairo, and convert 13:00 Toronto time to Cairo time.\",\n",
    "    \"Examine the time difference from Sydney to Chicago, and switch 19:00 Sydney time to Chicago time.\",\n",
    "    \"What's the hour gap between Dubai and San Francisco, and can you convert 11:15 Dubai time to San Francisco time?\",\n",
    "    \"Determine the time difference from Paris to Johannesburg, and adjust 14:00 Paris time to Johannesburg time.\",\n",
    "    \"Calculate how many hours separate Beijing from Vancouver, and change 16:30 Beijing time to Vancouver time.\",\n",
    "    \"Assess the time offset between Seattle and London, and convert 18:00 Seattle time to London time.\",\n",
    "    \"Find out how far ahead is Buenos Aires from Moscow, and switch 20:00 Buenos Aires time to Moscow time.\",\n",
    "    \"What is the time difference between New Delhi and Athens, and can you adjust 09:45 New Delhi time to Athens time?\",\n",
    "    \"Measure the hours separating Houston from Berlin, and convert 12:10 Houston time to Berlin time.\",\n",
    "    \"Determine the time gap from Montreal to Tokyo, and change 14:25 Montreal time to Tokyo time.\",\n",
    "    \"Calculate the hour difference between Zurich and Los Angeles, and switch 17:15 Zurich time to Los Angeles time.\",\n",
    "    \"How many hours ahead is Stockholm from Denver? Convert 19:30 Stockholm time to Denver time.\",\n",
    "    \"What's the time difference from Amsterdam to Cairo, and can you convert 21:00 Amsterdam time to Cairo time?\",\n",
    "    \"Measure the time gap between Brussels and Sydney, and adjust 10:20 Brussels time to Sydney time.\",\n",
    "    \"Can you tell me how many hours are between Lisbon and Beijing, and change 12:40 Lisbon time to Beijing time?\",\n",
    "    \"Determine the hours separating Oslo from New York, and convert 15:00 Oslo time to New York time.\",\n",
    "    \"Calculate the time difference from Copenhagen to Dubai, and switch 18:15 Copenhagen time to Dubai time.\",\n",
    "    \"Find out the hour gap between Warsaw and San Francisco, and adjust 20:45 Warsaw time to San Francisco time.\",\n",
    "    \"How far ahead is Helsinki compared to Houston? Please convert 07:30 Helsinki time to Houston time.\",\n",
    "    \"What is the time difference between Prague and Toronto, and can you switch 09:50 Prague time to Toronto time?\",\n",
    "    \"Measure the time gap between Budapest and Melbourne, and convert 11:55 Budapest time to Melbourne time.\"\n",
    "]"
   ]
  },
  {
   "cell_type": "code",
   "execution_count": 14,
   "metadata": {},
   "outputs": [],
   "source": [
    "test_utterances_all_functions = [\n",
    "    \"What's the current time in Atlanta? How many hours is Atlanta ahead of Vancouver? And convert 14:20 from Atlanta time to Vancouver time.\",\n",
    "    \"Please tell me the current time in Boston, the time difference with Zurich, and change 16:00 Boston time to Zurich time.\",\n",
    "    \"Can you show me the current time in Denver? What's the hour difference between Denver and Amsterdam? Also, adjust 18:30 from Denver time to Amsterdam time.\",\n",
    "    \"I need the current time in Houston, the time gap between Houston and Singapore, and convert 20:15 Houston time to Singapore time.\",\n",
    "    \"Display the current time in Phoenix, calculate the time difference between Phoenix and Madrid, and switch 22:00 Phoenix time to Madrid time.\",\n",
    "    \"Tell me the current time in Toronto, how many hours behind is Toronto from Dubai, and change 09:00 Toronto time to Dubai time.\",\n",
    "    \"What is the current time in Montreal? What is the time difference between Montreal and Beijing? And convert 11:30 Montreal time to Beijing time.\",\n",
    "    \"Show me the current time in Miami, the hours difference with Moscow, and adjust 13:45 Miami time to Moscow time.\",\n",
    "    \"Can you provide the current time in Seattle, the time gap between Seattle and Rome, and convert 15:10 Seattle time to Rome time?\",\n",
    "    \"Find out the current time in San Diego, how many hours ahead is San Diego from Cairo, and switch 17:25 San Diego time to Cairo time.\",\n",
    "    \"What's the current time in Minneapolis? How far behind is Minneapolis from Tokyo? Convert 19:00 Minneapolis time to Tokyo time.\",\n",
    "    \"Please display the current time in Las Vegas, the hour difference with Paris, and adjust 21:15 Las Vegas time to Paris time.\",\n",
    "    \"Can you tell me the current time in Philadelphia, the time difference between Philadelphia and London, and change 08:00 Philadelphia time to London time?\",\n",
    "    \"I'd like to know the current time in Dallas, how many hours it is ahead of Hong Kong, and convert 10:30 Dallas time to Hong Kong time.\",\n",
    "    \"Show the current time in San Francisco, calculate the time gap with Berlin, and switch 12:45 San Francisco time to Berlin time.\",\n",
    "    \"Could you provide the current time in Baltimore and tell me how many hours it is behind Lisbon? Also, adjust 14:55 Baltimore time to Lisbon time.\",\n",
    "    \"What is the current time in Chicago and how many hours ahead is it from Sydney? Please convert 16:40 Chicago time to Sydney time.\",\n",
    "    \"Can you display the current time in New Orleans and the hours difference with Frankfurt? Change 18:20 New Orleans time to Frankfurt time.\",\n",
    "    \"Tell me the current time in Salt Lake City and how many hours it is behind Istanbul. Convert 20:00 Salt Lake City time to Istanbul time.\",\n",
    "    \"Please find the current time in Milwaukee, the time difference with Melbourne, and adjust 07:30 Milwaukee time to Melbourne time.\",\n",
    "    \"What's the current time in Nashville? How far ahead is Nashville from Buenos Aires? Switch 09:15 Nashville time to Buenos Aires time.\",\n",
    "    \"Can you show the current time in Indianapolis, the hour gap between Indianapolis and Seoul, and convert 11:00 Indianapolis time to Seoul time?\",\n",
    "    \"Display the current time in Columbus, calculate the time difference between Columbus and Johannesburg, and change 13:20 Columbus time to Johannesburg time.\",\n",
    "    \"Tell me the current time in Charlotte, how many hours behind is Charlotte from Dubai, and adjust 15:40 Charlotte time to Dubai time.\",\n",
    "    \"What is the current time in Detroit? What is the time difference between Detroit and Beijing? And convert 17:55 Detroit time to Beijing time.\",\n",
    "    \"What's the current time in London? How many hours is London ahead of Los Angeles? And convert 15:30 from London time to Los Angeles time.\",\n",
    "    \"Please tell me the current time in Cairo, the time difference with Tokyo, and change 17:00 Cairo time to Tokyo time.\",\n",
    "    \"Can you show me the current time in Madrid? What's the hour difference between Madrid and Beijing? Also, adjust 19:00 from Madrid time to Beijing time.\",\n",
    "    \"I need the current time in Rome, the time gap between Rome and Sydney, and convert 21:00 Rome time to Sydney time.\",\n",
    "    \"Display the current time in Paris, calculate the time difference between Paris and Chicago, and switch 23:00 Paris time to Chicago time.\",\n",
    "    \"Tell me the current time in Berlin, how many hours behind is Berlin from Dubai, and change 08:30 Berlin time to Dubai time.\",\n",
    "    \"What is the current time in Amsterdam? What is the time difference between Amsterdam and San Francisco? And convert 10:15 Amsterdam time to San Francisco time.\",\n",
    "    \"Show me the current time in Vienna, the hours difference with Seoul, and adjust 12:00 Vienna time to Seoul time.\",\n",
    "    \"Can you provide the current time in Zurich, the time gap between Zurich and Mumbai, and convert 14:00 Zurich time to Mumbai time?\",\n",
    "    \"Find out the current time in Stockholm, how many hours ahead is Stockholm from Rio de Janeiro, and switch 16:00 Stockholm time to Rio de Janeiro time.\",\n",
    "    \"What's the current time in Prague? How far behind is Prague from Singapore? Convert 18:00 Prague time to Singapore time.\",\n",
    "    \"Please display the current time in Lisbon, the hour difference with New York, and adjust 20:00 Lisbon time to New York time.\",\n",
    "    \"Can you tell me the current time in Budapest, the time difference between Budapest and Toronto, and change 07:45 Budapest time to Toronto time?\",\n",
    "    \"I'd like to know the current time in Helsinki, how many hours it is ahead of Vancouver, and convert 09:30 Helsinki time to Vancouver time.\",\n",
    "    \"Show the current time in Oslo, calculate the time gap with Mexico City, and switch 11:15 Oslo time to Mexico City time.\",\n",
    "    \"Could you provide the current time in Athens and tell me how many hours it is behind Tokyo? Also, adjust 13:00 Athens time to Tokyo time.\",\n",
    "    \"What is the current time in Warsaw and how many hours ahead is it from Montreal? Please convert 15:00 Warsaw time to Montreal time.\",\n",
    "    \"Can you display the current time in Dublin and the hours difference with Istanbul? Change 17:15 Dublin time to Istanbul time.\",\n",
    "    \"Tell me the current time in Brussels and how many hours it is behind Hong Kong. Convert 19:30 Brussels time to Hong Kong time.\",\n",
    "    \"Please find the current time in Copenhagen, the time difference with Johannesburg, and adjust 21:45 Copenhagen time to Johannesburg time.\",\n",
    "    \"What's the current time in Glasgow? How far ahead is Glasgow from Buenos Aires? Switch 08:00 Glasgow time to Buenos Aires time.\",\n",
    "    \"Can you show the current time in Cardiff, the hour gap between Cardiff and Seoul, and convert 10:30 Cardiff time to Seoul time?\",\n",
    "    \"Display the current time in Edinburgh, calculate the time difference between Edinburgh and Delhi, and change 12:45 Edinburgh time to Delhi time.\",\n",
    "    \"Tell me the current time in Manchester, how many hours behind is Manchester from Dubai, and adjust 14:30 Manchester time to Dubai time.\",\n",
    "    \"What is the current time in Liverpool? What is the time difference between Liverpool and Beijing? And convert 16:15 Liverpool time to Beijing time.\"\n",
    "]"
   ]
  },
  {
   "cell_type": "markdown",
   "metadata": {},
   "source": [
    "## Define Testing Functions"
   ]
  },
  {
   "cell_type": "code",
   "execution_count": 15,
   "metadata": {},
   "outputs": [],
   "source": [
    "def parse_response(response: str):\n",
    "    results = []\n",
    "    for call in response.function_call:\n",
    "        args = call['arguments']\n",
    "        if call['function_name'] == 'get_time':\n",
    "            result = get_time(**args)\n",
    "            results.append(result)\n",
    "            print(result)\n",
    "        if call['function_name'] == 'get_time_difference':\n",
    "            result = get_time_difference(**args)\n",
    "            results.append(result)\n",
    "            print(result)\n",
    "        if call['function_name'] == 'convert_time':\n",
    "            result = convert_time(**args)\n",
    "            results.append(result)\n",
    "            print(result)\n",
    "    return results\n",
    "    "
   ]
  },
  {
   "cell_type": "code",
   "execution_count": 16,
   "metadata": {},
   "outputs": [],
   "source": [
    "def check_num_results(function_name, results):\n",
    "    if function_name == 'get_time' or function_name == 'get_time_difference' or function_name == 'convert_time':\n",
    "        if len(results) != 1:\n",
    "            print(f\"Error: {function_name} should have exactly 1 result, but got {len(results)}.\")\n",
    "            return False\n",
    "    elif function_name == 'get_time_and_get_time_difference' or function_name == 'get_time_and_convert_time' or function_name == 'get_time_difference_and_convert_time':\n",
    "        if len(results) != 2:\n",
    "            print(f\"Error: {function_name} should have exactly 2 results, but got {len(results)}.\")\n",
    "            return False\n",
    "    elif function_name == 'all_functions':\n",
    "        if len(results) != 3:\n",
    "            print(f\"Error: {function_name} should have exactly 3 results, but got {len(results)}.\")\n",
    "            return False\n",
    "    else:\n",
    "        print(f\"Error: Unknown function name '{function_name}'.\")\n",
    "        return False\n",
    "    return True\n"
   ]
  },
  {
   "cell_type": "code",
   "execution_count": 17,
   "metadata": {},
   "outputs": [],
   "source": [
    "import re\n",
    "\n",
    "get_time_pattern = convert_time_pattern = r\"^\\d{2}:\\d{2}$\"\n",
    "get_time_difference_pattern = r\"The time difference between (.+) and (.+) is ([-+]?\\d+\\.\\d+) hours.\"\n",
    "\n",
    "def results_pass(function_name: str, results: list[str]):\n",
    "    if function_name == 'get_time':\n",
    "        if not re.match(get_time_pattern, results[0]):\n",
    "            print(f\"{function_name} result '{results[0]}' does not match the expected format 'HH:MM'.\")\n",
    "            return False\n",
    "        return True\n",
    "    elif function_name == 'get_time_difference':\n",
    "        if not re.match(get_time_difference_pattern, results[0]):\n",
    "            print(f\"{get_time_difference} result '{results[0]}' does not match the expected format.\")\n",
    "            return False\n",
    "        return True\n",
    "    elif function_name == 'convert_time':\n",
    "        if not re.match(convert_time_pattern, results[0]):\n",
    "            print(f\"{function_name} result '{results[0]}' does not match the expected format 'HH:MM'.\")\n",
    "            return False\n",
    "        return True\n",
    "    elif function_name == 'get_time_and_get_time_difference':\n",
    "        if not re.match(get_time_pattern, results[0]):\n",
    "            print(f\"{function_name} first result '{results[0]}' does not match the expected format 'HH:MM'.\")\n",
    "            return False\n",
    "        if not re.match(get_time_difference_pattern, results[1]):\n",
    "            print(f\"{function_name} second result '{results[1]}' does not match the expected format.\")\n",
    "            return False\n",
    "        return True\n",
    "    elif function_name == 'get_time_and_convert_time':\n",
    "        if not re.match(get_time_pattern, results[0]):\n",
    "            print(f\"{function_name} first result '{results[0]}' does not match the expected format 'HH:MM'.\")\n",
    "            return False\n",
    "        if not re.match(convert_time_pattern, results[1]):\n",
    "            print(f\"{function_name} second result '{results[1]}' does not match the expected format 'HH:MM'.\")\n",
    "            return False\n",
    "        return True\n",
    "    elif function_name == 'get_time_difference_and_convert_time':\n",
    "        if not re.match(get_time_difference_pattern, results[0]):\n",
    "            print(f\"{function_name} first result '{results[0]}' does not match the expected format.\")\n",
    "            return False\n",
    "        if not re.match(convert_time_pattern, results[1]):\n",
    "            print(f\"{function_name} second result '{results[1]}' does not match the expected format 'HH:MM'.\")\n",
    "            return False\n",
    "        return True\n",
    "    elif function_name == 'all_functions':\n",
    "        if not re.match(get_time_pattern, results[0]):\n",
    "            print(f\"{function_name} first result '{results[0]}' does not match the expected format 'HH:MM'.\")\n",
    "            return False\n",
    "        if not re.match(get_time_difference_pattern, results[1]):\n",
    "            print(f\"{function_name} second result '{results[1]}' does not match the expected format.\")\n",
    "            return False\n",
    "        if not re.match(convert_time_pattern, results[2]):\n",
    "            print(f\"{function_name} third result '{results[2]}' does not match the expected format.\")\n",
    "            return False\n",
    "        return True\n",
    "    else:\n",
    "        raise ValueError(f\"Invalid function name '{function_name}'.\")"
   ]
  },
  {
   "cell_type": "code",
   "execution_count": 18,
   "metadata": {},
   "outputs": [],
   "source": [
    "def test_function_calling(utterances, function_name, expected_num_responses=1):\n",
    "    success_count = 0\n",
    "    fail_count = 0\n",
    "    for utterance in utterances:\n",
    "        print('='*100)\n",
    "        print(u\"Processing utterance: \", utterance)\n",
    "        try:\n",
    "            result = rl(utterance)\n",
    "            results = parse_response(result)\n",
    "            if not check_num_results(function_name, results):\n",
    "                print('>>> FAIL <<<.')\n",
    "                print(f\"Number of results does not match expected for {function_name}\")\n",
    "                fail_count += 1\n",
    "            elif not results_pass(function_name, results):\n",
    "                print('>>> FAIL <<<.')\n",
    "                print(f\"Results format does not match expected for {function_name}\")\n",
    "                fail_count += 1\n",
    "            else:\n",
    "                print('>>> PASS <<<.')\n",
    "                success_count += 1\n",
    "        except Exception as e:\n",
    "            print('>>> FAIL <<<.')\n",
    "            print(f\"Failed to process: {utterance} with error: {e}\")\n",
    "            fail_count += 1\n",
    "        print('='*100)\n",
    "    print('='*100)\n",
    "    print(f\"Number of successful responses: {success_count}\")\n",
    "    print(f\"Number of failed responses: {fail_count}\")\n",
    "    print('='*100)"
   ]
  },
  {
   "cell_type": "markdown",
   "metadata": {},
   "source": [
    "## Run Tests"
   ]
  },
  {
   "cell_type": "markdown",
   "metadata": {},
   "source": [
    "### Test `get_time` Function Argument Extraction"
   ]
  },
  {
   "cell_type": "code",
   "execution_count": 19,
   "metadata": {},
   "outputs": [
    {
     "name": "stderr",
     "output_type": "stream",
     "text": [
      "\u001b[32m2024-05-03 02:35:21 INFO semantic_router.utils.logger Document 1 length: 44\u001b[0m\n",
      "\u001b[32m2024-05-03 02:35:21 INFO semantic_router.utils.logger Document 1 trunc length: 44\u001b[0m\n"
     ]
    },
    {
     "name": "stdout",
     "output_type": "stream",
     "text": [
      "====================================================================================================\n",
      "Processing utterance:  Could you tell me the current time in Miami?\n"
     ]
    },
    {
     "name": "stderr",
     "output_type": "stream",
     "text": [
      "\u001b[33m2024-05-03 02:35:21 WARNING semantic_router.utils.logger No LLM provided for dynamic route, will use OpenAI LLM default. Ensure API key is set in OPENAI_API_KEY environment variable.\u001b[0m\n",
      "\u001b[32m2024-05-03 02:35:21 INFO semantic_router.utils.logger Extracting function input...\u001b[0m\n",
      "\u001b[32m2024-05-03 02:35:22 INFO semantic_router.utils.logger LLM output: [\n",
      "    {\n",
      "        \"function_name\": \"get_time\",\n",
      "        \"arguments\": {\n",
      "            \"timezone\": \"America/New_York\"\n",
      "        }\n",
      "    }\n",
      "]\u001b[0m\n",
      "\u001b[32m2024-05-03 02:35:22 INFO semantic_router.utils.logger Function inputs: [{'function_name': 'get_time', 'arguments': {'timezone': 'America/New_York'}}]\u001b[0m\n",
      "\u001b[32m2024-05-03 02:35:22 INFO semantic_router.utils.logger Document 1 length: 29\u001b[0m\n",
      "\u001b[32m2024-05-03 02:35:22 INFO semantic_router.utils.logger Document 1 trunc length: 29\u001b[0m\n"
     ]
    },
    {
     "name": "stdout",
     "output_type": "stream",
     "text": [
      "18:35\n",
      ">>> PASS <<<.\n",
      "====================================================================================================\n",
      "====================================================================================================\n",
      "Processing utterance:  What's the time now in Cairo?\n"
     ]
    },
    {
     "name": "stderr",
     "output_type": "stream",
     "text": [
      "\u001b[32m2024-05-03 02:35:23 INFO semantic_router.utils.logger Extracting function input...\u001b[0m\n",
      "\u001b[32m2024-05-03 02:35:24 INFO semantic_router.utils.logger LLM output: [\n",
      "    {\n",
      "        \"function_name\": \"get_time\",\n",
      "        \"arguments\": {\n",
      "            \"timezone\": \"Africa/Cairo\"\n",
      "        }\n",
      "    }\n",
      "]\u001b[0m\n",
      "\u001b[32m2024-05-03 02:35:24 INFO semantic_router.utils.logger Function inputs: [{'function_name': 'get_time', 'arguments': {'timezone': 'Africa/Cairo'}}]\u001b[0m\n",
      "\u001b[32m2024-05-03 02:35:24 INFO semantic_router.utils.logger Document 1 length: 38\u001b[0m\n",
      "\u001b[32m2024-05-03 02:35:24 INFO semantic_router.utils.logger Document 1 trunc length: 38\u001b[0m\n"
     ]
    },
    {
     "name": "stdout",
     "output_type": "stream",
     "text": [
      "01:35\n",
      ">>> PASS <<<.\n",
      "====================================================================================================\n",
      "====================================================================================================\n",
      "Processing utterance:  I need the time in Shanghai right now.\n"
     ]
    },
    {
     "name": "stderr",
     "output_type": "stream",
     "text": [
      "\u001b[32m2024-05-03 02:35:24 INFO semantic_router.utils.logger Extracting function input...\u001b[0m\n",
      "\u001b[32m2024-05-03 02:35:25 INFO semantic_router.utils.logger LLM output: [\n",
      "    {\n",
      "        \"function_name\": \"get_time\",\n",
      "        \"arguments\": {\n",
      "            \"timezone\": \"Asia/Shanghai\"\n",
      "        }\n",
      "    }\n",
      "]\u001b[0m\n",
      "\u001b[32m2024-05-03 02:35:25 INFO semantic_router.utils.logger Function inputs: [{'function_name': 'get_time', 'arguments': {'timezone': 'Asia/Shanghai'}}]\u001b[0m\n",
      "\u001b[32m2024-05-03 02:35:25 INFO semantic_router.utils.logger Document 1 length: 45\u001b[0m\n",
      "\u001b[32m2024-05-03 02:35:25 INFO semantic_router.utils.logger Document 1 trunc length: 45\u001b[0m\n"
     ]
    },
    {
     "name": "stdout",
     "output_type": "stream",
     "text": [
      "06:35\n",
      ">>> PASS <<<.\n",
      "====================================================================================================\n",
      "====================================================================================================\n",
      "Processing utterance:  Please show the current time in Johannesburg.\n"
     ]
    },
    {
     "name": "stderr",
     "output_type": "stream",
     "text": [
      "\u001b[32m2024-05-03 02:35:25 INFO semantic_router.utils.logger Extracting function input...\u001b[0m\n",
      "\u001b[32m2024-05-03 02:35:26 INFO semantic_router.utils.logger LLM output: [\n",
      "    {\n",
      "        \"function_name\": \"get_time\",\n",
      "        \"arguments\": {\n",
      "            \"timezone\": \"Africa/Johannesburg\"\n",
      "        }\n",
      "    }\n",
      "]\u001b[0m\n",
      "\u001b[32m2024-05-03 02:35:26 INFO semantic_router.utils.logger Function inputs: [{'function_name': 'get_time', 'arguments': {'timezone': 'Africa/Johannesburg'}}]\u001b[0m\n",
      "\u001b[32m2024-05-03 02:35:26 INFO semantic_router.utils.logger Document 1 length: 42\u001b[0m\n",
      "\u001b[32m2024-05-03 02:35:26 INFO semantic_router.utils.logger Document 1 trunc length: 42\u001b[0m\n"
     ]
    },
    {
     "name": "stdout",
     "output_type": "stream",
     "text": [
      "00:35\n",
      ">>> PASS <<<.\n",
      "====================================================================================================\n",
      "====================================================================================================\n",
      "Processing utterance:  What time is it currently in Buenos Aires?\n"
     ]
    },
    {
     "name": "stderr",
     "output_type": "stream",
     "text": [
      "\u001b[32m2024-05-03 02:35:27 INFO semantic_router.utils.logger Extracting function input...\u001b[0m\n",
      "\u001b[32m2024-05-03 02:35:28 INFO semantic_router.utils.logger LLM output: [\n",
      "    {\n",
      "        \"function_name\": \"get_time\",\n",
      "        \"arguments\": {\n",
      "            \"timezone\": \"America/Argentina/Buenos_Aires\"\n",
      "        }\n",
      "    }\n",
      "]\u001b[0m\n",
      "\u001b[32m2024-05-03 02:35:28 INFO semantic_router.utils.logger Function inputs: [{'function_name': 'get_time', 'arguments': {'timezone': 'America/Argentina/Buenos_Aires'}}]\u001b[0m\n",
      "\u001b[32m2024-05-03 02:35:28 INFO semantic_router.utils.logger Document 1 length: 46\u001b[0m\n",
      "\u001b[32m2024-05-03 02:35:28 INFO semantic_router.utils.logger Document 1 trunc length: 46\u001b[0m\n"
     ]
    },
    {
     "name": "stdout",
     "output_type": "stream",
     "text": [
      "19:35\n",
      ">>> PASS <<<.\n",
      "====================================================================================================\n",
      "====================================================================================================\n",
      "Processing utterance:  Can you find the time in Seoul at this moment?\n"
     ]
    },
    {
     "name": "stderr",
     "output_type": "stream",
     "text": [
      "\u001b[32m2024-05-03 02:35:28 INFO semantic_router.utils.logger Extracting function input...\u001b[0m\n",
      "\u001b[32m2024-05-03 02:35:29 INFO semantic_router.utils.logger LLM output: [\n",
      "    {\n",
      "        \"function_name\": \"get_time\",\n",
      "        \"arguments\": {\n",
      "            \"timezone\": \"Asia/Seoul\"\n",
      "        }\n",
      "    }\n",
      "]\u001b[0m\n",
      "\u001b[32m2024-05-03 02:35:29 INFO semantic_router.utils.logger Function inputs: [{'function_name': 'get_time', 'arguments': {'timezone': 'Asia/Seoul'}}]\u001b[0m\n",
      "\u001b[32m2024-05-03 02:35:29 INFO semantic_router.utils.logger Document 1 length: 37\u001b[0m\n",
      "\u001b[32m2024-05-03 02:35:29 INFO semantic_router.utils.logger Document 1 trunc length: 37\u001b[0m\n"
     ]
    },
    {
     "name": "stdout",
     "output_type": "stream",
     "text": [
      "07:35\n",
      ">>> PASS <<<.\n",
      "====================================================================================================\n",
      "====================================================================================================\n",
      "Processing utterance:  I'd like to know the time in Bangkok.\n"
     ]
    },
    {
     "name": "stderr",
     "output_type": "stream",
     "text": [
      "\u001b[32m2024-05-03 02:35:30 INFO semantic_router.utils.logger Extracting function input...\u001b[0m\n",
      "\u001b[32m2024-05-03 02:35:31 INFO semantic_router.utils.logger LLM output: [\n",
      "    {\n",
      "        \"function_name\": \"get_time\",\n",
      "        \"arguments\": {\n",
      "            \"timezone\": \"Asia/Bangkok\"\n",
      "        }\n",
      "    }\n",
      "]\u001b[0m\n",
      "\u001b[32m2024-05-03 02:35:31 INFO semantic_router.utils.logger Function inputs: [{'function_name': 'get_time', 'arguments': {'timezone': 'Asia/Bangkok'}}]\u001b[0m\n",
      "\u001b[32m2024-05-03 02:35:31 INFO semantic_router.utils.logger Document 1 length: 39\u001b[0m\n",
      "\u001b[32m2024-05-03 02:35:31 INFO semantic_router.utils.logger Document 1 trunc length: 39\u001b[0m\n"
     ]
    },
    {
     "name": "stdout",
     "output_type": "stream",
     "text": [
      "05:35\n",
      ">>> PASS <<<.\n",
      "====================================================================================================\n",
      "====================================================================================================\n",
      "Processing utterance:  What is the time right now in Istanbul?\n"
     ]
    },
    {
     "name": "stderr",
     "output_type": "stream",
     "text": [
      "\u001b[32m2024-05-03 02:35:31 INFO semantic_router.utils.logger Extracting function input...\u001b[0m\n",
      "\u001b[32m2024-05-03 02:35:32 INFO semantic_router.utils.logger LLM output: [\n",
      "    {\n",
      "        \"function_name\": \"get_time\",\n",
      "        \"arguments\": {\n",
      "            \"timezone\": \"Europe/Istanbul\"\n",
      "        }\n",
      "    }\n",
      "]\u001b[0m\n",
      "\u001b[32m2024-05-03 02:35:32 INFO semantic_router.utils.logger Function inputs: [{'function_name': 'get_time', 'arguments': {'timezone': 'Europe/Istanbul'}}]\u001b[0m\n",
      "\u001b[32m2024-05-03 02:35:32 INFO semantic_router.utils.logger Document 1 length: 36\u001b[0m\n",
      "\u001b[32m2024-05-03 02:35:32 INFO semantic_router.utils.logger Document 1 trunc length: 36\u001b[0m\n"
     ]
    },
    {
     "name": "stdout",
     "output_type": "stream",
     "text": [
      "01:35\n",
      ">>> PASS <<<.\n",
      "====================================================================================================\n",
      "====================================================================================================\n",
      "Processing utterance:  Could you check the time in Toronto?\n"
     ]
    },
    {
     "name": "stderr",
     "output_type": "stream",
     "text": [
      "\u001b[32m2024-05-03 02:35:32 INFO semantic_router.utils.logger Extracting function input...\u001b[0m\n",
      "\u001b[32m2024-05-03 02:35:34 INFO semantic_router.utils.logger LLM output: [\n",
      "    {\n",
      "        \"function_name\": \"get_time\",\n",
      "        \"arguments\": {\n",
      "            \"timezone\": \"America/Toronto\"\n",
      "        }\n",
      "    }\n",
      "]\u001b[0m\n",
      "\u001b[32m2024-05-03 02:35:34 INFO semantic_router.utils.logger Function inputs: [{'function_name': 'get_time', 'arguments': {'timezone': 'America/Toronto'}}]\u001b[0m\n",
      "\u001b[32m2024-05-03 02:35:34 INFO semantic_router.utils.logger Document 1 length: 39\u001b[0m\n",
      "\u001b[32m2024-05-03 02:35:34 INFO semantic_router.utils.logger Document 1 trunc length: 39\u001b[0m\n"
     ]
    },
    {
     "name": "stdout",
     "output_type": "stream",
     "text": [
      "18:35\n",
      ">>> PASS <<<.\n",
      "====================================================================================================\n",
      "====================================================================================================\n",
      "Processing utterance:  Please provide the time in Mexico City.\n"
     ]
    },
    {
     "name": "stderr",
     "output_type": "stream",
     "text": [
      "\u001b[32m2024-05-03 02:35:34 INFO semantic_router.utils.logger Extracting function input...\u001b[0m\n",
      "\u001b[32m2024-05-03 02:35:36 INFO semantic_router.utils.logger LLM output: [\n",
      "    {\n",
      "        \"function_name\": \"get_time\",\n",
      "        \"arguments\": {\n",
      "            \"timezone\": \"America/Mexico_City\"\n",
      "        }\n",
      "    }\n",
      "]\u001b[0m\n",
      "\u001b[32m2024-05-03 02:35:36 INFO semantic_router.utils.logger Function inputs: [{'function_name': 'get_time', 'arguments': {'timezone': 'America/Mexico_City'}}]\u001b[0m\n",
      "\u001b[32m2024-05-03 02:35:36 INFO semantic_router.utils.logger Document 1 length: 34\u001b[0m\n",
      "\u001b[32m2024-05-03 02:35:36 INFO semantic_router.utils.logger Document 1 trunc length: 34\u001b[0m\n"
     ]
    },
    {
     "name": "stdout",
     "output_type": "stream",
     "text": [
      "16:35\n",
      ">>> PASS <<<.\n",
      "====================================================================================================\n",
      "====================================================================================================\n",
      "Processing utterance:  Show me what time it is in Mumbai.\n"
     ]
    },
    {
     "name": "stderr",
     "output_type": "stream",
     "text": [
      "\u001b[32m2024-05-03 02:35:36 INFO semantic_router.utils.logger Extracting function input...\u001b[0m\n",
      "\u001b[32m2024-05-03 02:35:37 INFO semantic_router.utils.logger LLM output: [\n",
      "    {\n",
      "        \"function_name\": \"get_time\",\n",
      "        \"arguments\": {\n",
      "            \"timezone\": \"Asia/Kolkata\"\n",
      "        }\n",
      "    }\n",
      "]\u001b[0m\n",
      "\u001b[32m2024-05-03 02:35:37 INFO semantic_router.utils.logger Function inputs: [{'function_name': 'get_time', 'arguments': {'timezone': 'Asia/Kolkata'}}]\u001b[0m\n",
      "\u001b[32m2024-05-03 02:35:37 INFO semantic_router.utils.logger Document 1 length: 42\u001b[0m\n",
      "\u001b[32m2024-05-03 02:35:37 INFO semantic_router.utils.logger Document 1 trunc length: 42\u001b[0m\n"
     ]
    },
    {
     "name": "stdout",
     "output_type": "stream",
     "text": [
      "04:05\n",
      ">>> PASS <<<.\n",
      "====================================================================================================\n",
      "====================================================================================================\n",
      "Processing utterance:  I need to know the current time in Manila.\n"
     ]
    },
    {
     "name": "stderr",
     "output_type": "stream",
     "text": [
      "\u001b[32m2024-05-03 02:35:37 INFO semantic_router.utils.logger Extracting function input...\u001b[0m\n",
      "\u001b[32m2024-05-03 02:35:38 INFO semantic_router.utils.logger LLM output: [\n",
      "    {\n",
      "        \"function_name\": \"get_time\",\n",
      "        \"arguments\": {\n",
      "            \"timezone\": \"Asia/Manila\"\n",
      "        }\n",
      "    }\n",
      "]\u001b[0m\n",
      "\u001b[32m2024-05-03 02:35:38 INFO semantic_router.utils.logger Function inputs: [{'function_name': 'get_time', 'arguments': {'timezone': 'Asia/Manila'}}]\u001b[0m\n",
      "\u001b[32m2024-05-03 02:35:38 INFO semantic_router.utils.logger Document 1 length: 33\u001b[0m\n",
      "\u001b[32m2024-05-03 02:35:38 INFO semantic_router.utils.logger Document 1 trunc length: 33\u001b[0m\n"
     ]
    },
    {
     "name": "stdout",
     "output_type": "stream",
     "text": [
      "06:35\n",
      ">>> PASS <<<.\n",
      "====================================================================================================\n",
      "====================================================================================================\n",
      "Processing utterance:  What's the current time in Lagos?\n"
     ]
    },
    {
     "name": "stderr",
     "output_type": "stream",
     "text": [
      "\u001b[32m2024-05-03 02:35:39 INFO semantic_router.utils.logger Extracting function input...\u001b[0m\n",
      "\u001b[32m2024-05-03 02:35:40 INFO semantic_router.utils.logger LLM output: [\n",
      "    {\n",
      "        \"function_name\": \"get_time\",\n",
      "        \"arguments\": {\n",
      "            \"timezone\": \"Africa/Lagos\"\n",
      "        }\n",
      "    }\n",
      "]\u001b[0m\n",
      "\u001b[32m2024-05-03 02:35:40 INFO semantic_router.utils.logger Function inputs: [{'function_name': 'get_time', 'arguments': {'timezone': 'Africa/Lagos'}}]\u001b[0m\n",
      "\u001b[32m2024-05-03 02:35:40 INFO semantic_router.utils.logger Document 1 length: 43\u001b[0m\n",
      "\u001b[32m2024-05-03 02:35:40 INFO semantic_router.utils.logger Document 1 trunc length: 43\u001b[0m\n"
     ]
    },
    {
     "name": "stdout",
     "output_type": "stream",
     "text": [
      "23:35\n",
      ">>> PASS <<<.\n",
      "====================================================================================================\n",
      "====================================================================================================\n",
      "Processing utterance:  Can you tell me what time it is in Jakarta?\n"
     ]
    },
    {
     "name": "stderr",
     "output_type": "stream",
     "text": [
      "\u001b[32m2024-05-03 02:35:40 INFO semantic_router.utils.logger Extracting function input...\u001b[0m\n",
      "\u001b[32m2024-05-03 02:35:41 INFO semantic_router.utils.logger LLM output: [\n",
      "    {\n",
      "        \"function_name\": \"get_time\",\n",
      "        \"arguments\": {\n",
      "            \"timezone\": \"Asia/Jakarta\"\n",
      "        }\n",
      "    }\n",
      "]\u001b[0m\n",
      "\u001b[32m2024-05-03 02:35:41 INFO semantic_router.utils.logger Function inputs: [{'function_name': 'get_time', 'arguments': {'timezone': 'Asia/Jakarta'}}]\u001b[0m\n",
      "\u001b[32m2024-05-03 02:35:41 INFO semantic_router.utils.logger Document 1 length: 39\u001b[0m\n",
      "\u001b[32m2024-05-03 02:35:41 INFO semantic_router.utils.logger Document 1 trunc length: 39\u001b[0m\n"
     ]
    },
    {
     "name": "stdout",
     "output_type": "stream",
     "text": [
      "05:35\n",
      ">>> PASS <<<.\n",
      "====================================================================================================\n",
      "====================================================================================================\n",
      "Processing utterance:  Find out the current time in Sao Paulo.\n"
     ]
    },
    {
     "name": "stderr",
     "output_type": "stream",
     "text": [
      "\u001b[32m2024-05-03 02:35:41 INFO semantic_router.utils.logger Extracting function input...\u001b[0m\n",
      "\u001b[32m2024-05-03 02:35:43 INFO semantic_router.utils.logger LLM output: [\n",
      "    {\n",
      "        \"function_name\": \"get_time\",\n",
      "        \"arguments\": {\n",
      "            \"timezone\": \"America/Sao_Paulo\"\n",
      "        }\n",
      "    }\n",
      "]\u001b[0m\n",
      "\u001b[32m2024-05-03 02:35:43 INFO semantic_router.utils.logger Function inputs: [{'function_name': 'get_time', 'arguments': {'timezone': 'America/Sao_Paulo'}}]\u001b[0m\n",
      "\u001b[32m2024-05-03 02:35:43 INFO semantic_router.utils.logger Document 1 length: 40\u001b[0m\n",
      "\u001b[32m2024-05-03 02:35:43 INFO semantic_router.utils.logger Document 1 trunc length: 40\u001b[0m\n"
     ]
    },
    {
     "name": "stdout",
     "output_type": "stream",
     "text": [
      "19:35\n",
      ">>> PASS <<<.\n",
      "====================================================================================================\n",
      "====================================================================================================\n",
      "Processing utterance:  What is the time in Paris at the moment?\n"
     ]
    },
    {
     "name": "stderr",
     "output_type": "stream",
     "text": [
      "\u001b[32m2024-05-03 02:35:43 INFO semantic_router.utils.logger Extracting function input...\u001b[0m\n",
      "\u001b[32m2024-05-03 02:35:44 INFO semantic_router.utils.logger LLM output: [\n",
      "    {\n",
      "        \"function_name\": \"get_time\",\n",
      "        \"arguments\": {\n",
      "            \"timezone\": \"Europe/Paris\"\n",
      "        }\n",
      "    }\n",
      "]\u001b[0m\n",
      "\u001b[32m2024-05-03 02:35:44 INFO semantic_router.utils.logger Function inputs: [{'function_name': 'get_time', 'arguments': {'timezone': 'Europe/Paris'}}]\u001b[0m\n",
      "\u001b[32m2024-05-03 02:35:44 INFO semantic_router.utils.logger Document 1 length: 33\u001b[0m\n",
      "\u001b[32m2024-05-03 02:35:44 INFO semantic_router.utils.logger Document 1 trunc length: 33\u001b[0m\n"
     ]
    },
    {
     "name": "stdout",
     "output_type": "stream",
     "text": [
      "00:35\n",
      ">>> PASS <<<.\n",
      "====================================================================================================\n",
      "====================================================================================================\n",
      "Processing utterance:  Please tell me the time in Dubai.\n"
     ]
    },
    {
     "name": "stderr",
     "output_type": "stream",
     "text": [
      "\u001b[32m2024-05-03 02:35:44 INFO semantic_router.utils.logger Extracting function input...\u001b[0m\n",
      "\u001b[32m2024-05-03 02:35:45 INFO semantic_router.utils.logger LLM output: [\n",
      "    {\n",
      "        \"function_name\": \"get_time\",\n",
      "        \"arguments\": {\n",
      "            \"timezone\": \"Asia/Dubai\"\n",
      "        }\n",
      "    }\n",
      "]\u001b[0m\n",
      "\u001b[32m2024-05-03 02:35:45 INFO semantic_router.utils.logger Function inputs: [{'function_name': 'get_time', 'arguments': {'timezone': 'Asia/Dubai'}}]\u001b[0m\n",
      "\u001b[32m2024-05-03 02:35:45 INFO semantic_router.utils.logger Document 1 length: 44\u001b[0m\n",
      "\u001b[32m2024-05-03 02:35:45 INFO semantic_router.utils.logger Document 1 trunc length: 44\u001b[0m\n"
     ]
    },
    {
     "name": "stdout",
     "output_type": "stream",
     "text": [
      "02:35\n",
      ">>> PASS <<<.\n",
      "====================================================================================================\n",
      "====================================================================================================\n",
      "Processing utterance:  I'm looking for the current time in Chicago.\n"
     ]
    },
    {
     "name": "stderr",
     "output_type": "stream",
     "text": [
      "\u001b[32m2024-05-03 02:35:46 INFO semantic_router.utils.logger Extracting function input...\u001b[0m\n",
      "\u001b[32m2024-05-03 02:35:47 INFO semantic_router.utils.logger LLM output: [\n",
      "    {\n",
      "        \"function_name\": \"get_time\",\n",
      "        \"arguments\": {\n",
      "            \"timezone\": \"America/Chicago\"\n",
      "        }\n",
      "    }\n",
      "]\u001b[0m\n",
      "\u001b[32m2024-05-03 02:35:47 INFO semantic_router.utils.logger Function inputs: [{'function_name': 'get_time', 'arguments': {'timezone': 'America/Chicago'}}]\u001b[0m\n",
      "\u001b[32m2024-05-03 02:35:47 INFO semantic_router.utils.logger Document 1 length: 40\u001b[0m\n",
      "\u001b[32m2024-05-03 02:35:47 INFO semantic_router.utils.logger Document 1 trunc length: 40\u001b[0m\n"
     ]
    },
    {
     "name": "stdout",
     "output_type": "stream",
     "text": [
      "17:35\n",
      ">>> PASS <<<.\n",
      "====================================================================================================\n",
      "====================================================================================================\n",
      "Processing utterance:  Could you provide the time in Hong Kong?\n"
     ]
    },
    {
     "name": "stderr",
     "output_type": "stream",
     "text": [
      "\u001b[32m2024-05-03 02:35:47 INFO semantic_router.utils.logger Extracting function input...\u001b[0m\n",
      "\u001b[32m2024-05-03 02:35:48 INFO semantic_router.utils.logger LLM output: [\n",
      "    {\n",
      "        \"function_name\": \"get_time\",\n",
      "        \"arguments\": {\n",
      "            \"timezone\": \"Asia/Hong_Kong\"\n",
      "        }\n",
      "    }\n",
      "]\u001b[0m\n",
      "\u001b[32m2024-05-03 02:35:48 INFO semantic_router.utils.logger Function inputs: [{'function_name': 'get_time', 'arguments': {'timezone': 'Asia/Hong_Kong'}}]\u001b[0m\n",
      "\u001b[32m2024-05-03 02:35:48 INFO semantic_router.utils.logger Document 1 length: 39\u001b[0m\n",
      "\u001b[32m2024-05-03 02:35:48 INFO semantic_router.utils.logger Document 1 trunc length: 39\u001b[0m\n"
     ]
    },
    {
     "name": "stdout",
     "output_type": "stream",
     "text": [
      "06:35\n",
      ">>> PASS <<<.\n",
      "====================================================================================================\n",
      "====================================================================================================\n",
      "Processing utterance:  What's the time in Barcelona right now?\n"
     ]
    },
    {
     "name": "stderr",
     "output_type": "stream",
     "text": [
      "\u001b[32m2024-05-03 02:35:48 INFO semantic_router.utils.logger Extracting function input...\u001b[0m\n",
      "\u001b[32m2024-05-03 02:35:49 INFO semantic_router.utils.logger LLM output: [\n",
      "    {\n",
      "        \"function_name\": \"get_time\",\n",
      "        \"arguments\": {\n",
      "            \"timezone\": \"Europe/Barcelona\"\n",
      "        }\n",
      "    }\n",
      "]\u001b[0m\n",
      "\u001b[32m2024-05-03 02:35:49 INFO semantic_router.utils.logger Function inputs: [{'function_name': 'get_time', 'arguments': {'timezone': 'Europe/Barcelona'}}]\u001b[0m\n",
      "\u001b[32m2024-05-03 02:35:49 INFO semantic_router.utils.logger Document 1 length: 45\u001b[0m\n",
      "\u001b[32m2024-05-03 02:35:49 INFO semantic_router.utils.logger Document 1 trunc length: 45\u001b[0m\n"
     ]
    },
    {
     "name": "stdout",
     "output_type": "stream",
     "text": [
      ">>> FAIL <<<.\n",
      "Failed to process: What's the time in Barcelona right now? with error: 'No time zone found with key Europe/Barcelona'\n",
      "====================================================================================================\n",
      "====================================================================================================\n",
      "Processing utterance:  Can you display the current time in Montreal?\n"
     ]
    },
    {
     "name": "stderr",
     "output_type": "stream",
     "text": [
      "\u001b[32m2024-05-03 02:35:50 INFO semantic_router.utils.logger Extracting function input...\u001b[0m\n",
      "\u001b[32m2024-05-03 02:35:51 INFO semantic_router.utils.logger LLM output: [\n",
      "    {\n",
      "        \"function_name\": \"get_time\",\n",
      "        \"arguments\": {\n",
      "            \"timezone\": \"America/Montreal\"\n",
      "        }\n",
      "    }\n",
      "]\u001b[0m\n",
      "\u001b[32m2024-05-03 02:35:51 INFO semantic_router.utils.logger Function inputs: [{'function_name': 'get_time', 'arguments': {'timezone': 'America/Montreal'}}]\u001b[0m\n",
      "\u001b[32m2024-05-03 02:35:51 INFO semantic_router.utils.logger Document 1 length: 36\u001b[0m\n",
      "\u001b[32m2024-05-03 02:35:51 INFO semantic_router.utils.logger Document 1 trunc length: 36\u001b[0m\n"
     ]
    },
    {
     "name": "stdout",
     "output_type": "stream",
     "text": [
      "18:35\n",
      ">>> PASS <<<.\n",
      "====================================================================================================\n",
      "====================================================================================================\n",
      "Processing utterance:  I want to know the time in Helsinki.\n"
     ]
    },
    {
     "name": "stderr",
     "output_type": "stream",
     "text": [
      "\u001b[32m2024-05-03 02:35:51 INFO semantic_router.utils.logger Extracting function input...\u001b[0m\n",
      "\u001b[32m2024-05-03 02:35:52 INFO semantic_router.utils.logger LLM output: [\n",
      "    {\n",
      "        \"function_name\": \"get_time\",\n",
      "        \"arguments\": {\n",
      "            \"timezone\": \"Europe/Helsinki\"\n",
      "        }\n",
      "    }\n",
      "]\u001b[0m\n",
      "\u001b[32m2024-05-03 02:35:52 INFO semantic_router.utils.logger Function inputs: [{'function_name': 'get_time', 'arguments': {'timezone': 'Europe/Helsinki'}}]\u001b[0m\n",
      "\u001b[32m2024-05-03 02:35:52 INFO semantic_router.utils.logger Document 1 length: 39\u001b[0m\n",
      "\u001b[32m2024-05-03 02:35:52 INFO semantic_router.utils.logger Document 1 trunc length: 39\u001b[0m\n"
     ]
    },
    {
     "name": "stdout",
     "output_type": "stream",
     "text": [
      "01:35\n",
      ">>> PASS <<<.\n",
      "====================================================================================================\n",
      "====================================================================================================\n",
      "Processing utterance:  Please find the current time in Zurich.\n"
     ]
    },
    {
     "name": "stderr",
     "output_type": "stream",
     "text": [
      "\u001b[32m2024-05-03 02:35:52 INFO semantic_router.utils.logger Extracting function input...\u001b[0m\n",
      "\u001b[32m2024-05-03 02:35:53 INFO semantic_router.utils.logger LLM output: [\n",
      "    {\n",
      "        \"function_name\": \"get_time\",\n",
      "        \"arguments\": {\n",
      "            \"timezone\": \"Europe/Zurich\"\n",
      "        }\n",
      "    }\n",
      "]\u001b[0m\n",
      "\u001b[32m2024-05-03 02:35:53 INFO semantic_router.utils.logger Function inputs: [{'function_name': 'get_time', 'arguments': {'timezone': 'Europe/Zurich'}}]\u001b[0m\n",
      "\u001b[32m2024-05-03 02:35:53 INFO semantic_router.utils.logger Document 1 length: 39\u001b[0m\n",
      "\u001b[32m2024-05-03 02:35:53 INFO semantic_router.utils.logger Document 1 trunc length: 39\u001b[0m\n"
     ]
    },
    {
     "name": "stdout",
     "output_type": "stream",
     "text": [
      "00:35\n",
      ">>> PASS <<<.\n",
      "====================================================================================================\n",
      "====================================================================================================\n",
      "Processing utterance:  Tell me the current time in Copenhagen.\n"
     ]
    },
    {
     "name": "stderr",
     "output_type": "stream",
     "text": [
      "\u001b[32m2024-05-03 02:35:54 INFO semantic_router.utils.logger Extracting function input...\u001b[0m\n",
      "\u001b[32m2024-05-03 02:35:55 INFO semantic_router.utils.logger LLM output: [\n",
      "    {\n",
      "        \"function_name\": \"get_time\",\n",
      "        \"arguments\": {\n",
      "            \"timezone\": \"Europe/Copenhagen\"\n",
      "        }\n",
      "    }\n",
      "]\u001b[0m\n",
      "\u001b[32m2024-05-03 02:35:55 INFO semantic_router.utils.logger Function inputs: [{'function_name': 'get_time', 'arguments': {'timezone': 'Europe/Copenhagen'}}]\u001b[0m\n",
      "\u001b[32m2024-05-03 02:35:55 INFO semantic_router.utils.logger Document 1 length: 32\u001b[0m\n",
      "\u001b[32m2024-05-03 02:35:55 INFO semantic_router.utils.logger Document 1 trunc length: 32\u001b[0m\n"
     ]
    },
    {
     "name": "stdout",
     "output_type": "stream",
     "text": [
      "00:35\n",
      ">>> PASS <<<.\n",
      "====================================================================================================\n",
      "====================================================================================================\n",
      "Processing utterance:  Show the current time in Athens.\n"
     ]
    },
    {
     "name": "stderr",
     "output_type": "stream",
     "text": [
      "\u001b[32m2024-05-03 02:35:55 INFO semantic_router.utils.logger Extracting function input...\u001b[0m\n",
      "\u001b[32m2024-05-03 02:35:56 INFO semantic_router.utils.logger LLM output: [\n",
      "    {\n",
      "        \"function_name\": \"get_time\",\n",
      "        \"arguments\": {\n",
      "            \"timezone\": \"Europe/Athens\"\n",
      "        }\n",
      "    }\n",
      "]\u001b[0m\n",
      "\u001b[32m2024-05-03 02:35:56 INFO semantic_router.utils.logger Function inputs: [{'function_name': 'get_time', 'arguments': {'timezone': 'Europe/Athens'}}]\u001b[0m\n",
      "\u001b[32m2024-05-03 02:35:56 INFO semantic_router.utils.logger Document 1 length: 38\u001b[0m\n",
      "\u001b[32m2024-05-03 02:35:56 INFO semantic_router.utils.logger Document 1 trunc length: 38\u001b[0m\n"
     ]
    },
    {
     "name": "stdout",
     "output_type": "stream",
     "text": [
      "01:35\n",
      ">>> PASS <<<.\n",
      "====================================================================================================\n",
      "====================================================================================================\n",
      "Processing utterance:  What is the current time in Las Vegas?\n"
     ]
    },
    {
     "name": "stderr",
     "output_type": "stream",
     "text": [
      "\u001b[32m2024-05-03 02:35:56 INFO semantic_router.utils.logger Extracting function input...\u001b[0m\n",
      "\u001b[32m2024-05-03 02:35:58 INFO semantic_router.utils.logger LLM output: [\n",
      "    {\n",
      "        \"function_name\": \"get_time\",\n",
      "        \"arguments\": {\n",
      "            \"timezone\": \"America/Los_Angeles\"\n",
      "        }\n",
      "    }\n",
      "]\u001b[0m\n",
      "\u001b[32m2024-05-03 02:35:58 INFO semantic_router.utils.logger Function inputs: [{'function_name': 'get_time', 'arguments': {'timezone': 'America/Los_Angeles'}}]\u001b[0m\n",
      "\u001b[32m2024-05-03 02:35:58 INFO semantic_router.utils.logger Document 1 length: 43\u001b[0m\n",
      "\u001b[32m2024-05-03 02:35:58 INFO semantic_router.utils.logger Document 1 trunc length: 43\u001b[0m\n"
     ]
    },
    {
     "name": "stdout",
     "output_type": "stream",
     "text": [
      "15:35\n",
      ">>> PASS <<<.\n",
      "====================================================================================================\n",
      "====================================================================================================\n",
      "Processing utterance:  Can you provide the current time in London?\n"
     ]
    },
    {
     "name": "stderr",
     "output_type": "stream",
     "text": [
      "\u001b[32m2024-05-03 02:35:58 INFO semantic_router.utils.logger Extracting function input...\u001b[0m\n",
      "\u001b[32m2024-05-03 02:35:59 INFO semantic_router.utils.logger LLM output: [\n",
      "    {\n",
      "        \"function_name\": \"get_time\",\n",
      "        \"arguments\": {\n",
      "            \"timezone\": \"Europe/London\"\n",
      "        }\n",
      "    }\n",
      "]\u001b[0m\n",
      "\u001b[32m2024-05-03 02:35:59 INFO semantic_router.utils.logger Function inputs: [{'function_name': 'get_time', 'arguments': {'timezone': 'Europe/London'}}]\u001b[0m\n",
      "\u001b[32m2024-05-03 02:35:59 INFO semantic_router.utils.logger Document 1 length: 44\u001b[0m\n",
      "\u001b[32m2024-05-03 02:35:59 INFO semantic_router.utils.logger Document 1 trunc length: 44\u001b[0m\n"
     ]
    },
    {
     "name": "stdout",
     "output_type": "stream",
     "text": [
      "23:35\n",
      ">>> PASS <<<.\n",
      "====================================================================================================\n",
      "====================================================================================================\n",
      "Processing utterance:  Please tell me what time it is now in Tokyo.\n"
     ]
    },
    {
     "name": "stderr",
     "output_type": "stream",
     "text": [
      "\u001b[32m2024-05-03 02:35:59 INFO semantic_router.utils.logger Extracting function input...\u001b[0m\n",
      "\u001b[32m2024-05-03 02:36:00 INFO semantic_router.utils.logger LLM output: [\n",
      "    {\n",
      "        \"function_name\": \"get_time\",\n",
      "        \"arguments\": {\n",
      "            \"timezone\": \"Asia/Tokyo\"\n",
      "        }\n",
      "    }\n",
      "]\u001b[0m\n",
      "\u001b[32m2024-05-03 02:36:00 INFO semantic_router.utils.logger Function inputs: [{'function_name': 'get_time', 'arguments': {'timezone': 'Asia/Tokyo'}}]\u001b[0m\n",
      "\u001b[32m2024-05-03 02:36:00 INFO semantic_router.utils.logger Document 1 length: 40\u001b[0m\n",
      "\u001b[32m2024-05-03 02:36:00 INFO semantic_router.utils.logger Document 1 trunc length: 40\u001b[0m\n"
     ]
    },
    {
     "name": "stdout",
     "output_type": "stream",
     "text": [
      "07:36\n",
      ">>> PASS <<<.\n",
      "====================================================================================================\n",
      "====================================================================================================\n",
      "Processing utterance:  I need the current time in Rome, please.\n"
     ]
    },
    {
     "name": "stderr",
     "output_type": "stream",
     "text": [
      "\u001b[32m2024-05-03 02:36:01 INFO semantic_router.utils.logger Extracting function input...\u001b[0m\n",
      "\u001b[32m2024-05-03 02:36:02 INFO semantic_router.utils.logger LLM output: [\n",
      "    {\n",
      "        \"function_name\": \"get_time\",\n",
      "        \"arguments\": {\n",
      "            \"timezone\": \"Europe/Rome\"\n",
      "        }\n",
      "    }\n",
      "]\u001b[0m\n",
      "\u001b[32m2024-05-03 02:36:02 INFO semantic_router.utils.logger Function inputs: [{'function_name': 'get_time', 'arguments': {'timezone': 'Europe/Rome'}}]\u001b[0m\n",
      "\u001b[32m2024-05-03 02:36:02 INFO semantic_router.utils.logger Document 1 length: 37\u001b[0m\n",
      "\u001b[32m2024-05-03 02:36:02 INFO semantic_router.utils.logger Document 1 trunc length: 37\u001b[0m\n"
     ]
    },
    {
     "name": "stdout",
     "output_type": "stream",
     "text": [
      "00:36\n",
      ">>> PASS <<<.\n",
      "====================================================================================================\n",
      "====================================================================================================\n",
      "Processing utterance:  Could you show me the time in Sydney?\n"
     ]
    },
    {
     "name": "stderr",
     "output_type": "stream",
     "text": [
      "\u001b[32m2024-05-03 02:36:02 INFO semantic_router.utils.logger Extracting function input...\u001b[0m\n",
      "\u001b[32m2024-05-03 02:36:03 INFO semantic_router.utils.logger LLM output: [\n",
      "    {\n",
      "        \"function_name\": \"get_time\",\n",
      "        \"arguments\": {\n",
      "            \"timezone\": \"Australia/Sydney\"\n",
      "        }\n",
      "    }\n",
      "]\u001b[0m\n",
      "\u001b[32m2024-05-03 02:36:03 INFO semantic_router.utils.logger Function inputs: [{'function_name': 'get_time', 'arguments': {'timezone': 'Australia/Sydney'}}]\u001b[0m\n",
      "\u001b[32m2024-05-03 02:36:03 INFO semantic_router.utils.logger Document 1 length: 34\u001b[0m\n",
      "\u001b[32m2024-05-03 02:36:03 INFO semantic_router.utils.logger Document 1 trunc length: 34\u001b[0m\n"
     ]
    },
    {
     "name": "stdout",
     "output_type": "stream",
     "text": [
      "08:36\n",
      ">>> PASS <<<.\n",
      "====================================================================================================\n",
      "====================================================================================================\n",
      "Processing utterance:  What time is it right now in Oslo?\n"
     ]
    },
    {
     "name": "stderr",
     "output_type": "stream",
     "text": [
      "\u001b[32m2024-05-03 02:36:04 INFO semantic_router.utils.logger Extracting function input...\u001b[0m\n",
      "\u001b[32m2024-05-03 02:36:05 INFO semantic_router.utils.logger LLM output: [\n",
      "    {\n",
      "        \"function_name\": \"get_time\",\n",
      "        \"arguments\": {\n",
      "            \"timezone\": \"Europe/Oslo\"\n",
      "        }\n",
      "    }\n",
      "]\u001b[0m\n",
      "\u001b[32m2024-05-03 02:36:05 INFO semantic_router.utils.logger Function inputs: [{'function_name': 'get_time', 'arguments': {'timezone': 'Europe/Oslo'}}]\u001b[0m\n",
      "\u001b[32m2024-05-03 02:36:05 INFO semantic_router.utils.logger Document 1 length: 44\u001b[0m\n",
      "\u001b[32m2024-05-03 02:36:05 INFO semantic_router.utils.logger Document 1 trunc length: 44\u001b[0m\n"
     ]
    },
    {
     "name": "stdout",
     "output_type": "stream",
     "text": [
      "00:36\n",
      ">>> PASS <<<.\n",
      "====================================================================================================\n",
      "====================================================================================================\n",
      "Processing utterance:  Can you check the current time in New Delhi?\n"
     ]
    },
    {
     "name": "stderr",
     "output_type": "stream",
     "text": [
      "\u001b[32m2024-05-03 02:36:05 INFO semantic_router.utils.logger Extracting function input...\u001b[0m\n",
      "\u001b[32m2024-05-03 02:36:06 INFO semantic_router.utils.logger LLM output: [\n",
      "    {\n",
      "        \"function_name\": \"get_time\",\n",
      "        \"arguments\": {\n",
      "            \"timezone\": \"Asia/Kolkata\"\n",
      "        }\n",
      "    }\n",
      "]\u001b[0m\n",
      "\u001b[32m2024-05-03 02:36:06 INFO semantic_router.utils.logger Function inputs: [{'function_name': 'get_time', 'arguments': {'timezone': 'Asia/Kolkata'}}]\u001b[0m\n",
      "\u001b[32m2024-05-03 02:36:06 INFO semantic_router.utils.logger Document 1 length: 52\u001b[0m\n",
      "\u001b[32m2024-05-03 02:36:06 INFO semantic_router.utils.logger Document 1 trunc length: 52\u001b[0m\n"
     ]
    },
    {
     "name": "stdout",
     "output_type": "stream",
     "text": [
      "04:06\n",
      ">>> PASS <<<.\n",
      "====================================================================================================\n",
      "====================================================================================================\n",
      "Processing utterance:  I'd like to know the current time in Rio de Janeiro.\n"
     ]
    },
    {
     "name": "stderr",
     "output_type": "stream",
     "text": [
      "\u001b[32m2024-05-03 02:36:06 INFO semantic_router.utils.logger Extracting function input...\u001b[0m\n",
      "\u001b[32m2024-05-03 02:36:07 INFO semantic_router.utils.logger LLM output: [\n",
      "    {\n",
      "        \"function_name\": \"get_time\",\n",
      "        \"arguments\": {\n",
      "            \"timezone\": \"America/Sao_Paulo\"\n",
      "        }\n",
      "    }\n",
      "]\u001b[0m\n",
      "\u001b[32m2024-05-03 02:36:07 INFO semantic_router.utils.logger Function inputs: [{'function_name': 'get_time', 'arguments': {'timezone': 'America/Sao_Paulo'}}]\u001b[0m\n",
      "\u001b[32m2024-05-03 02:36:07 INFO semantic_router.utils.logger Document 1 length: 43\u001b[0m\n",
      "\u001b[32m2024-05-03 02:36:07 INFO semantic_router.utils.logger Document 1 trunc length: 43\u001b[0m\n"
     ]
    },
    {
     "name": "stdout",
     "output_type": "stream",
     "text": [
      "19:36\n",
      ">>> PASS <<<.\n",
      "====================================================================================================\n",
      "====================================================================================================\n",
      "Processing utterance:  Please display the current time in Toronto.\n"
     ]
    },
    {
     "name": "stderr",
     "output_type": "stream",
     "text": [
      "\u001b[32m2024-05-03 02:36:08 INFO semantic_router.utils.logger Extracting function input...\u001b[0m\n",
      "\u001b[32m2024-05-03 02:36:09 INFO semantic_router.utils.logger LLM output: [\n",
      "    {\n",
      "        \"function_name\": \"get_time\",\n",
      "        \"arguments\": {\n",
      "            \"timezone\": \"America/Toronto\"\n",
      "        }\n",
      "    }\n",
      "]\u001b[0m\n",
      "\u001b[32m2024-05-03 02:36:09 INFO semantic_router.utils.logger Function inputs: [{'function_name': 'get_time', 'arguments': {'timezone': 'America/Toronto'}}]\u001b[0m\n",
      "\u001b[32m2024-05-03 02:36:09 INFO semantic_router.utils.logger Document 1 length: 41\u001b[0m\n",
      "\u001b[32m2024-05-03 02:36:09 INFO semantic_router.utils.logger Document 1 trunc length: 41\u001b[0m\n"
     ]
    },
    {
     "name": "stdout",
     "output_type": "stream",
     "text": [
      "18:36\n",
      ">>> PASS <<<.\n",
      "====================================================================================================\n",
      "====================================================================================================\n",
      "Processing utterance:  What's the time in Berlin at this moment?\n"
     ]
    },
    {
     "name": "stderr",
     "output_type": "stream",
     "text": [
      "\u001b[32m2024-05-03 02:36:09 INFO semantic_router.utils.logger Extracting function input...\u001b[0m\n",
      "\u001b[32m2024-05-03 02:36:10 INFO semantic_router.utils.logger LLM output: [\n",
      "    {\n",
      "        \"function_name\": \"get_time\",\n",
      "        \"arguments\": {\n",
      "            \"timezone\": \"Europe/Berlin\"\n",
      "        }\n",
      "    }\n",
      "]\u001b[0m\n",
      "\u001b[32m2024-05-03 02:36:10 INFO semantic_router.utils.logger Function inputs: [{'function_name': 'get_time', 'arguments': {'timezone': 'Europe/Berlin'}}]\u001b[0m\n",
      "\u001b[32m2024-05-03 02:36:10 INFO semantic_router.utils.logger Document 1 length: 30\u001b[0m\n",
      "\u001b[32m2024-05-03 02:36:10 INFO semantic_router.utils.logger Document 1 trunc length: 30\u001b[0m\n"
     ]
    },
    {
     "name": "stdout",
     "output_type": "stream",
     "text": [
      "00:36\n",
      ">>> PASS <<<.\n",
      "====================================================================================================\n",
      "====================================================================================================\n",
      "Processing utterance:  Show me the time in Amsterdam.\n"
     ]
    },
    {
     "name": "stderr",
     "output_type": "stream",
     "text": [
      "\u001b[32m2024-05-03 02:36:10 INFO semantic_router.utils.logger Extracting function input...\u001b[0m\n",
      "\u001b[32m2024-05-03 02:36:11 INFO semantic_router.utils.logger LLM output: [\n",
      "    {\n",
      "        \"function_name\": \"get_time\",\n",
      "        \"arguments\": {\n",
      "            \"timezone\": \"Europe/Amsterdam\"\n",
      "        }\n",
      "    }\n",
      "]\u001b[0m\n",
      "\u001b[32m2024-05-03 02:36:11 INFO semantic_router.utils.logger Function inputs: [{'function_name': 'get_time', 'arguments': {'timezone': 'Europe/Amsterdam'}}]\u001b[0m\n",
      "\u001b[32m2024-05-03 02:36:11 INFO semantic_router.utils.logger Document 1 length: 40\u001b[0m\n",
      "\u001b[32m2024-05-03 02:36:11 INFO semantic_router.utils.logger Document 1 trunc length: 40\u001b[0m\n"
     ]
    },
    {
     "name": "stdout",
     "output_type": "stream",
     "text": [
      "00:36\n",
      ">>> PASS <<<.\n",
      "====================================================================================================\n",
      "====================================================================================================\n",
      "Processing utterance:  Could you find out the time in Brussels?\n"
     ]
    },
    {
     "name": "stderr",
     "output_type": "stream",
     "text": [
      "\u001b[32m2024-05-03 02:36:12 INFO semantic_router.utils.logger Extracting function input...\u001b[0m\n",
      "\u001b[32m2024-05-03 02:36:13 INFO semantic_router.utils.logger LLM output: [\n",
      "    {\n",
      "        \"function_name\": \"get_time\",\n",
      "        \"arguments\": {\n",
      "            \"timezone\": \"Europe/Brussels\"\n",
      "        }\n",
      "    }\n",
      "]\u001b[0m\n",
      "\u001b[32m2024-05-03 02:36:13 INFO semantic_router.utils.logger Function inputs: [{'function_name': 'get_time', 'arguments': {'timezone': 'Europe/Brussels'}}]\u001b[0m\n",
      "\u001b[32m2024-05-03 02:36:13 INFO semantic_router.utils.logger Document 1 length: 45\u001b[0m\n",
      "\u001b[32m2024-05-03 02:36:13 INFO semantic_router.utils.logger Document 1 trunc length: 45\u001b[0m\n"
     ]
    },
    {
     "name": "stdout",
     "output_type": "stream",
     "text": [
      "00:36\n",
      ">>> PASS <<<.\n",
      "====================================================================================================\n",
      "====================================================================================================\n",
      "Processing utterance:  I want to know the current time in Stockholm.\n"
     ]
    },
    {
     "name": "stderr",
     "output_type": "stream",
     "text": [
      "\u001b[32m2024-05-03 02:36:13 INFO semantic_router.utils.logger Extracting function input...\u001b[0m\n",
      "\u001b[32m2024-05-03 02:36:14 INFO semantic_router.utils.logger LLM output: [\n",
      "    {\n",
      "        \"function_name\": \"get_time\",\n",
      "        \"arguments\": {\n",
      "            \"timezone\": \"Europe/Stockholm\"\n",
      "        }\n",
      "    }\n",
      "]\u001b[0m\n",
      "\u001b[32m2024-05-03 02:36:14 INFO semantic_router.utils.logger Function inputs: [{'function_name': 'get_time', 'arguments': {'timezone': 'Europe/Stockholm'}}]\u001b[0m\n",
      "\u001b[32m2024-05-03 02:36:14 INFO semantic_router.utils.logger Document 1 length: 34\u001b[0m\n",
      "\u001b[32m2024-05-03 02:36:14 INFO semantic_router.utils.logger Document 1 trunc length: 34\u001b[0m\n"
     ]
    },
    {
     "name": "stdout",
     "output_type": "stream",
     "text": [
      "00:36\n",
      ">>> PASS <<<.\n",
      "====================================================================================================\n",
      "====================================================================================================\n",
      "Processing utterance:  Please provide the time in Vienna.\n"
     ]
    },
    {
     "name": "stderr",
     "output_type": "stream",
     "text": [
      "\u001b[32m2024-05-03 02:36:15 INFO semantic_router.utils.logger Extracting function input...\u001b[0m\n",
      "\u001b[32m2024-05-03 02:36:16 INFO semantic_router.utils.logger LLM output: [\n",
      "    {\n",
      "        \"function_name\": \"get_time\",\n",
      "        \"arguments\": {\n",
      "            \"timezone\": \"Europe/Vienna\"\n",
      "        }\n",
      "    }\n",
      "]\u001b[0m\n",
      "\u001b[32m2024-05-03 02:36:16 INFO semantic_router.utils.logger Function inputs: [{'function_name': 'get_time', 'arguments': {'timezone': 'Europe/Vienna'}}]\u001b[0m\n",
      "\u001b[32m2024-05-03 02:36:16 INFO semantic_router.utils.logger Document 1 length: 35\u001b[0m\n",
      "\u001b[32m2024-05-03 02:36:16 INFO semantic_router.utils.logger Document 1 trunc length: 35\u001b[0m\n"
     ]
    },
    {
     "name": "stdout",
     "output_type": "stream",
     "text": [
      "00:36\n",
      ">>> PASS <<<.\n",
      "====================================================================================================\n",
      "====================================================================================================\n",
      "Processing utterance:  Tell me the current time in Prague.\n"
     ]
    },
    {
     "name": "stderr",
     "output_type": "stream",
     "text": [
      "\u001b[32m2024-05-03 02:36:16 INFO semantic_router.utils.logger Extracting function input...\u001b[0m\n",
      "\u001b[32m2024-05-03 02:36:17 INFO semantic_router.utils.logger LLM output: [\n",
      "    {\n",
      "        \"function_name\": \"get_time\",\n",
      "        \"arguments\": {\n",
      "            \"timezone\": \"Europe/Prague\"\n",
      "        }\n",
      "    }\n",
      "]\u001b[0m\n",
      "\u001b[32m2024-05-03 02:36:17 INFO semantic_router.utils.logger Function inputs: [{'function_name': 'get_time', 'arguments': {'timezone': 'Europe/Prague'}}]\u001b[0m\n",
      "\u001b[32m2024-05-03 02:36:17 INFO semantic_router.utils.logger Document 1 length: 39\u001b[0m\n",
      "\u001b[32m2024-05-03 02:36:17 INFO semantic_router.utils.logger Document 1 trunc length: 39\u001b[0m\n"
     ]
    },
    {
     "name": "stdout",
     "output_type": "stream",
     "text": [
      "00:36\n",
      ">>> PASS <<<.\n",
      "====================================================================================================\n",
      "====================================================================================================\n",
      "Processing utterance:  What is the time in Budapest right now?\n"
     ]
    },
    {
     "name": "stderr",
     "output_type": "stream",
     "text": [
      "\u001b[32m2024-05-03 02:36:17 INFO semantic_router.utils.logger Extracting function input...\u001b[0m\n",
      "\u001b[32m2024-05-03 02:36:19 INFO semantic_router.utils.logger LLM output: [\n",
      "    {\n",
      "        \"function_name\": \"get_time\",\n",
      "        \"arguments\": {\n",
      "            \"timezone\": \"Europe/Budapest\"\n",
      "        }\n",
      "    }\n",
      "]\u001b[0m\n",
      "\u001b[32m2024-05-03 02:36:19 INFO semantic_router.utils.logger Function inputs: [{'function_name': 'get_time', 'arguments': {'timezone': 'Europe/Budapest'}}]\u001b[0m\n",
      "\u001b[32m2024-05-03 02:36:19 INFO semantic_router.utils.logger Document 1 length: 35\u001b[0m\n",
      "\u001b[32m2024-05-03 02:36:19 INFO semantic_router.utils.logger Document 1 trunc length: 35\u001b[0m\n"
     ]
    },
    {
     "name": "stdout",
     "output_type": "stream",
     "text": [
      "00:36\n",
      ">>> PASS <<<.\n",
      "====================================================================================================\n",
      "====================================================================================================\n",
      "Processing utterance:  Can you tell me the time in Lisbon?\n"
     ]
    },
    {
     "name": "stderr",
     "output_type": "stream",
     "text": [
      "\u001b[32m2024-05-03 02:36:19 INFO semantic_router.utils.logger Extracting function input...\u001b[0m\n",
      "\u001b[32m2024-05-03 02:36:20 INFO semantic_router.utils.logger LLM output: [\n",
      "    {\n",
      "        \"function_name\": \"get_time\",\n",
      "        \"arguments\": {\n",
      "            \"timezone\": \"Europe/Lisbon\"\n",
      "        }\n",
      "    }\n",
      "]\u001b[0m\n",
      "\u001b[32m2024-05-03 02:36:20 INFO semantic_router.utils.logger Function inputs: [{'function_name': 'get_time', 'arguments': {'timezone': 'Europe/Lisbon'}}]\u001b[0m\n",
      "\u001b[32m2024-05-03 02:36:20 INFO semantic_router.utils.logger Document 1 length: 43\u001b[0m\n",
      "\u001b[32m2024-05-03 02:36:20 INFO semantic_router.utils.logger Document 1 trunc length: 43\u001b[0m\n"
     ]
    },
    {
     "name": "stdout",
     "output_type": "stream",
     "text": [
      "23:36\n",
      ">>> PASS <<<.\n",
      "====================================================================================================\n",
      "====================================================================================================\n",
      "Processing utterance:  I'm looking for the current time in Madrid.\n"
     ]
    },
    {
     "name": "stderr",
     "output_type": "stream",
     "text": [
      "\u001b[32m2024-05-03 02:36:21 INFO semantic_router.utils.logger Extracting function input...\u001b[0m\n",
      "\u001b[32m2024-05-03 02:36:22 INFO semantic_router.utils.logger LLM output: [\n",
      "    {\n",
      "        \"function_name\": \"get_time\",\n",
      "        \"arguments\": {\n",
      "            \"timezone\": \"Europe/Madrid\"\n",
      "        }\n",
      "    }\n",
      "]\u001b[0m\n",
      "\u001b[32m2024-05-03 02:36:22 INFO semantic_router.utils.logger Function inputs: [{'function_name': 'get_time', 'arguments': {'timezone': 'Europe/Madrid'}}]\u001b[0m\n",
      "\u001b[32m2024-05-03 02:36:22 INFO semantic_router.utils.logger Document 1 length: 35\u001b[0m\n",
      "\u001b[32m2024-05-03 02:36:22 INFO semantic_router.utils.logger Document 1 trunc length: 35\u001b[0m\n"
     ]
    },
    {
     "name": "stdout",
     "output_type": "stream",
     "text": [
      "00:36\n",
      ">>> PASS <<<.\n",
      "====================================================================================================\n",
      "====================================================================================================\n",
      "Processing utterance:  Could you check the time in Warsaw?\n"
     ]
    },
    {
     "name": "stderr",
     "output_type": "stream",
     "text": [
      "\u001b[32m2024-05-03 02:36:22 INFO semantic_router.utils.logger Extracting function input...\u001b[0m\n",
      "\u001b[32m2024-05-03 02:36:23 INFO semantic_router.utils.logger LLM output: [\n",
      "    {\n",
      "        \"function_name\": \"get_time\",\n",
      "        \"arguments\": {\n",
      "            \"timezone\": \"Europe/Warsaw\"\n",
      "        }\n",
      "    }\n",
      "]\u001b[0m\n",
      "\u001b[32m2024-05-03 02:36:23 INFO semantic_router.utils.logger Function inputs: [{'function_name': 'get_time', 'arguments': {'timezone': 'Europe/Warsaw'}}]\u001b[0m\n",
      "\u001b[32m2024-05-03 02:36:23 INFO semantic_router.utils.logger Document 1 length: 41\u001b[0m\n",
      "\u001b[32m2024-05-03 02:36:23 INFO semantic_router.utils.logger Document 1 trunc length: 41\u001b[0m\n"
     ]
    },
    {
     "name": "stdout",
     "output_type": "stream",
     "text": [
      "00:36\n",
      ">>> PASS <<<.\n",
      "====================================================================================================\n",
      "====================================================================================================\n",
      "Processing utterance:  Please show the current time in Helsinki.\n"
     ]
    },
    {
     "name": "stderr",
     "output_type": "stream",
     "text": [
      "\u001b[32m2024-05-03 02:36:24 INFO semantic_router.utils.logger Extracting function input...\u001b[0m\n",
      "\u001b[32m2024-05-03 02:36:25 INFO semantic_router.utils.logger LLM output: [\n",
      "    {\n",
      "        \"function_name\": \"get_time\",\n",
      "        \"arguments\": {\n",
      "            \"timezone\": \"Europe/Helsinki\"\n",
      "        }\n",
      "    }\n",
      "]\u001b[0m\n",
      "\u001b[32m2024-05-03 02:36:25 INFO semantic_router.utils.logger Function inputs: [{'function_name': 'get_time', 'arguments': {'timezone': 'Europe/Helsinki'}}]\u001b[0m\n",
      "\u001b[32m2024-05-03 02:36:25 INFO semantic_router.utils.logger Document 1 length: 34\u001b[0m\n",
      "\u001b[32m2024-05-03 02:36:25 INFO semantic_router.utils.logger Document 1 trunc length: 34\u001b[0m\n"
     ]
    },
    {
     "name": "stdout",
     "output_type": "stream",
     "text": [
      "01:36\n",
      ">>> PASS <<<.\n",
      "====================================================================================================\n",
      "====================================================================================================\n",
      "Processing utterance:  What's the current time in Zurich?\n"
     ]
    },
    {
     "name": "stderr",
     "output_type": "stream",
     "text": [
      "\u001b[32m2024-05-03 02:36:25 INFO semantic_router.utils.logger Extracting function input...\u001b[0m\n",
      "\u001b[32m2024-05-03 02:36:26 INFO semantic_router.utils.logger LLM output: [\n",
      "    {\n",
      "        \"function_name\": \"get_time\",\n",
      "        \"arguments\": {\n",
      "            \"timezone\": \"Europe/Zurich\"\n",
      "        }\n",
      "    }\n",
      "]\u001b[0m\n",
      "\u001b[32m2024-05-03 02:36:26 INFO semantic_router.utils.logger Function inputs: [{'function_name': 'get_time', 'arguments': {'timezone': 'Europe/Zurich'}}]\u001b[0m\n",
      "\u001b[32m2024-05-03 02:36:26 INFO semantic_router.utils.logger Document 1 length: 42\u001b[0m\n",
      "\u001b[32m2024-05-03 02:36:26 INFO semantic_router.utils.logger Document 1 trunc length: 42\u001b[0m\n"
     ]
    },
    {
     "name": "stdout",
     "output_type": "stream",
     "text": [
      "00:36\n",
      ">>> PASS <<<.\n",
      "====================================================================================================\n",
      "====================================================================================================\n",
      "Processing utterance:  Can you find the time in Moscow right now?\n"
     ]
    },
    {
     "name": "stderr",
     "output_type": "stream",
     "text": [
      "\u001b[32m2024-05-03 02:36:27 INFO semantic_router.utils.logger Extracting function input...\u001b[0m\n",
      "\u001b[32m2024-05-03 02:36:27 INFO semantic_router.utils.logger LLM output: [\n",
      "    {\n",
      "        \"function_name\": \"get_time\",\n",
      "        \"arguments\": {\n",
      "            \"timezone\": \"Europe/Moscow\"\n",
      "        }\n",
      "    }\n",
      "]\u001b[0m\n",
      "\u001b[32m2024-05-03 02:36:27 INFO semantic_router.utils.logger Function inputs: [{'function_name': 'get_time', 'arguments': {'timezone': 'Europe/Moscow'}}]\u001b[0m\n",
      "\u001b[32m2024-05-03 02:36:27 INFO semantic_router.utils.logger Document 1 length: 35\u001b[0m\n",
      "\u001b[32m2024-05-03 02:36:27 INFO semantic_router.utils.logger Document 1 trunc length: 35\u001b[0m\n"
     ]
    },
    {
     "name": "stdout",
     "output_type": "stream",
     "text": [
      "01:36\n",
      ">>> PASS <<<.\n",
      "====================================================================================================\n",
      "====================================================================================================\n",
      "Processing utterance:  I need to know the time in Beijing.\n"
     ]
    },
    {
     "name": "stderr",
     "output_type": "stream",
     "text": [
      "\u001b[32m2024-05-03 02:36:28 INFO semantic_router.utils.logger Extracting function input...\u001b[0m\n",
      "\u001b[32m2024-05-03 02:36:29 INFO semantic_router.utils.logger LLM output: [\n",
      "    {\n",
      "        \"function_name\": \"get_time\",\n",
      "        \"arguments\": {\n",
      "            \"timezone\": \"Asia/Beijing\"\n",
      "        }\n",
      "    }\n",
      "]\u001b[0m\n",
      "\u001b[32m2024-05-03 02:36:29 INFO semantic_router.utils.logger Function inputs: [{'function_name': 'get_time', 'arguments': {'timezone': 'Asia/Beijing'}}]\u001b[0m\n",
      "\u001b[32m2024-05-03 02:36:29 INFO semantic_router.utils.logger Document 1 length: 34\u001b[0m\n",
      "\u001b[32m2024-05-03 02:36:29 INFO semantic_router.utils.logger Document 1 trunc length: 34\u001b[0m\n"
     ]
    },
    {
     "name": "stdout",
     "output_type": "stream",
     "text": [
      ">>> FAIL <<<.\n",
      "Failed to process: I need to know the time in Beijing. with error: 'No time zone found with key Asia/Beijing'\n",
      "====================================================================================================\n",
      "====================================================================================================\n",
      "Processing utterance:  Show me the current time in Seoul.\n"
     ]
    },
    {
     "name": "stderr",
     "output_type": "stream",
     "text": [
      "\u001b[32m2024-05-03 02:36:29 INFO semantic_router.utils.logger Extracting function input...\u001b[0m\n",
      "\u001b[32m2024-05-03 02:36:30 INFO semantic_router.utils.logger LLM output: [\n",
      "    {\n",
      "        \"function_name\": \"get_time\",\n",
      "        \"arguments\": {\n",
      "            \"timezone\": \"Asia/Seoul\"\n",
      "        }\n",
      "    }\n",
      "]\u001b[0m\n",
      "\u001b[32m2024-05-03 02:36:30 INFO semantic_router.utils.logger Function inputs: [{'function_name': 'get_time', 'arguments': {'timezone': 'Asia/Seoul'}}]\u001b[0m\n",
      "\u001b[32m2024-05-03 02:36:30 INFO semantic_router.utils.logger Document 1 length: 29\u001b[0m\n",
      "\u001b[32m2024-05-03 02:36:30 INFO semantic_router.utils.logger Document 1 trunc length: 29\u001b[0m\n"
     ]
    },
    {
     "name": "stdout",
     "output_type": "stream",
     "text": [
      "07:36\n",
      ">>> PASS <<<.\n",
      "====================================================================================================\n",
      "====================================================================================================\n",
      "Processing utterance:  What time is it in Singapore?\n"
     ]
    },
    {
     "name": "stderr",
     "output_type": "stream",
     "text": [
      "\u001b[32m2024-05-03 02:36:30 INFO semantic_router.utils.logger Extracting function input...\u001b[0m\n",
      "\u001b[32m2024-05-03 02:36:31 INFO semantic_router.utils.logger LLM output: [\n",
      "    {\n",
      "        \"function_name\": \"get_time\",\n",
      "        \"arguments\": {\n",
      "            \"timezone\": \"Asia/Singapore\"\n",
      "        }\n",
      "    }\n",
      "]\u001b[0m\n",
      "\u001b[32m2024-05-03 02:36:31 INFO semantic_router.utils.logger Function inputs: [{'function_name': 'get_time', 'arguments': {'timezone': 'Asia/Singapore'}}]\u001b[0m\n"
     ]
    },
    {
     "name": "stdout",
     "output_type": "stream",
     "text": [
      "06:36\n",
      ">>> PASS <<<.\n",
      "====================================================================================================\n",
      "====================================================================================================\n",
      "Number of successful responses: 48\n",
      "Number of failed responses: 2\n",
      "====================================================================================================\n"
     ]
    }
   ],
   "source": [
    "test_function_calling(\n",
    "    utterances=test_utterances_get_time,\n",
    "    function_name='get_time',\n",
    "    expected_num_responses=1\n",
    "    )"
   ]
  },
  {
   "cell_type": "markdown",
   "metadata": {},
   "source": [
    "### Test `get_time_difference` Function Argument Extraction"
   ]
  },
  {
   "cell_type": "code",
   "execution_count": 20,
   "metadata": {},
   "outputs": [
    {
     "name": "stderr",
     "output_type": "stream",
     "text": [
      "\u001b[32m2024-05-03 02:36:31 INFO semantic_router.utils.logger Document 1 length: 55\u001b[0m\n",
      "\u001b[32m2024-05-03 02:36:31 INFO semantic_router.utils.logger Document 1 trunc length: 55\u001b[0m\n"
     ]
    },
    {
     "name": "stdout",
     "output_type": "stream",
     "text": [
      "====================================================================================================\n",
      "Processing utterance:  What's the hour difference between Vancouver and Miami?\n"
     ]
    },
    {
     "name": "stderr",
     "output_type": "stream",
     "text": [
      "\u001b[32m2024-05-03 02:36:32 INFO semantic_router.utils.logger Extracting function input...\u001b[0m\n",
      "\u001b[32m2024-05-03 02:36:33 INFO semantic_router.utils.logger LLM output: [\n",
      "    {\n",
      "        \"function_name\": \"get_time_difference\",\n",
      "        \"arguments\": {\n",
      "            \"timezone1\": \"America/Vancouver\",\n",
      "            \"timezone2\": \"America/New_York\"\n",
      "        }\n",
      "    }\n",
      "]\u001b[0m\n",
      "\u001b[32m2024-05-03 02:36:33 INFO semantic_router.utils.logger Function inputs: [{'function_name': 'get_time_difference', 'arguments': {'timezone1': 'America/Vancouver', 'timezone2': 'America/New_York'}}]\u001b[0m\n",
      "\u001b[32m2024-05-03 02:36:33 INFO semantic_router.utils.logger Document 1 length: 60\u001b[0m\n",
      "\u001b[32m2024-05-03 02:36:33 INFO semantic_router.utils.logger Document 1 trunc length: 60\u001b[0m\n"
     ]
    },
    {
     "name": "stdout",
     "output_type": "stream",
     "text": [
      "The time difference between America/Vancouver and America/New_York is 3.0 hours.\n",
      ">>> PASS <<<.\n",
      "====================================================================================================\n",
      "====================================================================================================\n",
      "Processing utterance:  Can you calculate the hours separating Helsinki from Denver?\n"
     ]
    },
    {
     "name": "stderr",
     "output_type": "stream",
     "text": [
      "\u001b[32m2024-05-03 02:36:33 INFO semantic_router.utils.logger Extracting function input...\u001b[0m\n",
      "\u001b[32m2024-05-03 02:36:35 INFO semantic_router.utils.logger LLM output: [\n",
      "    {\n",
      "        \"function_name\": \"get_time_difference\",\n",
      "        \"arguments\": {\n",
      "            \"timezone1\": \"Europe/Helsinki\",\n",
      "            \"timezone2\": \"America/Denver\"\n",
      "        }\n",
      "    }\n",
      "]\u001b[0m\n",
      "\u001b[32m2024-05-03 02:36:35 INFO semantic_router.utils.logger Function inputs: [{'function_name': 'get_time_difference', 'arguments': {'timezone1': 'Europe/Helsinki', 'timezone2': 'America/Denver'}}]\u001b[0m\n",
      "\u001b[32m2024-05-03 02:36:35 INFO semantic_router.utils.logger Document 1 length: 56\u001b[0m\n",
      "\u001b[32m2024-05-03 02:36:35 INFO semantic_router.utils.logger Document 1 trunc length: 56\u001b[0m\n"
     ]
    },
    {
     "name": "stdout",
     "output_type": "stream",
     "text": [
      "The time difference between Europe/Helsinki and America/Denver is -9.0 hours.\n",
      ">>> PASS <<<.\n",
      "====================================================================================================\n",
      "====================================================================================================\n",
      "Processing utterance:  Determine the time offset between Johannesburg and Rome.\n"
     ]
    },
    {
     "name": "stderr",
     "output_type": "stream",
     "text": [
      "\u001b[32m2024-05-03 02:36:35 INFO semantic_router.utils.logger Extracting function input...\u001b[0m\n",
      "\u001b[32m2024-05-03 02:36:36 INFO semantic_router.utils.logger LLM output: [\n",
      "    {\n",
      "        \"function_name\": \"get_time_difference\",\n",
      "        \"arguments\": {\n",
      "            \"timezone1\": \"Africa/Johannesburg\",\n",
      "            \"timezone2\": \"Europe/Rome\"\n",
      "        }\n",
      "    }\n",
      "]\u001b[0m\n",
      "\u001b[32m2024-05-03 02:36:36 INFO semantic_router.utils.logger Function inputs: [{'function_name': 'get_time_difference', 'arguments': {'timezone1': 'Africa/Johannesburg', 'timezone2': 'Europe/Rome'}}]\u001b[0m\n",
      "\u001b[32m2024-05-03 02:36:36 INFO semantic_router.utils.logger Document 1 length: 47\u001b[0m\n",
      "\u001b[32m2024-05-03 02:36:36 INFO semantic_router.utils.logger Document 1 trunc length: 47\u001b[0m\n"
     ]
    },
    {
     "name": "stdout",
     "output_type": "stream",
     "text": [
      "The time difference between Africa/Johannesburg and Europe/Rome is 0.0 hours.\n",
      ">>> PASS <<<.\n",
      "====================================================================================================\n",
      "====================================================================================================\n",
      "Processing utterance:  How many hours separate Beijing from Vancouver?\n"
     ]
    },
    {
     "name": "stderr",
     "output_type": "stream",
     "text": [
      "\u001b[32m2024-05-03 02:36:36 INFO semantic_router.utils.logger Extracting function input...\u001b[0m\n",
      "\u001b[32m2024-05-03 02:36:38 INFO semantic_router.utils.logger LLM output: [\n",
      "    {\n",
      "        \"function_name\": \"get_time_difference\",\n",
      "        \"arguments\": {\n",
      "            \"timezone1\": \"Asia/Shanghai\",\n",
      "            \"timezone2\": \"America/Vancouver\"\n",
      "        }\n",
      "    }\n",
      "]\u001b[0m\n",
      "\u001b[32m2024-05-03 02:36:38 INFO semantic_router.utils.logger Function inputs: [{'function_name': 'get_time_difference', 'arguments': {'timezone1': 'Asia/Shanghai', 'timezone2': 'America/Vancouver'}}]\u001b[0m\n",
      "\u001b[32m2024-05-03 02:36:38 INFO semantic_router.utils.logger Document 1 length: 50\u001b[0m\n",
      "\u001b[32m2024-05-03 02:36:38 INFO semantic_router.utils.logger Document 1 trunc length: 50\u001b[0m\n"
     ]
    },
    {
     "name": "stdout",
     "output_type": "stream",
     "text": [
      "The time difference between Asia/Shanghai and America/Vancouver is -15.0 hours.\n",
      ">>> PASS <<<.\n",
      "====================================================================================================\n",
      "====================================================================================================\n",
      "Processing utterance:  Find the time difference from Madrid to Singapore.\n"
     ]
    },
    {
     "name": "stderr",
     "output_type": "stream",
     "text": [
      "\u001b[32m2024-05-03 02:36:38 INFO semantic_router.utils.logger Extracting function input...\u001b[0m\n",
      "\u001b[32m2024-05-03 02:36:40 INFO semantic_router.utils.logger LLM output: [\n",
      "    {\n",
      "        \"function_name\": \"get_time_difference\",\n",
      "        \"arguments\": {\n",
      "            \"timezone1\": \"Europe/Madrid\",\n",
      "            \"timezone2\": \"Asia/Singapore\"\n",
      "        }\n",
      "    }\n",
      "]\u001b[0m\n",
      "\u001b[32m2024-05-03 02:36:40 INFO semantic_router.utils.logger Function inputs: [{'function_name': 'get_time_difference', 'arguments': {'timezone1': 'Europe/Madrid', 'timezone2': 'Asia/Singapore'}}]\u001b[0m\n",
      "\u001b[32m2024-05-03 02:36:40 INFO semantic_router.utils.logger Document 1 length: 50\u001b[0m\n",
      "\u001b[32m2024-05-03 02:36:40 INFO semantic_router.utils.logger Document 1 trunc length: 50\u001b[0m\n"
     ]
    },
    {
     "name": "stdout",
     "output_type": "stream",
     "text": [
      "The time difference between Europe/Madrid and Asia/Singapore is 6.0 hours.\n",
      ">>> PASS <<<.\n",
      "====================================================================================================\n",
      "====================================================================================================\n",
      "Processing utterance:  What is the hour gap between Boston and San Diego?\n"
     ]
    },
    {
     "name": "stderr",
     "output_type": "stream",
     "text": [
      "\u001b[32m2024-05-03 02:36:40 INFO semantic_router.utils.logger Extracting function input...\u001b[0m\n",
      "\u001b[32m2024-05-03 02:36:41 INFO semantic_router.utils.logger LLM output: [\n",
      "    {\n",
      "        \"function_name\": \"get_time_difference\",\n",
      "        \"arguments\": {\n",
      "            \"timezone1\": \"America/New_York\",\n",
      "            \"timezone2\": \"America/Los_Angeles\"\n",
      "        }\n",
      "    }\n",
      "]\u001b[0m\n",
      "\u001b[32m2024-05-03 02:36:41 INFO semantic_router.utils.logger Function inputs: [{'function_name': 'get_time_difference', 'arguments': {'timezone1': 'America/New_York', 'timezone2': 'America/Los_Angeles'}}]\u001b[0m\n",
      "\u001b[32m2024-05-03 02:36:41 INFO semantic_router.utils.logger Document 1 length: 56\u001b[0m\n",
      "\u001b[32m2024-05-03 02:36:41 INFO semantic_router.utils.logger Document 1 trunc length: 56\u001b[0m\n"
     ]
    },
    {
     "name": "stdout",
     "output_type": "stream",
     "text": [
      "The time difference between America/New_York and America/Los_Angeles is -3.0 hours.\n",
      ">>> PASS <<<.\n",
      "====================================================================================================\n",
      "====================================================================================================\n",
      "Processing utterance:  Measure the time difference from Dubai to San Francisco.\n"
     ]
    },
    {
     "name": "stderr",
     "output_type": "stream",
     "text": [
      "\u001b[32m2024-05-03 02:36:42 INFO semantic_router.utils.logger Extracting function input...\u001b[0m\n",
      "\u001b[32m2024-05-03 02:36:43 INFO semantic_router.utils.logger LLM output: [\n",
      "    {\n",
      "        \"function_name\": \"get_time_difference\",\n",
      "        \"arguments\": {\n",
      "            \"timezone1\": \"Asia/Dubai\",\n",
      "            \"timezone2\": \"America/Los_Angeles\"\n",
      "        }\n",
      "    }\n",
      "]\u001b[0m\n",
      "\u001b[32m2024-05-03 02:36:43 INFO semantic_router.utils.logger Function inputs: [{'function_name': 'get_time_difference', 'arguments': {'timezone1': 'Asia/Dubai', 'timezone2': 'America/Los_Angeles'}}]\u001b[0m\n",
      "\u001b[32m2024-05-03 02:36:43 INFO semantic_router.utils.logger Document 1 length: 46\u001b[0m\n",
      "\u001b[32m2024-05-03 02:36:43 INFO semantic_router.utils.logger Document 1 trunc length: 46\u001b[0m\n"
     ]
    },
    {
     "name": "stdout",
     "output_type": "stream",
     "text": [
      "The time difference between Asia/Dubai and America/Los_Angeles is -11.0 hours.\n",
      ">>> PASS <<<.\n",
      "====================================================================================================\n",
      "====================================================================================================\n",
      "Processing utterance:  How far ahead is Melbourne compared to Ottawa?\n"
     ]
    },
    {
     "name": "stderr",
     "output_type": "stream",
     "text": [
      "\u001b[32m2024-05-03 02:36:43 INFO semantic_router.utils.logger Extracting function input...\u001b[0m\n",
      "\u001b[32m2024-05-03 02:36:44 INFO semantic_router.utils.logger LLM output: [\n",
      "    {\n",
      "        \"function_name\": \"get_time_difference\",\n",
      "        \"arguments\": {\n",
      "            \"timezone1\": \"Australia/Melbourne\",\n",
      "            \"timezone2\": \"America/Toronto\"\n",
      "        }\n",
      "    }\n",
      "]\u001b[0m\n",
      "\u001b[32m2024-05-03 02:36:44 INFO semantic_router.utils.logger Function inputs: [{'function_name': 'get_time_difference', 'arguments': {'timezone1': 'Australia/Melbourne', 'timezone2': 'America/Toronto'}}]\u001b[0m\n",
      "\u001b[32m2024-05-03 02:36:44 INFO semantic_router.utils.logger Document 1 length: 51\u001b[0m\n",
      "\u001b[32m2024-05-03 02:36:44 INFO semantic_router.utils.logger Document 1 trunc length: 51\u001b[0m\n"
     ]
    },
    {
     "name": "stdout",
     "output_type": "stream",
     "text": [
      "The time difference between Australia/Melbourne and America/Toronto is -14.0 hours.\n",
      ">>> PASS <<<.\n",
      "====================================================================================================\n",
      "====================================================================================================\n",
      "Processing utterance:  Calculate the hours between Seoul and Buenos Aires.\n"
     ]
    },
    {
     "name": "stderr",
     "output_type": "stream",
     "text": [
      "\u001b[32m2024-05-03 02:36:45 INFO semantic_router.utils.logger Extracting function input...\u001b[0m\n",
      "\u001b[32m2024-05-03 02:36:46 INFO semantic_router.utils.logger LLM output: [\n",
      "    {\n",
      "        \"function_name\": \"get_time_difference\",\n",
      "        \"arguments\": {\n",
      "            \"timezone1\": \"Asia/Seoul\",\n",
      "            \"timezone2\": \"America/Argentina/Buenos_Aires\"\n",
      "        }\n",
      "    }\n",
      "]\u001b[0m\n",
      "\u001b[32m2024-05-03 02:36:46 INFO semantic_router.utils.logger Function inputs: [{'function_name': 'get_time_difference', 'arguments': {'timezone1': 'Asia/Seoul', 'timezone2': 'America/Argentina/Buenos_Aires'}}]\u001b[0m\n",
      "\u001b[32m2024-05-03 02:36:46 INFO semantic_router.utils.logger Document 1 length: 52\u001b[0m\n",
      "\u001b[32m2024-05-03 02:36:46 INFO semantic_router.utils.logger Document 1 trunc length: 52\u001b[0m\n"
     ]
    },
    {
     "name": "stdout",
     "output_type": "stream",
     "text": [
      "The time difference between Asia/Seoul and America/Argentina/Buenos_Aires is -12.0 hours.\n",
      ">>> PASS <<<.\n",
      "====================================================================================================\n",
      "====================================================================================================\n",
      "Processing utterance:  What's the time difference from Istanbul to Toronto?\n"
     ]
    },
    {
     "name": "stderr",
     "output_type": "stream",
     "text": [
      "\u001b[32m2024-05-03 02:36:46 INFO semantic_router.utils.logger Extracting function input...\u001b[0m\n",
      "\u001b[32m2024-05-03 02:36:47 INFO semantic_router.utils.logger LLM output: [\n",
      "    {\n",
      "        \"function_name\": \"get_time_difference\",\n",
      "        \"arguments\": {\n",
      "            \"timezone1\": \"Europe/Istanbul\",\n",
      "            \"timezone2\": \"America/Toronto\"\n",
      "        }\n",
      "    }\n",
      "]\u001b[0m\n",
      "\u001b[32m2024-05-03 02:36:47 INFO semantic_router.utils.logger Function inputs: [{'function_name': 'get_time_difference', 'arguments': {'timezone1': 'Europe/Istanbul', 'timezone2': 'America/Toronto'}}]\u001b[0m\n",
      "\u001b[32m2024-05-03 02:36:47 INFO semantic_router.utils.logger Document 1 length: 62\u001b[0m\n",
      "\u001b[32m2024-05-03 02:36:47 INFO semantic_router.utils.logger Document 1 trunc length: 62\u001b[0m\n"
     ]
    },
    {
     "name": "stdout",
     "output_type": "stream",
     "text": [
      "The time difference between Europe/Istanbul and America/Toronto is -7.0 hours.\n",
      ">>> PASS <<<.\n",
      "====================================================================================================\n",
      "====================================================================================================\n",
      "Processing utterance:  Can you tell me how many hours are between Cairo and Montreal?\n"
     ]
    },
    {
     "name": "stderr",
     "output_type": "stream",
     "text": [
      "\u001b[32m2024-05-03 02:36:48 INFO semantic_router.utils.logger Extracting function input...\u001b[0m\n",
      "\u001b[32m2024-05-03 02:36:49 INFO semantic_router.utils.logger LLM output: [\n",
      "    {\n",
      "        \"function_name\": \"get_time_difference\",\n",
      "        \"arguments\": {\n",
      "            \"timezone1\": \"Africa/Cairo\",\n",
      "            \"timezone2\": \"America/Montreal\"\n",
      "        }\n",
      "    }\n",
      "]\u001b[0m\n",
      "\u001b[32m2024-05-03 02:36:49 INFO semantic_router.utils.logger Function inputs: [{'function_name': 'get_time_difference', 'arguments': {'timezone1': 'Africa/Cairo', 'timezone2': 'America/Montreal'}}]\u001b[0m\n",
      "\u001b[32m2024-05-03 02:36:49 INFO semantic_router.utils.logger Document 1 length: 45\u001b[0m\n",
      "\u001b[32m2024-05-03 02:36:49 INFO semantic_router.utils.logger Document 1 trunc length: 45\u001b[0m\n"
     ]
    },
    {
     "name": "stdout",
     "output_type": "stream",
     "text": [
      "The time difference between Africa/Cairo and America/Montreal is -7.0 hours.\n",
      ">>> PASS <<<.\n",
      "====================================================================================================\n",
      "====================================================================================================\n",
      "Processing utterance:  Determine the time gap from Manila to London.\n"
     ]
    },
    {
     "name": "stderr",
     "output_type": "stream",
     "text": [
      "\u001b[32m2024-05-03 02:36:49 INFO semantic_router.utils.logger Extracting function input...\u001b[0m\n",
      "\u001b[32m2024-05-03 02:36:51 INFO semantic_router.utils.logger LLM output: [\n",
      "    {\n",
      "        \"function_name\": \"get_time_difference\",\n",
      "        \"arguments\": {\n",
      "            \"timezone1\": \"Asia/Manila\",\n",
      "            \"timezone2\": \"Europe/London\"\n",
      "        }\n",
      "    }\n",
      "]\u001b[0m\n",
      "\u001b[32m2024-05-03 02:36:51 INFO semantic_router.utils.logger Function inputs: [{'function_name': 'get_time_difference', 'arguments': {'timezone1': 'Asia/Manila', 'timezone2': 'Europe/London'}}]\u001b[0m\n",
      "\u001b[32m2024-05-03 02:36:51 INFO semantic_router.utils.logger Document 1 length: 48\u001b[0m\n",
      "\u001b[32m2024-05-03 02:36:51 INFO semantic_router.utils.logger Document 1 trunc length: 48\u001b[0m\n"
     ]
    },
    {
     "name": "stdout",
     "output_type": "stream",
     "text": [
      "The time difference between Asia/Manila and Europe/London is -7.0 hours.\n",
      ">>> PASS <<<.\n",
      "====================================================================================================\n",
      "====================================================================================================\n",
      "Processing utterance:  How many hours ahead is Sydney from Mexico City?\n"
     ]
    },
    {
     "name": "stderr",
     "output_type": "stream",
     "text": [
      "\u001b[32m2024-05-03 02:36:51 INFO semantic_router.utils.logger Extracting function input...\u001b[0m\n",
      "\u001b[32m2024-05-03 02:36:53 INFO semantic_router.utils.logger LLM output: [\n",
      "    {\n",
      "        \"function_name\": \"get_time_difference\",\n",
      "        \"arguments\": {\n",
      "            \"timezone1\": \"America/Mexico_City\",\n",
      "            \"timezone2\": \"Australia/Sydney\"\n",
      "        }\n",
      "    }\n",
      "]\u001b[0m\n",
      "\u001b[32m2024-05-03 02:36:53 INFO semantic_router.utils.logger Function inputs: [{'function_name': 'get_time_difference', 'arguments': {'timezone1': 'America/Mexico_City', 'timezone2': 'Australia/Sydney'}}]\u001b[0m\n",
      "\u001b[32m2024-05-03 02:36:53 INFO semantic_router.utils.logger Document 1 length: 57\u001b[0m\n",
      "\u001b[32m2024-05-03 02:36:53 INFO semantic_router.utils.logger Document 1 trunc length: 57\u001b[0m\n"
     ]
    },
    {
     "name": "stdout",
     "output_type": "stream",
     "text": [
      "The time difference between America/Mexico_City and Australia/Sydney is 16.0 hours.\n",
      ">>> PASS <<<.\n",
      "====================================================================================================\n",
      "====================================================================================================\n",
      "Processing utterance:  What is the time difference between Oslo and Los Angeles?\n"
     ]
    },
    {
     "name": "stderr",
     "output_type": "stream",
     "text": [
      "\u001b[32m2024-05-03 02:36:53 INFO semantic_router.utils.logger Extracting function input...\u001b[0m\n",
      "\u001b[32m2024-05-03 02:36:54 INFO semantic_router.utils.logger LLM output: [\n",
      "    {\n",
      "        \"function_name\": \"get_time_difference\",\n",
      "        \"arguments\": {\n",
      "            \"timezone1\": \"Europe/Oslo\",\n",
      "            \"timezone2\": \"America/Los_Angeles\"\n",
      "        }\n",
      "    }\n",
      "]\u001b[0m\n",
      "\u001b[32m2024-05-03 02:36:54 INFO semantic_router.utils.logger Function inputs: [{'function_name': 'get_time_difference', 'arguments': {'timezone1': 'Europe/Oslo', 'timezone2': 'America/Los_Angeles'}}]\u001b[0m\n",
      "\u001b[32m2024-05-03 02:36:54 INFO semantic_router.utils.logger Document 1 length: 46\u001b[0m\n",
      "\u001b[32m2024-05-03 02:36:54 INFO semantic_router.utils.logger Document 1 trunc length: 46\u001b[0m\n"
     ]
    },
    {
     "name": "stdout",
     "output_type": "stream",
     "text": [
      "The time difference between Europe/Oslo and America/Los_Angeles is -9.0 hours.\n",
      ">>> PASS <<<.\n",
      "====================================================================================================\n",
      "====================================================================================================\n",
      "Processing utterance:  Calculate the time offset from Paris to Tokyo.\n"
     ]
    },
    {
     "name": "stderr",
     "output_type": "stream",
     "text": [
      "\u001b[32m2024-05-03 02:36:54 INFO semantic_router.utils.logger Extracting function input...\u001b[0m\n",
      "\u001b[32m2024-05-03 02:36:56 INFO semantic_router.utils.logger LLM output: [\n",
      "    {\n",
      "        \"function_name\": \"get_time_difference\",\n",
      "        \"arguments\": {\n",
      "            \"timezone1\": \"Europe/Paris\",\n",
      "            \"timezone2\": \"Asia/Tokyo\"\n",
      "        }\n",
      "    }\n",
      "]\u001b[0m\n",
      "\u001b[32m2024-05-03 02:36:56 INFO semantic_router.utils.logger Function inputs: [{'function_name': 'get_time_difference', 'arguments': {'timezone1': 'Europe/Paris', 'timezone2': 'Asia/Tokyo'}}]\u001b[0m\n",
      "\u001b[32m2024-05-03 02:36:56 INFO semantic_router.utils.logger Document 1 length: 47\u001b[0m\n",
      "\u001b[32m2024-05-03 02:36:56 INFO semantic_router.utils.logger Document 1 trunc length: 47\u001b[0m\n"
     ]
    },
    {
     "name": "stdout",
     "output_type": "stream",
     "text": [
      "The time difference between Europe/Paris and Asia/Tokyo is 7.0 hours.\n",
      ">>> PASS <<<.\n",
      "====================================================================================================\n",
      "====================================================================================================\n",
      "Processing utterance:  How many hours separate New Delhi from Chicago?\n"
     ]
    },
    {
     "name": "stderr",
     "output_type": "stream",
     "text": [
      "\u001b[32m2024-05-03 02:36:56 INFO semantic_router.utils.logger Extracting function input...\u001b[0m\n",
      "\u001b[32m2024-05-03 02:36:57 INFO semantic_router.utils.logger LLM output: [\n",
      "    {\n",
      "        \"function_name\": \"get_time_difference\",\n",
      "        \"arguments\": {\n",
      "            \"timezone1\": \"Asia/Kolkata\",\n",
      "            \"timezone2\": \"America/Chicago\"\n",
      "        }\n",
      "    }\n",
      "]\u001b[0m\n",
      "\u001b[32m2024-05-03 02:36:57 INFO semantic_router.utils.logger Function inputs: [{'function_name': 'get_time_difference', 'arguments': {'timezone1': 'Asia/Kolkata', 'timezone2': 'America/Chicago'}}]\u001b[0m\n",
      "\u001b[32m2024-05-03 02:36:57 INFO semantic_router.utils.logger Document 1 length: 56\u001b[0m\n",
      "\u001b[32m2024-05-03 02:36:57 INFO semantic_router.utils.logger Document 1 trunc length: 56\u001b[0m\n"
     ]
    },
    {
     "name": "stdout",
     "output_type": "stream",
     "text": [
      "The time difference between Asia/Kolkata and America/Chicago is -10.5 hours.\n",
      ">>> PASS <<<.\n",
      "====================================================================================================\n",
      "====================================================================================================\n",
      "Processing utterance:  Find out the time difference between Zurich and Seattle.\n"
     ]
    },
    {
     "name": "stderr",
     "output_type": "stream",
     "text": [
      "\u001b[32m2024-05-03 02:36:58 INFO semantic_router.utils.logger Extracting function input...\u001b[0m\n",
      "\u001b[32m2024-05-03 02:36:59 INFO semantic_router.utils.logger LLM output: [\n",
      "    {\n",
      "        \"function_name\": \"get_time_difference\",\n",
      "        \"arguments\": {\n",
      "            \"timezone1\": \"Europe/Zurich\",\n",
      "            \"timezone2\": \"America/Los_Angeles\"\n",
      "        }\n",
      "    }\n",
      "]\u001b[0m\n",
      "\u001b[32m2024-05-03 02:36:59 INFO semantic_router.utils.logger Function inputs: [{'function_name': 'get_time_difference', 'arguments': {'timezone1': 'Europe/Zurich', 'timezone2': 'America/Los_Angeles'}}]\u001b[0m\n",
      "\u001b[32m2024-05-03 02:36:59 INFO semantic_router.utils.logger Document 1 length: 52\u001b[0m\n",
      "\u001b[32m2024-05-03 02:36:59 INFO semantic_router.utils.logger Document 1 trunc length: 52\u001b[0m\n"
     ]
    },
    {
     "name": "stdout",
     "output_type": "stream",
     "text": [
      "The time difference between Europe/Zurich and America/Los_Angeles is -9.0 hours.\n",
      ">>> PASS <<<.\n",
      "====================================================================================================\n",
      "====================================================================================================\n",
      "Processing utterance:  What's the hour difference from Lisbon to Hong Kong?\n"
     ]
    },
    {
     "name": "stderr",
     "output_type": "stream",
     "text": [
      "\u001b[32m2024-05-03 02:36:59 INFO semantic_router.utils.logger Extracting function input...\u001b[0m\n",
      "\u001b[32m2024-05-03 02:37:00 INFO semantic_router.utils.logger LLM output: [\n",
      "    {\n",
      "        \"function_name\": \"get_time_difference\",\n",
      "        \"arguments\": {\n",
      "            \"timezone1\": \"Europe/Lisbon\",\n",
      "            \"timezone2\": \"Asia/Hong_Kong\"\n",
      "        }\n",
      "    }\n",
      "]\u001b[0m\n",
      "\u001b[32m2024-05-03 02:37:00 INFO semantic_router.utils.logger Function inputs: [{'function_name': 'get_time_difference', 'arguments': {'timezone1': 'Europe/Lisbon', 'timezone2': 'Asia/Hong_Kong'}}]\u001b[0m\n",
      "\u001b[32m2024-05-03 02:37:00 INFO semantic_router.utils.logger Document 1 length: 51\u001b[0m\n",
      "\u001b[32m2024-05-03 02:37:00 INFO semantic_router.utils.logger Document 1 trunc length: 51\u001b[0m\n"
     ]
    },
    {
     "name": "stdout",
     "output_type": "stream",
     "text": [
      "The time difference between Europe/Lisbon and Asia/Hong_Kong is 7.0 hours.\n",
      ">>> PASS <<<.\n",
      "====================================================================================================\n",
      "====================================================================================================\n",
      "Processing utterance:  Measure the time gap between Stockholm and Houston.\n"
     ]
    },
    {
     "name": "stderr",
     "output_type": "stream",
     "text": [
      "\u001b[32m2024-05-03 02:37:01 INFO semantic_router.utils.logger Extracting function input...\u001b[0m\n",
      "\u001b[32m2024-05-03 02:37:02 INFO semantic_router.utils.logger LLM output: [\n",
      "    {\n",
      "        \"function_name\": \"get_time_difference\",\n",
      "        \"arguments\": {\n",
      "            \"timezone1\": \"Europe/Stockholm\",\n",
      "            \"timezone2\": \"America/Chicago\"\n",
      "        }\n",
      "    }\n",
      "]\u001b[0m\n",
      "\u001b[32m2024-05-03 02:37:02 INFO semantic_router.utils.logger Function inputs: [{'function_name': 'get_time_difference', 'arguments': {'timezone1': 'Europe/Stockholm', 'timezone2': 'America/Chicago'}}]\u001b[0m\n",
      "\u001b[32m2024-05-03 02:37:02 INFO semantic_router.utils.logger Document 1 length: 55\u001b[0m\n",
      "\u001b[32m2024-05-03 02:37:02 INFO semantic_router.utils.logger Document 1 trunc length: 55\u001b[0m\n"
     ]
    },
    {
     "name": "stdout",
     "output_type": "stream",
     "text": [
      "The time difference between Europe/Stockholm and America/Chicago is -7.0 hours.\n",
      ">>> PASS <<<.\n",
      "====================================================================================================\n",
      "====================================================================================================\n",
      "Processing utterance:  Determine the hours separating Amsterdam from Shanghai.\n"
     ]
    },
    {
     "name": "stderr",
     "output_type": "stream",
     "text": [
      "\u001b[32m2024-05-03 02:37:02 INFO semantic_router.utils.logger Extracting function input...\u001b[0m\n",
      "\u001b[32m2024-05-03 02:37:04 INFO semantic_router.utils.logger LLM output: [\n",
      "    {\n",
      "        \"function_name\": \"get_time_difference\",\n",
      "        \"arguments\": {\n",
      "            \"timezone1\": \"Europe/Amsterdam\",\n",
      "            \"timezone2\": \"Asia/Shanghai\"\n",
      "        }\n",
      "    }\n",
      "]\u001b[0m\n",
      "\u001b[32m2024-05-03 02:37:04 INFO semantic_router.utils.logger Function inputs: [{'function_name': 'get_time_difference', 'arguments': {'timezone1': 'Europe/Amsterdam', 'timezone2': 'Asia/Shanghai'}}]\u001b[0m\n",
      "\u001b[32m2024-05-03 02:37:04 INFO semantic_router.utils.logger Document 1 length: 57\u001b[0m\n",
      "\u001b[32m2024-05-03 02:37:04 INFO semantic_router.utils.logger Document 1 trunc length: 57\u001b[0m\n"
     ]
    },
    {
     "name": "stdout",
     "output_type": "stream",
     "text": [
      "The time difference between Europe/Amsterdam and Asia/Shanghai is 6.0 hours.\n",
      ">>> PASS <<<.\n",
      "====================================================================================================\n",
      "====================================================================================================\n",
      "Processing utterance:  Calculate the time difference from Brussels to Las Vegas.\n"
     ]
    },
    {
     "name": "stderr",
     "output_type": "stream",
     "text": [
      "\u001b[32m2024-05-03 02:37:04 INFO semantic_router.utils.logger Extracting function input...\u001b[0m\n",
      "\u001b[32m2024-05-03 02:37:05 INFO semantic_router.utils.logger LLM output: [\n",
      "    {\n",
      "        \"function_name\": \"get_time_difference\",\n",
      "        \"arguments\": {\n",
      "            \"timezone1\": \"Europe/Brussels\",\n",
      "            \"timezone2\": \"America/Los_Angeles\"\n",
      "        }\n",
      "    }\n",
      "]\u001b[0m\n",
      "\u001b[32m2024-05-03 02:37:05 INFO semantic_router.utils.logger Function inputs: [{'function_name': 'get_time_difference', 'arguments': {'timezone1': 'Europe/Brussels', 'timezone2': 'America/Los_Angeles'}}]\u001b[0m\n",
      "\u001b[32m2024-05-03 02:37:05 INFO semantic_router.utils.logger Document 1 length: 48\u001b[0m\n",
      "\u001b[32m2024-05-03 02:37:05 INFO semantic_router.utils.logger Document 1 trunc length: 48\u001b[0m\n"
     ]
    },
    {
     "name": "stdout",
     "output_type": "stream",
     "text": [
      "The time difference between Europe/Brussels and America/Los_Angeles is -9.0 hours.\n",
      ">>> PASS <<<.\n",
      "====================================================================================================\n",
      "====================================================================================================\n",
      "Processing utterance:  How many hours ahead is Copenhagen from Phoenix?\n"
     ]
    },
    {
     "name": "stderr",
     "output_type": "stream",
     "text": [
      "\u001b[32m2024-05-03 02:37:06 INFO semantic_router.utils.logger Extracting function input...\u001b[0m\n",
      "\u001b[32m2024-05-03 02:37:07 INFO semantic_router.utils.logger LLM output: [\n",
      "    {\n",
      "        \"function_name\": \"get_time_difference\",\n",
      "        \"arguments\": {\n",
      "            \"timezone1\": \"Europe/Copenhagen\",\n",
      "            \"timezone2\": \"America/Phoenix\"\n",
      "        }\n",
      "    }\n",
      "]\u001b[0m\n",
      "\u001b[32m2024-05-03 02:37:07 INFO semantic_router.utils.logger Function inputs: [{'function_name': 'get_time_difference', 'arguments': {'timezone1': 'Europe/Copenhagen', 'timezone2': 'America/Phoenix'}}]\u001b[0m\n",
      "\u001b[32m2024-05-03 02:37:07 INFO semantic_router.utils.logger Document 1 length: 55\u001b[0m\n",
      "\u001b[32m2024-05-03 02:37:07 INFO semantic_router.utils.logger Document 1 trunc length: 55\u001b[0m\n"
     ]
    },
    {
     "name": "stdout",
     "output_type": "stream",
     "text": [
      "The time difference between Europe/Copenhagen and America/Phoenix is -9.0 hours.\n",
      ">>> PASS <<<.\n",
      "====================================================================================================\n",
      "====================================================================================================\n",
      "Processing utterance:  What is the time difference between Warsaw and Atlanta?\n"
     ]
    },
    {
     "name": "stderr",
     "output_type": "stream",
     "text": [
      "\u001b[32m2024-05-03 02:37:07 INFO semantic_router.utils.logger Extracting function input...\u001b[0m\n",
      "\u001b[32m2024-05-03 02:37:09 INFO semantic_router.utils.logger LLM output: [\n",
      "    {\n",
      "        \"function_name\": \"get_time_difference\",\n",
      "        \"arguments\": {\n",
      "            \"timezone1\": \"Europe/Warsaw\",\n",
      "            \"timezone2\": \"America/New_York\"\n",
      "        }\n",
      "    }\n",
      "]\u001b[0m\n",
      "\u001b[32m2024-05-03 02:37:09 INFO semantic_router.utils.logger Function inputs: [{'function_name': 'get_time_difference', 'arguments': {'timezone1': 'Europe/Warsaw', 'timezone2': 'America/New_York'}}]\u001b[0m\n",
      "\u001b[32m2024-05-03 02:37:09 INFO semantic_router.utils.logger Document 1 length: 49\u001b[0m\n",
      "\u001b[32m2024-05-03 02:37:09 INFO semantic_router.utils.logger Document 1 trunc length: 49\u001b[0m\n"
     ]
    },
    {
     "name": "stdout",
     "output_type": "stream",
     "text": [
      "The time difference between Europe/Warsaw and America/New_York is -6.0 hours.\n",
      ">>> PASS <<<.\n",
      "====================================================================================================\n",
      "====================================================================================================\n",
      "Processing utterance:  Can you find the time gap from Budapest to Miami?\n"
     ]
    },
    {
     "name": "stderr",
     "output_type": "stream",
     "text": [
      "\u001b[32m2024-05-03 02:37:09 INFO semantic_router.utils.logger Extracting function input...\u001b[0m\n",
      "\u001b[32m2024-05-03 02:37:11 INFO semantic_router.utils.logger LLM output: [\n",
      "    {\n",
      "        \"function_name\": \"get_time_difference\",\n",
      "        \"arguments\": {\n",
      "            \"timezone1\": \"Europe/Budapest\",\n",
      "            \"timezone2\": \"America/New_York\"\n",
      "        }\n",
      "    }\n",
      "]\u001b[0m\n",
      "\u001b[32m2024-05-03 02:37:11 INFO semantic_router.utils.logger Function inputs: [{'function_name': 'get_time_difference', 'arguments': {'timezone1': 'Europe/Budapest', 'timezone2': 'America/New_York'}}]\u001b[0m\n",
      "\u001b[32m2024-05-03 02:37:11 INFO semantic_router.utils.logger Document 1 length: 55\u001b[0m\n",
      "\u001b[32m2024-05-03 02:37:11 INFO semantic_router.utils.logger Document 1 trunc length: 55\u001b[0m\n"
     ]
    },
    {
     "name": "stdout",
     "output_type": "stream",
     "text": [
      "The time difference between Europe/Budapest and America/New_York is -6.0 hours.\n",
      ">>> PASS <<<.\n",
      "====================================================================================================\n",
      "====================================================================================================\n",
      "Processing utterance:  Tell me the hours separating Kuala Lumpur and New York.\n"
     ]
    },
    {
     "name": "stderr",
     "output_type": "stream",
     "text": [
      "\u001b[32m2024-05-03 02:37:11 INFO semantic_router.utils.logger Extracting function input...\u001b[0m\n",
      "\u001b[32m2024-05-03 02:37:13 INFO semantic_router.utils.logger LLM output: [\n",
      "    {\n",
      "        \"function_name\": \"get_time_difference\",\n",
      "        \"arguments\": {\n",
      "            \"timezone1\": \"Kuala Lumpur\",\n",
      "            \"timezone2\": \"New York\"\n",
      "        }\n",
      "    }\n",
      "]\u001b[0m\n",
      "\u001b[32m2024-05-03 02:37:13 INFO semantic_router.utils.logger Function inputs: [{'function_name': 'get_time_difference', 'arguments': {'timezone1': 'Kuala Lumpur', 'timezone2': 'New York'}}]\u001b[0m\n",
      "\u001b[32m2024-05-03 02:37:13 INFO semantic_router.utils.logger Document 1 length: 58\u001b[0m\n",
      "\u001b[32m2024-05-03 02:37:13 INFO semantic_router.utils.logger Document 1 trunc length: 58\u001b[0m\n"
     ]
    },
    {
     "name": "stdout",
     "output_type": "stream",
     "text": [
      ">>> FAIL <<<.\n",
      "Failed to process: Tell me the hours separating Kuala Lumpur and New York. with error: 'No time zone found with key Kuala Lumpur'\n",
      "====================================================================================================\n",
      "====================================================================================================\n",
      "Processing utterance:  What is the time difference between Toronto and Vancouver?\n"
     ]
    },
    {
     "name": "stderr",
     "output_type": "stream",
     "text": [
      "\u001b[32m2024-05-03 02:37:13 INFO semantic_router.utils.logger Extracting function input...\u001b[0m\n",
      "\u001b[32m2024-05-03 02:37:14 INFO semantic_router.utils.logger LLM output: [\n",
      "    {\n",
      "        \"function_name\": \"get_time_difference\",\n",
      "        \"arguments\": {\n",
      "            \"timezone1\": \"America/Toronto\",\n",
      "            \"timezone2\": \"America/Vancouver\"\n",
      "        }\n",
      "    }\n",
      "]\u001b[0m\n",
      "\u001b[32m2024-05-03 02:37:14 INFO semantic_router.utils.logger Function inputs: [{'function_name': 'get_time_difference', 'arguments': {'timezone1': 'America/Toronto', 'timezone2': 'America/Vancouver'}}]\u001b[0m\n",
      "\u001b[32m2024-05-03 02:37:14 INFO semantic_router.utils.logger Document 1 length: 58\u001b[0m\n",
      "\u001b[32m2024-05-03 02:37:14 INFO semantic_router.utils.logger Document 1 trunc length: 58\u001b[0m\n"
     ]
    },
    {
     "name": "stdout",
     "output_type": "stream",
     "text": [
      "The time difference between America/Toronto and America/Vancouver is -3.0 hours.\n",
      ">>> PASS <<<.\n",
      "====================================================================================================\n",
      "====================================================================================================\n",
      "Processing utterance:  Can you show the time gap between Mexico City and Toronto?\n"
     ]
    },
    {
     "name": "stderr",
     "output_type": "stream",
     "text": [
      "\u001b[32m2024-05-03 02:37:15 INFO semantic_router.utils.logger Extracting function input...\u001b[0m\n",
      "\u001b[32m2024-05-03 02:37:16 INFO semantic_router.utils.logger LLM output: [\n",
      "    {\n",
      "        \"function_name\": \"get_time_difference\",\n",
      "        \"arguments\": {\n",
      "            \"timezone1\": \"America/Mexico_City\",\n",
      "            \"timezone2\": \"America/Toronto\"\n",
      "        }\n",
      "    }\n",
      "]\u001b[0m\n",
      "\u001b[32m2024-05-03 02:37:16 INFO semantic_router.utils.logger Function inputs: [{'function_name': 'get_time_difference', 'arguments': {'timezone1': 'America/Mexico_City', 'timezone2': 'America/Toronto'}}]\u001b[0m\n",
      "\u001b[32m2024-05-03 02:37:16 INFO semantic_router.utils.logger Document 1 length: 47\u001b[0m\n",
      "\u001b[32m2024-05-03 02:37:16 INFO semantic_router.utils.logger Document 1 trunc length: 47\u001b[0m\n"
     ]
    },
    {
     "name": "stdout",
     "output_type": "stream",
     "text": [
      "The time difference between America/Mexico_City and America/Toronto is 2.0 hours.\n",
      ">>> PASS <<<.\n",
      "====================================================================================================\n",
      "====================================================================================================\n",
      "Processing utterance:  How many hours are between London and New York?\n"
     ]
    },
    {
     "name": "stderr",
     "output_type": "stream",
     "text": [
      "\u001b[32m2024-05-03 02:37:16 INFO semantic_router.utils.logger Extracting function input...\u001b[0m\n",
      "\u001b[32m2024-05-03 02:37:18 INFO semantic_router.utils.logger LLM output: [\n",
      "    {\n",
      "        \"function_name\": \"get_time_difference\",\n",
      "        \"arguments\": {\n",
      "            \"timezone1\": \"Europe/London\",\n",
      "            \"timezone2\": \"America/New_York\"\n",
      "        }\n",
      "    }\n",
      "]\u001b[0m\n",
      "\u001b[32m2024-05-03 02:37:18 INFO semantic_router.utils.logger Function inputs: [{'function_name': 'get_time_difference', 'arguments': {'timezone1': 'Europe/London', 'timezone2': 'America/New_York'}}]\u001b[0m\n",
      "\u001b[32m2024-05-03 02:37:18 INFO semantic_router.utils.logger Document 1 length: 65\u001b[0m\n",
      "\u001b[32m2024-05-03 02:37:18 INFO semantic_router.utils.logger Document 1 trunc length: 65\u001b[0m\n"
     ]
    },
    {
     "name": "stdout",
     "output_type": "stream",
     "text": [
      "The time difference between Europe/London and America/New_York is -5.0 hours.\n",
      ">>> PASS <<<.\n",
      "====================================================================================================\n",
      "====================================================================================================\n",
      "Processing utterance:  Please calculate the time difference from Tokyo to San Francisco.\n"
     ]
    },
    {
     "name": "stderr",
     "output_type": "stream",
     "text": [
      "\u001b[32m2024-05-03 02:37:18 INFO semantic_router.utils.logger Extracting function input...\u001b[0m\n",
      "\u001b[32m2024-05-03 02:37:19 INFO semantic_router.utils.logger LLM output: [\n",
      "    {\n",
      "        \"function_name\": \"get_time_difference\",\n",
      "        \"arguments\": {\n",
      "            \"timezone1\": \"Asia/Tokyo\",\n",
      "            \"timezone2\": \"America/Los_Angeles\"\n",
      "        }\n",
      "    }\n",
      "]\u001b[0m\n",
      "\u001b[32m2024-05-03 02:37:19 INFO semantic_router.utils.logger Function inputs: [{'function_name': 'get_time_difference', 'arguments': {'timezone1': 'Asia/Tokyo', 'timezone2': 'America/Los_Angeles'}}]\u001b[0m\n",
      "\u001b[32m2024-05-03 02:37:19 INFO semantic_router.utils.logger Document 1 length: 51\u001b[0m\n",
      "\u001b[32m2024-05-03 02:37:19 INFO semantic_router.utils.logger Document 1 trunc length: 51\u001b[0m\n"
     ]
    },
    {
     "name": "stdout",
     "output_type": "stream",
     "text": [
      "The time difference between Asia/Tokyo and America/Los_Angeles is -16.0 hours.\n",
      ">>> PASS <<<.\n",
      "====================================================================================================\n",
      "====================================================================================================\n",
      "Processing utterance:  Determine the hours separating Paris from Montreal.\n"
     ]
    },
    {
     "name": "stderr",
     "output_type": "stream",
     "text": [
      "\u001b[32m2024-05-03 02:37:19 INFO semantic_router.utils.logger Extracting function input...\u001b[0m\n",
      "\u001b[32m2024-05-03 02:37:21 INFO semantic_router.utils.logger LLM output: [\n",
      "    {\n",
      "        \"function_name\": \"get_time_difference\",\n",
      "        \"arguments\": {\n",
      "            \"timezone1\": \"Europe/Paris\",\n",
      "            \"timezone2\": \"America/Montreal\"\n",
      "        }\n",
      "    }\n",
      "]\u001b[0m\n",
      "\u001b[32m2024-05-03 02:37:21 INFO semantic_router.utils.logger Function inputs: [{'function_name': 'get_time_difference', 'arguments': {'timezone1': 'Europe/Paris', 'timezone2': 'America/Montreal'}}]\u001b[0m\n",
      "\u001b[32m2024-05-03 02:37:21 INFO semantic_router.utils.logger Document 1 length: 52\u001b[0m\n",
      "\u001b[32m2024-05-03 02:37:21 INFO semantic_router.utils.logger Document 1 trunc length: 52\u001b[0m\n"
     ]
    },
    {
     "name": "stdout",
     "output_type": "stream",
     "text": [
      "The time difference between Europe/Paris and America/Montreal is -6.0 hours.\n",
      ">>> PASS <<<.\n",
      "====================================================================================================\n",
      "====================================================================================================\n",
      "Processing utterance:  What's the hour difference between Dubai and London?\n"
     ]
    },
    {
     "name": "stderr",
     "output_type": "stream",
     "text": [
      "\u001b[32m2024-05-03 02:37:21 INFO semantic_router.utils.logger Extracting function input...\u001b[0m\n",
      "\u001b[32m2024-05-03 02:37:22 INFO semantic_router.utils.logger LLM output: [\n",
      "    {\n",
      "        \"function_name\": \"get_time_difference\",\n",
      "        \"arguments\": {\n",
      "            \"timezone1\": \"Dubai\",\n",
      "            \"timezone2\": \"London\"\n",
      "        }\n",
      "    }\n",
      "]\u001b[0m\n",
      "\u001b[32m2024-05-03 02:37:22 INFO semantic_router.utils.logger Function inputs: [{'function_name': 'get_time_difference', 'arguments': {'timezone1': 'Dubai', 'timezone2': 'London'}}]\u001b[0m\n",
      "\u001b[32m2024-05-03 02:37:22 INFO semantic_router.utils.logger Document 1 length: 47\u001b[0m\n",
      "\u001b[32m2024-05-03 02:37:22 INFO semantic_router.utils.logger Document 1 trunc length: 47\u001b[0m\n"
     ]
    },
    {
     "name": "stdout",
     "output_type": "stream",
     "text": [
      ">>> FAIL <<<.\n",
      "Failed to process: What's the hour difference between Dubai and London? with error: 'No time zone found with key Dubai'\n",
      "====================================================================================================\n",
      "====================================================================================================\n",
      "Processing utterance:  Measure the time gap from Seoul to Los Angeles.\n"
     ]
    },
    {
     "name": "stderr",
     "output_type": "stream",
     "text": [
      "\u001b[32m2024-05-03 02:37:23 INFO semantic_router.utils.logger Extracting function input...\u001b[0m\n",
      "\u001b[32m2024-05-03 02:37:24 INFO semantic_router.utils.logger LLM output: [\n",
      "    {\n",
      "        \"function_name\": \"get_time_difference\",\n",
      "        \"arguments\": {\n",
      "            \"timezone1\": \"Asia/Seoul\",\n",
      "            \"timezone2\": \"America/Los_Angeles\"\n",
      "        }\n",
      "    }\n",
      "]\u001b[0m\n",
      "\u001b[32m2024-05-03 02:37:24 INFO semantic_router.utils.logger Function inputs: [{'function_name': 'get_time_difference', 'arguments': {'timezone1': 'Asia/Seoul', 'timezone2': 'America/Los_Angeles'}}]\u001b[0m\n",
      "\u001b[32m2024-05-03 02:37:24 INFO semantic_router.utils.logger Document 1 length: 43\u001b[0m\n",
      "\u001b[32m2024-05-03 02:37:24 INFO semantic_router.utils.logger Document 1 trunc length: 43\u001b[0m\n"
     ]
    },
    {
     "name": "stdout",
     "output_type": "stream",
     "text": [
      "The time difference between Asia/Seoul and America/Los_Angeles is -16.0 hours.\n",
      ">>> PASS <<<.\n",
      "====================================================================================================\n",
      "====================================================================================================\n",
      "Processing utterance:  How far ahead is Moscow compared to Lisbon?\n"
     ]
    },
    {
     "name": "stderr",
     "output_type": "stream",
     "text": [
      "\u001b[32m2024-05-03 02:37:24 INFO semantic_router.utils.logger Extracting function input...\u001b[0m\n",
      "\u001b[32m2024-05-03 02:37:26 INFO semantic_router.utils.logger LLM output: [\n",
      "    {\n",
      "        \"function_name\": \"get_time_difference\",\n",
      "        \"arguments\": {\n",
      "            \"timezone1\": \"Europe/Lisbon\",\n",
      "            \"timezone2\": \"Europe/Moscow\"\n",
      "        }\n",
      "    }\n",
      "]\u001b[0m\n",
      "\u001b[32m2024-05-03 02:37:26 INFO semantic_router.utils.logger Function inputs: [{'function_name': 'get_time_difference', 'arguments': {'timezone1': 'Europe/Lisbon', 'timezone2': 'Europe/Moscow'}}]\u001b[0m\n",
      "\u001b[32m2024-05-03 02:37:26 INFO semantic_router.utils.logger Document 1 length: 45\u001b[0m\n",
      "\u001b[32m2024-05-03 02:37:26 INFO semantic_router.utils.logger Document 1 trunc length: 45\u001b[0m\n"
     ]
    },
    {
     "name": "stdout",
     "output_type": "stream",
     "text": [
      "The time difference between Europe/Lisbon and Europe/Moscow is 2.0 hours.\n",
      ">>> PASS <<<.\n",
      "====================================================================================================\n",
      "====================================================================================================\n",
      "Processing utterance:  Calculate the hours between Rome and Chicago.\n"
     ]
    },
    {
     "name": "stderr",
     "output_type": "stream",
     "text": [
      "\u001b[32m2024-05-03 02:37:26 INFO semantic_router.utils.logger Extracting function input...\u001b[0m\n",
      "\u001b[32m2024-05-03 02:37:27 INFO semantic_router.utils.logger LLM output: [\n",
      "    {\n",
      "        \"function_name\": \"get_time_difference\",\n",
      "        \"arguments\": {\n",
      "            \"timezone1\": \"Europe/Rome\",\n",
      "            \"timezone2\": \"America/Chicago\"\n",
      "        }\n",
      "    }\n",
      "]\u001b[0m\n",
      "\u001b[32m2024-05-03 02:37:27 INFO semantic_router.utils.logger Function inputs: [{'function_name': 'get_time_difference', 'arguments': {'timezone1': 'Europe/Rome', 'timezone2': 'America/Chicago'}}]\u001b[0m\n",
      "\u001b[32m2024-05-03 02:37:27 INFO semantic_router.utils.logger Document 1 length: 56\u001b[0m\n",
      "\u001b[32m2024-05-03 02:37:27 INFO semantic_router.utils.logger Document 1 trunc length: 56\u001b[0m\n"
     ]
    },
    {
     "name": "stdout",
     "output_type": "stream",
     "text": [
      "The time difference between Europe/Rome and America/Chicago is -7.0 hours.\n",
      ">>> PASS <<<.\n",
      "====================================================================================================\n",
      "====================================================================================================\n",
      "Processing utterance:  What's the time difference from Bangkok to Johannesburg?\n"
     ]
    },
    {
     "name": "stderr",
     "output_type": "stream",
     "text": [
      "\u001b[32m2024-05-03 02:37:28 INFO semantic_router.utils.logger Extracting function input...\u001b[0m\n",
      "\u001b[32m2024-05-03 02:37:29 INFO semantic_router.utils.logger LLM output: [\n",
      "    {\n",
      "        \"function_name\": \"get_time_difference\",\n",
      "        \"arguments\": {\n",
      "            \"timezone1\": \"Bangkok\",\n",
      "            \"timezone2\": \"Johannesburg\"\n",
      "        }\n",
      "    }\n",
      "]\u001b[0m\n",
      "\u001b[32m2024-05-03 02:37:29 INFO semantic_router.utils.logger Function inputs: [{'function_name': 'get_time_difference', 'arguments': {'timezone1': 'Bangkok', 'timezone2': 'Johannesburg'}}]\u001b[0m\n",
      "\u001b[32m2024-05-03 02:37:29 INFO semantic_router.utils.logger Document 1 length: 60\u001b[0m\n",
      "\u001b[32m2024-05-03 02:37:29 INFO semantic_router.utils.logger Document 1 trunc length: 60\u001b[0m\n"
     ]
    },
    {
     "name": "stdout",
     "output_type": "stream",
     "text": [
      ">>> FAIL <<<.\n",
      "Failed to process: What's the time difference from Bangkok to Johannesburg? with error: 'No time zone found with key Bangkok'\n",
      "====================================================================================================\n",
      "====================================================================================================\n",
      "Processing utterance:  Can you tell me how many hours are between Mumbai and Dubai?\n"
     ]
    },
    {
     "name": "stderr",
     "output_type": "stream",
     "text": [
      "\u001b[32m2024-05-03 02:37:29 INFO semantic_router.utils.logger Extracting function input...\u001b[0m\n",
      "\u001b[32m2024-05-03 02:37:31 INFO semantic_router.utils.logger LLM output: [\n",
      "    {\n",
      "        \"function_name\": \"get_time_difference\",\n",
      "        \"arguments\": {\n",
      "            \"timezone1\": \"Asia/Kolkata\",\n",
      "            \"timezone2\": \"Asia/Dubai\"\n",
      "        }\n",
      "    }\n",
      "]\u001b[0m\n",
      "\u001b[32m2024-05-03 02:37:31 INFO semantic_router.utils.logger Function inputs: [{'function_name': 'get_time_difference', 'arguments': {'timezone1': 'Asia/Kolkata', 'timezone2': 'Asia/Dubai'}}]\u001b[0m\n",
      "\u001b[32m2024-05-03 02:37:31 INFO semantic_router.utils.logger Document 1 length: 46\u001b[0m\n",
      "\u001b[32m2024-05-03 02:37:31 INFO semantic_router.utils.logger Document 1 trunc length: 46\u001b[0m\n"
     ]
    },
    {
     "name": "stdout",
     "output_type": "stream",
     "text": [
      "The time difference between Asia/Kolkata and Asia/Dubai is -1.5 hours.\n",
      ">>> PASS <<<.\n",
      "====================================================================================================\n",
      "====================================================================================================\n",
      "Processing utterance:  Determine the time gap from Beijing to Sydney.\n"
     ]
    },
    {
     "name": "stderr",
     "output_type": "stream",
     "text": [
      "\u001b[32m2024-05-03 02:37:31 INFO semantic_router.utils.logger Extracting function input...\u001b[0m\n",
      "\u001b[32m2024-05-03 02:37:32 INFO semantic_router.utils.logger LLM output: [\n",
      "    {\n",
      "        \"function_name\": \"get_time_difference\",\n",
      "        \"arguments\": {\n",
      "            \"timezone1\": \"Asia/Shanghai\",\n",
      "            \"timezone2\": \"Australia/Sydney\"\n",
      "        }\n",
      "    }\n",
      "]\u001b[0m\n",
      "\u001b[32m2024-05-03 02:37:32 INFO semantic_router.utils.logger Function inputs: [{'function_name': 'get_time_difference', 'arguments': {'timezone1': 'Asia/Shanghai', 'timezone2': 'Australia/Sydney'}}]\u001b[0m\n",
      "\u001b[32m2024-05-03 02:37:32 INFO semantic_router.utils.logger Document 1 length: 48\u001b[0m\n",
      "\u001b[32m2024-05-03 02:37:32 INFO semantic_router.utils.logger Document 1 trunc length: 48\u001b[0m\n"
     ]
    },
    {
     "name": "stdout",
     "output_type": "stream",
     "text": [
      "The time difference between Asia/Shanghai and Australia/Sydney is 2.0 hours.\n",
      ">>> PASS <<<.\n",
      "====================================================================================================\n",
      "====================================================================================================\n",
      "Processing utterance:  How many hours ahead is Cairo from Buenos Aires?\n"
     ]
    },
    {
     "name": "stderr",
     "output_type": "stream",
     "text": [
      "\u001b[32m2024-05-03 02:37:33 INFO semantic_router.utils.logger Extracting function input...\u001b[0m\n",
      "\u001b[32m2024-05-03 02:37:34 INFO semantic_router.utils.logger LLM output: [\n",
      "    {\n",
      "        \"function_name\": \"get_time_difference\",\n",
      "        \"arguments\": {\n",
      "            \"timezone1\": \"America/Argentina/Buenos_Aires\",\n",
      "            \"timezone2\": \"Africa/Cairo\"\n",
      "        }\n",
      "    }\n",
      "]\u001b[0m\n",
      "\u001b[32m2024-05-03 02:37:34 INFO semantic_router.utils.logger Function inputs: [{'function_name': 'get_time_difference', 'arguments': {'timezone1': 'America/Argentina/Buenos_Aires', 'timezone2': 'Africa/Cairo'}}]\u001b[0m\n",
      "\u001b[32m2024-05-03 02:37:34 INFO semantic_router.utils.logger Document 1 length: 56\u001b[0m\n",
      "\u001b[32m2024-05-03 02:37:34 INFO semantic_router.utils.logger Document 1 trunc length: 56\u001b[0m\n"
     ]
    },
    {
     "name": "stdout",
     "output_type": "stream",
     "text": [
      "The time difference between America/Argentina/Buenos_Aires and Africa/Cairo is 6.0 hours.\n",
      ">>> PASS <<<.\n",
      "====================================================================================================\n",
      "====================================================================================================\n",
      "Processing utterance:  What is the time difference between Helsinki and Denver?\n"
     ]
    },
    {
     "name": "stderr",
     "output_type": "stream",
     "text": [
      "\u001b[32m2024-05-03 02:37:35 INFO semantic_router.utils.logger Extracting function input...\u001b[0m\n",
      "\u001b[32m2024-05-03 02:37:36 INFO semantic_router.utils.logger LLM output: [\n",
      "    {\n",
      "        \"function_name\": \"get_time_difference\",\n",
      "        \"arguments\": {\n",
      "            \"timezone1\": \"Europe/Helsinki\",\n",
      "            \"timezone2\": \"America/Denver\"\n",
      "        }\n",
      "    }\n",
      "]\u001b[0m\n",
      "\u001b[32m2024-05-03 02:37:36 INFO semantic_router.utils.logger Function inputs: [{'function_name': 'get_time_difference', 'arguments': {'timezone1': 'Europe/Helsinki', 'timezone2': 'America/Denver'}}]\u001b[0m\n",
      "\u001b[32m2024-05-03 02:37:36 INFO semantic_router.utils.logger Document 1 length: 47\u001b[0m\n",
      "\u001b[32m2024-05-03 02:37:36 INFO semantic_router.utils.logger Document 1 trunc length: 47\u001b[0m\n"
     ]
    },
    {
     "name": "stdout",
     "output_type": "stream",
     "text": [
      "The time difference between Europe/Helsinki and America/Denver is -9.0 hours.\n",
      ">>> PASS <<<.\n",
      "====================================================================================================\n",
      "====================================================================================================\n",
      "Processing utterance:  Calculate the time offset from Zurich to Cairo.\n"
     ]
    },
    {
     "name": "stderr",
     "output_type": "stream",
     "text": [
      "\u001b[32m2024-05-03 02:37:36 INFO semantic_router.utils.logger Extracting function input...\u001b[0m\n",
      "\u001b[32m2024-05-03 02:37:38 INFO semantic_router.utils.logger LLM output: [\n",
      "    {\n",
      "        \"function_name\": \"get_time_difference\",\n",
      "        \"arguments\": {\n",
      "            \"timezone1\": \"Europe/Zurich\",\n",
      "            \"timezone2\": \"Africa/Cairo\"\n",
      "        }\n",
      "    }\n",
      "]\u001b[0m\n",
      "\u001b[32m2024-05-03 02:37:38 INFO semantic_router.utils.logger Function inputs: [{'function_name': 'get_time_difference', 'arguments': {'timezone1': 'Europe/Zurich', 'timezone2': 'Africa/Cairo'}}]\u001b[0m\n",
      "\u001b[32m2024-05-03 02:37:38 INFO semantic_router.utils.logger Document 1 length: 45\u001b[0m\n",
      "\u001b[32m2024-05-03 02:37:38 INFO semantic_router.utils.logger Document 1 trunc length: 45\u001b[0m\n"
     ]
    },
    {
     "name": "stdout",
     "output_type": "stream",
     "text": [
      "The time difference between Europe/Zurich and Africa/Cairo is 1.0 hours.\n",
      ">>> PASS <<<.\n",
      "====================================================================================================\n",
      "====================================================================================================\n",
      "Processing utterance:  How many hours separate Stockholm from Tokyo?\n"
     ]
    },
    {
     "name": "stderr",
     "output_type": "stream",
     "text": [
      "\u001b[32m2024-05-03 02:37:38 INFO semantic_router.utils.logger Extracting function input...\u001b[0m\n",
      "\u001b[32m2024-05-03 02:37:39 INFO semantic_router.utils.logger LLM output: [\n",
      "    {\n",
      "        \"function_name\": \"get_time_difference\",\n",
      "        \"arguments\": {\n",
      "            \"timezone1\": \"Europe/Stockholm\",\n",
      "            \"timezone2\": \"Asia/Tokyo\"\n",
      "        }\n",
      "    }\n",
      "]\u001b[0m\n",
      "\u001b[32m2024-05-03 02:37:39 INFO semantic_router.utils.logger Function inputs: [{'function_name': 'get_time_difference', 'arguments': {'timezone1': 'Europe/Stockholm', 'timezone2': 'Asia/Tokyo'}}]\u001b[0m\n",
      "\u001b[32m2024-05-03 02:37:39 INFO semantic_router.utils.logger Document 1 length: 56\u001b[0m\n",
      "\u001b[32m2024-05-03 02:37:39 INFO semantic_router.utils.logger Document 1 trunc length: 56\u001b[0m\n"
     ]
    },
    {
     "name": "stdout",
     "output_type": "stream",
     "text": [
      "The time difference between Europe/Stockholm and Asia/Tokyo is 7.0 hours.\n",
      ">>> PASS <<<.\n",
      "====================================================================================================\n",
      "====================================================================================================\n",
      "Processing utterance:  Find out the time difference between Madrid and Beijing.\n"
     ]
    },
    {
     "name": "stderr",
     "output_type": "stream",
     "text": [
      "\u001b[32m2024-05-03 02:37:40 INFO semantic_router.utils.logger Extracting function input...\u001b[0m\n",
      "\u001b[32m2024-05-03 02:37:41 INFO semantic_router.utils.logger LLM output: [\n",
      "    {\n",
      "        \"function_name\": \"get_time_difference\",\n",
      "        \"arguments\": {\n",
      "            \"timezone1\": \"Europe/Madrid\",\n",
      "            \"timezone2\": \"Asia/Shanghai\"\n",
      "        }\n",
      "    }\n",
      "]\u001b[0m\n",
      "\u001b[32m2024-05-03 02:37:41 INFO semantic_router.utils.logger Function inputs: [{'function_name': 'get_time_difference', 'arguments': {'timezone1': 'Europe/Madrid', 'timezone2': 'Asia/Shanghai'}}]\u001b[0m\n",
      "\u001b[32m2024-05-03 02:37:41 INFO semantic_router.utils.logger Document 1 length: 51\u001b[0m\n",
      "\u001b[32m2024-05-03 02:37:41 INFO semantic_router.utils.logger Document 1 trunc length: 51\u001b[0m\n"
     ]
    },
    {
     "name": "stdout",
     "output_type": "stream",
     "text": [
      "The time difference between Europe/Madrid and Asia/Shanghai is 6.0 hours.\n",
      ">>> PASS <<<.\n",
      "====================================================================================================\n",
      "====================================================================================================\n",
      "Processing utterance:  What's the hour difference from Amsterdam to Miami?\n"
     ]
    },
    {
     "name": "stderr",
     "output_type": "stream",
     "text": [
      "\u001b[32m2024-05-03 02:37:41 INFO semantic_router.utils.logger Extracting function input...\u001b[0m\n",
      "\u001b[32m2024-05-03 02:37:42 INFO semantic_router.utils.logger LLM output: [\n",
      "    {\n",
      "        \"function_name\": \"get_time_difference\",\n",
      "        \"arguments\": {\n",
      "            \"timezone1\": \"Europe/Amsterdam\",\n",
      "            \"timezone2\": \"America/New_York\"\n",
      "        }\n",
      "    }\n",
      "]\u001b[0m\n",
      "\u001b[32m2024-05-03 02:37:42 INFO semantic_router.utils.logger Function inputs: [{'function_name': 'get_time_difference', 'arguments': {'timezone1': 'Europe/Amsterdam', 'timezone2': 'America/New_York'}}]\u001b[0m\n",
      "\u001b[32m2024-05-03 02:37:42 INFO semantic_router.utils.logger Document 1 length: 48\u001b[0m\n",
      "\u001b[32m2024-05-03 02:37:42 INFO semantic_router.utils.logger Document 1 trunc length: 48\u001b[0m\n"
     ]
    },
    {
     "name": "stdout",
     "output_type": "stream",
     "text": [
      "The time difference between Europe/Amsterdam and America/New_York is -6.0 hours.\n",
      ">>> PASS <<<.\n",
      "====================================================================================================\n",
      "====================================================================================================\n",
      "Processing utterance:  Measure the time gap between Houston and Berlin.\n"
     ]
    },
    {
     "name": "stderr",
     "output_type": "stream",
     "text": [
      "\u001b[32m2024-05-03 02:37:43 INFO semantic_router.utils.logger Extracting function input...\u001b[0m\n",
      "\u001b[32m2024-05-03 02:37:45 INFO semantic_router.utils.logger LLM output: [\n",
      "    {\n",
      "        \"function_name\": \"get_time_difference\",\n",
      "        \"arguments\": {\n",
      "            \"timezone1\": \"America/Chicago\",\n",
      "            \"timezone2\": \"Europe/Berlin\"\n",
      "        }\n",
      "    }\n",
      "]\u001b[0m\n",
      "\u001b[32m2024-05-03 02:37:45 INFO semantic_router.utils.logger Function inputs: [{'function_name': 'get_time_difference', 'arguments': {'timezone1': 'America/Chicago', 'timezone2': 'Europe/Berlin'}}]\u001b[0m\n",
      "\u001b[32m2024-05-03 02:37:45 INFO semantic_router.utils.logger Document 1 length: 53\u001b[0m\n",
      "\u001b[32m2024-05-03 02:37:45 INFO semantic_router.utils.logger Document 1 trunc length: 53\u001b[0m\n"
     ]
    },
    {
     "name": "stdout",
     "output_type": "stream",
     "text": [
      "The time difference between America/Chicago and Europe/Berlin is 7.0 hours.\n",
      ">>> PASS <<<.\n",
      "====================================================================================================\n",
      "====================================================================================================\n",
      "Processing utterance:  Determine the hours separating Singapore from London.\n"
     ]
    },
    {
     "name": "stderr",
     "output_type": "stream",
     "text": [
      "\u001b[32m2024-05-03 02:37:45 INFO semantic_router.utils.logger Extracting function input...\u001b[0m\n",
      "\u001b[32m2024-05-03 02:37:47 INFO semantic_router.utils.logger LLM output: [\n",
      "    {\n",
      "        \"function_name\": \"get_time_difference\",\n",
      "        \"arguments\": {\n",
      "            \"timezone1\": \"Asia/Singapore\",\n",
      "            \"timezone2\": \"Europe/London\"\n",
      "        }\n",
      "    }\n",
      "]\u001b[0m\n",
      "\u001b[32m2024-05-03 02:37:47 INFO semantic_router.utils.logger Function inputs: [{'function_name': 'get_time_difference', 'arguments': {'timezone1': 'Asia/Singapore', 'timezone2': 'Europe/London'}}]\u001b[0m\n",
      "\u001b[32m2024-05-03 02:37:47 INFO semantic_router.utils.logger Document 1 length: 55\u001b[0m\n",
      "\u001b[32m2024-05-03 02:37:47 INFO semantic_router.utils.logger Document 1 trunc length: 55\u001b[0m\n"
     ]
    },
    {
     "name": "stdout",
     "output_type": "stream",
     "text": [
      "The time difference between Asia/Singapore and Europe/London is -7.0 hours.\n",
      ">>> PASS <<<.\n",
      "====================================================================================================\n",
      "====================================================================================================\n",
      "Processing utterance:  Calculate the time difference from Athens to New Delhi.\n"
     ]
    },
    {
     "name": "stderr",
     "output_type": "stream",
     "text": [
      "\u001b[32m2024-05-03 02:37:47 INFO semantic_router.utils.logger Extracting function input...\u001b[0m\n",
      "\u001b[32m2024-05-03 02:37:48 INFO semantic_router.utils.logger LLM output: [\n",
      "    {\n",
      "        \"function_name\": \"get_time_difference\",\n",
      "        \"arguments\": {\n",
      "            \"timezone1\": \"Europe/Athens\",\n",
      "            \"timezone2\": \"Asia/Kolkata\"\n",
      "        }\n",
      "    }\n",
      "]\u001b[0m\n",
      "\u001b[32m2024-05-03 02:37:48 INFO semantic_router.utils.logger Function inputs: [{'function_name': 'get_time_difference', 'arguments': {'timezone1': 'Europe/Athens', 'timezone2': 'Asia/Kolkata'}}]\u001b[0m\n",
      "\u001b[32m2024-05-03 02:37:48 INFO semantic_router.utils.logger Document 1 length: 48\u001b[0m\n",
      "\u001b[32m2024-05-03 02:37:48 INFO semantic_router.utils.logger Document 1 trunc length: 48\u001b[0m\n"
     ]
    },
    {
     "name": "stdout",
     "output_type": "stream",
     "text": [
      "The time difference between Europe/Athens and Asia/Kolkata is 2.5 hours.\n",
      ">>> PASS <<<.\n",
      "====================================================================================================\n",
      "====================================================================================================\n",
      "Processing utterance:  How many hours ahead is Brussels from San Diego?\n"
     ]
    },
    {
     "name": "stderr",
     "output_type": "stream",
     "text": [
      "\u001b[32m2024-05-03 02:37:48 INFO semantic_router.utils.logger Extracting function input...\u001b[0m\n",
      "\u001b[32m2024-05-03 02:37:50 INFO semantic_router.utils.logger LLM output: [\n",
      "    {\n",
      "        \"function_name\": \"get_time_difference\",\n",
      "        \"arguments\": {\n",
      "            \"timezone1\": \"America/Los_Angeles\",\n",
      "            \"timezone2\": \"Europe/Brussels\"\n",
      "        }\n",
      "    }\n",
      "]\u001b[0m\n",
      "\u001b[32m2024-05-03 02:37:50 INFO semantic_router.utils.logger Function inputs: [{'function_name': 'get_time_difference', 'arguments': {'timezone1': 'America/Los_Angeles', 'timezone2': 'Europe/Brussels'}}]\u001b[0m\n",
      "\u001b[32m2024-05-03 02:37:50 INFO semantic_router.utils.logger Document 1 length: 59\u001b[0m\n",
      "\u001b[32m2024-05-03 02:37:50 INFO semantic_router.utils.logger Document 1 trunc length: 59\u001b[0m\n"
     ]
    },
    {
     "name": "stdout",
     "output_type": "stream",
     "text": [
      "The time difference between America/Los_Angeles and Europe/Brussels is 9.0 hours.\n",
      ">>> PASS <<<.\n",
      "====================================================================================================\n",
      "====================================================================================================\n",
      "Processing utterance:  What is the time difference between Copenhagen and Toronto?\n"
     ]
    },
    {
     "name": "stderr",
     "output_type": "stream",
     "text": [
      "\u001b[32m2024-05-03 02:37:50 INFO semantic_router.utils.logger Extracting function input...\u001b[0m\n",
      "\u001b[32m2024-05-03 02:37:51 INFO semantic_router.utils.logger LLM output: [\n",
      "    {\n",
      "        \"function_name\": \"get_time_difference\",\n",
      "        \"arguments\": {\n",
      "            \"timezone1\": \"Europe/Copenhagen\",\n",
      "            \"timezone2\": \"America/Toronto\"\n",
      "        }\n",
      "    }\n",
      "]\u001b[0m\n",
      "\u001b[32m2024-05-03 02:37:51 INFO semantic_router.utils.logger Function inputs: [{'function_name': 'get_time_difference', 'arguments': {'timezone1': 'Europe/Copenhagen', 'timezone2': 'America/Toronto'}}]\u001b[0m\n",
      "\u001b[32m2024-05-03 02:37:51 INFO semantic_router.utils.logger Document 1 length: 44\u001b[0m\n",
      "\u001b[32m2024-05-03 02:37:51 INFO semantic_router.utils.logger Document 1 trunc length: 44\u001b[0m\n"
     ]
    },
    {
     "name": "stdout",
     "output_type": "stream",
     "text": [
      "The time difference between Europe/Copenhagen and America/Toronto is -6.0 hours.\n",
      ">>> PASS <<<.\n",
      "====================================================================================================\n",
      "====================================================================================================\n",
      "Processing utterance:  Can you find the time gap from Oslo to Rome?\n"
     ]
    },
    {
     "name": "stderr",
     "output_type": "stream",
     "text": [
      "\u001b[32m2024-05-03 02:37:52 INFO semantic_router.utils.logger Extracting function input...\u001b[0m\n",
      "\u001b[32m2024-05-03 02:37:53 INFO semantic_router.utils.logger LLM output: [\n",
      "    {\n",
      "        \"function_name\": \"get_time_difference\",\n",
      "        \"arguments\": {\n",
      "            \"timezone1\": \"Europe/Oslo\",\n",
      "            \"timezone2\": \"Europe/Rome\"\n",
      "        }\n",
      "    }\n",
      "]\u001b[0m\n",
      "\u001b[32m2024-05-03 02:37:53 INFO semantic_router.utils.logger Function inputs: [{'function_name': 'get_time_difference', 'arguments': {'timezone1': 'Europe/Oslo', 'timezone2': 'Europe/Rome'}}]\u001b[0m\n",
      "\u001b[32m2024-05-03 02:37:53 INFO semantic_router.utils.logger Document 1 length: 52\u001b[0m\n",
      "\u001b[32m2024-05-03 02:37:53 INFO semantic_router.utils.logger Document 1 trunc length: 52\u001b[0m\n"
     ]
    },
    {
     "name": "stdout",
     "output_type": "stream",
     "text": [
      "The time difference between Europe/Oslo and Europe/Rome is 0.0 hours.\n",
      ">>> PASS <<<.\n",
      "====================================================================================================\n",
      "====================================================================================================\n",
      "Processing utterance:  Tell me the hours separating Montreal and Las Vegas.\n"
     ]
    },
    {
     "name": "stderr",
     "output_type": "stream",
     "text": [
      "\u001b[32m2024-05-03 02:37:53 INFO semantic_router.utils.logger Extracting function input...\u001b[0m\n",
      "\u001b[32m2024-05-03 02:37:55 INFO semantic_router.utils.logger LLM output: [\n",
      "    {\n",
      "        \"function_name\": \"get_time_difference\",\n",
      "        \"arguments\": {\n",
      "            \"timezone1\": \"America/Montreal\",\n",
      "            \"timezone2\": \"America/Los_Angeles\"\n",
      "        }\n",
      "    }\n",
      "]\u001b[0m\n",
      "\u001b[32m2024-05-03 02:37:55 INFO semantic_router.utils.logger Function inputs: [{'function_name': 'get_time_difference', 'arguments': {'timezone1': 'America/Montreal', 'timezone2': 'America/Los_Angeles'}}]\u001b[0m\n"
     ]
    },
    {
     "name": "stdout",
     "output_type": "stream",
     "text": [
      "The time difference between America/Montreal and America/Los_Angeles is -3.0 hours.\n",
      ">>> PASS <<<.\n",
      "====================================================================================================\n",
      "====================================================================================================\n",
      "Number of successful responses: 47\n",
      "Number of failed responses: 3\n",
      "====================================================================================================\n"
     ]
    }
   ],
   "source": [
    "test_function_calling(\n",
    "    utterances=test_utterances_get_time_difference,\n",
    "    function_name='get_time_difference',\n",
    "    expected_num_responses=1\n",
    "    )"
   ]
  },
  {
   "cell_type": "markdown",
   "metadata": {},
   "source": [
    "### Test `convert_time` Function Argument Extraction"
   ]
  },
  {
   "cell_type": "code",
   "execution_count": 21,
   "metadata": {},
   "outputs": [
    {
     "name": "stderr",
     "output_type": "stream",
     "text": [
      "\u001b[32m2024-05-03 02:37:55 INFO semantic_router.utils.logger Document 1 length: 56\u001b[0m\n",
      "\u001b[32m2024-05-03 02:37:55 INFO semantic_router.utils.logger Document 1 trunc length: 56\u001b[0m\n"
     ]
    },
    {
     "name": "stdout",
     "output_type": "stream",
     "text": [
      "====================================================================================================\n",
      "Processing utterance:  Please switch 14:30 from Los Angeles time to Tokyo time.\n"
     ]
    },
    {
     "name": "stderr",
     "output_type": "stream",
     "text": [
      "\u001b[32m2024-05-03 02:37:55 INFO semantic_router.utils.logger Extracting function input...\u001b[0m\n",
      "\u001b[32m2024-05-03 02:37:56 INFO semantic_router.utils.logger LLM output: [\n",
      "    {\n",
      "        \"function_name\": \"convert_time\",\n",
      "        \"arguments\": {\n",
      "            \"time\": \"14:30\",\n",
      "            \"from_timezone\": \"America/Los_Angeles\",\n",
      "            \"to_timezone\": \"Asia/Tokyo\"\n",
      "        }\n",
      "    }\n",
      "]\u001b[0m\n",
      "\u001b[32m2024-05-03 02:37:56 INFO semantic_router.utils.logger Function inputs: [{'function_name': 'convert_time', 'arguments': {'time': '14:30', 'from_timezone': 'America/Los_Angeles', 'to_timezone': 'Asia/Tokyo'}}]\u001b[0m\n",
      "\u001b[32m2024-05-03 02:37:56 INFO semantic_router.utils.logger Document 1 length: 47\u001b[0m\n",
      "\u001b[32m2024-05-03 02:37:56 INFO semantic_router.utils.logger Document 1 trunc length: 47\u001b[0m\n"
     ]
    },
    {
     "name": "stdout",
     "output_type": "stream",
     "text": [
      "06:30\n",
      ">>> PASS <<<.\n",
      "====================================================================================================\n",
      "====================================================================================================\n",
      "Processing utterance:  Modify 10:15 from London time to New York time.\n"
     ]
    },
    {
     "name": "stderr",
     "output_type": "stream",
     "text": [
      "\u001b[32m2024-05-03 02:37:57 INFO semantic_router.utils.logger Extracting function input...\u001b[0m\n",
      "\u001b[32m2024-05-03 02:37:58 INFO semantic_router.utils.logger LLM output: [\n",
      "    {\n",
      "        \"function_name\": \"convert_time\",\n",
      "        \"arguments\": {\n",
      "            \"time\": \"10:15\",\n",
      "            \"from_timezone\": \"Europe/London\",\n",
      "            \"to_timezone\": \"America/New_York\"\n",
      "        }\n",
      "    }\n",
      "]\u001b[0m\n",
      "\u001b[32m2024-05-03 02:37:58 INFO semantic_router.utils.logger Function inputs: [{'function_name': 'convert_time', 'arguments': {'time': '10:15', 'from_timezone': 'Europe/London', 'to_timezone': 'America/New_York'}}]\u001b[0m\n",
      "\u001b[32m2024-05-03 02:37:58 INFO semantic_router.utils.logger Document 1 length: 46\u001b[0m\n",
      "\u001b[32m2024-05-03 02:37:58 INFO semantic_router.utils.logger Document 1 trunc length: 46\u001b[0m\n"
     ]
    },
    {
     "name": "stdout",
     "output_type": "stream",
     "text": [
      "05:15\n",
      ">>> PASS <<<.\n",
      "====================================================================================================\n",
      "====================================================================================================\n",
      "Processing utterance:  Shift 23:00 from Hong Kong time to Paris time.\n"
     ]
    },
    {
     "name": "stderr",
     "output_type": "stream",
     "text": [
      "\u001b[32m2024-05-03 02:37:58 INFO semantic_router.utils.logger Extracting function input...\u001b[0m\n",
      "\u001b[32m2024-05-03 02:38:00 INFO semantic_router.utils.logger LLM output: [\n",
      "    {\n",
      "        \"function_name\": \"convert_time\",\n",
      "        \"arguments\": {\n",
      "            \"time\": \"23:00\",\n",
      "            \"from_timezone\": \"Asia/Hong_Kong\",\n",
      "            \"to_timezone\": \"Europe/Paris\"\n",
      "        }\n",
      "    }\n",
      "]\u001b[0m\n",
      "\u001b[32m2024-05-03 02:38:00 INFO semantic_router.utils.logger Function inputs: [{'function_name': 'convert_time', 'arguments': {'time': '23:00', 'from_timezone': 'Asia/Hong_Kong', 'to_timezone': 'Europe/Paris'}}]\u001b[0m\n",
      "\u001b[32m2024-05-03 02:38:00 INFO semantic_router.utils.logger Document 1 length: 48\u001b[0m\n",
      "\u001b[32m2024-05-03 02:38:00 INFO semantic_router.utils.logger Document 1 trunc length: 48\u001b[0m\n"
     ]
    },
    {
     "name": "stdout",
     "output_type": "stream",
     "text": [
      "17:00\n",
      ">>> PASS <<<.\n",
      "====================================================================================================\n",
      "====================================================================================================\n",
      "Processing utterance:  Transform 08:45 from Sydney time to Moscow time.\n"
     ]
    },
    {
     "name": "stderr",
     "output_type": "stream",
     "text": [
      "\u001b[32m2024-05-03 02:38:00 INFO semantic_router.utils.logger Extracting function input...\u001b[0m\n",
      "\u001b[32m2024-05-03 02:38:01 INFO semantic_router.utils.logger LLM output: [\n",
      "    {\n",
      "        \"function_name\": \"convert_time\",\n",
      "        \"arguments\": {\n",
      "            \"time\": \"08:45\",\n",
      "            \"from_timezone\": \"Australia/Sydney\",\n",
      "            \"to_timezone\": \"Europe/Moscow\"\n",
      "        }\n",
      "    }\n",
      "]\u001b[0m\n",
      "\u001b[32m2024-05-03 02:38:01 INFO semantic_router.utils.logger Function inputs: [{'function_name': 'convert_time', 'arguments': {'time': '08:45', 'from_timezone': 'Australia/Sydney', 'to_timezone': 'Europe/Moscow'}}]\u001b[0m\n",
      "\u001b[32m2024-05-03 02:38:01 INFO semantic_router.utils.logger Document 1 length: 46\u001b[0m\n",
      "\u001b[32m2024-05-03 02:38:01 INFO semantic_router.utils.logger Document 1 trunc length: 46\u001b[0m\n"
     ]
    },
    {
     "name": "stdout",
     "output_type": "stream",
     "text": [
      "01:45\n",
      ">>> PASS <<<.\n",
      "====================================================================================================\n",
      "====================================================================================================\n",
      "Processing utterance:  Reformat 17:20 from Cairo time to Berlin time.\n"
     ]
    },
    {
     "name": "stderr",
     "output_type": "stream",
     "text": [
      "\u001b[32m2024-05-03 02:38:02 INFO semantic_router.utils.logger Extracting function input...\u001b[0m\n",
      "\u001b[32m2024-05-03 02:38:03 INFO semantic_router.utils.logger LLM output: [\n",
      "    {\n",
      "        \"function_name\": \"convert_time\",\n",
      "        \"arguments\": {\n",
      "            \"time\": \"17:20\",\n",
      "            \"from_timezone\": \"Africa/Cairo\",\n",
      "            \"to_timezone\": \"Europe/Berlin\"\n",
      "        }\n",
      "    }\n",
      "]\u001b[0m\n",
      "\u001b[32m2024-05-03 02:38:03 INFO semantic_router.utils.logger Function inputs: [{'function_name': 'convert_time', 'arguments': {'time': '17:20', 'from_timezone': 'Africa/Cairo', 'to_timezone': 'Europe/Berlin'}}]\u001b[0m\n",
      "\u001b[32m2024-05-03 02:38:03 INFO semantic_router.utils.logger Document 1 length: 44\u001b[0m\n",
      "\u001b[32m2024-05-03 02:38:03 INFO semantic_router.utils.logger Document 1 trunc length: 44\u001b[0m\n"
     ]
    },
    {
     "name": "stdout",
     "output_type": "stream",
     "text": [
      "16:20\n",
      ">>> PASS <<<.\n",
      "====================================================================================================\n",
      "====================================================================================================\n",
      "Processing utterance:  Alter 12:00 from Chicago time to Dubai time.\n"
     ]
    },
    {
     "name": "stderr",
     "output_type": "stream",
     "text": [
      "\u001b[32m2024-05-03 02:38:03 INFO semantic_router.utils.logger Extracting function input...\u001b[0m\n",
      "\u001b[32m2024-05-03 02:38:05 INFO semantic_router.utils.logger LLM output: [\n",
      "    {\n",
      "        \"function_name\": \"convert_time\",\n",
      "        \"arguments\": {\n",
      "            \"time\": \"12:00\",\n",
      "            \"from_timezone\": \"America/Chicago\",\n",
      "            \"to_timezone\": \"Asia/Dubai\"\n",
      "        }\n",
      "    }\n",
      "]\u001b[0m\n",
      "\u001b[32m2024-05-03 02:38:05 INFO semantic_router.utils.logger Function inputs: [{'function_name': 'convert_time', 'arguments': {'time': '12:00', 'from_timezone': 'America/Chicago', 'to_timezone': 'Asia/Dubai'}}]\u001b[0m\n",
      "\u001b[32m2024-05-03 02:38:05 INFO semantic_router.utils.logger Document 1 length: 45\u001b[0m\n",
      "\u001b[32m2024-05-03 02:38:05 INFO semantic_router.utils.logger Document 1 trunc length: 45\u001b[0m\n"
     ]
    },
    {
     "name": "stdout",
     "output_type": "stream",
     "text": [
      "21:00\n",
      ">>> PASS <<<.\n",
      "====================================================================================================\n",
      "====================================================================================================\n",
      "Processing utterance:  Revise 19:30 from Toronto time to Seoul time.\n"
     ]
    },
    {
     "name": "stderr",
     "output_type": "stream",
     "text": [
      "\u001b[32m2024-05-03 02:38:05 INFO semantic_router.utils.logger Extracting function input...\u001b[0m\n",
      "\u001b[32m2024-05-03 02:38:06 INFO semantic_router.utils.logger LLM output: [\n",
      "    {\n",
      "        \"function_name\": \"convert_time\",\n",
      "        \"arguments\": {\n",
      "            \"time\": \"19:30\",\n",
      "            \"from_timezone\": \"America/Toronto\",\n",
      "            \"to_timezone\": \"Asia/Seoul\"\n",
      "        }\n",
      "    }\n",
      "]\u001b[0m\n",
      "\u001b[32m2024-05-03 02:38:06 INFO semantic_router.utils.logger Function inputs: [{'function_name': 'convert_time', 'arguments': {'time': '19:30', 'from_timezone': 'America/Toronto', 'to_timezone': 'Asia/Seoul'}}]\u001b[0m\n",
      "\u001b[32m2024-05-03 02:38:06 INFO semantic_router.utils.logger Document 1 length: 48\u001b[0m\n",
      "\u001b[32m2024-05-03 02:38:06 INFO semantic_router.utils.logger Document 1 trunc length: 48\u001b[0m\n"
     ]
    },
    {
     "name": "stdout",
     "output_type": "stream",
     "text": [
      "08:30\n",
      ">>> PASS <<<.\n",
      "====================================================================================================\n",
      "====================================================================================================\n",
      "Processing utterance:  Update 16:00 from Madrid time to Singapore time.\n"
     ]
    },
    {
     "name": "stderr",
     "output_type": "stream",
     "text": [
      "\u001b[32m2024-05-03 02:38:07 INFO semantic_router.utils.logger Extracting function input...\u001b[0m\n",
      "\u001b[32m2024-05-03 02:38:08 INFO semantic_router.utils.logger LLM output: [\n",
      "    {\n",
      "        \"function_name\": \"convert_time\",\n",
      "        \"arguments\": {\n",
      "            \"time\": \"16:00\",\n",
      "            \"from_timezone\": \"Europe/Madrid\",\n",
      "            \"to_timezone\": \"Asia/Singapore\"\n",
      "        }\n",
      "    }\n",
      "]\u001b[0m\n",
      "\u001b[32m2024-05-03 02:38:08 INFO semantic_router.utils.logger Function inputs: [{'function_name': 'convert_time', 'arguments': {'time': '16:00', 'from_timezone': 'Europe/Madrid', 'to_timezone': 'Asia/Singapore'}}]\u001b[0m\n",
      "\u001b[32m2024-05-03 02:38:08 INFO semantic_router.utils.logger Document 1 length: 49\u001b[0m\n",
      "\u001b[32m2024-05-03 02:38:08 INFO semantic_router.utils.logger Document 1 trunc length: 49\u001b[0m\n"
     ]
    },
    {
     "name": "stdout",
     "output_type": "stream",
     "text": [
      "22:00\n",
      ">>> PASS <<<.\n",
      "====================================================================================================\n",
      "====================================================================================================\n",
      "Processing utterance:  Change 11:00 from Rome time to Johannesburg time.\n"
     ]
    },
    {
     "name": "stderr",
     "output_type": "stream",
     "text": [
      "\u001b[32m2024-05-03 02:38:08 INFO semantic_router.utils.logger Extracting function input...\u001b[0m\n",
      "\u001b[32m2024-05-03 02:38:10 INFO semantic_router.utils.logger LLM output: [\n",
      "    {\n",
      "        \"function_name\": \"convert_time\",\n",
      "        \"arguments\": {\n",
      "            \"time\": \"11:00\",\n",
      "            \"from_timezone\": \"Europe/Rome\",\n",
      "            \"to_timezone\": \"Africa/Johannesburg\"\n",
      "        }\n",
      "    }\n",
      "]\u001b[0m\n",
      "\u001b[32m2024-05-03 02:38:10 INFO semantic_router.utils.logger Function inputs: [{'function_name': 'convert_time', 'arguments': {'time': '11:00', 'from_timezone': 'Europe/Rome', 'to_timezone': 'Africa/Johannesburg'}}]\u001b[0m\n",
      "\u001b[32m2024-05-03 02:38:10 INFO semantic_router.utils.logger Document 1 length: 49\u001b[0m\n",
      "\u001b[32m2024-05-03 02:38:10 INFO semantic_router.utils.logger Document 1 trunc length: 49\u001b[0m\n"
     ]
    },
    {
     "name": "stdout",
     "output_type": "stream",
     "text": [
      "11:00\n",
      ">>> PASS <<<.\n",
      "====================================================================================================\n",
      "====================================================================================================\n",
      "Processing utterance:  Convert 22:15 from Mumbai time to Vancouver time.\n"
     ]
    },
    {
     "name": "stderr",
     "output_type": "stream",
     "text": [
      "\u001b[32m2024-05-03 02:38:10 INFO semantic_router.utils.logger Extracting function input...\u001b[0m\n",
      "\u001b[32m2024-05-03 02:38:11 INFO semantic_router.utils.logger LLM output: [\n",
      "    {\n",
      "        \"function_name\": \"convert_time\",\n",
      "        \"arguments\": {\n",
      "            \"time\": \"22:15\",\n",
      "            \"from_timezone\": \"Asia/Kolkata\",\n",
      "            \"to_timezone\": \"America/Vancouver\"\n",
      "        }\n",
      "    }\n",
      "]\u001b[0m\n",
      "\u001b[32m2024-05-03 02:38:11 INFO semantic_router.utils.logger Function inputs: [{'function_name': 'convert_time', 'arguments': {'time': '22:15', 'from_timezone': 'Asia/Kolkata', 'to_timezone': 'America/Vancouver'}}]\u001b[0m\n",
      "\u001b[32m2024-05-03 02:38:11 INFO semantic_router.utils.logger Document 1 length: 53\u001b[0m\n",
      "\u001b[32m2024-05-03 02:38:11 INFO semantic_router.utils.logger Document 1 trunc length: 53\u001b[0m\n"
     ]
    },
    {
     "name": "stdout",
     "output_type": "stream",
     "text": [
      "09:45\n",
      ">>> PASS <<<.\n",
      "====================================================================================================\n",
      "====================================================================================================\n",
      "Processing utterance:  Adjust 07:50 from Bangkok time to San Francisco time.\n"
     ]
    },
    {
     "name": "stderr",
     "output_type": "stream",
     "text": [
      "\u001b[32m2024-05-03 02:38:11 INFO semantic_router.utils.logger Extracting function input...\u001b[0m\n",
      "\u001b[32m2024-05-03 02:38:13 INFO semantic_router.utils.logger LLM output: [\n",
      "    {\n",
      "        \"function_name\": \"convert_time\",\n",
      "        \"arguments\": {\n",
      "            \"time\": \"07:50\",\n",
      "            \"from_timezone\": \"Asia/Bangkok\",\n",
      "            \"to_timezone\": \"America/Los_Angeles\"\n",
      "        }\n",
      "    }\n",
      "]\u001b[0m\n",
      "\u001b[32m2024-05-03 02:38:13 INFO semantic_router.utils.logger Function inputs: [{'function_name': 'convert_time', 'arguments': {'time': '07:50', 'from_timezone': 'Asia/Bangkok', 'to_timezone': 'America/Los_Angeles'}}]\u001b[0m\n",
      "\u001b[32m2024-05-03 02:38:13 INFO semantic_router.utils.logger Document 1 length: 47\u001b[0m\n",
      "\u001b[32m2024-05-03 02:38:13 INFO semantic_router.utils.logger Document 1 trunc length: 47\u001b[0m\n"
     ]
    },
    {
     "name": "stdout",
     "output_type": "stream",
     "text": [
      "17:50\n",
      ">>> PASS <<<.\n",
      "====================================================================================================\n",
      "====================================================================================================\n",
      "Processing utterance:  Switch 13:30 from Montreal time to Lisbon time.\n"
     ]
    },
    {
     "name": "stderr",
     "output_type": "stream",
     "text": [
      "\u001b[32m2024-05-03 02:38:13 INFO semantic_router.utils.logger Extracting function input...\u001b[0m\n",
      "\u001b[32m2024-05-03 02:38:14 INFO semantic_router.utils.logger LLM output: [\n",
      "    {\n",
      "        \"function_name\": \"convert_time\",\n",
      "        \"arguments\": {\n",
      "            \"time\": \"13:30\",\n",
      "            \"from_timezone\": \"America/Montreal\",\n",
      "            \"to_timezone\": \"Europe/Lisbon\"\n",
      "        }\n",
      "    }\n",
      "]\u001b[0m\n",
      "\u001b[32m2024-05-03 02:38:14 INFO semantic_router.utils.logger Function inputs: [{'function_name': 'convert_time', 'arguments': {'time': '13:30', 'from_timezone': 'America/Montreal', 'to_timezone': 'Europe/Lisbon'}}]\u001b[0m\n",
      "\u001b[32m2024-05-03 02:38:14 INFO semantic_router.utils.logger Document 1 length: 53\u001b[0m\n",
      "\u001b[32m2024-05-03 02:38:14 INFO semantic_router.utils.logger Document 1 trunc length: 53\u001b[0m\n"
     ]
    },
    {
     "name": "stdout",
     "output_type": "stream",
     "text": [
      "18:30\n",
      ">>> PASS <<<.\n",
      "====================================================================================================\n",
      "====================================================================================================\n",
      "Processing utterance:  Modify 15:45 from Amsterdam time to Los Angeles time.\n"
     ]
    },
    {
     "name": "stderr",
     "output_type": "stream",
     "text": [
      "\u001b[32m2024-05-03 02:38:15 INFO semantic_router.utils.logger Extracting function input...\u001b[0m\n",
      "\u001b[32m2024-05-03 02:38:16 INFO semantic_router.utils.logger LLM output: [\n",
      "    {\n",
      "        \"function_name\": \"convert_time\",\n",
      "        \"arguments\": {\n",
      "            \"time\": \"15:45\",\n",
      "            \"from_timezone\": \"Europe/Amsterdam\",\n",
      "            \"to_timezone\": \"America/Los_Angeles\"\n",
      "        }\n",
      "    }\n",
      "]\u001b[0m\n",
      "\u001b[32m2024-05-03 02:38:16 INFO semantic_router.utils.logger Function inputs: [{'function_name': 'convert_time', 'arguments': {'time': '15:45', 'from_timezone': 'Europe/Amsterdam', 'to_timezone': 'America/Los_Angeles'}}]\u001b[0m\n",
      "\u001b[32m2024-05-03 02:38:16 INFO semantic_router.utils.logger Document 1 length: 45\u001b[0m\n",
      "\u001b[32m2024-05-03 02:38:16 INFO semantic_router.utils.logger Document 1 trunc length: 45\u001b[0m\n"
     ]
    },
    {
     "name": "stdout",
     "output_type": "stream",
     "text": [
      "06:45\n",
      ">>> PASS <<<.\n",
      "====================================================================================================\n",
      "====================================================================================================\n",
      "Processing utterance:  Shift 09:00 from Zurich time to Beijing time.\n"
     ]
    },
    {
     "name": "stderr",
     "output_type": "stream",
     "text": [
      "\u001b[32m2024-05-03 02:38:17 INFO semantic_router.utils.logger Extracting function input...\u001b[0m\n",
      "\u001b[32m2024-05-03 02:38:18 INFO semantic_router.utils.logger LLM output: [\n",
      "    {\n",
      "        \"function_name\": \"convert_time\",\n",
      "        \"arguments\": {\n",
      "            \"time\": \"09:00\",\n",
      "            \"from_timezone\": \"Europe/Zurich\",\n",
      "            \"to_timezone\": \"Asia/Shanghai\"\n",
      "        }\n",
      "    }\n",
      "]\u001b[0m\n",
      "\u001b[32m2024-05-03 02:38:18 INFO semantic_router.utils.logger Function inputs: [{'function_name': 'convert_time', 'arguments': {'time': '09:00', 'from_timezone': 'Europe/Zurich', 'to_timezone': 'Asia/Shanghai'}}]\u001b[0m\n",
      "\u001b[32m2024-05-03 02:38:18 INFO semantic_router.utils.logger Document 1 length: 54\u001b[0m\n",
      "\u001b[32m2024-05-03 02:38:18 INFO semantic_router.utils.logger Document 1 trunc length: 54\u001b[0m\n"
     ]
    },
    {
     "name": "stdout",
     "output_type": "stream",
     "text": [
      "15:00\n",
      ">>> PASS <<<.\n",
      "====================================================================================================\n",
      "====================================================================================================\n",
      "Processing utterance:  Transform 20:30 from Buenos Aires time to London time.\n"
     ]
    },
    {
     "name": "stderr",
     "output_type": "stream",
     "text": [
      "\u001b[32m2024-05-03 02:38:18 INFO semantic_router.utils.logger Extracting function input...\u001b[0m\n",
      "\u001b[32m2024-05-03 02:38:20 INFO semantic_router.utils.logger LLM output: [\n",
      "    {\n",
      "        \"function_name\": \"convert_time\",\n",
      "        \"arguments\": {\n",
      "            \"time\": \"20:30\",\n",
      "            \"from_timezone\": \"America/Argentina/Buenos_Aires\",\n",
      "            \"to_timezone\": \"Europe/London\"\n",
      "        }\n",
      "    }\n",
      "]\u001b[0m\n",
      "\u001b[32m2024-05-03 02:38:20 INFO semantic_router.utils.logger Function inputs: [{'function_name': 'convert_time', 'arguments': {'time': '20:30', 'from_timezone': 'America/Argentina/Buenos_Aires', 'to_timezone': 'Europe/London'}}]\u001b[0m\n",
      "\u001b[32m2024-05-03 02:38:20 INFO semantic_router.utils.logger Document 1 length: 48\u001b[0m\n",
      "\u001b[32m2024-05-03 02:38:20 INFO semantic_router.utils.logger Document 1 trunc length: 48\u001b[0m\n"
     ]
    },
    {
     "name": "stdout",
     "output_type": "stream",
     "text": [
      "00:30\n",
      ">>> PASS <<<.\n",
      "====================================================================================================\n",
      "====================================================================================================\n",
      "Processing utterance:  Reformat 18:00 from Seattle time to Athens time.\n"
     ]
    },
    {
     "name": "stderr",
     "output_type": "stream",
     "text": [
      "\u001b[32m2024-05-03 02:38:20 INFO semantic_router.utils.logger Extracting function input...\u001b[0m\n",
      "\u001b[32m2024-05-03 02:38:21 INFO semantic_router.utils.logger LLM output: [\n",
      "    {\n",
      "        \"function_name\": \"convert_time\",\n",
      "        \"arguments\": {\n",
      "            \"time\": \"18:00\",\n",
      "            \"from_timezone\": \"America/Los_Angeles\",\n",
      "            \"to_timezone\": \"Europe/Athens\"\n",
      "        }\n",
      "    }\n",
      "]\u001b[0m\n",
      "\u001b[32m2024-05-03 02:38:21 INFO semantic_router.utils.logger Function inputs: [{'function_name': 'convert_time', 'arguments': {'time': '18:00', 'from_timezone': 'America/Los_Angeles', 'to_timezone': 'Europe/Athens'}}]\u001b[0m\n",
      "\u001b[32m2024-05-03 02:38:21 INFO semantic_router.utils.logger Document 1 length: 51\u001b[0m\n",
      "\u001b[32m2024-05-03 02:38:21 INFO semantic_router.utils.logger Document 1 trunc length: 51\u001b[0m\n"
     ]
    },
    {
     "name": "stdout",
     "output_type": "stream",
     "text": [
      "04:00\n",
      ">>> PASS <<<.\n",
      "====================================================================================================\n",
      "====================================================================================================\n",
      "Processing utterance:  Alter 21:45 from Mexico City time to Helsinki time.\n"
     ]
    },
    {
     "name": "stderr",
     "output_type": "stream",
     "text": [
      "\u001b[32m2024-05-03 02:38:22 INFO semantic_router.utils.logger Extracting function input...\u001b[0m\n",
      "\u001b[32m2024-05-03 02:38:24 INFO semantic_router.utils.logger LLM output: [\n",
      "    {\n",
      "        \"function_name\": \"convert_time\",\n",
      "        \"arguments\": {\n",
      "            \"time\": \"21:45\",\n",
      "            \"from_timezone\": \"America/Mexico_City\",\n",
      "            \"to_timezone\": \"Europe/Helsinki\"\n",
      "        }\n",
      "    }\n",
      "]\u001b[0m\n",
      "\u001b[32m2024-05-03 02:38:24 INFO semantic_router.utils.logger Function inputs: [{'function_name': 'convert_time', 'arguments': {'time': '21:45', 'from_timezone': 'America/Mexico_City', 'to_timezone': 'Europe/Helsinki'}}]\u001b[0m\n",
      "\u001b[32m2024-05-03 02:38:24 INFO semantic_router.utils.logger Document 1 length: 57\u001b[0m\n",
      "\u001b[32m2024-05-03 02:38:24 INFO semantic_router.utils.logger Document 1 trunc length: 57\u001b[0m\n"
     ]
    },
    {
     "name": "stdout",
     "output_type": "stream",
     "text": [
      "06:45\n",
      ">>> PASS <<<.\n",
      "====================================================================================================\n",
      "====================================================================================================\n",
      "Processing utterance:  Revise 05:30 from Copenhagen time to Rio de Janeiro time.\n"
     ]
    },
    {
     "name": "stderr",
     "output_type": "stream",
     "text": [
      "\u001b[32m2024-05-03 02:38:24 INFO semantic_router.utils.logger Extracting function input...\u001b[0m\n",
      "\u001b[32m2024-05-03 02:38:26 INFO semantic_router.utils.logger LLM output: [\n",
      "    {\n",
      "        \"function_name\": \"convert_time\",\n",
      "        \"arguments\": {\n",
      "            \"time\": \"05:30\",\n",
      "            \"from_timezone\": \"Europe/Copenhagen\",\n",
      "            \"to_timezone\": \"America/Sao_Paulo\"\n",
      "        }\n",
      "    }\n",
      "]\u001b[0m\n",
      "\u001b[32m2024-05-03 02:38:26 INFO semantic_router.utils.logger Function inputs: [{'function_name': 'convert_time', 'arguments': {'time': '05:30', 'from_timezone': 'Europe/Copenhagen', 'to_timezone': 'America/Sao_Paulo'}}]\u001b[0m\n",
      "\u001b[32m2024-05-03 02:38:26 INFO semantic_router.utils.logger Document 1 length: 47\u001b[0m\n",
      "\u001b[32m2024-05-03 02:38:26 INFO semantic_router.utils.logger Document 1 trunc length: 47\u001b[0m\n"
     ]
    },
    {
     "name": "stdout",
     "output_type": "stream",
     "text": [
      "00:30\n",
      ">>> PASS <<<.\n",
      "====================================================================================================\n",
      "====================================================================================================\n",
      "Processing utterance:  Update 14:20 from Stockholm time to Cairo time.\n"
     ]
    },
    {
     "name": "stderr",
     "output_type": "stream",
     "text": [
      "\u001b[32m2024-05-03 02:38:26 INFO semantic_router.utils.logger Extracting function input...\u001b[0m\n",
      "\u001b[32m2024-05-03 02:38:27 INFO semantic_router.utils.logger LLM output: [\n",
      "    {\n",
      "        \"function_name\": \"convert_time\",\n",
      "        \"arguments\": {\n",
      "            \"time\": \"14:20\",\n",
      "            \"from_timezone\": \"Europe/Stockholm\",\n",
      "            \"to_timezone\": \"Africa/Cairo\"\n",
      "        }\n",
      "    }\n",
      "]\u001b[0m\n",
      "\u001b[32m2024-05-03 02:38:27 INFO semantic_router.utils.logger Function inputs: [{'function_name': 'convert_time', 'arguments': {'time': '14:20', 'from_timezone': 'Europe/Stockholm', 'to_timezone': 'Africa/Cairo'}}]\u001b[0m\n",
      "\u001b[32m2024-05-03 02:38:27 INFO semantic_router.utils.logger Document 1 length: 44\u001b[0m\n",
      "\u001b[32m2024-05-03 02:38:27 INFO semantic_router.utils.logger Document 1 trunc length: 44\u001b[0m\n"
     ]
    },
    {
     "name": "stdout",
     "output_type": "stream",
     "text": [
      "15:20\n",
      ">>> PASS <<<.\n",
      "====================================================================================================\n",
      "====================================================================================================\n",
      "Processing utterance:  Change 16:50 from Dublin time to Tokyo time.\n"
     ]
    },
    {
     "name": "stderr",
     "output_type": "stream",
     "text": [
      "\u001b[32m2024-05-03 02:38:27 INFO semantic_router.utils.logger Extracting function input...\u001b[0m\n",
      "\u001b[32m2024-05-03 02:38:29 INFO semantic_router.utils.logger LLM output: [\n",
      "    {\n",
      "        \"function_name\": \"convert_time\",\n",
      "        \"arguments\": {\n",
      "            \"time\": \"16:50\",\n",
      "            \"from_timezone\": \"Europe/Dublin\",\n",
      "            \"to_timezone\": \"Asia/Tokyo\"\n",
      "        }\n",
      "    }\n",
      "]\u001b[0m\n",
      "\u001b[32m2024-05-03 02:38:29 INFO semantic_router.utils.logger Function inputs: [{'function_name': 'convert_time', 'arguments': {'time': '16:50', 'from_timezone': 'Europe/Dublin', 'to_timezone': 'Asia/Tokyo'}}]\u001b[0m\n",
      "\u001b[32m2024-05-03 02:38:29 INFO semantic_router.utils.logger Document 1 length: 51\u001b[0m\n",
      "\u001b[32m2024-05-03 02:38:29 INFO semantic_router.utils.logger Document 1 trunc length: 51\u001b[0m\n"
     ]
    },
    {
     "name": "stdout",
     "output_type": "stream",
     "text": [
      "00:50\n",
      ">>> PASS <<<.\n",
      "====================================================================================================\n",
      "====================================================================================================\n",
      "Processing utterance:  Convert 12:30 from Brussels time to New Delhi time.\n"
     ]
    },
    {
     "name": "stderr",
     "output_type": "stream",
     "text": [
      "\u001b[32m2024-05-03 02:38:29 INFO semantic_router.utils.logger Extracting function input...\u001b[0m\n",
      "\u001b[32m2024-05-03 02:38:31 INFO semantic_router.utils.logger LLM output: [\n",
      "    {\n",
      "        \"function_name\": \"convert_time\",\n",
      "        \"arguments\": {\n",
      "            \"time\": \"12:30\",\n",
      "            \"from_timezone\": \"Europe/Brussels\",\n",
      "            \"to_timezone\": \"Asia/Kolkata\"\n",
      "        }\n",
      "    }\n",
      "]\u001b[0m\n",
      "\u001b[32m2024-05-03 02:38:31 INFO semantic_router.utils.logger Function inputs: [{'function_name': 'convert_time', 'arguments': {'time': '12:30', 'from_timezone': 'Europe/Brussels', 'to_timezone': 'Asia/Kolkata'}}]\u001b[0m\n",
      "\u001b[32m2024-05-03 02:38:31 INFO semantic_router.utils.logger Document 1 length: 47\u001b[0m\n",
      "\u001b[32m2024-05-03 02:38:31 INFO semantic_router.utils.logger Document 1 trunc length: 47\u001b[0m\n"
     ]
    },
    {
     "name": "stdout",
     "output_type": "stream",
     "text": [
      "16:00\n",
      ">>> PASS <<<.\n",
      "====================================================================================================\n",
      "====================================================================================================\n",
      "Processing utterance:  Adjust 10:00 from Vienna time to Shanghai time.\n"
     ]
    },
    {
     "name": "stderr",
     "output_type": "stream",
     "text": [
      "\u001b[32m2024-05-03 02:38:31 INFO semantic_router.utils.logger Extracting function input...\u001b[0m\n",
      "\u001b[32m2024-05-03 02:38:32 INFO semantic_router.utils.logger LLM output: [\n",
      "    {\n",
      "        \"function_name\": \"convert_time\",\n",
      "        \"arguments\": {\n",
      "            \"time\": \"10:00\",\n",
      "            \"from_timezone\": \"Europe/Vienna\",\n",
      "            \"to_timezone\": \"Asia/Shanghai\"\n",
      "        }\n",
      "    }\n",
      "]\u001b[0m\n",
      "\u001b[32m2024-05-03 02:38:32 INFO semantic_router.utils.logger Function inputs: [{'function_name': 'convert_time', 'arguments': {'time': '10:00', 'from_timezone': 'Europe/Vienna', 'to_timezone': 'Asia/Shanghai'}}]\u001b[0m\n",
      "\u001b[32m2024-05-03 02:38:32 INFO semantic_router.utils.logger Document 1 length: 45\u001b[0m\n",
      "\u001b[32m2024-05-03 02:38:32 INFO semantic_router.utils.logger Document 1 trunc length: 45\u001b[0m\n"
     ]
    },
    {
     "name": "stdout",
     "output_type": "stream",
     "text": [
      "16:00\n",
      ">>> PASS <<<.\n",
      "====================================================================================================\n",
      "====================================================================================================\n",
      "Processing utterance:  Switch 22:00 from Oslo time to Istanbul time.\n"
     ]
    },
    {
     "name": "stderr",
     "output_type": "stream",
     "text": [
      "\u001b[32m2024-05-03 02:38:32 INFO semantic_router.utils.logger Extracting function input...\u001b[0m\n",
      "\u001b[32m2024-05-03 02:38:34 INFO semantic_router.utils.logger LLM output: [\n",
      "    {\n",
      "        \"function_name\": \"convert_time\",\n",
      "        \"arguments\": {\n",
      "            \"time\": \"22:00\",\n",
      "            \"from_timezone\": \"Europe/Oslo\",\n",
      "            \"to_timezone\": \"Europe/Istanbul\"\n",
      "        }\n",
      "    }\n",
      "]\u001b[0m\n",
      "\u001b[32m2024-05-03 02:38:34 INFO semantic_router.utils.logger Function inputs: [{'function_name': 'convert_time', 'arguments': {'time': '22:00', 'from_timezone': 'Europe/Oslo', 'to_timezone': 'Europe/Istanbul'}}]\u001b[0m\n",
      "\u001b[32m2024-05-03 02:38:34 INFO semantic_router.utils.logger Document 1 length: 52\u001b[0m\n",
      "\u001b[32m2024-05-03 02:38:34 INFO semantic_router.utils.logger Document 1 trunc length: 52\u001b[0m\n"
     ]
    },
    {
     "name": "stdout",
     "output_type": "stream",
     "text": [
      "23:00\n",
      ">>> PASS <<<.\n",
      "====================================================================================================\n",
      "====================================================================================================\n",
      "Processing utterance:  Modify 08:00 from Helsinki time to Mexico City time.\n"
     ]
    },
    {
     "name": "stderr",
     "output_type": "stream",
     "text": [
      "\u001b[32m2024-05-03 02:38:34 INFO semantic_router.utils.logger Extracting function input...\u001b[0m\n",
      "\u001b[32m2024-05-03 02:38:35 INFO semantic_router.utils.logger LLM output: [\n",
      "    {\n",
      "        \"function_name\": \"convert_time\",\n",
      "        \"arguments\": {\n",
      "            \"time\": \"08:00\",\n",
      "            \"from_timezone\": \"Europe/Helsinki\",\n",
      "            \"to_timezone\": \"America/Mexico_City\"\n",
      "        }\n",
      "    }\n",
      "]\u001b[0m\n",
      "\u001b[32m2024-05-03 02:38:35 INFO semantic_router.utils.logger Function inputs: [{'function_name': 'convert_time', 'arguments': {'time': '08:00', 'from_timezone': 'Europe/Helsinki', 'to_timezone': 'America/Mexico_City'}}]\u001b[0m\n",
      "\u001b[32m2024-05-03 02:38:35 INFO semantic_router.utils.logger Document 1 length: 44\u001b[0m\n",
      "\u001b[32m2024-05-03 02:38:35 INFO semantic_router.utils.logger Document 1 trunc length: 44\u001b[0m\n"
     ]
    },
    {
     "name": "stdout",
     "output_type": "stream",
     "text": [
      "23:00\n",
      ">>> PASS <<<.\n",
      "====================================================================================================\n",
      "====================================================================================================\n",
      "Processing utterance:  Shift 17:15 from Prague time to Sydney time.\n"
     ]
    },
    {
     "name": "stderr",
     "output_type": "stream",
     "text": [
      "\u001b[32m2024-05-03 02:38:36 INFO semantic_router.utils.logger Extracting function input...\u001b[0m\n",
      "\u001b[32m2024-05-03 02:38:37 INFO semantic_router.utils.logger LLM output: [\n",
      "    {\n",
      "        \"function_name\": \"convert_time\",\n",
      "        \"arguments\": {\n",
      "            \"time\": \"17:15\",\n",
      "            \"from_timezone\": \"Europe/Prague\",\n",
      "            \"to_timezone\": \"Australia/Sydney\"\n",
      "        }\n",
      "    }\n",
      "]\u001b[0m\n",
      "\u001b[32m2024-05-03 02:38:37 INFO semantic_router.utils.logger Function inputs: [{'function_name': 'convert_time', 'arguments': {'time': '17:15', 'from_timezone': 'Europe/Prague', 'to_timezone': 'Australia/Sydney'}}]\u001b[0m\n",
      "\u001b[32m2024-05-03 02:38:37 INFO semantic_router.utils.logger Document 1 length: 54\u001b[0m\n",
      "\u001b[32m2024-05-03 02:38:37 INFO semantic_router.utils.logger Document 1 trunc length: 54\u001b[0m\n"
     ]
    },
    {
     "name": "stdout",
     "output_type": "stream",
     "text": [
      "01:15\n",
      ">>> PASS <<<.\n",
      "====================================================================================================\n",
      "====================================================================================================\n",
      "Processing utterance:  Reconfigure 13:00 from Paris time to Los Angeles time.\n"
     ]
    },
    {
     "name": "stderr",
     "output_type": "stream",
     "text": [
      "\u001b[32m2024-05-03 02:38:38 INFO semantic_router.utils.logger Extracting function input...\u001b[0m\n",
      "\u001b[32m2024-05-03 02:38:39 INFO semantic_router.utils.logger LLM output: [\n",
      "    {\n",
      "        \"function_name\": \"convert_time\",\n",
      "        \"arguments\": {\n",
      "            \"time\": \"13:00\",\n",
      "            \"from_timezone\": \"Europe/Paris\",\n",
      "            \"to_timezone\": \"America/Los_Angeles\"\n",
      "        }\n",
      "    }\n",
      "]\u001b[0m\n",
      "\u001b[32m2024-05-03 02:38:39 INFO semantic_router.utils.logger Function inputs: [{'function_name': 'convert_time', 'arguments': {'time': '13:00', 'from_timezone': 'Europe/Paris', 'to_timezone': 'America/Los_Angeles'}}]\u001b[0m\n",
      "\u001b[32m2024-05-03 02:38:39 INFO semantic_router.utils.logger Document 1 length: 42\u001b[0m\n",
      "\u001b[32m2024-05-03 02:38:39 INFO semantic_router.utils.logger Document 1 trunc length: 42\u001b[0m\n"
     ]
    },
    {
     "name": "stdout",
     "output_type": "stream",
     "text": [
      "04:00\n",
      ">>> PASS <<<.\n",
      "====================================================================================================\n",
      "====================================================================================================\n",
      "Processing utterance:  Rework 18:45 from Tokyo time to Rome time.\n"
     ]
    },
    {
     "name": "stderr",
     "output_type": "stream",
     "text": [
      "\u001b[32m2024-05-03 02:38:39 INFO semantic_router.utils.logger Extracting function input...\u001b[0m\n",
      "\u001b[32m2024-05-03 02:38:41 INFO semantic_router.utils.logger LLM output: [\n",
      "    {\n",
      "        \"function_name\": \"convert_time\",\n",
      "        \"arguments\": {\n",
      "            \"time\": \"18:45\",\n",
      "            \"from_timezone\": \"Asia/Tokyo\",\n",
      "            \"to_timezone\": \"Europe/Rome\"\n",
      "        }\n",
      "    }\n",
      "]\u001b[0m\n",
      "\u001b[32m2024-05-03 02:38:41 INFO semantic_router.utils.logger Function inputs: [{'function_name': 'convert_time', 'arguments': {'time': '18:45', 'from_timezone': 'Asia/Tokyo', 'to_timezone': 'Europe/Rome'}}]\u001b[0m\n",
      "\u001b[32m2024-05-03 02:38:41 INFO semantic_router.utils.logger Document 1 length: 45\u001b[0m\n",
      "\u001b[32m2024-05-03 02:38:41 INFO semantic_router.utils.logger Document 1 trunc length: 45\u001b[0m\n"
     ]
    },
    {
     "name": "stdout",
     "output_type": "stream",
     "text": [
      "11:45\n",
      ">>> PASS <<<.\n",
      "====================================================================================================\n",
      "====================================================================================================\n",
      "Processing utterance:  Adapt 06:30 from New York time to Dubai time.\n"
     ]
    },
    {
     "name": "stderr",
     "output_type": "stream",
     "text": [
      "\u001b[32m2024-05-03 02:38:41 INFO semantic_router.utils.logger Extracting function input...\u001b[0m\n",
      "\u001b[32m2024-05-03 02:38:42 INFO semantic_router.utils.logger LLM output: [\n",
      "    {\n",
      "        \"function_name\": \"convert_time\",\n",
      "        \"arguments\": {\n",
      "            \"time\": \"06:30\",\n",
      "            \"from_timezone\": \"America/New_York\",\n",
      "            \"to_timezone\": \"Asia/Dubai\"\n",
      "        }\n",
      "    }\n",
      "]\u001b[0m\n",
      "\u001b[32m2024-05-03 02:38:43 INFO semantic_router.utils.logger Function inputs: [{'function_name': 'convert_time', 'arguments': {'time': '06:30', 'from_timezone': 'America/New_York', 'to_timezone': 'Asia/Dubai'}}]\u001b[0m\n",
      "\u001b[32m2024-05-03 02:38:43 INFO semantic_router.utils.logger Document 1 length: 48\u001b[0m\n",
      "\u001b[32m2024-05-03 02:38:43 INFO semantic_router.utils.logger Document 1 trunc length: 48\u001b[0m\n"
     ]
    },
    {
     "name": "stdout",
     "output_type": "stream",
     "text": [
      "14:30\n",
      ">>> PASS <<<.\n",
      "====================================================================================================\n",
      "====================================================================================================\n",
      "Processing utterance:  Rearrange 21:15 from Berlin time to Mumbai time.\n"
     ]
    },
    {
     "name": "stderr",
     "output_type": "stream",
     "text": [
      "\u001b[32m2024-05-03 02:38:43 INFO semantic_router.utils.logger Extracting function input...\u001b[0m\n",
      "\u001b[32m2024-05-03 02:38:45 INFO semantic_router.utils.logger LLM output: [\n",
      "    {\n",
      "        \"function_name\": \"convert_time\",\n",
      "        \"arguments\": {\n",
      "            \"time\": \"21:15\",\n",
      "            \"from_timezone\": \"Europe/Berlin\",\n",
      "            \"to_timezone\": \"Asia/Kolkata\"\n",
      "        }\n",
      "    }\n",
      "]\u001b[0m\n",
      "\u001b[32m2024-05-03 02:38:45 INFO semantic_router.utils.logger Function inputs: [{'function_name': 'convert_time', 'arguments': {'time': '21:15', 'from_timezone': 'Europe/Berlin', 'to_timezone': 'Asia/Kolkata'}}]\u001b[0m\n",
      "\u001b[32m2024-05-03 02:38:45 INFO semantic_router.utils.logger Document 1 length: 57\u001b[0m\n",
      "\u001b[32m2024-05-03 02:38:45 INFO semantic_router.utils.logger Document 1 trunc length: 57\u001b[0m\n"
     ]
    },
    {
     "name": "stdout",
     "output_type": "stream",
     "text": [
      "00:45\n",
      ">>> PASS <<<.\n",
      "====================================================================================================\n",
      "====================================================================================================\n",
      "Processing utterance:  Recalculate 15:30 from San Francisco time to London time.\n"
     ]
    },
    {
     "name": "stderr",
     "output_type": "stream",
     "text": [
      "\u001b[32m2024-05-03 02:38:45 INFO semantic_router.utils.logger Extracting function input...\u001b[0m\n",
      "\u001b[32m2024-05-03 02:38:47 INFO semantic_router.utils.logger LLM output: [\n",
      "    {\n",
      "        \"function_name\": \"convert_time\",\n",
      "        \"arguments\": {\n",
      "            \"time\": \"15:30\",\n",
      "            \"from_timezone\": \"America/Los_Angeles\",\n",
      "            \"to_timezone\": \"Europe/London\"\n",
      "        }\n",
      "    }\n",
      "]\u001b[0m\n",
      "\u001b[32m2024-05-03 02:38:47 INFO semantic_router.utils.logger Function inputs: [{'function_name': 'convert_time', 'arguments': {'time': '15:30', 'from_timezone': 'America/Los_Angeles', 'to_timezone': 'Europe/London'}}]\u001b[0m\n",
      "\u001b[32m2024-05-03 02:38:47 INFO semantic_router.utils.logger Document 1 length: 47\u001b[0m\n",
      "\u001b[32m2024-05-03 02:38:47 INFO semantic_router.utils.logger Document 1 trunc length: 47\u001b[0m\n"
     ]
    },
    {
     "name": "stdout",
     "output_type": "stream",
     "text": [
      "23:30\n",
      ">>> PASS <<<.\n",
      "====================================================================================================\n",
      "====================================================================================================\n",
      "Processing utterance:  Realign 22:00 from Seoul time to New York time.\n"
     ]
    },
    {
     "name": "stderr",
     "output_type": "stream",
     "text": [
      "\u001b[32m2024-05-03 02:38:47 INFO semantic_router.utils.logger Extracting function input...\u001b[0m\n",
      "\u001b[32m2024-05-03 02:38:48 INFO semantic_router.utils.logger LLM output: [\n",
      "    {\n",
      "        \"function_name\": \"convert_time\",\n",
      "        \"arguments\": {\n",
      "            \"time\": \"22:00\",\n",
      "            \"from_timezone\": \"Asia/Seoul\",\n",
      "            \"to_timezone\": \"America/New_York\"\n",
      "        }\n",
      "    }\n",
      "]\u001b[0m\n",
      "\u001b[32m2024-05-03 02:38:48 INFO semantic_router.utils.logger Function inputs: [{'function_name': 'convert_time', 'arguments': {'time': '22:00', 'from_timezone': 'Asia/Seoul', 'to_timezone': 'America/New_York'}}]\u001b[0m\n",
      "\u001b[32m2024-05-03 02:38:48 INFO semantic_router.utils.logger Document 1 length: 48\u001b[0m\n",
      "\u001b[32m2024-05-03 02:38:48 INFO semantic_router.utils.logger Document 1 trunc length: 48\u001b[0m\n"
     ]
    },
    {
     "name": "stdout",
     "output_type": "stream",
     "text": [
      "09:00\n",
      ">>> PASS <<<.\n",
      "====================================================================================================\n",
      "====================================================================================================\n",
      "Processing utterance:  Reassign 11:45 from Lisbon time to Beijing time.\n"
     ]
    },
    {
     "name": "stderr",
     "output_type": "stream",
     "text": [
      "\u001b[32m2024-05-03 02:38:49 INFO semantic_router.utils.logger Extracting function input...\u001b[0m\n",
      "\u001b[32m2024-05-03 02:38:50 INFO semantic_router.utils.logger LLM output: [\n",
      "    {\n",
      "        \"function_name\": \"convert_time\",\n",
      "        \"arguments\": {\n",
      "            \"time\": \"11:45\",\n",
      "            \"from_timezone\": \"Europe/Lisbon\",\n",
      "            \"to_timezone\": \"Asia/Shanghai\"\n",
      "        }\n",
      "    }\n",
      "]\u001b[0m\n",
      "\u001b[32m2024-05-03 02:38:50 INFO semantic_router.utils.logger Function inputs: [{'function_name': 'convert_time', 'arguments': {'time': '11:45', 'from_timezone': 'Europe/Lisbon', 'to_timezone': 'Asia/Shanghai'}}]\u001b[0m\n",
      "\u001b[32m2024-05-03 02:38:50 INFO semantic_router.utils.logger Document 1 length: 52\u001b[0m\n",
      "\u001b[32m2024-05-03 02:38:50 INFO semantic_router.utils.logger Document 1 trunc length: 52\u001b[0m\n"
     ]
    },
    {
     "name": "stdout",
     "output_type": "stream",
     "text": [
      "18:45\n",
      ">>> PASS <<<.\n",
      "====================================================================================================\n",
      "====================================================================================================\n",
      "Processing utterance:  Reform 20:25 from Johannesburg time to Chicago time.\n"
     ]
    },
    {
     "name": "stderr",
     "output_type": "stream",
     "text": [
      "\u001b[32m2024-05-03 02:38:50 INFO semantic_router.utils.logger Extracting function input...\u001b[0m\n",
      "\u001b[32m2024-05-03 02:38:52 INFO semantic_router.utils.logger LLM output: [\n",
      "    {\n",
      "        \"function_name\": \"convert_time\",\n",
      "        \"arguments\": {\n",
      "            \"time\": \"20:25\",\n",
      "            \"from_timezone\": \"Africa/Johannesburg\",\n",
      "            \"to_timezone\": \"America/Chicago\"\n",
      "        }\n",
      "    }\n",
      "]\u001b[0m\n",
      "\u001b[32m2024-05-03 02:38:52 INFO semantic_router.utils.logger Function inputs: [{'function_name': 'convert_time', 'arguments': {'time': '20:25', 'from_timezone': 'Africa/Johannesburg', 'to_timezone': 'America/Chicago'}}]\u001b[0m\n",
      "\u001b[32m2024-05-03 02:38:52 INFO semantic_router.utils.logger Document 1 length: 50\u001b[0m\n",
      "\u001b[32m2024-05-03 02:38:52 INFO semantic_router.utils.logger Document 1 trunc length: 50\u001b[0m\n"
     ]
    },
    {
     "name": "stdout",
     "output_type": "stream",
     "text": [
      "13:25\n",
      ">>> PASS <<<.\n",
      "====================================================================================================\n",
      "====================================================================================================\n",
      "Processing utterance:  Reschedule 09:50 from Athens time to Toronto time.\n"
     ]
    },
    {
     "name": "stderr",
     "output_type": "stream",
     "text": [
      "\u001b[32m2024-05-03 02:38:53 INFO semantic_router.utils.logger Extracting function input...\u001b[0m\n",
      "\u001b[32m2024-05-03 02:38:54 INFO semantic_router.utils.logger LLM output: [\n",
      "    {\n",
      "        \"function_name\": \"convert_time\",\n",
      "        \"arguments\": {\n",
      "            \"time\": \"09:50\",\n",
      "            \"from_timezone\": \"Europe/Athens\",\n",
      "            \"to_timezone\": \"America/Toronto\"\n",
      "        }\n",
      "    }\n",
      "]\u001b[0m\n",
      "\u001b[32m2024-05-03 02:38:54 INFO semantic_router.utils.logger Function inputs: [{'function_name': 'convert_time', 'arguments': {'time': '09:50', 'from_timezone': 'Europe/Athens', 'to_timezone': 'America/Toronto'}}]\u001b[0m\n",
      "\u001b[32m2024-05-03 02:38:54 INFO semantic_router.utils.logger Document 1 length: 46\u001b[0m\n",
      "\u001b[32m2024-05-03 02:38:54 INFO semantic_router.utils.logger Document 1 trunc length: 46\u001b[0m\n"
     ]
    },
    {
     "name": "stdout",
     "output_type": "stream",
     "text": [
      "02:50\n",
      ">>> PASS <<<.\n",
      "====================================================================================================\n",
      "====================================================================================================\n",
      "Processing utterance:  Replot 14:10 from Montreal time to Cairo time.\n"
     ]
    },
    {
     "name": "stderr",
     "output_type": "stream",
     "text": [
      "\u001b[32m2024-05-03 02:38:54 INFO semantic_router.utils.logger Extracting function input...\u001b[0m\n",
      "\u001b[32m2024-05-03 02:38:56 INFO semantic_router.utils.logger LLM output: [\n",
      "    {\n",
      "        \"function_name\": \"convert_time\",\n",
      "        \"arguments\": {\n",
      "            \"time\": \"14:10\",\n",
      "            \"from_timezone\": \"America/Montreal\",\n",
      "            \"to_timezone\": \"Africa/Cairo\"\n",
      "        }\n",
      "    }\n",
      "]\u001b[0m\n",
      "\u001b[32m2024-05-03 02:38:56 INFO semantic_router.utils.logger Function inputs: [{'function_name': 'convert_time', 'arguments': {'time': '14:10', 'from_timezone': 'America/Montreal', 'to_timezone': 'Africa/Cairo'}}]\u001b[0m\n",
      "\u001b[32m2024-05-03 02:38:56 INFO semantic_router.utils.logger Document 1 length: 47\u001b[0m\n",
      "\u001b[32m2024-05-03 02:38:56 INFO semantic_router.utils.logger Document 1 trunc length: 47\u001b[0m\n"
     ]
    },
    {
     "name": "stdout",
     "output_type": "stream",
     "text": [
      "21:10\n",
      ">>> PASS <<<.\n",
      "====================================================================================================\n",
      "====================================================================================================\n",
      "Processing utterance:  Rephrase 16:40 from Houston time to Paris time.\n"
     ]
    },
    {
     "name": "stderr",
     "output_type": "stream",
     "text": [
      "\u001b[32m2024-05-03 02:38:56 INFO semantic_router.utils.logger Extracting function input...\u001b[0m\n",
      "\u001b[32m2024-05-03 02:38:58 INFO semantic_router.utils.logger LLM output: [\n",
      "    {\n",
      "        \"function_name\": \"convert_time\",\n",
      "        \"arguments\": {\n",
      "            \"time\": \"16:40\",\n",
      "            \"from_timezone\": \"America/Chicago\",\n",
      "            \"to_timezone\": \"Europe/Paris\"\n",
      "        }\n",
      "    }\n",
      "]\u001b[0m\n",
      "\u001b[32m2024-05-03 02:38:58 INFO semantic_router.utils.logger Function inputs: [{'function_name': 'convert_time', 'arguments': {'time': '16:40', 'from_timezone': 'America/Chicago', 'to_timezone': 'Europe/Paris'}}]\u001b[0m\n",
      "\u001b[32m2024-05-03 02:38:58 INFO semantic_router.utils.logger Document 1 length: 49\u001b[0m\n",
      "\u001b[32m2024-05-03 02:38:58 INFO semantic_router.utils.logger Document 1 trunc length: 49\u001b[0m\n"
     ]
    },
    {
     "name": "stdout",
     "output_type": "stream",
     "text": [
      "23:40\n",
      ">>> PASS <<<.\n",
      "====================================================================================================\n",
      "====================================================================================================\n",
      "Processing utterance:  Reposition 12:20 from Madrid time to Sydney time.\n"
     ]
    },
    {
     "name": "stderr",
     "output_type": "stream",
     "text": [
      "\u001b[32m2024-05-03 02:38:58 INFO semantic_router.utils.logger Extracting function input...\u001b[0m\n",
      "\u001b[32m2024-05-03 02:38:59 INFO semantic_router.utils.logger LLM output: [\n",
      "    {\n",
      "        \"function_name\": \"convert_time\",\n",
      "        \"arguments\": {\n",
      "            \"time\": \"12:20\",\n",
      "            \"from_timezone\": \"Europe/Madrid\",\n",
      "            \"to_timezone\": \"Australia/Sydney\"\n",
      "        }\n",
      "    }\n",
      "]\u001b[0m\n",
      "\u001b[32m2024-05-03 02:38:59 INFO semantic_router.utils.logger Function inputs: [{'function_name': 'convert_time', 'arguments': {'time': '12:20', 'from_timezone': 'Europe/Madrid', 'to_timezone': 'Australia/Sydney'}}]\u001b[0m\n",
      "\u001b[32m2024-05-03 02:38:59 INFO semantic_router.utils.logger Document 1 length: 55\u001b[0m\n",
      "\u001b[32m2024-05-03 02:38:59 INFO semantic_router.utils.logger Document 1 trunc length: 55\u001b[0m\n"
     ]
    },
    {
     "name": "stdout",
     "output_type": "stream",
     "text": [
      "20:20\n",
      ">>> PASS <<<.\n",
      "====================================================================================================\n",
      "====================================================================================================\n",
      "Processing utterance:  Reevaluate 07:55 from Singapore time to Vancouver time.\n"
     ]
    },
    {
     "name": "stderr",
     "output_type": "stream",
     "text": [
      "\u001b[32m2024-05-03 02:39:00 INFO semantic_router.utils.logger Extracting function input...\u001b[0m\n",
      "\u001b[32m2024-05-03 02:39:01 INFO semantic_router.utils.logger LLM output: [\n",
      "    {\n",
      "        \"function_name\": \"convert_time\",\n",
      "        \"arguments\": {\n",
      "            \"time\": \"07:55\",\n",
      "            \"from_timezone\": \"Asia/Singapore\",\n",
      "            \"to_timezone\": \"America/Vancouver\"\n",
      "        }\n",
      "    }\n",
      "]\u001b[0m\n",
      "\u001b[32m2024-05-03 02:39:01 INFO semantic_router.utils.logger Function inputs: [{'function_name': 'convert_time', 'arguments': {'time': '07:55', 'from_timezone': 'Asia/Singapore', 'to_timezone': 'America/Vancouver'}}]\u001b[0m\n",
      "\u001b[32m2024-05-03 02:39:01 INFO semantic_router.utils.logger Document 1 length: 47\u001b[0m\n",
      "\u001b[32m2024-05-03 02:39:01 INFO semantic_router.utils.logger Document 1 trunc length: 47\u001b[0m\n"
     ]
    },
    {
     "name": "stdout",
     "output_type": "stream",
     "text": [
      "16:55\n",
      ">>> PASS <<<.\n",
      "====================================================================================================\n",
      "====================================================================================================\n",
      "Processing utterance:  Redirect 19:00 from Rome time to Montreal time.\n"
     ]
    },
    {
     "name": "stderr",
     "output_type": "stream",
     "text": [
      "\u001b[32m2024-05-03 02:39:02 INFO semantic_router.utils.logger Extracting function input...\u001b[0m\n",
      "\u001b[32m2024-05-03 02:39:03 INFO semantic_router.utils.logger LLM output: [\n",
      "    {\n",
      "        \"function_name\": \"convert_time\",\n",
      "        \"arguments\": {\n",
      "            \"time\": \"19:00\",\n",
      "            \"from_timezone\": \"Europe/Rome\",\n",
      "            \"to_timezone\": \"America/Montreal\"\n",
      "        }\n",
      "    }\n",
      "]\u001b[0m\n",
      "\u001b[32m2024-05-03 02:39:03 INFO semantic_router.utils.logger Function inputs: [{'function_name': 'convert_time', 'arguments': {'time': '19:00', 'from_timezone': 'Europe/Rome', 'to_timezone': 'America/Montreal'}}]\u001b[0m\n",
      "\u001b[32m2024-05-03 02:39:03 INFO semantic_router.utils.logger Document 1 length: 52\u001b[0m\n",
      "\u001b[32m2024-05-03 02:39:03 INFO semantic_router.utils.logger Document 1 trunc length: 52\u001b[0m\n"
     ]
    },
    {
     "name": "stdout",
     "output_type": "stream",
     "text": [
      "13:00\n",
      ">>> PASS <<<.\n",
      "====================================================================================================\n",
      "====================================================================================================\n",
      "Processing utterance:  Revisit 10:30 from Dubai time to San Francisco time.\n"
     ]
    },
    {
     "name": "stderr",
     "output_type": "stream",
     "text": [
      "\u001b[32m2024-05-03 02:39:03 INFO semantic_router.utils.logger Extracting function input...\u001b[0m\n",
      "\u001b[32m2024-05-03 02:39:05 INFO semantic_router.utils.logger LLM output: [\n",
      "    {\n",
      "        \"function_name\": \"convert_time\",\n",
      "        \"arguments\": {\n",
      "            \"time\": \"10:30\",\n",
      "            \"from_timezone\": \"Asia/Dubai\",\n",
      "            \"to_timezone\": \"America/Los_Angeles\"\n",
      "        }\n",
      "    }\n",
      "]\u001b[0m\n",
      "\u001b[32m2024-05-03 02:39:05 INFO semantic_router.utils.logger Function inputs: [{'function_name': 'convert_time', 'arguments': {'time': '10:30', 'from_timezone': 'Asia/Dubai', 'to_timezone': 'America/Los_Angeles'}}]\u001b[0m\n",
      "\u001b[32m2024-05-03 02:39:05 INFO semantic_router.utils.logger Document 1 length: 46\u001b[0m\n",
      "\u001b[32m2024-05-03 02:39:05 INFO semantic_router.utils.logger Document 1 trunc length: 46\u001b[0m\n"
     ]
    },
    {
     "name": "stdout",
     "output_type": "stream",
     "text": [
      "23:30\n",
      ">>> PASS <<<.\n",
      "====================================================================================================\n",
      "====================================================================================================\n",
      "Processing utterance:  Refine 23:45 from Beijing time to Zurich time.\n"
     ]
    },
    {
     "name": "stderr",
     "output_type": "stream",
     "text": [
      "\u001b[32m2024-05-03 02:39:05 INFO semantic_router.utils.logger Extracting function input...\u001b[0m\n",
      "\u001b[32m2024-05-03 02:39:06 INFO semantic_router.utils.logger LLM output: [\n",
      "    {\n",
      "        \"function_name\": \"convert_time\",\n",
      "        \"arguments\": {\n",
      "            \"time\": \"23:45\",\n",
      "            \"from_timezone\": \"Asia/Shanghai\",\n",
      "            \"to_timezone\": \"Europe/Zurich\"\n",
      "        }\n",
      "    }\n",
      "]\u001b[0m\n",
      "\u001b[32m2024-05-03 02:39:06 INFO semantic_router.utils.logger Function inputs: [{'function_name': 'convert_time', 'arguments': {'time': '23:45', 'from_timezone': 'Asia/Shanghai', 'to_timezone': 'Europe/Zurich'}}]\u001b[0m\n",
      "\u001b[32m2024-05-03 02:39:06 INFO semantic_router.utils.logger Document 1 length: 45\u001b[0m\n",
      "\u001b[32m2024-05-03 02:39:06 INFO semantic_router.utils.logger Document 1 trunc length: 45\u001b[0m\n"
     ]
    },
    {
     "name": "stdout",
     "output_type": "stream",
     "text": [
      "17:45\n",
      ">>> PASS <<<.\n",
      "====================================================================================================\n",
      "====================================================================================================\n",
      "Processing utterance:  Remodel 08:10 from London time to Seoul time.\n"
     ]
    },
    {
     "name": "stderr",
     "output_type": "stream",
     "text": [
      "\u001b[32m2024-05-03 02:39:07 INFO semantic_router.utils.logger Extracting function input...\u001b[0m\n",
      "\u001b[32m2024-05-03 02:39:08 INFO semantic_router.utils.logger LLM output: [\n",
      "    {\n",
      "        \"function_name\": \"convert_time\",\n",
      "        \"arguments\": {\n",
      "            \"time\": \"08:10\",\n",
      "            \"from_timezone\": \"Europe/London\",\n",
      "            \"to_timezone\": \"Asia/Seoul\"\n",
      "        }\n",
      "    }\n",
      "]\u001b[0m\n",
      "\u001b[32m2024-05-03 02:39:08 INFO semantic_router.utils.logger Function inputs: [{'function_name': 'convert_time', 'arguments': {'time': '08:10', 'from_timezone': 'Europe/London', 'to_timezone': 'Asia/Seoul'}}]\u001b[0m\n",
      "\u001b[32m2024-05-03 02:39:08 INFO semantic_router.utils.logger Document 1 length: 45\u001b[0m\n",
      "\u001b[32m2024-05-03 02:39:08 INFO semantic_router.utils.logger Document 1 trunc length: 45\u001b[0m\n"
     ]
    },
    {
     "name": "stdout",
     "output_type": "stream",
     "text": [
      "16:10\n",
      ">>> PASS <<<.\n",
      "====================================================================================================\n",
      "====================================================================================================\n",
      "Processing utterance:  Revamp 17:00 from Sydney time to Madrid time.\n"
     ]
    },
    {
     "name": "stderr",
     "output_type": "stream",
     "text": [
      "\u001b[32m2024-05-03 02:39:08 INFO semantic_router.utils.logger Extracting function input...\u001b[0m\n",
      "\u001b[32m2024-05-03 02:39:09 INFO semantic_router.utils.logger LLM output: [\n",
      "    {\n",
      "        \"function_name\": \"convert_time\",\n",
      "        \"arguments\": {\n",
      "            \"time\": \"17:00\",\n",
      "            \"from_timezone\": \"Australia/Sydney\",\n",
      "            \"to_timezone\": \"Europe/Madrid\"\n",
      "        }\n",
      "    }\n",
      "]\u001b[0m\n",
      "\u001b[32m2024-05-03 02:39:09 INFO semantic_router.utils.logger Function inputs: [{'function_name': 'convert_time', 'arguments': {'time': '17:00', 'from_timezone': 'Australia/Sydney', 'to_timezone': 'Europe/Madrid'}}]\u001b[0m\n",
      "\u001b[32m2024-05-03 02:39:09 INFO semantic_router.utils.logger Document 1 length: 48\u001b[0m\n",
      "\u001b[32m2024-05-03 02:39:09 INFO semantic_router.utils.logger Document 1 trunc length: 48\u001b[0m\n"
     ]
    },
    {
     "name": "stdout",
     "output_type": "stream",
     "text": [
      "09:00\n",
      ">>> PASS <<<.\n",
      "====================================================================================================\n",
      "====================================================================================================\n",
      "Processing utterance:  Rehash 15:20 from Copenhagen time to Tokyo time.\n"
     ]
    },
    {
     "name": "stderr",
     "output_type": "stream",
     "text": [
      "\u001b[32m2024-05-03 02:39:10 INFO semantic_router.utils.logger Extracting function input...\u001b[0m\n",
      "\u001b[32m2024-05-03 02:39:11 INFO semantic_router.utils.logger LLM output: [\n",
      "    {\n",
      "        \"function_name\": \"convert_time\",\n",
      "        \"arguments\": {\n",
      "            \"time\": \"15:20\",\n",
      "            \"from_timezone\": \"Europe/Copenhagen\",\n",
      "            \"to_timezone\": \"Asia/Tokyo\"\n",
      "        }\n",
      "    }\n",
      "]\u001b[0m\n",
      "\u001b[32m2024-05-03 02:39:11 INFO semantic_router.utils.logger Function inputs: [{'function_name': 'convert_time', 'arguments': {'time': '15:20', 'from_timezone': 'Europe/Copenhagen', 'to_timezone': 'Asia/Tokyo'}}]\u001b[0m\n",
      "\u001b[32m2024-05-03 02:39:11 INFO semantic_router.utils.logger Document 1 length: 53\u001b[0m\n",
      "\u001b[32m2024-05-03 02:39:11 INFO semantic_router.utils.logger Document 1 trunc length: 53\u001b[0m\n"
     ]
    },
    {
     "name": "stdout",
     "output_type": "stream",
     "text": [
      "22:20\n",
      ">>> PASS <<<.\n",
      "====================================================================================================\n",
      "====================================================================================================\n",
      "Processing utterance:  Reinvent 22:30 from Las Vegas time to Amsterdam time.\n"
     ]
    },
    {
     "name": "stderr",
     "output_type": "stream",
     "text": [
      "\u001b[32m2024-05-03 02:39:12 INFO semantic_router.utils.logger Extracting function input...\u001b[0m\n",
      "\u001b[32m2024-05-03 02:39:13 INFO semantic_router.utils.logger LLM output: [\n",
      "    {\n",
      "        \"function_name\": \"convert_time\",\n",
      "        \"arguments\": {\n",
      "            \"time\": \"22:30\",\n",
      "            \"from_timezone\": \"America/Los_Angeles\",\n",
      "            \"to_timezone\": \"Europe/Amsterdam\"\n",
      "        }\n",
      "    }\n",
      "]\u001b[0m\n",
      "\u001b[32m2024-05-03 02:39:13 INFO semantic_router.utils.logger Function inputs: [{'function_name': 'convert_time', 'arguments': {'time': '22:30', 'from_timezone': 'America/Los_Angeles', 'to_timezone': 'Europe/Amsterdam'}}]\u001b[0m\n",
      "\u001b[32m2024-05-03 02:39:13 INFO semantic_router.utils.logger Document 1 length: 57\u001b[0m\n",
      "\u001b[32m2024-05-03 02:39:13 INFO semantic_router.utils.logger Document 1 trunc length: 57\u001b[0m\n"
     ]
    },
    {
     "name": "stdout",
     "output_type": "stream",
     "text": [
      "07:30\n",
      ">>> PASS <<<.\n",
      "====================================================================================================\n",
      "====================================================================================================\n",
      "Processing utterance:  Rebuild 13:15 from Rio de Janeiro time to Stockholm time.\n"
     ]
    },
    {
     "name": "stderr",
     "output_type": "stream",
     "text": [
      "\u001b[32m2024-05-03 02:39:13 INFO semantic_router.utils.logger Extracting function input...\u001b[0m\n",
      "\u001b[32m2024-05-03 02:39:15 INFO semantic_router.utils.logger LLM output: [\n",
      "    {\n",
      "        \"function_name\": \"convert_time\",\n",
      "        \"arguments\": {\n",
      "            \"time\": \"13:15\",\n",
      "            \"from_timezone\": \"America/Sao_Paulo\",\n",
      "            \"to_timezone\": \"Europe/Stockholm\"\n",
      "        }\n",
      "    }\n",
      "]\u001b[0m\n",
      "\u001b[32m2024-05-03 02:39:15 INFO semantic_router.utils.logger Function inputs: [{'function_name': 'convert_time', 'arguments': {'time': '13:15', 'from_timezone': 'America/Sao_Paulo', 'to_timezone': 'Europe/Stockholm'}}]\u001b[0m\n",
      "\u001b[32m2024-05-03 02:39:15 INFO semantic_router.utils.logger Document 1 length: 50\u001b[0m\n",
      "\u001b[32m2024-05-03 02:39:15 INFO semantic_router.utils.logger Document 1 trunc length: 50\u001b[0m\n"
     ]
    },
    {
     "name": "stdout",
     "output_type": "stream",
     "text": [
      "18:15\n",
      ">>> PASS <<<.\n",
      "====================================================================================================\n",
      "====================================================================================================\n",
      "Processing utterance:  Recreate 18:55 from Zurich time to Hong Kong time.\n"
     ]
    },
    {
     "name": "stderr",
     "output_type": "stream",
     "text": [
      "\u001b[32m2024-05-03 02:39:15 INFO semantic_router.utils.logger Extracting function input...\u001b[0m\n",
      "\u001b[32m2024-05-03 02:39:16 INFO semantic_router.utils.logger LLM output: [\n",
      "    {\n",
      "        \"function_name\": \"convert_time\",\n",
      "        \"arguments\": {\n",
      "            \"time\": \"18:55\",\n",
      "            \"from_timezone\": \"Europe/Zurich\",\n",
      "            \"to_timezone\": \"Asia/Hong_Kong\"\n",
      "        }\n",
      "    }\n",
      "]\u001b[0m\n",
      "\u001b[32m2024-05-03 02:39:16 INFO semantic_router.utils.logger Function inputs: [{'function_name': 'convert_time', 'arguments': {'time': '18:55', 'from_timezone': 'Europe/Zurich', 'to_timezone': 'Asia/Hong_Kong'}}]\u001b[0m\n",
      "\u001b[32m2024-05-03 02:39:16 INFO semantic_router.utils.logger Document 1 length: 48\u001b[0m\n",
      "\u001b[32m2024-05-03 02:39:16 INFO semantic_router.utils.logger Document 1 trunc length: 48\u001b[0m\n"
     ]
    },
    {
     "name": "stdout",
     "output_type": "stream",
     "text": [
      "00:55\n",
      ">>> PASS <<<.\n",
      "====================================================================================================\n",
      "====================================================================================================\n",
      "Processing utterance:  Redesign 21:40 from Chicago time to Athens time.\n"
     ]
    },
    {
     "name": "stderr",
     "output_type": "stream",
     "text": [
      "\u001b[32m2024-05-03 02:39:17 INFO semantic_router.utils.logger Extracting function input...\u001b[0m\n",
      "\u001b[32m2024-05-03 02:39:18 INFO semantic_router.utils.logger LLM output: [\n",
      "    {\n",
      "        \"function_name\": \"convert_time\",\n",
      "        \"arguments\": {\n",
      "            \"time\": \"21:40\",\n",
      "            \"from_timezone\": \"America/Chicago\",\n",
      "            \"to_timezone\": \"Europe/Athens\"\n",
      "        }\n",
      "    }\n",
      "]\u001b[0m\n",
      "\u001b[32m2024-05-03 02:39:18 INFO semantic_router.utils.logger Function inputs: [{'function_name': 'convert_time', 'arguments': {'time': '21:40', 'from_timezone': 'America/Chicago', 'to_timezone': 'Europe/Athens'}}]\u001b[0m\n",
      "\u001b[32m2024-05-03 02:39:18 INFO semantic_router.utils.logger Document 1 length: 51\u001b[0m\n",
      "\u001b[32m2024-05-03 02:39:18 INFO semantic_router.utils.logger Document 1 trunc length: 51\u001b[0m\n"
     ]
    },
    {
     "name": "stdout",
     "output_type": "stream",
     "text": [
      "05:40\n",
      ">>> PASS <<<.\n",
      "====================================================================================================\n",
      "====================================================================================================\n",
      "Processing utterance:  Reestablish 12:00 from Toronto time to Lisbon time.\n"
     ]
    },
    {
     "name": "stderr",
     "output_type": "stream",
     "text": [
      "\u001b[32m2024-05-03 02:39:19 INFO semantic_router.utils.logger Extracting function input...\u001b[0m\n",
      "\u001b[32m2024-05-03 02:39:20 INFO semantic_router.utils.logger LLM output: [\n",
      "    {\n",
      "        \"function_name\": \"convert_time\",\n",
      "        \"arguments\": {\n",
      "            \"time\": \"12:00\",\n",
      "            \"from_timezone\": \"America/Toronto\",\n",
      "            \"to_timezone\": \"Europe/Lisbon\"\n",
      "        }\n",
      "    }\n",
      "]\u001b[0m\n",
      "\u001b[32m2024-05-03 02:39:20 INFO semantic_router.utils.logger Function inputs: [{'function_name': 'convert_time', 'arguments': {'time': '12:00', 'from_timezone': 'America/Toronto', 'to_timezone': 'Europe/Lisbon'}}]\u001b[0m\n",
      "\u001b[32m2024-05-03 02:39:20 INFO semantic_router.utils.logger Document 1 length: 56\u001b[0m\n",
      "\u001b[32m2024-05-03 02:39:20 INFO semantic_router.utils.logger Document 1 trunc length: 56\u001b[0m\n"
     ]
    },
    {
     "name": "stdout",
     "output_type": "stream",
     "text": [
      "17:00\n",
      ">>> PASS <<<.\n",
      "====================================================================================================\n",
      "====================================================================================================\n",
      "Processing utterance:  Reformulate 20:00 from Moscow time to Buenos Aires time.\n"
     ]
    },
    {
     "name": "stderr",
     "output_type": "stream",
     "text": [
      "\u001b[32m2024-05-03 02:39:20 INFO semantic_router.utils.logger Extracting function input...\u001b[0m\n",
      "\u001b[32m2024-05-03 02:39:22 INFO semantic_router.utils.logger LLM output: [\n",
      "    {\n",
      "        \"function_name\": \"convert_time\",\n",
      "        \"arguments\": {\n",
      "            \"time\": \"20:00\",\n",
      "            \"from_timezone\": \"Europe/Moscow\",\n",
      "            \"to_timezone\": \"America/Argentina/Buenos_Aires\"\n",
      "        }\n",
      "    }\n",
      "]\u001b[0m\n",
      "\u001b[32m2024-05-03 02:39:22 INFO semantic_router.utils.logger Function inputs: [{'function_name': 'convert_time', 'arguments': {'time': '20:00', 'from_timezone': 'Europe/Moscow', 'to_timezone': 'America/Argentina/Buenos_Aires'}}]\u001b[0m\n"
     ]
    },
    {
     "name": "stdout",
     "output_type": "stream",
     "text": [
      "14:00\n",
      ">>> PASS <<<.\n",
      "====================================================================================================\n",
      "====================================================================================================\n",
      "Number of successful responses: 50\n",
      "Number of failed responses: 0\n",
      "====================================================================================================\n"
     ]
    }
   ],
   "source": [
    "test_function_calling(\n",
    "    utterances=test_utterances_convert_time,\n",
    "    function_name='convert_time',\n",
    "    expected_num_responses=1\n",
    "    )"
   ]
  },
  {
   "cell_type": "markdown",
   "metadata": {},
   "source": [
    "### Test `get_time` and `get_time_difference` Function Argument Extractions"
   ]
  },
  {
   "cell_type": "code",
   "execution_count": 22,
   "metadata": {},
   "outputs": [],
   "source": [
    "# import re\n",
    "\n",
    "# success_count = 0\n",
    "# fail_count = 0\n",
    "\n",
    "# time_pattern = r\"\\d{2}:\\d{2}\"\n",
    "# time_diff_pattern = r\"The time difference between .+ and .+ is -?\\d+(\\.\\d+)? hours\\.\"\n",
    "\n",
    "# for utterance in test_utterances_get_time_and_get_time_difference:\n",
    "#     print('='*100)\n",
    "#     print(u\"Processing utterance: \", utterance)\n",
    "#     try:\n",
    "#         results = rl(utterance)\n",
    "#         parsed_results = parse_response(results)\n",
    "#         # Check if the parsed_results match the required formats\n",
    "#         if re.match(time_pattern, parsed_results[0]) and re.match(time_diff_pattern, parsed_results[1]):\n",
    "#             success_count += 1\n",
    "#             print('Pass.')\n",
    "#         else:\n",
    "#             print(f\"Invalid response format: {results}\")\n",
    "#             fail_count += 1\n",
    "#     except Exception as e:\n",
    "#         print(f\"Failed to process: {utterance} with error: {e}\")\n",
    "#         fail_count += 1\n",
    "#     print('='*100)\n",
    "# print('='*100)\n",
    "# print(f\"Number of successful responses: {success_count}\")\n",
    "# print(f\"Number of failed responses: {fail_count}\")\n",
    "# print('='*100)\n"
   ]
  },
  {
   "cell_type": "code",
   "execution_count": 23,
   "metadata": {},
   "outputs": [
    {
     "name": "stderr",
     "output_type": "stream",
     "text": [
      "\u001b[32m2024-05-03 02:39:22 INFO semantic_router.utils.logger Document 1 length: 73\u001b[0m\n",
      "\u001b[32m2024-05-03 02:39:22 INFO semantic_router.utils.logger Document 1 trunc length: 73\u001b[0m\n"
     ]
    },
    {
     "name": "stdout",
     "output_type": "stream",
     "text": [
      "====================================================================================================\n",
      "Processing utterance:  What's the current time in Vancouver and how far behind is it from Tokyo?\n"
     ]
    },
    {
     "name": "stderr",
     "output_type": "stream",
     "text": [
      "\u001b[32m2024-05-03 02:39:22 INFO semantic_router.utils.logger Extracting function input...\u001b[0m\n",
      "\u001b[32m2024-05-03 02:39:24 INFO semantic_router.utils.logger LLM output: [\n",
      "    {\n",
      "        \"function_name\": \"get_time\",\n",
      "        \"arguments\": {\n",
      "            \"timezone\": \"America/Vancouver\"\n",
      "        }\n",
      "    },\n",
      "    {\n",
      "        \"function_name\": \"get_time_difference\",\n",
      "        \"arguments\": {\n",
      "            \"timezone1\": \"America/Vancouver\",\n",
      "            \"timezone2\": \"Asia/Tokyo\"\n",
      "        }\n",
      "    }\n",
      "]\u001b[0m\n",
      "\u001b[32m2024-05-03 02:39:24 INFO semantic_router.utils.logger Function inputs: [{'function_name': 'get_time', 'arguments': {'timezone': 'America/Vancouver'}}, {'function_name': 'get_time_difference', 'arguments': {'timezone1': 'America/Vancouver', 'timezone2': 'Asia/Tokyo'}}]\u001b[0m\n",
      "\u001b[32m2024-05-03 02:39:24 INFO semantic_router.utils.logger Document 1 length: 79\u001b[0m\n",
      "\u001b[32m2024-05-03 02:39:24 INFO semantic_router.utils.logger Document 1 trunc length: 79\u001b[0m\n"
     ]
    },
    {
     "name": "stdout",
     "output_type": "stream",
     "text": [
      "15:39\n",
      "The time difference between America/Vancouver and Asia/Tokyo is 16.0 hours.\n",
      ">>> PASS <<<.\n",
      "====================================================================================================\n",
      "====================================================================================================\n",
      "Processing utterance:  Please tell me the current time in Helsinki and the hour difference with Cairo.\n"
     ]
    },
    {
     "name": "stderr",
     "output_type": "stream",
     "text": [
      "\u001b[32m2024-05-03 02:39:24 INFO semantic_router.utils.logger Extracting function input...\u001b[0m\n",
      "\u001b[32m2024-05-03 02:39:26 INFO semantic_router.utils.logger LLM output: [\n",
      "    {\n",
      "        \"function_name\": \"get_time\",\n",
      "        \"arguments\": {\n",
      "            \"timezone\": \"Europe/Helsinki\"\n",
      "        }\n",
      "    },\n",
      "    {\n",
      "        \"function_name\": \"get_time_difference\",\n",
      "        \"arguments\": {\n",
      "            \"timezone1\": \"Europe/Helsinki\",\n",
      "            \"timezone2\": \"Africa/Cairo\"\n",
      "        }\n",
      "    }\n",
      "]\u001b[0m\n",
      "\u001b[32m2024-05-03 02:39:26 INFO semantic_router.utils.logger Function inputs: [{'function_name': 'get_time', 'arguments': {'timezone': 'Europe/Helsinki'}}, {'function_name': 'get_time_difference', 'arguments': {'timezone1': 'Europe/Helsinki', 'timezone2': 'Africa/Cairo'}}]\u001b[0m\n",
      "\u001b[32m2024-05-03 02:39:26 INFO semantic_router.utils.logger Document 1 length: 80\u001b[0m\n",
      "\u001b[32m2024-05-03 02:39:26 INFO semantic_router.utils.logger Document 1 trunc length: 80\u001b[0m\n"
     ]
    },
    {
     "name": "stdout",
     "output_type": "stream",
     "text": [
      "01:39\n",
      "The time difference between Europe/Helsinki and Africa/Cairo is 0.0 hours.\n",
      ">>> PASS <<<.\n",
      "====================================================================================================\n",
      "====================================================================================================\n",
      "Processing utterance:  Can you find out the time in Sao Paulo and how many hours it is ahead of London?\n"
     ]
    },
    {
     "name": "stderr",
     "output_type": "stream",
     "text": [
      "\u001b[32m2024-05-03 02:39:26 INFO semantic_router.utils.logger Extracting function input...\u001b[0m\n",
      "\u001b[32m2024-05-03 02:39:28 INFO semantic_router.utils.logger LLM output: [\n",
      "    {\n",
      "        \"function_name\": \"get_time\",\n",
      "        \"arguments\": {\n",
      "            \"timezone\": \"America/Sao_Paulo\"\n",
      "        }\n",
      "    },\n",
      "    {\n",
      "        \"function_name\": \"get_time_difference\",\n",
      "        \"arguments\": {\n",
      "            \"timezone1\": \"America/Sao_Paulo\",\n",
      "            \"timezone2\": \"Europe/London\"\n",
      "        }\n",
      "    }\n",
      "]\u001b[0m\n",
      "\u001b[32m2024-05-03 02:39:28 INFO semantic_router.utils.logger Function inputs: [{'function_name': 'get_time', 'arguments': {'timezone': 'America/Sao_Paulo'}}, {'function_name': 'get_time_difference', 'arguments': {'timezone1': 'America/Sao_Paulo', 'timezone2': 'Europe/London'}}]\u001b[0m\n",
      "\u001b[32m2024-05-03 02:39:28 INFO semantic_router.utils.logger Document 1 length: 68\u001b[0m\n",
      "\u001b[32m2024-05-03 02:39:28 INFO semantic_router.utils.logger Document 1 trunc length: 68\u001b[0m\n"
     ]
    },
    {
     "name": "stdout",
     "output_type": "stream",
     "text": [
      "19:39\n",
      "The time difference between America/Sao_Paulo and Europe/London is 4.0 hours.\n",
      ">>> PASS <<<.\n",
      "====================================================================================================\n",
      "====================================================================================================\n",
      "Processing utterance:  I need the current time in Manila and the time difference to Berlin.\n"
     ]
    },
    {
     "name": "stderr",
     "output_type": "stream",
     "text": [
      "\u001b[32m2024-05-03 02:39:28 INFO semantic_router.utils.logger Extracting function input...\u001b[0m\n",
      "\u001b[32m2024-05-03 02:39:30 INFO semantic_router.utils.logger LLM output: [\n",
      "    {\n",
      "        \"function_name\": \"get_time\",\n",
      "        \"arguments\": {\n",
      "            \"timezone\": \"Asia/Manila\"\n",
      "        }\n",
      "    },\n",
      "    {\n",
      "        \"function_name\": \"get_time_difference\",\n",
      "        \"arguments\": {\n",
      "            \"timezone1\": \"Asia/Manila\",\n",
      "            \"timezone2\": \"Europe/Berlin\"\n",
      "        }\n",
      "    }\n",
      "]\u001b[0m\n",
      "\u001b[32m2024-05-03 02:39:30 INFO semantic_router.utils.logger Function inputs: [{'function_name': 'get_time', 'arguments': {'timezone': 'Asia/Manila'}}, {'function_name': 'get_time_difference', 'arguments': {'timezone1': 'Asia/Manila', 'timezone2': 'Europe/Berlin'}}]\u001b[0m\n",
      "\u001b[32m2024-05-03 02:39:30 INFO semantic_router.utils.logger Document 1 length: 71\u001b[0m\n",
      "\u001b[32m2024-05-03 02:39:30 INFO semantic_router.utils.logger Document 1 trunc length: 71\u001b[0m\n"
     ]
    },
    {
     "name": "stdout",
     "output_type": "stream",
     "text": [
      "06:39\n",
      "The time difference between Asia/Manila and Europe/Berlin is -6.0 hours.\n",
      ">>> PASS <<<.\n",
      "====================================================================================================\n",
      "====================================================================================================\n",
      "Processing utterance:  Show the current time in Zurich and calculate the time gap with Sydney.\n"
     ]
    },
    {
     "name": "stderr",
     "output_type": "stream",
     "text": [
      "\u001b[32m2024-05-03 02:39:30 INFO semantic_router.utils.logger Extracting function input...\u001b[0m\n",
      "\u001b[32m2024-05-03 02:39:32 INFO semantic_router.utils.logger LLM output: [\n",
      "    {\n",
      "        \"function_name\": \"get_time\",\n",
      "        \"arguments\": {\n",
      "            \"timezone\": \"Europe/Zurich\"\n",
      "        }\n",
      "    },\n",
      "    {\n",
      "        \"function_name\": \"get_time_difference\",\n",
      "        \"arguments\": {\n",
      "            \"timezone1\": \"Europe/Zurich\",\n",
      "            \"timezone2\": \"Australia/Sydney\"\n",
      "        }\n",
      "    }\n",
      "]\u001b[0m\n",
      "\u001b[32m2024-05-03 02:39:32 INFO semantic_router.utils.logger Function inputs: [{'function_name': 'get_time', 'arguments': {'timezone': 'Europe/Zurich'}}, {'function_name': 'get_time_difference', 'arguments': {'timezone1': 'Europe/Zurich', 'timezone2': 'Australia/Sydney'}}]\u001b[0m\n",
      "\u001b[32m2024-05-03 02:39:32 INFO semantic_router.utils.logger Document 1 length: 88\u001b[0m\n",
      "\u001b[32m2024-05-03 02:39:32 INFO semantic_router.utils.logger Document 1 trunc length: 88\u001b[0m\n"
     ]
    },
    {
     "name": "stdout",
     "output_type": "stream",
     "text": [
      "00:39\n",
      "The time difference between Europe/Zurich and Australia/Sydney is 8.0 hours.\n",
      ">>> PASS <<<.\n",
      "====================================================================================================\n",
      "====================================================================================================\n",
      "Processing utterance:  Could you provide the time in Istanbul and tell me how many hours it is behind New York?\n"
     ]
    },
    {
     "name": "stderr",
     "output_type": "stream",
     "text": [
      "\u001b[32m2024-05-03 02:39:32 INFO semantic_router.utils.logger Extracting function input...\u001b[0m\n",
      "\u001b[32m2024-05-03 02:39:34 INFO semantic_router.utils.logger LLM output: [\n",
      "    {\n",
      "        \"function_name\": \"get_time\",\n",
      "        \"arguments\": {\n",
      "            \"timezone\": \"Europe/Istanbul\"\n",
      "        }\n",
      "    },\n",
      "    {\n",
      "        \"function_name\": \"get_time_difference\",\n",
      "        \"arguments\": {\n",
      "            \"timezone1\": \"Europe/Istanbul\",\n",
      "            \"timezone2\": \"America/New_York\"\n",
      "        }\n",
      "    }\n",
      "]\u001b[0m\n",
      "\u001b[32m2024-05-03 02:39:34 INFO semantic_router.utils.logger Function inputs: [{'function_name': 'get_time', 'arguments': {'timezone': 'Europe/Istanbul'}}, {'function_name': 'get_time_difference', 'arguments': {'timezone1': 'Europe/Istanbul', 'timezone2': 'America/New_York'}}]\u001b[0m\n",
      "\u001b[32m2024-05-03 02:39:34 INFO semantic_router.utils.logger Document 1 length: 78\u001b[0m\n",
      "\u001b[32m2024-05-03 02:39:34 INFO semantic_router.utils.logger Document 1 trunc length: 78\u001b[0m\n"
     ]
    },
    {
     "name": "stdout",
     "output_type": "stream",
     "text": [
      "01:39\n",
      "The time difference between Europe/Istanbul and America/New_York is -7.0 hours.\n",
      ">>> PASS <<<.\n",
      "====================================================================================================\n",
      "====================================================================================================\n",
      "Processing utterance:  What is the time in Oslo right now and how many hours is it ahead of Montreal?\n"
     ]
    },
    {
     "name": "stderr",
     "output_type": "stream",
     "text": [
      "\u001b[32m2024-05-03 02:39:34 INFO semantic_router.utils.logger Extracting function input...\u001b[0m\n",
      "\u001b[32m2024-05-03 02:39:36 INFO semantic_router.utils.logger LLM output: [\n",
      "    {\n",
      "        \"function_name\": \"get_time\",\n",
      "        \"arguments\": {\n",
      "            \"timezone\": \"Europe/Oslo\"\n",
      "        }\n",
      "    },\n",
      "    {\n",
      "        \"function_name\": \"get_time_difference\",\n",
      "        \"arguments\": {\n",
      "            \"timezone1\": \"Europe/Oslo\",\n",
      "            \"timezone2\": \"America/Montreal\"\n",
      "        }\n",
      "    }\n",
      "]\u001b[0m\n",
      "\u001b[32m2024-05-03 02:39:36 INFO semantic_router.utils.logger Function inputs: [{'function_name': 'get_time', 'arguments': {'timezone': 'Europe/Oslo'}}, {'function_name': 'get_time_difference', 'arguments': {'timezone1': 'Europe/Oslo', 'timezone2': 'America/Montreal'}}]\u001b[0m\n",
      "\u001b[32m2024-05-03 02:39:36 INFO semantic_router.utils.logger Document 1 length: 84\u001b[0m\n",
      "\u001b[32m2024-05-03 02:39:36 INFO semantic_router.utils.logger Document 1 trunc length: 84\u001b[0m\n"
     ]
    },
    {
     "name": "stdout",
     "output_type": "stream",
     "text": [
      "00:39\n",
      "The time difference between Europe/Oslo and America/Montreal is -6.0 hours.\n",
      ">>> PASS <<<.\n",
      "====================================================================================================\n",
      "====================================================================================================\n",
      "Processing utterance:  Can you display the current time in Mexico City and the hours difference with Tokyo?\n"
     ]
    },
    {
     "name": "stderr",
     "output_type": "stream",
     "text": [
      "\u001b[32m2024-05-03 02:39:36 INFO semantic_router.utils.logger Extracting function input...\u001b[0m\n",
      "\u001b[32m2024-05-03 02:39:38 INFO semantic_router.utils.logger LLM output: [\n",
      "    {\n",
      "        \"function_name\": \"get_time\",\n",
      "        \"arguments\": {\n",
      "            \"timezone\": \"America/Mexico_City\"\n",
      "        }\n",
      "    },\n",
      "    {\n",
      "        \"function_name\": \"get_time_difference\",\n",
      "        \"arguments\": {\n",
      "            \"timezone1\": \"America/Mexico_City\",\n",
      "            \"timezone2\": \"Asia/Tokyo\"\n",
      "        }\n",
      "    }\n",
      "]\u001b[0m\n",
      "\u001b[32m2024-05-03 02:39:38 INFO semantic_router.utils.logger Function inputs: [{'function_name': 'get_time', 'arguments': {'timezone': 'America/Mexico_City'}}, {'function_name': 'get_time_difference', 'arguments': {'timezone1': 'America/Mexico_City', 'timezone2': 'Asia/Tokyo'}}]\u001b[0m\n",
      "\u001b[32m2024-05-03 02:39:38 INFO semantic_router.utils.logger Document 1 length: 75\u001b[0m\n",
      "\u001b[32m2024-05-03 02:39:38 INFO semantic_router.utils.logger Document 1 trunc length: 75\u001b[0m\n"
     ]
    },
    {
     "name": "stdout",
     "output_type": "stream",
     "text": [
      "16:39\n",
      "The time difference between America/Mexico_City and Asia/Tokyo is 15.0 hours.\n",
      ">>> PASS <<<.\n",
      "====================================================================================================\n",
      "====================================================================================================\n",
      "Processing utterance:  Tell me the current time in Lisbon and how many hours it is behind Beijing.\n"
     ]
    },
    {
     "name": "stderr",
     "output_type": "stream",
     "text": [
      "\u001b[32m2024-05-03 02:39:39 INFO semantic_router.utils.logger Extracting function input...\u001b[0m\n",
      "\u001b[32m2024-05-03 02:39:40 INFO semantic_router.utils.logger LLM output: [\n",
      "    {\n",
      "        \"function_name\": \"get_time\",\n",
      "        \"arguments\": {\n",
      "            \"timezone\": \"Europe/Lisbon\"\n",
      "        }\n",
      "    },\n",
      "    {\n",
      "        \"function_name\": \"get_time_difference\",\n",
      "        \"arguments\": {\n",
      "            \"timezone1\": \"Europe/Lisbon\",\n",
      "            \"timezone2\": \"Asia/Shanghai\"\n",
      "        }\n",
      "    }\n",
      "]\u001b[0m\n",
      "\u001b[32m2024-05-03 02:39:40 INFO semantic_router.utils.logger Function inputs: [{'function_name': 'get_time', 'arguments': {'timezone': 'Europe/Lisbon'}}, {'function_name': 'get_time_difference', 'arguments': {'timezone1': 'Europe/Lisbon', 'timezone2': 'Asia/Shanghai'}}]\u001b[0m\n",
      "\u001b[32m2024-05-03 02:39:40 INFO semantic_router.utils.logger Document 1 length: 87\u001b[0m\n",
      "\u001b[32m2024-05-03 02:39:40 INFO semantic_router.utils.logger Document 1 trunc length: 87\u001b[0m\n"
     ]
    },
    {
     "name": "stdout",
     "output_type": "stream",
     "text": [
      "23:39\n",
      "The time difference between Europe/Lisbon and Asia/Shanghai is 7.0 hours.\n",
      ">>> PASS <<<.\n",
      "====================================================================================================\n",
      "====================================================================================================\n",
      "Processing utterance:  I'd like to know the current time in Budapest and the time difference with Los Angeles.\n"
     ]
    },
    {
     "name": "stderr",
     "output_type": "stream",
     "text": [
      "\u001b[32m2024-05-03 02:39:41 INFO semantic_router.utils.logger Extracting function input...\u001b[0m\n",
      "\u001b[32m2024-05-03 02:39:42 INFO semantic_router.utils.logger LLM output: [\n",
      "    {\n",
      "        \"function_name\": \"get_time\",\n",
      "        \"arguments\": {\n",
      "            \"timezone\": \"Europe/Budapest\"\n",
      "        }\n",
      "    },\n",
      "    {\n",
      "        \"function_name\": \"get_time_difference\",\n",
      "        \"arguments\": {\n",
      "            \"timezone1\": \"Europe/Budapest\",\n",
      "            \"timezone2\": \"America/Los_Angeles\"\n",
      "        }\n",
      "    }\n",
      "]\u001b[0m\n",
      "\u001b[32m2024-05-03 02:39:42 INFO semantic_router.utils.logger Function inputs: [{'function_name': 'get_time', 'arguments': {'timezone': 'Europe/Budapest'}}, {'function_name': 'get_time_difference', 'arguments': {'timezone1': 'Europe/Budapest', 'timezone2': 'America/Los_Angeles'}}]\u001b[0m\n",
      "\u001b[32m2024-05-03 02:39:42 INFO semantic_router.utils.logger Document 1 length: 68\u001b[0m\n",
      "\u001b[32m2024-05-03 02:39:42 INFO semantic_router.utils.logger Document 1 trunc length: 68\u001b[0m\n"
     ]
    },
    {
     "name": "stdout",
     "output_type": "stream",
     "text": [
      "00:39\n",
      "The time difference between Europe/Budapest and America/Los_Angeles is -9.0 hours.\n",
      ">>> PASS <<<.\n",
      "====================================================================================================\n",
      "====================================================================================================\n",
      "Processing utterance:  Please show the current time in Stockholm and the hour gap to Dubai.\n"
     ]
    },
    {
     "name": "stderr",
     "output_type": "stream",
     "text": [
      "\u001b[32m2024-05-03 02:39:43 INFO semantic_router.utils.logger Extracting function input...\u001b[0m\n",
      "\u001b[32m2024-05-03 02:39:44 INFO semantic_router.utils.logger LLM output: [\n",
      "    {\n",
      "        \"function_name\": \"get_time\",\n",
      "        \"arguments\": {\n",
      "            \"timezone\": \"Europe/Stockholm\"\n",
      "        }\n",
      "    },\n",
      "    {\n",
      "        \"function_name\": \"get_time_difference\",\n",
      "        \"arguments\": {\n",
      "            \"timezone1\": \"Europe/Stockholm\",\n",
      "            \"timezone2\": \"Asia/Dubai\"\n",
      "        }\n",
      "    }\n",
      "]\u001b[0m\n",
      "\u001b[32m2024-05-03 02:39:44 INFO semantic_router.utils.logger Function inputs: [{'function_name': 'get_time', 'arguments': {'timezone': 'Europe/Stockholm'}}, {'function_name': 'get_time_difference', 'arguments': {'timezone1': 'Europe/Stockholm', 'timezone2': 'Asia/Dubai'}}]\u001b[0m\n",
      "\u001b[32m2024-05-03 02:39:44 INFO semantic_router.utils.logger Document 1 length: 79\u001b[0m\n",
      "\u001b[32m2024-05-03 02:39:44 INFO semantic_router.utils.logger Document 1 trunc length: 79\u001b[0m\n"
     ]
    },
    {
     "name": "stdout",
     "output_type": "stream",
     "text": [
      "00:39\n",
      "The time difference between Europe/Stockholm and Asia/Dubai is 2.0 hours.\n",
      ">>> PASS <<<.\n",
      "====================================================================================================\n",
      "====================================================================================================\n",
      "Processing utterance:  What's the time in Houston right now and how many hours ahead is it from Paris?\n"
     ]
    },
    {
     "name": "stderr",
     "output_type": "stream",
     "text": [
      "\u001b[32m2024-05-03 02:39:45 INFO semantic_router.utils.logger Extracting function input...\u001b[0m\n",
      "\u001b[32m2024-05-03 02:39:46 INFO semantic_router.utils.logger LLM output: [\n",
      "    {\n",
      "        \"function_name\": \"get_time\",\n",
      "        \"arguments\": {\n",
      "            \"timezone\": \"America/Chicago\"\n",
      "        }\n",
      "    },\n",
      "    {\n",
      "        \"function_name\": \"get_time_difference\",\n",
      "        \"arguments\": {\n",
      "            \"timezone1\": \"America/Chicago\",\n",
      "            \"timezone2\": \"Europe/Paris\"\n",
      "        }\n",
      "    }\n",
      "]\u001b[0m\n",
      "\u001b[32m2024-05-03 02:39:46 INFO semantic_router.utils.logger Function inputs: [{'function_name': 'get_time', 'arguments': {'timezone': 'America/Chicago'}}, {'function_name': 'get_time_difference', 'arguments': {'timezone1': 'America/Chicago', 'timezone2': 'Europe/Paris'}}]\u001b[0m\n",
      "\u001b[32m2024-05-03 02:39:46 INFO semantic_router.utils.logger Document 1 length: 79\u001b[0m\n",
      "\u001b[32m2024-05-03 02:39:46 INFO semantic_router.utils.logger Document 1 trunc length: 79\u001b[0m\n"
     ]
    },
    {
     "name": "stdout",
     "output_type": "stream",
     "text": [
      "17:39\n",
      "The time difference between America/Chicago and Europe/Paris is 7.0 hours.\n",
      ">>> PASS <<<.\n",
      "====================================================================================================\n",
      "====================================================================================================\n",
      "Processing utterance:  Can you check the current time in Atlanta and how far behind it is from Moscow?\n"
     ]
    },
    {
     "name": "stderr",
     "output_type": "stream",
     "text": [
      "\u001b[32m2024-05-03 02:39:47 INFO semantic_router.utils.logger Extracting function input...\u001b[0m\n",
      "\u001b[32m2024-05-03 02:39:48 INFO semantic_router.utils.logger LLM output: [\n",
      "    {\n",
      "        \"function_name\": \"get_time\",\n",
      "        \"arguments\": {\n",
      "            \"timezone\": \"America/New_York\"\n",
      "        }\n",
      "    },\n",
      "    {\n",
      "        \"function_name\": \"get_time_difference\",\n",
      "        \"arguments\": {\n",
      "            \"timezone1\": \"America/New_York\",\n",
      "            \"timezone2\": \"Europe/Moscow\"\n",
      "        }\n",
      "    }\n",
      "]\u001b[0m\n",
      "\u001b[32m2024-05-03 02:39:48 INFO semantic_router.utils.logger Function inputs: [{'function_name': 'get_time', 'arguments': {'timezone': 'America/New_York'}}, {'function_name': 'get_time_difference', 'arguments': {'timezone1': 'America/New_York', 'timezone2': 'Europe/Moscow'}}]\u001b[0m\n",
      "\u001b[32m2024-05-03 02:39:48 INFO semantic_router.utils.logger Document 1 length: 73\u001b[0m\n",
      "\u001b[32m2024-05-03 02:39:48 INFO semantic_router.utils.logger Document 1 trunc length: 73\u001b[0m\n"
     ]
    },
    {
     "name": "stdout",
     "output_type": "stream",
     "text": [
      "18:39\n",
      "The time difference between America/New_York and Europe/Moscow is 7.0 hours.\n",
      ">>> PASS <<<.\n",
      "====================================================================================================\n",
      "====================================================================================================\n",
      "Processing utterance:  Find out the current time in Denver and the time difference to Singapore.\n"
     ]
    },
    {
     "name": "stderr",
     "output_type": "stream",
     "text": [
      "\u001b[32m2024-05-03 02:39:49 INFO semantic_router.utils.logger Extracting function input...\u001b[0m\n",
      "\u001b[32m2024-05-03 02:39:50 INFO semantic_router.utils.logger LLM output: [\n",
      "    {\n",
      "        \"function_name\": \"get_time\",\n",
      "        \"arguments\": {\n",
      "            \"timezone\": \"America/Denver\"\n",
      "        }\n",
      "    },\n",
      "    {\n",
      "        \"function_name\": \"get_time_difference\",\n",
      "        \"arguments\": {\n",
      "            \"timezone1\": \"America/Denver\",\n",
      "            \"timezone2\": \"Asia/Singapore\"\n",
      "        }\n",
      "    }\n",
      "]\u001b[0m\n",
      "\u001b[32m2024-05-03 02:39:50 INFO semantic_router.utils.logger Function inputs: [{'function_name': 'get_time', 'arguments': {'timezone': 'America/Denver'}}, {'function_name': 'get_time_difference', 'arguments': {'timezone1': 'America/Denver', 'timezone2': 'Asia/Singapore'}}]\u001b[0m\n",
      "\u001b[32m2024-05-03 02:39:50 INFO semantic_router.utils.logger Document 1 length: 91\u001b[0m\n",
      "\u001b[32m2024-05-03 02:39:50 INFO semantic_router.utils.logger Document 1 trunc length: 91\u001b[0m\n"
     ]
    },
    {
     "name": "stdout",
     "output_type": "stream",
     "text": [
      "16:39\n",
      "The time difference between America/Denver and Asia/Singapore is 14.0 hours.\n",
      ">>> PASS <<<.\n",
      "====================================================================================================\n",
      "====================================================================================================\n",
      "Processing utterance:  I want to know the current time in Mumbai and how many hours it is ahead of Rio de Janeiro.\n"
     ]
    },
    {
     "name": "stderr",
     "output_type": "stream",
     "text": [
      "\u001b[32m2024-05-03 02:39:51 INFO semantic_router.utils.logger Extracting function input...\u001b[0m\n",
      "\u001b[32m2024-05-03 02:39:53 INFO semantic_router.utils.logger LLM output: [\n",
      "    {\n",
      "        \"function_name\": \"get_time\",\n",
      "        \"arguments\": {\n",
      "            \"timezone\": \"Asia/Kolkata\"\n",
      "        }\n",
      "    },\n",
      "    {\n",
      "        \"function_name\": \"get_time_difference\",\n",
      "        \"arguments\": {\n",
      "            \"timezone1\": \"Asia/Kolkata\",\n",
      "            \"timezone2\": \"America/Sao_Paulo\"\n",
      "        }\n",
      "    }\n",
      "]\u001b[0m\n",
      "\u001b[32m2024-05-03 02:39:53 INFO semantic_router.utils.logger Function inputs: [{'function_name': 'get_time', 'arguments': {'timezone': 'Asia/Kolkata'}}, {'function_name': 'get_time_difference', 'arguments': {'timezone1': 'Asia/Kolkata', 'timezone2': 'America/Sao_Paulo'}}]\u001b[0m\n",
      "\u001b[32m2024-05-03 02:39:53 INFO semantic_router.utils.logger Document 1 length: 72\u001b[0m\n",
      "\u001b[32m2024-05-03 02:39:53 INFO semantic_router.utils.logger Document 1 trunc length: 72\u001b[0m\n"
     ]
    },
    {
     "name": "stdout",
     "output_type": "stream",
     "text": [
      "04:09\n",
      "The time difference between Asia/Kolkata and America/Sao_Paulo is -8.5 hours.\n",
      ">>> PASS <<<.\n",
      "====================================================================================================\n",
      "====================================================================================================\n",
      "Processing utterance:  Please provide the current time in Seattle and the time gap with London.\n"
     ]
    },
    {
     "name": "stderr",
     "output_type": "stream",
     "text": [
      "\u001b[32m2024-05-03 02:39:53 INFO semantic_router.utils.logger Extracting function input...\u001b[0m\n",
      "\u001b[32m2024-05-03 02:39:55 INFO semantic_router.utils.logger LLM output: [\n",
      "    {\n",
      "        \"function_name\": \"get_time\",\n",
      "        \"arguments\": {\n",
      "            \"timezone\": \"America/Los_Angeles\"\n",
      "        }\n",
      "    },\n",
      "    {\n",
      "        \"function_name\": \"get_time_difference\",\n",
      "        \"arguments\": {\n",
      "            \"timezone1\": \"America/Los_Angeles\",\n",
      "            \"timezone2\": \"Europe/London\"\n",
      "        }\n",
      "    }\n",
      "]\u001b[0m\n",
      "\u001b[32m2024-05-03 02:39:55 INFO semantic_router.utils.logger Function inputs: [{'function_name': 'get_time', 'arguments': {'timezone': 'America/Los_Angeles'}}, {'function_name': 'get_time_difference', 'arguments': {'timezone1': 'America/Los_Angeles', 'timezone2': 'Europe/London'}}]\u001b[0m\n",
      "\u001b[32m2024-05-03 02:39:55 INFO semantic_router.utils.logger Document 1 length: 79\u001b[0m\n",
      "\u001b[32m2024-05-03 02:39:55 INFO semantic_router.utils.logger Document 1 trunc length: 79\u001b[0m\n"
     ]
    },
    {
     "name": "stdout",
     "output_type": "stream",
     "text": [
      "15:39\n",
      "The time difference between America/Los_Angeles and Europe/London is 8.0 hours.\n",
      ">>> PASS <<<.\n",
      "====================================================================================================\n",
      "====================================================================================================\n",
      "Processing utterance:  Show me the current time in Johannesburg and how many hours it is behind Tokyo.\n"
     ]
    },
    {
     "name": "stderr",
     "output_type": "stream",
     "text": [
      "\u001b[32m2024-05-03 02:39:55 INFO semantic_router.utils.logger Extracting function input...\u001b[0m\n",
      "\u001b[32m2024-05-03 02:39:57 INFO semantic_router.utils.logger LLM output: [\n",
      "    {\n",
      "        \"function_name\": \"get_time\",\n",
      "        \"arguments\": {\n",
      "            \"timezone\": \"Africa/Johannesburg\"\n",
      "        }\n",
      "    },\n",
      "    {\n",
      "        \"function_name\": \"get_time_difference\",\n",
      "        \"arguments\": {\n",
      "            \"timezone1\": \"Africa/Johannesburg\",\n",
      "            \"timezone2\": \"Asia/Tokyo\"\n",
      "        }\n",
      "    }\n",
      "]\u001b[0m\n",
      "\u001b[32m2024-05-03 02:39:57 INFO semantic_router.utils.logger Function inputs: [{'function_name': 'get_time', 'arguments': {'timezone': 'Africa/Johannesburg'}}, {'function_name': 'get_time_difference', 'arguments': {'timezone1': 'Africa/Johannesburg', 'timezone2': 'Asia/Tokyo'}}]\u001b[0m\n",
      "\u001b[32m2024-05-03 02:39:57 INFO semantic_router.utils.logger Document 1 length: 81\u001b[0m\n",
      "\u001b[32m2024-05-03 02:39:57 INFO semantic_router.utils.logger Document 1 trunc length: 81\u001b[0m\n"
     ]
    },
    {
     "name": "stdout",
     "output_type": "stream",
     "text": [
      "00:39\n",
      "The time difference between Africa/Johannesburg and Asia/Tokyo is 7.0 hours.\n",
      ">>> PASS <<<.\n",
      "====================================================================================================\n",
      "====================================================================================================\n",
      "Processing utterance:  Could you tell me the current time in Phoenix and the hour difference with Cairo?\n"
     ]
    },
    {
     "name": "stderr",
     "output_type": "stream",
     "text": [
      "\u001b[32m2024-05-03 02:39:57 INFO semantic_router.utils.logger Extracting function input...\u001b[0m\n",
      "\u001b[32m2024-05-03 02:39:59 INFO semantic_router.utils.logger LLM output: [\n",
      "    {\n",
      "        \"function_name\": \"get_time\",\n",
      "        \"arguments\": {\n",
      "            \"timezone\": \"America/Phoenix\"\n",
      "        }\n",
      "    },\n",
      "    {\n",
      "        \"function_name\": \"get_time_difference\",\n",
      "        \"arguments\": {\n",
      "            \"timezone1\": \"America/Phoenix\",\n",
      "            \"timezone2\": \"Africa/Cairo\"\n",
      "        }\n",
      "    }\n",
      "]\u001b[0m\n",
      "\u001b[32m2024-05-03 02:39:59 INFO semantic_router.utils.logger Function inputs: [{'function_name': 'get_time', 'arguments': {'timezone': 'America/Phoenix'}}, {'function_name': 'get_time_difference', 'arguments': {'timezone1': 'America/Phoenix', 'timezone2': 'Africa/Cairo'}}]\u001b[0m\n",
      "\u001b[32m2024-05-03 02:39:59 INFO semantic_router.utils.logger Document 1 length: 81\u001b[0m\n",
      "\u001b[32m2024-05-03 02:39:59 INFO semantic_router.utils.logger Document 1 trunc length: 81\u001b[0m\n"
     ]
    },
    {
     "name": "stdout",
     "output_type": "stream",
     "text": [
      "15:39\n",
      "The time difference between America/Phoenix and Africa/Cairo is 10.0 hours.\n",
      ">>> PASS <<<.\n",
      "====================================================================================================\n",
      "====================================================================================================\n",
      "Processing utterance:  What is the current time in Brussels and how many hours is it ahead of Vancouver?\n"
     ]
    },
    {
     "name": "stderr",
     "output_type": "stream",
     "text": [
      "\u001b[32m2024-05-03 02:39:59 INFO semantic_router.utils.logger Extracting function input...\u001b[0m\n",
      "\u001b[32m2024-05-03 02:40:01 INFO semantic_router.utils.logger LLM output: [\n",
      "    {\n",
      "        \"function_name\": \"get_time\",\n",
      "        \"arguments\": {\n",
      "            \"timezone\": \"Europe/Brussels\"\n",
      "        }\n",
      "    },\n",
      "    {\n",
      "        \"function_name\": \"get_time_difference\",\n",
      "        \"arguments\": {\n",
      "            \"timezone1\": \"Europe/Brussels\",\n",
      "            \"timezone2\": \"America/Vancouver\"\n",
      "        }\n",
      "    }\n",
      "]\u001b[0m\n",
      "\u001b[32m2024-05-03 02:40:01 INFO semantic_router.utils.logger Function inputs: [{'function_name': 'get_time', 'arguments': {'timezone': 'Europe/Brussels'}}, {'function_name': 'get_time_difference', 'arguments': {'timezone1': 'Europe/Brussels', 'timezone2': 'America/Vancouver'}}]\u001b[0m\n",
      "\u001b[32m2024-05-03 02:40:01 INFO semantic_router.utils.logger Document 1 length: 82\u001b[0m\n",
      "\u001b[32m2024-05-03 02:40:01 INFO semantic_router.utils.logger Document 1 trunc length: 82\u001b[0m\n"
     ]
    },
    {
     "name": "stdout",
     "output_type": "stream",
     "text": [
      "00:40\n",
      "The time difference between Europe/Brussels and America/Vancouver is -9.0 hours.\n",
      ">>> PASS <<<.\n",
      "====================================================================================================\n",
      "====================================================================================================\n",
      "Processing utterance:  Can you find the current time in Dublin and how many hours it is behind Hong Kong?\n"
     ]
    },
    {
     "name": "stderr",
     "output_type": "stream",
     "text": [
      "\u001b[32m2024-05-03 02:40:01 INFO semantic_router.utils.logger Extracting function input...\u001b[0m\n",
      "\u001b[32m2024-05-03 02:40:03 INFO semantic_router.utils.logger LLM output: [\n",
      "    {\n",
      "        \"function_name\": \"get_time\",\n",
      "        \"arguments\": {\n",
      "            \"timezone\": \"Europe/Dublin\"\n",
      "        }\n",
      "    },\n",
      "    {\n",
      "        \"function_name\": \"get_time_difference\",\n",
      "        \"arguments\": {\n",
      "            \"timezone1\": \"Europe/Dublin\",\n",
      "            \"timezone2\": \"Asia/Hong_Kong\"\n",
      "        }\n",
      "    }\n",
      "]\u001b[0m\n",
      "\u001b[32m2024-05-03 02:40:03 INFO semantic_router.utils.logger Function inputs: [{'function_name': 'get_time', 'arguments': {'timezone': 'Europe/Dublin'}}, {'function_name': 'get_time_difference', 'arguments': {'timezone1': 'Europe/Dublin', 'timezone2': 'Asia/Hong_Kong'}}]\u001b[0m\n",
      "\u001b[32m2024-05-03 02:40:03 INFO semantic_router.utils.logger Document 1 length: 74\u001b[0m\n",
      "\u001b[32m2024-05-03 02:40:03 INFO semantic_router.utils.logger Document 1 trunc length: 74\u001b[0m\n"
     ]
    },
    {
     "name": "stdout",
     "output_type": "stream",
     "text": [
      "23:40\n",
      "The time difference between Europe/Dublin and Asia/Hong_Kong is 7.0 hours.\n",
      ">>> PASS <<<.\n",
      "====================================================================================================\n",
      "====================================================================================================\n",
      "Processing utterance:  Tell me the current time in Las Vegas and the time difference with Berlin.\n"
     ]
    },
    {
     "name": "stderr",
     "output_type": "stream",
     "text": [
      "\u001b[32m2024-05-03 02:40:03 INFO semantic_router.utils.logger Extracting function input...\u001b[0m\n",
      "\u001b[32m2024-05-03 02:40:05 INFO semantic_router.utils.logger LLM output: [\n",
      "    {\n",
      "        \"function_name\": \"get_time\",\n",
      "        \"arguments\": {\n",
      "            \"timezone\": \"America/Los_Angeles\"\n",
      "        }\n",
      "    },\n",
      "    {\n",
      "        \"function_name\": \"get_time_difference\",\n",
      "        \"arguments\": {\n",
      "            \"timezone1\": \"America/Los_Angeles\",\n",
      "            \"timezone2\": \"Europe/Berlin\"\n",
      "        }\n",
      "    }\n",
      "]\u001b[0m\n",
      "\u001b[32m2024-05-03 02:40:05 INFO semantic_router.utils.logger Function inputs: [{'function_name': 'get_time', 'arguments': {'timezone': 'America/Los_Angeles'}}, {'function_name': 'get_time_difference', 'arguments': {'timezone1': 'America/Los_Angeles', 'timezone2': 'Europe/Berlin'}}]\u001b[0m\n",
      "\u001b[32m2024-05-03 02:40:05 INFO semantic_router.utils.logger Document 1 length: 76\u001b[0m\n",
      "\u001b[32m2024-05-03 02:40:05 INFO semantic_router.utils.logger Document 1 trunc length: 76\u001b[0m\n"
     ]
    },
    {
     "name": "stdout",
     "output_type": "stream",
     "text": [
      "15:40\n",
      "The time difference between America/Los_Angeles and Europe/Berlin is 9.0 hours.\n",
      ">>> PASS <<<.\n",
      "====================================================================================================\n",
      "====================================================================================================\n",
      "Processing utterance:  I need the current time in Toronto and how many hours it is ahead of Madrid.\n"
     ]
    },
    {
     "name": "stderr",
     "output_type": "stream",
     "text": [
      "\u001b[32m2024-05-03 02:40:06 INFO semantic_router.utils.logger Extracting function input...\u001b[0m\n",
      "\u001b[32m2024-05-03 02:40:07 INFO semantic_router.utils.logger LLM output: [\n",
      "    {\n",
      "        \"function_name\": \"get_time\",\n",
      "        \"arguments\": {\n",
      "            \"timezone\": \"America/Toronto\"\n",
      "        }\n",
      "    },\n",
      "    {\n",
      "        \"function_name\": \"get_time_difference\",\n",
      "        \"arguments\": {\n",
      "            \"timezone1\": \"America/Toronto\",\n",
      "            \"timezone2\": \"Europe/Madrid\"\n",
      "        }\n",
      "    }\n",
      "]\u001b[0m\n",
      "\u001b[32m2024-05-03 02:40:07 INFO semantic_router.utils.logger Function inputs: [{'function_name': 'get_time', 'arguments': {'timezone': 'America/Toronto'}}, {'function_name': 'get_time_difference', 'arguments': {'timezone1': 'America/Toronto', 'timezone2': 'Europe/Madrid'}}]\u001b[0m\n",
      "\u001b[32m2024-05-03 02:40:07 INFO semantic_router.utils.logger Document 1 length: 81\u001b[0m\n",
      "\u001b[32m2024-05-03 02:40:07 INFO semantic_router.utils.logger Document 1 trunc length: 81\u001b[0m\n"
     ]
    },
    {
     "name": "stdout",
     "output_type": "stream",
     "text": [
      "18:40\n",
      "The time difference between America/Toronto and Europe/Madrid is 6.0 hours.\n",
      ">>> PASS <<<.\n",
      "====================================================================================================\n",
      "====================================================================================================\n",
      "Processing utterance:  Please display the current time in Montreal and the hours difference with Sydney.\n"
     ]
    },
    {
     "name": "stderr",
     "output_type": "stream",
     "text": [
      "\u001b[32m2024-05-03 02:40:08 INFO semantic_router.utils.logger Extracting function input...\u001b[0m\n",
      "\u001b[32m2024-05-03 02:40:09 INFO semantic_router.utils.logger LLM output: [\n",
      "    {\n",
      "        \"function_name\": \"get_time\",\n",
      "        \"arguments\": {\n",
      "            \"timezone\": \"America/Montreal\"\n",
      "        }\n",
      "    },\n",
      "    {\n",
      "        \"function_name\": \"get_time_difference\",\n",
      "        \"arguments\": {\n",
      "            \"timezone1\": \"America/Montreal\",\n",
      "            \"timezone2\": \"Australia/Sydney\"\n",
      "        }\n",
      "    }\n",
      "]\u001b[0m\n",
      "\u001b[32m2024-05-03 02:40:09 INFO semantic_router.utils.logger Function inputs: [{'function_name': 'get_time', 'arguments': {'timezone': 'America/Montreal'}}, {'function_name': 'get_time_difference', 'arguments': {'timezone1': 'America/Montreal', 'timezone2': 'Australia/Sydney'}}]\u001b[0m\n",
      "\u001b[32m2024-05-03 02:40:09 INFO semantic_router.utils.logger Document 1 length: 81\u001b[0m\n",
      "\u001b[32m2024-05-03 02:40:09 INFO semantic_router.utils.logger Document 1 trunc length: 81\u001b[0m\n"
     ]
    },
    {
     "name": "stdout",
     "output_type": "stream",
     "text": [
      "18:40\n",
      "The time difference between America/Montreal and Australia/Sydney is 14.0 hours.\n",
      ">>> PASS <<<.\n",
      "====================================================================================================\n",
      "====================================================================================================\n",
      "Processing utterance:  What's the current time in Copenhagen and how many hours behind is it from Tokyo?\n"
     ]
    },
    {
     "name": "stderr",
     "output_type": "stream",
     "text": [
      "\u001b[32m2024-05-03 02:40:10 INFO semantic_router.utils.logger Extracting function input...\u001b[0m\n",
      "\u001b[32m2024-05-03 02:40:12 INFO semantic_router.utils.logger LLM output: [\n",
      "    {\n",
      "        \"function_name\": \"get_time\",\n",
      "        \"arguments\": {\n",
      "            \"timezone\": \"Europe/Copenhagen\"\n",
      "        }\n",
      "    },\n",
      "    {\n",
      "        \"function_name\": \"get_time_difference\",\n",
      "        \"arguments\": {\n",
      "            \"timezone1\": \"Europe/Copenhagen\",\n",
      "            \"timezone2\": \"Asia/Tokyo\"\n",
      "        }\n",
      "    }\n",
      "]\u001b[0m\n",
      "\u001b[32m2024-05-03 02:40:12 INFO semantic_router.utils.logger Function inputs: [{'function_name': 'get_time', 'arguments': {'timezone': 'Europe/Copenhagen'}}, {'function_name': 'get_time_difference', 'arguments': {'timezone1': 'Europe/Copenhagen', 'timezone2': 'Asia/Tokyo'}}]\u001b[0m\n",
      "\u001b[32m2024-05-03 02:40:12 INFO semantic_router.utils.logger Document 1 length: 89\u001b[0m\n",
      "\u001b[32m2024-05-03 02:40:12 INFO semantic_router.utils.logger Document 1 trunc length: 89\u001b[0m\n"
     ]
    },
    {
     "name": "stdout",
     "output_type": "stream",
     "text": [
      "00:40\n",
      "The time difference between Europe/Copenhagen and Asia/Tokyo is 7.0 hours.\n",
      ">>> PASS <<<.\n",
      "====================================================================================================\n",
      "====================================================================================================\n",
      "Processing utterance:  Can you provide the current time in Athens and tell me the time difference with New York?\n"
     ]
    },
    {
     "name": "stderr",
     "output_type": "stream",
     "text": [
      "\u001b[32m2024-05-03 02:40:12 INFO semantic_router.utils.logger Extracting function input...\u001b[0m\n",
      "\u001b[32m2024-05-03 02:40:14 INFO semantic_router.utils.logger LLM output: [\n",
      "    {\n",
      "        \"function_name\": \"get_time\",\n",
      "        \"arguments\": {\n",
      "            \"timezone\": \"Europe/Athens\"\n",
      "        }\n",
      "    },\n",
      "    {\n",
      "        \"function_name\": \"get_time_difference\",\n",
      "        \"arguments\": {\n",
      "            \"timezone1\": \"Europe/Athens\",\n",
      "            \"timezone2\": \"America/New_York\"\n",
      "        }\n",
      "    }\n",
      "]\u001b[0m\n",
      "\u001b[32m2024-05-03 02:40:14 INFO semantic_router.utils.logger Function inputs: [{'function_name': 'get_time', 'arguments': {'timezone': 'Europe/Athens'}}, {'function_name': 'get_time_difference', 'arguments': {'timezone1': 'Europe/Athens', 'timezone2': 'America/New_York'}}]\u001b[0m\n",
      "\u001b[32m2024-05-03 02:40:14 INFO semantic_router.utils.logger Document 1 length: 84\u001b[0m\n",
      "\u001b[32m2024-05-03 02:40:14 INFO semantic_router.utils.logger Document 1 trunc length: 84\u001b[0m\n"
     ]
    },
    {
     "name": "stdout",
     "output_type": "stream",
     "text": [
      "01:40\n",
      "The time difference between Europe/Athens and America/New_York is -7.0 hours.\n",
      ">>> PASS <<<.\n",
      "====================================================================================================\n",
      "====================================================================================================\n",
      "Processing utterance:  Could you check the current time in Prague and how many hours it is ahead of Denver?\n"
     ]
    },
    {
     "name": "stderr",
     "output_type": "stream",
     "text": [
      "\u001b[32m2024-05-03 02:40:14 INFO semantic_router.utils.logger Extracting function input...\u001b[0m\n",
      "\u001b[32m2024-05-03 02:40:16 INFO semantic_router.utils.logger LLM output: [\n",
      "    {\n",
      "        \"function_name\": \"get_time\",\n",
      "        \"arguments\": {\n",
      "            \"timezone\": \"Europe/Prague\"\n",
      "        }\n",
      "    },\n",
      "    {\n",
      "        \"function_name\": \"get_time_difference\",\n",
      "        \"arguments\": {\n",
      "            \"timezone1\": \"Europe/Prague\",\n",
      "            \"timezone2\": \"America/Denver\"\n",
      "        }\n",
      "    }\n",
      "]\u001b[0m\n",
      "\u001b[32m2024-05-03 02:40:16 INFO semantic_router.utils.logger Function inputs: [{'function_name': 'get_time', 'arguments': {'timezone': 'Europe/Prague'}}, {'function_name': 'get_time_difference', 'arguments': {'timezone1': 'Europe/Prague', 'timezone2': 'America/Denver'}}]\u001b[0m\n",
      "\u001b[32m2024-05-03 02:40:16 INFO semantic_router.utils.logger Document 1 length: 78\u001b[0m\n",
      "\u001b[32m2024-05-03 02:40:16 INFO semantic_router.utils.logger Document 1 trunc length: 78\u001b[0m\n"
     ]
    },
    {
     "name": "stdout",
     "output_type": "stream",
     "text": [
      "00:40\n",
      "The time difference between Europe/Prague and America/Denver is -8.0 hours.\n",
      ">>> PASS <<<.\n",
      "====================================================================================================\n",
      "====================================================================================================\n",
      "Processing utterance:  What is the current time in Warsaw and the time difference with San Francisco?\n"
     ]
    },
    {
     "name": "stderr",
     "output_type": "stream",
     "text": [
      "\u001b[32m2024-05-03 02:40:16 INFO semantic_router.utils.logger Extracting function input...\u001b[0m\n",
      "\u001b[32m2024-05-03 02:40:18 INFO semantic_router.utils.logger LLM output: [\n",
      "    {\n",
      "        \"function_name\": \"get_time\",\n",
      "        \"arguments\": {\n",
      "            \"timezone\": \"Europe/Warsaw\"\n",
      "        }\n",
      "    },\n",
      "    {\n",
      "        \"function_name\": \"get_time_difference\",\n",
      "        \"arguments\": {\n",
      "            \"timezone1\": \"Europe/Warsaw\",\n",
      "            \"timezone2\": \"America/Los_Angeles\"\n",
      "        }\n",
      "    }\n",
      "]\u001b[0m\n",
      "\u001b[32m2024-05-03 02:40:18 INFO semantic_router.utils.logger Function inputs: [{'function_name': 'get_time', 'arguments': {'timezone': 'Europe/Warsaw'}}, {'function_name': 'get_time_difference', 'arguments': {'timezone1': 'Europe/Warsaw', 'timezone2': 'America/Los_Angeles'}}]\u001b[0m\n",
      "\u001b[32m2024-05-03 02:40:18 INFO semantic_router.utils.logger Document 1 length: 81\u001b[0m\n",
      "\u001b[32m2024-05-03 02:40:18 INFO semantic_router.utils.logger Document 1 trunc length: 81\u001b[0m\n"
     ]
    },
    {
     "name": "stdout",
     "output_type": "stream",
     "text": [
      "00:40\n",
      "The time difference between Europe/Warsaw and America/Los_Angeles is -9.0 hours.\n",
      ">>> PASS <<<.\n",
      "====================================================================================================\n",
      "====================================================================================================\n",
      "Processing utterance:  Please find out the current time in Bangkok and how far behind it is from London.\n"
     ]
    },
    {
     "name": "stderr",
     "output_type": "stream",
     "text": [
      "\u001b[32m2024-05-03 02:40:19 INFO semantic_router.utils.logger Extracting function input...\u001b[0m\n",
      "\u001b[32m2024-05-03 02:40:21 INFO semantic_router.utils.logger LLM output: [\n",
      "    {\n",
      "        \"function_name\": \"get_time\",\n",
      "        \"arguments\": {\n",
      "            \"timezone\": \"Asia/Bangkok\"\n",
      "        }\n",
      "    },\n",
      "    {\n",
      "        \"function_name\": \"get_time_difference\",\n",
      "        \"arguments\": {\n",
      "            \"timezone1\": \"Asia/Bangkok\",\n",
      "            \"timezone2\": \"Europe/London\"\n",
      "        }\n",
      "    }\n",
      "]\u001b[0m\n",
      "\u001b[32m2024-05-03 02:40:21 INFO semantic_router.utils.logger Function inputs: [{'function_name': 'get_time', 'arguments': {'timezone': 'Asia/Bangkok'}}, {'function_name': 'get_time_difference', 'arguments': {'timezone1': 'Asia/Bangkok', 'timezone2': 'Europe/London'}}]\u001b[0m\n",
      "\u001b[32m2024-05-03 02:40:21 INFO semantic_router.utils.logger Document 1 length: 88\u001b[0m\n",
      "\u001b[32m2024-05-03 02:40:21 INFO semantic_router.utils.logger Document 1 trunc length: 88\u001b[0m\n"
     ]
    },
    {
     "name": "stdout",
     "output_type": "stream",
     "text": [
      "05:40\n",
      "The time difference between Asia/Bangkok and Europe/London is -6.0 hours.\n",
      ">>> PASS <<<.\n",
      "====================================================================================================\n",
      "====================================================================================================\n",
      "Processing utterance:  Show me the current time in Kuala Lumpur and calculate the hours difference to New York.\n"
     ]
    },
    {
     "name": "stderr",
     "output_type": "stream",
     "text": [
      "\u001b[32m2024-05-03 02:40:21 INFO semantic_router.utils.logger Extracting function input...\u001b[0m\n",
      "\u001b[32m2024-05-03 02:40:23 INFO semantic_router.utils.logger LLM output: [\n",
      "    {\n",
      "        \"function_name\": \"get_time\",\n",
      "        \"arguments\": {\n",
      "            \"timezone\": \"Asia/Kuala_Lumpur\"\n",
      "        }\n",
      "    },\n",
      "    {\n",
      "        \"function_name\": \"get_time_difference\",\n",
      "        \"arguments\": {\n",
      "            \"timezone1\": \"Asia/Kuala_Lumpur\",\n",
      "            \"timezone2\": \"America/New_York\"\n",
      "        }\n",
      "    }\n",
      "]\u001b[0m\n",
      "\u001b[32m2024-05-03 02:40:23 INFO semantic_router.utils.logger Function inputs: [{'function_name': 'get_time', 'arguments': {'timezone': 'Asia/Kuala_Lumpur'}}, {'function_name': 'get_time_difference', 'arguments': {'timezone1': 'Asia/Kuala_Lumpur', 'timezone2': 'America/New_York'}}]\u001b[0m\n",
      "\u001b[32m2024-05-03 02:40:23 INFO semantic_router.utils.logger Document 1 length: 79\u001b[0m\n",
      "\u001b[32m2024-05-03 02:40:23 INFO semantic_router.utils.logger Document 1 trunc length: 79\u001b[0m\n"
     ]
    },
    {
     "name": "stdout",
     "output_type": "stream",
     "text": [
      "06:40\n",
      "The time difference between Asia/Kuala_Lumpur and America/New_York is -12.0 hours.\n",
      ">>> PASS <<<.\n",
      "====================================================================================================\n",
      "====================================================================================================\n",
      "Processing utterance:  Can you tell me the current time in Rome and how many hours it is behind Tokyo?\n"
     ]
    },
    {
     "name": "stderr",
     "output_type": "stream",
     "text": [
      "\u001b[32m2024-05-03 02:40:23 INFO semantic_router.utils.logger Extracting function input...\u001b[0m\n",
      "\u001b[32m2024-05-03 02:40:25 INFO semantic_router.utils.logger LLM output: [\n",
      "    {\n",
      "        \"function_name\": \"get_time\",\n",
      "        \"arguments\": {\n",
      "            \"timezone\": \"Europe/Rome\"\n",
      "        }\n",
      "    },\n",
      "    {\n",
      "        \"function_name\": \"get_time_difference\",\n",
      "        \"arguments\": {\n",
      "            \"timezone1\": \"Europe/Rome\",\n",
      "            \"timezone2\": \"Asia/Tokyo\"\n",
      "        }\n",
      "    }\n",
      "]\u001b[0m\n",
      "\u001b[32m2024-05-03 02:40:25 INFO semantic_router.utils.logger Function inputs: [{'function_name': 'get_time', 'arguments': {'timezone': 'Europe/Rome'}}, {'function_name': 'get_time_difference', 'arguments': {'timezone1': 'Europe/Rome', 'timezone2': 'Asia/Tokyo'}}]\u001b[0m\n",
      "\u001b[32m2024-05-03 02:40:25 INFO semantic_router.utils.logger Document 1 length: 69\u001b[0m\n",
      "\u001b[32m2024-05-03 02:40:25 INFO semantic_router.utils.logger Document 1 trunc length: 69\u001b[0m\n"
     ]
    },
    {
     "name": "stdout",
     "output_type": "stream",
     "text": [
      "00:40\n",
      "The time difference between Europe/Rome and Asia/Tokyo is 7.0 hours.\n",
      ">>> PASS <<<.\n",
      "====================================================================================================\n",
      "====================================================================================================\n",
      "Processing utterance:  I need the current time in Beijing and the time gap with Los Angeles.\n"
     ]
    },
    {
     "name": "stderr",
     "output_type": "stream",
     "text": [
      "\u001b[32m2024-05-03 02:40:25 INFO semantic_router.utils.logger Extracting function input...\u001b[0m\n",
      "\u001b[32m2024-05-03 02:40:27 INFO semantic_router.utils.logger LLM output: [\n",
      "    {\n",
      "        \"function_name\": \"get_time\",\n",
      "        \"arguments\": {\n",
      "            \"timezone\": \"Asia/Shanghai\"\n",
      "        }\n",
      "    },\n",
      "    {\n",
      "        \"function_name\": \"get_time_difference\",\n",
      "        \"arguments\": {\n",
      "            \"timezone1\": \"Asia/Shanghai\",\n",
      "            \"timezone2\": \"America/Los_Angeles\"\n",
      "        }\n",
      "    }\n",
      "]\u001b[0m\n",
      "\u001b[32m2024-05-03 02:40:27 INFO semantic_router.utils.logger Function inputs: [{'function_name': 'get_time', 'arguments': {'timezone': 'Asia/Shanghai'}}, {'function_name': 'get_time_difference', 'arguments': {'timezone1': 'Asia/Shanghai', 'timezone2': 'America/Los_Angeles'}}]\u001b[0m\n",
      "\u001b[32m2024-05-03 02:40:27 INFO semantic_router.utils.logger Document 1 length: 78\u001b[0m\n",
      "\u001b[32m2024-05-03 02:40:27 INFO semantic_router.utils.logger Document 1 trunc length: 78\u001b[0m\n"
     ]
    },
    {
     "name": "stdout",
     "output_type": "stream",
     "text": [
      "06:40\n",
      "The time difference between Asia/Shanghai and America/Los_Angeles is -15.0 hours.\n",
      ">>> PASS <<<.\n",
      "====================================================================================================\n",
      "====================================================================================================\n",
      "Processing utterance:  What's the current time in Santiago and how many hours ahead is it from Cairo?\n"
     ]
    },
    {
     "name": "stderr",
     "output_type": "stream",
     "text": [
      "\u001b[32m2024-05-03 02:40:27 INFO semantic_router.utils.logger Extracting function input...\u001b[0m\n",
      "\u001b[32m2024-05-03 02:40:30 INFO semantic_router.utils.logger LLM output: [\n",
      "    {\n",
      "        \"function_name\": \"get_time\",\n",
      "        \"arguments\": {\n",
      "            \"timezone\": \"America/Santiago\"\n",
      "        }\n",
      "    },\n",
      "    {\n",
      "        \"function_name\": \"get_time_difference\",\n",
      "        \"arguments\": {\n",
      "            \"timezone1\": \"America/Santiago\",\n",
      "            \"timezone2\": \"Africa/Cairo\"\n",
      "        }\n",
      "    }\n",
      "]\u001b[0m\n",
      "\u001b[32m2024-05-03 02:40:30 INFO semantic_router.utils.logger Function inputs: [{'function_name': 'get_time', 'arguments': {'timezone': 'America/Santiago'}}, {'function_name': 'get_time_difference', 'arguments': {'timezone1': 'America/Santiago', 'timezone2': 'Africa/Cairo'}}]\u001b[0m\n",
      "\u001b[32m2024-05-03 02:40:30 INFO semantic_router.utils.logger Document 1 length: 76\u001b[0m\n",
      "\u001b[32m2024-05-03 02:40:30 INFO semantic_router.utils.logger Document 1 trunc length: 76\u001b[0m\n"
     ]
    },
    {
     "name": "stdout",
     "output_type": "stream",
     "text": [
      "18:40\n",
      "The time difference between America/Santiago and Africa/Cairo is 7.0 hours.\n",
      ">>> PASS <<<.\n",
      "====================================================================================================\n",
      "====================================================================================================\n",
      "Processing utterance:  Please provide the current time in Lagos and the hour difference with Paris.\n"
     ]
    },
    {
     "name": "stderr",
     "output_type": "stream",
     "text": [
      "\u001b[32m2024-05-03 02:40:30 INFO semantic_router.utils.logger Extracting function input...\u001b[0m\n",
      "\u001b[32m2024-05-03 02:40:32 INFO semantic_router.utils.logger LLM output: [\n",
      "    {\n",
      "        \"function_name\": \"get_time\",\n",
      "        \"arguments\": {\n",
      "            \"timezone\": \"Africa/Lagos\"\n",
      "        }\n",
      "    },\n",
      "    {\n",
      "        \"function_name\": \"get_time_difference\",\n",
      "        \"arguments\": {\n",
      "            \"timezone1\": \"Africa/Lagos\",\n",
      "            \"timezone2\": \"Europe/Paris\"\n",
      "        }\n",
      "    }\n",
      "]\u001b[0m\n",
      "\u001b[32m2024-05-03 02:40:32 INFO semantic_router.utils.logger Function inputs: [{'function_name': 'get_time', 'arguments': {'timezone': 'Africa/Lagos'}}, {'function_name': 'get_time_difference', 'arguments': {'timezone1': 'Africa/Lagos', 'timezone2': 'Europe/Paris'}}]\u001b[0m\n",
      "\u001b[32m2024-05-03 02:40:32 INFO semantic_router.utils.logger Document 1 length: 77\u001b[0m\n",
      "\u001b[32m2024-05-03 02:40:32 INFO semantic_router.utils.logger Document 1 trunc length: 77\u001b[0m\n"
     ]
    },
    {
     "name": "stdout",
     "output_type": "stream",
     "text": [
      "23:40\n",
      "The time difference between Africa/Lagos and Europe/Paris is 1.0 hours.\n",
      ">>> PASS <<<.\n",
      "====================================================================================================\n",
      "====================================================================================================\n",
      "Processing utterance:  Tell me the current time in Melbourne and how many hours it is behind Moscow.\n"
     ]
    },
    {
     "name": "stderr",
     "output_type": "stream",
     "text": [
      "\u001b[32m2024-05-03 02:40:32 INFO semantic_router.utils.logger Extracting function input...\u001b[0m\n",
      "\u001b[32m2024-05-03 02:40:34 INFO semantic_router.utils.logger LLM output: [\n",
      "    {\n",
      "        \"function_name\": \"get_time\",\n",
      "        \"arguments\": {\n",
      "            \"timezone\": \"Australia/Melbourne\"\n",
      "        }\n",
      "    },\n",
      "    {\n",
      "        \"function_name\": \"get_time_difference\",\n",
      "        \"arguments\": {\n",
      "            \"timezone1\": \"Australia/Melbourne\",\n",
      "            \"timezone2\": \"Europe/Moscow\"\n",
      "        }\n",
      "    }\n",
      "]\u001b[0m\n",
      "\u001b[32m2024-05-03 02:40:34 INFO semantic_router.utils.logger Function inputs: [{'function_name': 'get_time', 'arguments': {'timezone': 'Australia/Melbourne'}}, {'function_name': 'get_time_difference', 'arguments': {'timezone1': 'Australia/Melbourne', 'timezone2': 'Europe/Moscow'}}]\u001b[0m\n",
      "\u001b[32m2024-05-03 02:40:34 INFO semantic_router.utils.logger Document 1 length: 81\u001b[0m\n",
      "\u001b[32m2024-05-03 02:40:34 INFO semantic_router.utils.logger Document 1 trunc length: 81\u001b[0m\n"
     ]
    },
    {
     "name": "stdout",
     "output_type": "stream",
     "text": [
      "08:40\n",
      "The time difference between Australia/Melbourne and Europe/Moscow is -7.0 hours.\n",
      ">>> PASS <<<.\n",
      "====================================================================================================\n",
      "====================================================================================================\n",
      "Processing utterance:  Can you display the current time in Caracas and the hours difference with Berlin?\n"
     ]
    },
    {
     "name": "stderr",
     "output_type": "stream",
     "text": [
      "\u001b[32m2024-05-03 02:40:35 INFO semantic_router.utils.logger Extracting function input...\u001b[0m\n",
      "\u001b[32m2024-05-03 02:40:36 INFO semantic_router.utils.logger LLM output: [\n",
      "    {\n",
      "        \"function_name\": \"get_time\",\n",
      "        \"arguments\": {\n",
      "            \"timezone\": \"America/Caracas\"\n",
      "        }\n",
      "    },\n",
      "    {\n",
      "        \"function_name\": \"get_time_difference\",\n",
      "        \"arguments\": {\n",
      "            \"timezone1\": \"America/Caracas\",\n",
      "            \"timezone2\": \"Europe/Berlin\"\n",
      "        }\n",
      "    }\n",
      "]\u001b[0m\n",
      "\u001b[32m2024-05-03 02:40:36 INFO semantic_router.utils.logger Function inputs: [{'function_name': 'get_time', 'arguments': {'timezone': 'America/Caracas'}}, {'function_name': 'get_time_difference', 'arguments': {'timezone1': 'America/Caracas', 'timezone2': 'Europe/Berlin'}}]\u001b[0m\n",
      "\u001b[32m2024-05-03 02:40:36 INFO semantic_router.utils.logger Document 1 length: 70\u001b[0m\n",
      "\u001b[32m2024-05-03 02:40:36 INFO semantic_router.utils.logger Document 1 trunc length: 70\u001b[0m\n"
     ]
    },
    {
     "name": "stdout",
     "output_type": "stream",
     "text": [
      "18:40\n",
      "The time difference between America/Caracas and Europe/Berlin is 6.0 hours.\n",
      ">>> PASS <<<.\n",
      "====================================================================================================\n",
      "====================================================================================================\n",
      "Processing utterance:  Find out the current time in Tehran and the time difference to Sydney.\n"
     ]
    },
    {
     "name": "stderr",
     "output_type": "stream",
     "text": [
      "\u001b[32m2024-05-03 02:40:37 INFO semantic_router.utils.logger Extracting function input...\u001b[0m\n",
      "\u001b[32m2024-05-03 02:40:38 INFO semantic_router.utils.logger LLM output: [\n",
      "    {\n",
      "        \"function_name\": \"get_time\",\n",
      "        \"arguments\": {\n",
      "            \"timezone\": \"Asia/Tehran\"\n",
      "        }\n",
      "    },\n",
      "    {\n",
      "        \"function_name\": \"get_time_difference\",\n",
      "        \"arguments\": {\n",
      "            \"timezone1\": \"Asia/Tehran\",\n",
      "            \"timezone2\": \"Australia/Sydney\"\n",
      "        }\n",
      "    }\n",
      "]\u001b[0m\n",
      "\u001b[32m2024-05-03 02:40:38 INFO semantic_router.utils.logger Function inputs: [{'function_name': 'get_time', 'arguments': {'timezone': 'Asia/Tehran'}}, {'function_name': 'get_time_difference', 'arguments': {'timezone1': 'Asia/Tehran', 'timezone2': 'Australia/Sydney'}}]\u001b[0m\n",
      "\u001b[32m2024-05-03 02:40:38 INFO semantic_router.utils.logger Document 1 length: 86\u001b[0m\n",
      "\u001b[32m2024-05-03 02:40:38 INFO semantic_router.utils.logger Document 1 trunc length: 86\u001b[0m\n"
     ]
    },
    {
     "name": "stdout",
     "output_type": "stream",
     "text": [
      "02:10\n",
      "The time difference between Asia/Tehran and Australia/Sydney is 6.5 hours.\n",
      ">>> PASS <<<.\n",
      "====================================================================================================\n",
      "====================================================================================================\n",
      "Processing utterance:  I'd like to know the current time in Havana and how many hours it is ahead of Toronto.\n"
     ]
    },
    {
     "name": "stderr",
     "output_type": "stream",
     "text": [
      "\u001b[32m2024-05-03 02:40:39 INFO semantic_router.utils.logger Extracting function input...\u001b[0m\n",
      "\u001b[32m2024-05-03 02:40:41 INFO semantic_router.utils.logger LLM output: [\n",
      "    {\n",
      "        \"function_name\": \"get_time\",\n",
      "        \"arguments\": {\n",
      "            \"timezone\": \"America/Havana\"\n",
      "        }\n",
      "    },\n",
      "    {\n",
      "        \"function_name\": \"get_time_difference\",\n",
      "        \"arguments\": {\n",
      "            \"timezone1\": \"America/Havana\",\n",
      "            \"timezone2\": \"America/Toronto\"\n",
      "        }\n",
      "    }\n",
      "]\u001b[0m\n",
      "\u001b[32m2024-05-03 02:40:41 INFO semantic_router.utils.logger Function inputs: [{'function_name': 'get_time', 'arguments': {'timezone': 'America/Havana'}}, {'function_name': 'get_time_difference', 'arguments': {'timezone1': 'America/Havana', 'timezone2': 'America/Toronto'}}]\u001b[0m\n",
      "\u001b[32m2024-05-03 02:40:41 INFO semantic_router.utils.logger Document 1 length: 78\u001b[0m\n",
      "\u001b[32m2024-05-03 02:40:41 INFO semantic_router.utils.logger Document 1 trunc length: 78\u001b[0m\n"
     ]
    },
    {
     "name": "stdout",
     "output_type": "stream",
     "text": [
      "18:40\n",
      "The time difference between America/Havana and America/Toronto is 0.0 hours.\n",
      ">>> PASS <<<.\n",
      "====================================================================================================\n",
      "====================================================================================================\n",
      "Processing utterance:  What is the current time in Bogota and how many hours behind is it from Seoul?\n"
     ]
    },
    {
     "name": "stderr",
     "output_type": "stream",
     "text": [
      "\u001b[32m2024-05-03 02:40:41 INFO semantic_router.utils.logger Extracting function input...\u001b[0m\n",
      "\u001b[32m2024-05-03 02:40:42 INFO semantic_router.utils.logger LLM output: [\n",
      "    {\n",
      "        \"function_name\": \"get_time\",\n",
      "        \"arguments\": {\n",
      "            \"timezone\": \"America/Bogota\"\n",
      "        }\n",
      "    },\n",
      "    {\n",
      "        \"function_name\": \"get_time_difference\",\n",
      "        \"arguments\": {\n",
      "            \"timezone1\": \"America/Bogota\",\n",
      "            \"timezone2\": \"Asia/Seoul\"\n",
      "        }\n",
      "    }\n",
      "]\u001b[0m\n",
      "\u001b[32m2024-05-03 02:40:42 INFO semantic_router.utils.logger Function inputs: [{'function_name': 'get_time', 'arguments': {'timezone': 'America/Bogota'}}, {'function_name': 'get_time_difference', 'arguments': {'timezone1': 'America/Bogota', 'timezone2': 'Asia/Seoul'}}]\u001b[0m\n",
      "\u001b[32m2024-05-03 02:40:42 INFO semantic_router.utils.logger Document 1 length: 82\u001b[0m\n",
      "\u001b[32m2024-05-03 02:40:42 INFO semantic_router.utils.logger Document 1 trunc length: 82\u001b[0m\n"
     ]
    },
    {
     "name": "stdout",
     "output_type": "stream",
     "text": [
      "17:40\n",
      "The time difference between America/Bogota and Asia/Seoul is 14.0 hours.\n",
      ">>> PASS <<<.\n",
      "====================================================================================================\n",
      "====================================================================================================\n",
      "Processing utterance:  Could you provide the current time in Nairobi and tell me the time gap with Dubai?\n"
     ]
    },
    {
     "name": "stderr",
     "output_type": "stream",
     "text": [
      "\u001b[32m2024-05-03 02:40:43 INFO semantic_router.utils.logger Extracting function input...\u001b[0m\n",
      "\u001b[32m2024-05-03 02:40:45 INFO semantic_router.utils.logger LLM output: [\n",
      "    {\n",
      "        \"function_name\": \"get_time\",\n",
      "        \"arguments\": {\n",
      "            \"timezone\": \"Africa/Nairobi\"\n",
      "        }\n",
      "    },\n",
      "    {\n",
      "        \"function_name\": \"get_time_difference\",\n",
      "        \"arguments\": {\n",
      "            \"timezone1\": \"Africa/Nairobi\",\n",
      "            \"timezone2\": \"Asia/Dubai\"\n",
      "        }\n",
      "    }\n",
      "]\u001b[0m\n",
      "\u001b[32m2024-05-03 02:40:45 INFO semantic_router.utils.logger Function inputs: [{'function_name': 'get_time', 'arguments': {'timezone': 'Africa/Nairobi'}}, {'function_name': 'get_time_difference', 'arguments': {'timezone1': 'Africa/Nairobi', 'timezone2': 'Asia/Dubai'}}]\u001b[0m\n",
      "\u001b[32m2024-05-03 02:40:45 INFO semantic_router.utils.logger Document 1 length: 75\u001b[0m\n",
      "\u001b[32m2024-05-03 02:40:45 INFO semantic_router.utils.logger Document 1 trunc length: 75\u001b[0m\n"
     ]
    },
    {
     "name": "stdout",
     "output_type": "stream",
     "text": [
      "01:40\n",
      "The time difference between Africa/Nairobi and Asia/Dubai is 1.0 hours.\n",
      ">>> PASS <<<.\n",
      "====================================================================================================\n",
      "====================================================================================================\n",
      "Processing utterance:  Show the current time in Lima and calculate the hours difference to Madrid.\n"
     ]
    },
    {
     "name": "stderr",
     "output_type": "stream",
     "text": [
      "\u001b[32m2024-05-03 02:40:45 INFO semantic_router.utils.logger Extracting function input...\u001b[0m\n",
      "\u001b[32m2024-05-03 02:40:47 INFO semantic_router.utils.logger LLM output: [\n",
      "    {\n",
      "        \"function_name\": \"get_time\",\n",
      "        \"arguments\": {\n",
      "            \"timezone\": \"America/Lima\"\n",
      "        }\n",
      "    },\n",
      "    {\n",
      "        \"function_name\": \"get_time_difference\",\n",
      "        \"arguments\": {\n",
      "            \"timezone1\": \"America/Lima\",\n",
      "            \"timezone2\": \"Europe/Madrid\"\n",
      "        }\n",
      "    }\n",
      "]\u001b[0m\n",
      "\u001b[32m2024-05-03 02:40:47 INFO semantic_router.utils.logger Function inputs: [{'function_name': 'get_time', 'arguments': {'timezone': 'America/Lima'}}, {'function_name': 'get_time_difference', 'arguments': {'timezone1': 'America/Lima', 'timezone2': 'Europe/Madrid'}}]\u001b[0m\n",
      "\u001b[32m2024-05-03 02:40:47 INFO semantic_router.utils.logger Document 1 length: 78\u001b[0m\n",
      "\u001b[32m2024-05-03 02:40:47 INFO semantic_router.utils.logger Document 1 trunc length: 78\u001b[0m\n"
     ]
    },
    {
     "name": "stdout",
     "output_type": "stream",
     "text": [
      "17:40\n",
      "The time difference between America/Lima and Europe/Madrid is 7.0 hours.\n",
      ">>> PASS <<<.\n",
      "====================================================================================================\n",
      "====================================================================================================\n",
      "Processing utterance:  Please check the current time in Dhaka and how far behind it is from New York.\n"
     ]
    },
    {
     "name": "stderr",
     "output_type": "stream",
     "text": [
      "\u001b[32m2024-05-03 02:40:48 INFO semantic_router.utils.logger Extracting function input...\u001b[0m\n",
      "\u001b[32m2024-05-03 02:40:49 INFO semantic_router.utils.logger LLM output: [\n",
      "    {\n",
      "        \"function_name\": \"get_time\",\n",
      "        \"arguments\": {\n",
      "            \"timezone\": \"Asia/Dhaka\"\n",
      "        }\n",
      "    },\n",
      "    {\n",
      "        \"function_name\": \"get_time_difference\",\n",
      "        \"arguments\": {\n",
      "            \"timezone1\": \"Asia/Dhaka\",\n",
      "            \"timezone2\": \"America/New_York\"\n",
      "        }\n",
      "    }\n",
      "]\u001b[0m\n",
      "\u001b[32m2024-05-03 02:40:49 INFO semantic_router.utils.logger Function inputs: [{'function_name': 'get_time', 'arguments': {'timezone': 'Asia/Dhaka'}}, {'function_name': 'get_time_difference', 'arguments': {'timezone1': 'Asia/Dhaka', 'timezone2': 'America/New_York'}}]\u001b[0m\n",
      "\u001b[32m2024-05-03 02:40:49 INFO semantic_router.utils.logger Document 1 length: 75\u001b[0m\n",
      "\u001b[32m2024-05-03 02:40:49 INFO semantic_router.utils.logger Document 1 trunc length: 75\u001b[0m\n"
     ]
    },
    {
     "name": "stdout",
     "output_type": "stream",
     "text": [
      "04:40\n",
      "The time difference between Asia/Dhaka and America/New_York is -10.0 hours.\n",
      ">>> PASS <<<.\n",
      "====================================================================================================\n",
      "====================================================================================================\n",
      "Processing utterance:  Can you find the current time in Hanoi and the hour difference with London?\n"
     ]
    },
    {
     "name": "stderr",
     "output_type": "stream",
     "text": [
      "\u001b[32m2024-05-03 02:40:50 INFO semantic_router.utils.logger Extracting function input...\u001b[0m\n",
      "\u001b[32m2024-05-03 02:40:51 INFO semantic_router.utils.logger LLM output: [\n",
      "    {\n",
      "        \"function_name\": \"get_time\",\n",
      "        \"arguments\": {\n",
      "            \"timezone\": \"Asia/Ho_Chi_Minh\"\n",
      "        }\n",
      "    },\n",
      "    {\n",
      "        \"function_name\": \"get_time_difference\",\n",
      "        \"arguments\": {\n",
      "            \"timezone1\": \"Asia/Ho_Chi_Minh\",\n",
      "            \"timezone2\": \"Europe/London\"\n",
      "        }\n",
      "    }\n",
      "]\u001b[0m\n",
      "\u001b[32m2024-05-03 02:40:51 INFO semantic_router.utils.logger Function inputs: [{'function_name': 'get_time', 'arguments': {'timezone': 'Asia/Ho_Chi_Minh'}}, {'function_name': 'get_time_difference', 'arguments': {'timezone1': 'Asia/Ho_Chi_Minh', 'timezone2': 'Europe/London'}}]\u001b[0m\n",
      "\u001b[32m2024-05-03 02:40:51 INFO semantic_router.utils.logger Document 1 length: 78\u001b[0m\n",
      "\u001b[32m2024-05-03 02:40:51 INFO semantic_router.utils.logger Document 1 trunc length: 78\u001b[0m\n"
     ]
    },
    {
     "name": "stdout",
     "output_type": "stream",
     "text": [
      "05:40\n",
      "The time difference between Asia/Ho_Chi_Minh and Europe/London is -6.0 hours.\n",
      ">>> PASS <<<.\n",
      "====================================================================================================\n",
      "====================================================================================================\n",
      "Processing utterance:  Tell me the current time in Riyadh and how many hours it is ahead of Montreal.\n"
     ]
    },
    {
     "name": "stderr",
     "output_type": "stream",
     "text": [
      "\u001b[32m2024-05-03 02:40:52 INFO semantic_router.utils.logger Extracting function input...\u001b[0m\n",
      "\u001b[32m2024-05-03 02:40:54 INFO semantic_router.utils.logger LLM output: [\n",
      "    {\n",
      "        \"function_name\": \"get_time\",\n",
      "        \"arguments\": {\n",
      "            \"timezone\": \"Asia/Riyadh\"\n",
      "        }\n",
      "    },\n",
      "    {\n",
      "        \"function_name\": \"get_time_difference\",\n",
      "        \"arguments\": {\n",
      "            \"timezone1\": \"Asia/Riyadh\",\n",
      "            \"timezone2\": \"America/Montreal\"\n",
      "        }\n",
      "    }\n",
      "]\u001b[0m\n",
      "\u001b[32m2024-05-03 02:40:54 INFO semantic_router.utils.logger Function inputs: [{'function_name': 'get_time', 'arguments': {'timezone': 'Asia/Riyadh'}}, {'function_name': 'get_time_difference', 'arguments': {'timezone1': 'Asia/Riyadh', 'timezone2': 'America/Montreal'}}]\u001b[0m\n",
      "\u001b[32m2024-05-03 02:40:54 INFO semantic_router.utils.logger Document 1 length: 79\u001b[0m\n",
      "\u001b[32m2024-05-03 02:40:54 INFO semantic_router.utils.logger Document 1 trunc length: 79\u001b[0m\n"
     ]
    },
    {
     "name": "stdout",
     "output_type": "stream",
     "text": [
      "01:40\n",
      "The time difference between Asia/Riyadh and America/Montreal is -7.0 hours.\n",
      ">>> PASS <<<.\n",
      "====================================================================================================\n",
      "====================================================================================================\n",
      "Processing utterance:  What's the current time in Belgrade and the time difference with San Francisco?\n"
     ]
    },
    {
     "name": "stderr",
     "output_type": "stream",
     "text": [
      "\u001b[32m2024-05-03 02:40:54 INFO semantic_router.utils.logger Extracting function input...\u001b[0m\n",
      "\u001b[32m2024-05-03 02:40:57 INFO semantic_router.utils.logger LLM output: [\n",
      "    {\n",
      "        \"function_name\": \"get_time\",\n",
      "        \"arguments\": {\n",
      "            \"timezone\": \"Europe/Belgrade\"\n",
      "        }\n",
      "    },\n",
      "    {\n",
      "        \"function_name\": \"get_time_difference\",\n",
      "        \"arguments\": {\n",
      "            \"timezone1\": \"Europe/Belgrade\",\n",
      "            \"timezone2\": \"America/Los_Angeles\"\n",
      "        }\n",
      "    }\n",
      "]\u001b[0m\n",
      "\u001b[32m2024-05-03 02:40:57 INFO semantic_router.utils.logger Function inputs: [{'function_name': 'get_time', 'arguments': {'timezone': 'Europe/Belgrade'}}, {'function_name': 'get_time_difference', 'arguments': {'timezone1': 'Europe/Belgrade', 'timezone2': 'America/Los_Angeles'}}]\u001b[0m\n",
      "\u001b[32m2024-05-03 02:40:57 INFO semantic_router.utils.logger Document 1 length: 79\u001b[0m\n",
      "\u001b[32m2024-05-03 02:40:57 INFO semantic_router.utils.logger Document 1 trunc length: 79\u001b[0m\n"
     ]
    },
    {
     "name": "stdout",
     "output_type": "stream",
     "text": [
      "00:40\n",
      "The time difference between Europe/Belgrade and America/Los_Angeles is -9.0 hours.\n",
      ">>> PASS <<<.\n",
      "====================================================================================================\n",
      "====================================================================================================\n",
      "Processing utterance:  I want to know the current time in Quito and how many hours it is behind Tokyo.\n"
     ]
    },
    {
     "name": "stderr",
     "output_type": "stream",
     "text": [
      "\u001b[32m2024-05-03 02:40:57 INFO semantic_router.utils.logger Extracting function input...\u001b[0m\n",
      "\u001b[32m2024-05-03 02:40:59 INFO semantic_router.utils.logger LLM output: [\n",
      "    {\n",
      "        \"function_name\": \"get_time\",\n",
      "        \"arguments\": {\n",
      "            \"timezone\": \"America/Guayaquil\"\n",
      "        }\n",
      "    },\n",
      "    {\n",
      "        \"function_name\": \"get_time_difference\",\n",
      "        \"arguments\": {\n",
      "            \"timezone1\": \"America/Guayaquil\",\n",
      "            \"timezone2\": \"Asia/Tokyo\"\n",
      "        }\n",
      "    }\n",
      "]\u001b[0m\n",
      "\u001b[32m2024-05-03 02:40:59 INFO semantic_router.utils.logger Function inputs: [{'function_name': 'get_time', 'arguments': {'timezone': 'America/Guayaquil'}}, {'function_name': 'get_time_difference', 'arguments': {'timezone1': 'America/Guayaquil', 'timezone2': 'Asia/Tokyo'}}]\u001b[0m\n",
      "\u001b[32m2024-05-03 02:40:59 INFO semantic_router.utils.logger Document 1 length: 80\u001b[0m\n",
      "\u001b[32m2024-05-03 02:40:59 INFO semantic_router.utils.logger Document 1 trunc length: 80\u001b[0m\n"
     ]
    },
    {
     "name": "stdout",
     "output_type": "stream",
     "text": [
      "17:40\n",
      "The time difference between America/Guayaquil and Asia/Tokyo is 14.0 hours.\n",
      ">>> PASS <<<.\n",
      "====================================================================================================\n",
      "====================================================================================================\n",
      "Processing utterance:  Could you tell me the current time in Antwerp and the hour gap with Los Angeles?\n"
     ]
    },
    {
     "name": "stderr",
     "output_type": "stream",
     "text": [
      "\u001b[32m2024-05-03 02:40:59 INFO semantic_router.utils.logger Extracting function input...\u001b[0m\n",
      "\u001b[32m2024-05-03 02:41:01 INFO semantic_router.utils.logger LLM output: [\n",
      "    {\n",
      "        \"function_name\": \"get_time\",\n",
      "        \"arguments\": {\n",
      "            \"timezone\": \"Europe/Brussels\"\n",
      "        }\n",
      "    },\n",
      "    {\n",
      "        \"function_name\": \"get_time_difference\",\n",
      "        \"arguments\": {\n",
      "            \"timezone1\": \"Europe/Brussels\",\n",
      "            \"timezone2\": \"America/Los_Angeles\"\n",
      "        }\n",
      "    }\n",
      "]\u001b[0m\n",
      "\u001b[32m2024-05-03 02:41:01 INFO semantic_router.utils.logger Function inputs: [{'function_name': 'get_time', 'arguments': {'timezone': 'Europe/Brussels'}}, {'function_name': 'get_time_difference', 'arguments': {'timezone1': 'Europe/Brussels', 'timezone2': 'America/Los_Angeles'}}]\u001b[0m\n",
      "\u001b[32m2024-05-03 02:41:01 INFO semantic_router.utils.logger Document 1 length: 84\u001b[0m\n",
      "\u001b[32m2024-05-03 02:41:01 INFO semantic_router.utils.logger Document 1 trunc length: 84\u001b[0m\n"
     ]
    },
    {
     "name": "stdout",
     "output_type": "stream",
     "text": [
      "00:41\n",
      "The time difference between Europe/Brussels and America/Los_Angeles is -9.0 hours.\n",
      ">>> PASS <<<.\n",
      "====================================================================================================\n",
      "====================================================================================================\n",
      "Processing utterance:  Please show the current time in Edinburgh and how many hours ahead it is from Cairo.\n"
     ]
    },
    {
     "name": "stderr",
     "output_type": "stream",
     "text": [
      "\u001b[32m2024-05-03 02:41:02 INFO semantic_router.utils.logger Extracting function input...\u001b[0m\n",
      "\u001b[32m2024-05-03 02:41:04 INFO semantic_router.utils.logger LLM output: [\n",
      "    {\n",
      "        \"function_name\": \"get_time\",\n",
      "        \"arguments\": {\n",
      "            \"timezone\": \"Europe/Edinburgh\"\n",
      "        }\n",
      "    },\n",
      "    {\n",
      "        \"function_name\": \"get_time_difference\",\n",
      "        \"arguments\": {\n",
      "            \"timezone1\": \"Europe/Edinburgh\",\n",
      "            \"timezone2\": \"Africa/Cairo\"\n",
      "        }\n",
      "    }\n",
      "]\u001b[0m\n",
      "\u001b[32m2024-05-03 02:41:04 INFO semantic_router.utils.logger Function inputs: [{'function_name': 'get_time', 'arguments': {'timezone': 'Europe/Edinburgh'}}, {'function_name': 'get_time_difference', 'arguments': {'timezone1': 'Europe/Edinburgh', 'timezone2': 'Africa/Cairo'}}]\u001b[0m\n",
      "\u001b[32m2024-05-03 02:41:04 INFO semantic_router.utils.logger Document 1 length: 75\u001b[0m\n",
      "\u001b[32m2024-05-03 02:41:04 INFO semantic_router.utils.logger Document 1 trunc length: 75\u001b[0m\n"
     ]
    },
    {
     "name": "stdout",
     "output_type": "stream",
     "text": [
      ">>> FAIL <<<.\n",
      "Failed to process: Please show the current time in Edinburgh and how many hours ahead it is from Cairo. with error: 'No time zone found with key Europe/Edinburgh'\n",
      "====================================================================================================\n",
      "====================================================================================================\n",
      "Processing utterance:  Find out the current time in Casablanca and the time difference to Beijing.\n"
     ]
    },
    {
     "name": "stderr",
     "output_type": "stream",
     "text": [
      "\u001b[32m2024-05-03 02:41:04 INFO semantic_router.utils.logger Extracting function input...\u001b[0m\n",
      "\u001b[32m2024-05-03 02:41:06 INFO semantic_router.utils.logger LLM output: [\n",
      "    {\n",
      "        \"function_name\": \"get_time\",\n",
      "        \"arguments\": {\n",
      "            \"timezone\": \"Africa/Casablanca\"\n",
      "        }\n",
      "    },\n",
      "    {\n",
      "        \"function_name\": \"get_time_difference\",\n",
      "        \"arguments\": {\n",
      "            \"timezone1\": \"Africa/Casablanca\",\n",
      "            \"timezone2\": \"Asia/Shanghai\"\n",
      "        }\n",
      "    }\n",
      "]\u001b[0m\n",
      "\u001b[32m2024-05-03 02:41:06 INFO semantic_router.utils.logger Function inputs: [{'function_name': 'get_time', 'arguments': {'timezone': 'Africa/Casablanca'}}, {'function_name': 'get_time_difference', 'arguments': {'timezone1': 'Africa/Casablanca', 'timezone2': 'Asia/Shanghai'}}]\u001b[0m\n",
      "\u001b[32m2024-05-03 02:41:06 INFO semantic_router.utils.logger Document 1 length: 80\u001b[0m\n",
      "\u001b[32m2024-05-03 02:41:06 INFO semantic_router.utils.logger Document 1 trunc length: 80\u001b[0m\n"
     ]
    },
    {
     "name": "stdout",
     "output_type": "stream",
     "text": [
      "23:41\n",
      "The time difference between Africa/Casablanca and Asia/Shanghai is 7.0 hours.\n",
      ">>> PASS <<<.\n",
      "====================================================================================================\n",
      "====================================================================================================\n",
      "Processing utterance:  Can you provide the current time in Accra and how many hours it is behind Paris?\n"
     ]
    },
    {
     "name": "stderr",
     "output_type": "stream",
     "text": [
      "\u001b[32m2024-05-03 02:41:06 INFO semantic_router.utils.logger Extracting function input...\u001b[0m\n",
      "\u001b[32m2024-05-03 02:41:08 INFO semantic_router.utils.logger LLM output: [\n",
      "    {\n",
      "        \"function_name\": \"get_time\",\n",
      "        \"arguments\": {\n",
      "            \"timezone\": \"Africa/Accra\"\n",
      "        }\n",
      "    },\n",
      "    {\n",
      "        \"function_name\": \"get_time_difference\",\n",
      "        \"arguments\": {\n",
      "            \"timezone1\": \"Africa/Accra\",\n",
      "            \"timezone2\": \"Europe/Paris\"\n",
      "        }\n",
      "    }\n",
      "]\u001b[0m\n",
      "\u001b[32m2024-05-03 02:41:08 INFO semantic_router.utils.logger Function inputs: [{'function_name': 'get_time', 'arguments': {'timezone': 'Africa/Accra'}}, {'function_name': 'get_time_difference', 'arguments': {'timezone1': 'Africa/Accra', 'timezone2': 'Europe/Paris'}}]\u001b[0m\n",
      "\u001b[32m2024-05-03 02:41:08 INFO semantic_router.utils.logger Document 1 length: 82\u001b[0m\n",
      "\u001b[32m2024-05-03 02:41:08 INFO semantic_router.utils.logger Document 1 trunc length: 82\u001b[0m\n"
     ]
    },
    {
     "name": "stdout",
     "output_type": "stream",
     "text": [
      "22:41\n",
      "The time difference between Africa/Accra and Europe/Paris is 2.0 hours.\n",
      ">>> PASS <<<.\n",
      "====================================================================================================\n",
      "====================================================================================================\n",
      "Processing utterance:  What is the current time in Algiers and how many hours ahead is it from Vancouver?\n"
     ]
    },
    {
     "name": "stderr",
     "output_type": "stream",
     "text": [
      "\u001b[32m2024-05-03 02:41:08 INFO semantic_router.utils.logger Extracting function input...\u001b[0m\n",
      "\u001b[32m2024-05-03 02:41:10 INFO semantic_router.utils.logger LLM output: [\n",
      "    {\n",
      "        \"function_name\": \"get_time\",\n",
      "        \"arguments\": {\n",
      "            \"timezone\": \"Africa/Algiers\"\n",
      "        }\n",
      "    },\n",
      "    {\n",
      "        \"function_name\": \"get_time_difference\",\n",
      "        \"arguments\": {\n",
      "            \"timezone1\": \"Africa/Algiers\",\n",
      "            \"timezone2\": \"America/Vancouver\"\n",
      "        }\n",
      "    }\n",
      "]\u001b[0m\n",
      "\u001b[32m2024-05-03 02:41:10 INFO semantic_router.utils.logger Function inputs: [{'function_name': 'get_time', 'arguments': {'timezone': 'Africa/Algiers'}}, {'function_name': 'get_time_difference', 'arguments': {'timezone1': 'Africa/Algiers', 'timezone2': 'America/Vancouver'}}]\u001b[0m\n"
     ]
    },
    {
     "name": "stdout",
     "output_type": "stream",
     "text": [
      "23:41\n",
      "The time difference between Africa/Algiers and America/Vancouver is -8.0 hours.\n",
      ">>> PASS <<<.\n",
      "====================================================================================================\n",
      "====================================================================================================\n",
      "Number of successful responses: 49\n",
      "Number of failed responses: 1\n",
      "====================================================================================================\n"
     ]
    }
   ],
   "source": [
    "test_function_calling(\n",
    "    utterances=test_utterances_get_time_and_get_time_difference,\n",
    "    function_name='get_time_and_get_time_difference',\n",
    "    expected_num_responses=2\n",
    "    )"
   ]
  },
  {
   "cell_type": "markdown",
   "metadata": {},
   "source": [
    "### Test `get_time` and `convert_time` Function Argument Extractions"
   ]
  },
  {
   "cell_type": "code",
   "execution_count": 24,
   "metadata": {},
   "outputs": [],
   "source": [
    "# import re\n",
    "\n",
    "# success_count = 0\n",
    "# fail_count = 0\n",
    "\n",
    "# time_pattern = r\"\\d{2}:\\d{2}\"\n",
    "# time_diff_pattern = r\"The time difference between .+ and .+ is -?\\d+(\\.\\d+)? hours\\.\"\n",
    "\n",
    "# for utterance in test_utterances_get_time_and_convert_time:\n",
    "#     print('='*100)\n",
    "#     print(u\"Processing utterance: \", utterance)\n",
    "#     try:\n",
    "#         results = rl(utterance)\n",
    "#         parsed_results = parse_response(results)\n",
    "#         # Check if the parsed_results match the required formats\n",
    "#         if re.match(time_pattern, parsed_results[0]) and re.match(time_diff_pattern, parsed_results[1]):\n",
    "#             success_count += 1\n",
    "#             print('Pass.')\n",
    "#         else:\n",
    "#             print(f\"Invalid response format: {results}\")\n",
    "#             fail_count += 1\n",
    "#     except Exception as e:\n",
    "#         print(f\"Failed to process: {utterance} with error: {e}\")\n",
    "#         fail_count += 1\n",
    "#     print('='*100)\n",
    "# print('='*100)\n",
    "# print(f\"Number of successful responses: {success_count}\")\n",
    "# print(f\"Number of failed responses: {fail_count}\")\n",
    "# print('='*100)\n"
   ]
  },
  {
   "cell_type": "code",
   "execution_count": 25,
   "metadata": {},
   "outputs": [
    {
     "name": "stderr",
     "output_type": "stream",
     "text": [
      "\u001b[32m2024-05-03 02:41:10 INFO semantic_router.utils.logger Document 1 length: 106\u001b[0m\n",
      "\u001b[32m2024-05-03 02:41:10 INFO semantic_router.utils.logger Document 1 trunc length: 106\u001b[0m\n"
     ]
    },
    {
     "name": "stdout",
     "output_type": "stream",
     "text": [
      "====================================================================================================\n",
      "Processing utterance:  Could you provide the current time in Vancouver? Additionally, what is 15:00 Vancouver time in Tokyo time?\n"
     ]
    },
    {
     "name": "stderr",
     "output_type": "stream",
     "text": [
      "\u001b[32m2024-05-03 02:41:10 INFO semantic_router.utils.logger Extracting function input...\u001b[0m\n",
      "\u001b[32m2024-05-03 02:41:12 INFO semantic_router.utils.logger LLM output: [\n",
      "    {\n",
      "        \"function_name\": \"get_time\",\n",
      "        \"arguments\": {\n",
      "            \"timezone\": \"America/Vancouver\"\n",
      "        }\n",
      "    },\n",
      "    {\n",
      "        \"function_name\": \"convert_time\",\n",
      "        \"arguments\": {\n",
      "            \"time\": \"15:00\",\n",
      "            \"from_timezone\": \"America/Vancouver\",\n",
      "            \"to_timezone\": \"Asia/Tokyo\"\n",
      "        }\n",
      "    }\n",
      "]\u001b[0m\n",
      "\u001b[32m2024-05-03 02:41:12 INFO semantic_router.utils.logger Function inputs: [{'function_name': 'get_time', 'arguments': {'timezone': 'America/Vancouver'}}, {'function_name': 'convert_time', 'arguments': {'time': '15:00', 'from_timezone': 'America/Vancouver', 'to_timezone': 'Asia/Tokyo'}}]\u001b[0m\n",
      "\u001b[32m2024-05-03 02:41:12 INFO semantic_router.utils.logger Document 1 length: 91\u001b[0m\n",
      "\u001b[32m2024-05-03 02:41:12 INFO semantic_router.utils.logger Document 1 trunc length: 91\u001b[0m\n"
     ]
    },
    {
     "name": "stdout",
     "output_type": "stream",
     "text": [
      "15:41\n",
      "07:00\n",
      ">>> PASS <<<.\n",
      "====================================================================================================\n",
      "====================================================================================================\n",
      "Processing utterance:  What's the current time in Oslo? And can you convert 14:00 from Oslo time to New York time?\n"
     ]
    },
    {
     "name": "stderr",
     "output_type": "stream",
     "text": [
      "\u001b[32m2024-05-03 02:41:12 INFO semantic_router.utils.logger Extracting function input...\u001b[0m\n",
      "\u001b[32m2024-05-03 02:41:14 INFO semantic_router.utils.logger LLM output: [\n",
      "    {\n",
      "        \"function_name\": \"get_time\",\n",
      "        \"arguments\": {\n",
      "            \"timezone\": \"Europe/Oslo\"\n",
      "        }\n",
      "    },\n",
      "    {\n",
      "        \"function_name\": \"convert_time\",\n",
      "        \"arguments\": {\n",
      "            \"time\": \"14:00\",\n",
      "            \"from_timezone\": \"Europe/Oslo\",\n",
      "            \"to_timezone\": \"America/New_York\"\n",
      "        }\n",
      "    }\n",
      "]\u001b[0m\n",
      "\u001b[32m2024-05-03 02:41:14 INFO semantic_router.utils.logger Function inputs: [{'function_name': 'get_time', 'arguments': {'timezone': 'Europe/Oslo'}}, {'function_name': 'convert_time', 'arguments': {'time': '14:00', 'from_timezone': 'Europe/Oslo', 'to_timezone': 'America/New_York'}}]\u001b[0m\n",
      "\u001b[32m2024-05-03 02:41:14 INFO semantic_router.utils.logger Document 1 length: 93\u001b[0m\n",
      "\u001b[32m2024-05-03 02:41:14 INFO semantic_router.utils.logger Document 1 trunc length: 93\u001b[0m\n"
     ]
    },
    {
     "name": "stdout",
     "output_type": "stream",
     "text": [
      "00:41\n",
      "08:00\n",
      ">>> PASS <<<.\n",
      "====================================================================================================\n",
      "====================================================================================================\n",
      "Processing utterance:  I need the current time in Mexico City. Please convert 09:30 Mexico City time to London time.\n"
     ]
    },
    {
     "name": "stderr",
     "output_type": "stream",
     "text": [
      "\u001b[32m2024-05-03 02:41:15 INFO semantic_router.utils.logger Extracting function input...\u001b[0m\n",
      "\u001b[32m2024-05-03 02:41:16 INFO semantic_router.utils.logger LLM output: [\n",
      "    {\n",
      "        \"function_name\": \"get_time\",\n",
      "        \"arguments\": {\n",
      "            \"timezone\": \"America/Mexico_City\"\n",
      "        }\n",
      "    },\n",
      "    {\n",
      "        \"function_name\": \"convert_time\",\n",
      "        \"arguments\": {\n",
      "            \"time\": \"09:30\",\n",
      "            \"from_timezone\": \"America/Mexico_City\",\n",
      "            \"to_timezone\": \"Europe/London\"\n",
      "        }\n",
      "    }\n",
      "]\u001b[0m\n",
      "\u001b[32m2024-05-03 02:41:16 INFO semantic_router.utils.logger Function inputs: [{'function_name': 'get_time', 'arguments': {'timezone': 'America/Mexico_City'}}, {'function_name': 'convert_time', 'arguments': {'time': '09:30', 'from_timezone': 'America/Mexico_City', 'to_timezone': 'Europe/London'}}]\u001b[0m\n",
      "\u001b[32m2024-05-03 02:41:16 INFO semantic_router.utils.logger Document 1 length: 92\u001b[0m\n",
      "\u001b[32m2024-05-03 02:41:16 INFO semantic_router.utils.logger Document 1 trunc length: 92\u001b[0m\n"
     ]
    },
    {
     "name": "stdout",
     "output_type": "stream",
     "text": [
      "16:41\n",
      "16:30\n",
      ">>> PASS <<<.\n",
      "====================================================================================================\n",
      "====================================================================================================\n",
      "Processing utterance:  Show me the current time in Helsinki. Also, change 16:30 from Helsinki time to Beijing time.\n"
     ]
    },
    {
     "name": "stderr",
     "output_type": "stream",
     "text": [
      "\u001b[32m2024-05-03 02:41:17 INFO semantic_router.utils.logger Extracting function input...\u001b[0m\n",
      "\u001b[32m2024-05-03 02:41:19 INFO semantic_router.utils.logger LLM output: [\n",
      "    {\n",
      "        \"function_name\": \"get_time\",\n",
      "        \"arguments\": {\n",
      "            \"timezone\": \"Europe/Helsinki\"\n",
      "        }\n",
      "    },\n",
      "    {\n",
      "        \"function_name\": \"convert_time\",\n",
      "        \"arguments\": {\n",
      "            \"time\": \"16:30\",\n",
      "            \"from_timezone\": \"Europe/Helsinki\",\n",
      "            \"to_timezone\": \"Asia/Shanghai\"\n",
      "        }\n",
      "    }\n",
      "]\u001b[0m\n",
      "\u001b[32m2024-05-03 02:41:19 INFO semantic_router.utils.logger Function inputs: [{'function_name': 'get_time', 'arguments': {'timezone': 'Europe/Helsinki'}}, {'function_name': 'convert_time', 'arguments': {'time': '16:30', 'from_timezone': 'Europe/Helsinki', 'to_timezone': 'Asia/Shanghai'}}]\u001b[0m\n",
      "\u001b[32m2024-05-03 02:41:19 INFO semantic_router.utils.logger Document 1 length: 92\u001b[0m\n",
      "\u001b[32m2024-05-03 02:41:19 INFO semantic_router.utils.logger Document 1 trunc length: 92\u001b[0m\n"
     ]
    },
    {
     "name": "stdout",
     "output_type": "stream",
     "text": [
      "01:41\n",
      "21:30\n",
      ">>> PASS <<<.\n",
      "====================================================================================================\n",
      "====================================================================================================\n",
      "Processing utterance:  Can you tell me the current time in Cairo? Then, adjust 11:15 from Cairo time to Paris time.\n"
     ]
    },
    {
     "name": "stderr",
     "output_type": "stream",
     "text": [
      "\u001b[32m2024-05-03 02:41:19 INFO semantic_router.utils.logger Extracting function input...\u001b[0m\n",
      "\u001b[32m2024-05-03 02:41:21 INFO semantic_router.utils.logger LLM output: [\n",
      "    {\n",
      "        \"function_name\": \"get_time\",\n",
      "        \"arguments\": {\n",
      "            \"timezone\": \"Africa/Cairo\"\n",
      "        }\n",
      "    },\n",
      "    {\n",
      "        \"function_name\": \"convert_time\",\n",
      "        \"arguments\": {\n",
      "            \"time\": \"11:15\",\n",
      "            \"from_timezone\": \"Africa/Cairo\",\n",
      "            \"to_timezone\": \"Europe/Paris\"\n",
      "        }\n",
      "    }\n",
      "]\u001b[0m\n",
      "\u001b[32m2024-05-03 02:41:21 INFO semantic_router.utils.logger Function inputs: [{'function_name': 'get_time', 'arguments': {'timezone': 'Africa/Cairo'}}, {'function_name': 'convert_time', 'arguments': {'time': '11:15', 'from_timezone': 'Africa/Cairo', 'to_timezone': 'Europe/Paris'}}]\u001b[0m\n",
      "\u001b[32m2024-05-03 02:41:21 INFO semantic_router.utils.logger Document 1 length: 86\u001b[0m\n",
      "\u001b[32m2024-05-03 02:41:21 INFO semantic_router.utils.logger Document 1 trunc length: 86\u001b[0m\n"
     ]
    },
    {
     "name": "stdout",
     "output_type": "stream",
     "text": [
      "01:41\n",
      "10:15\n",
      ">>> PASS <<<.\n",
      "====================================================================================================\n",
      "====================================================================================================\n",
      "Processing utterance:  Please find the current time in Lisbon. Convert 10:00 from Lisbon time to Sydney time.\n"
     ]
    },
    {
     "name": "stderr",
     "output_type": "stream",
     "text": [
      "\u001b[32m2024-05-03 02:41:21 INFO semantic_router.utils.logger Extracting function input...\u001b[0m\n",
      "\u001b[32m2024-05-03 02:41:23 INFO semantic_router.utils.logger LLM output: [\n",
      "    {\n",
      "        \"function_name\": \"get_time\",\n",
      "        \"arguments\": {\n",
      "            \"timezone\": \"Europe/Lisbon\"\n",
      "        }\n",
      "    },\n",
      "    {\n",
      "        \"function_name\": \"convert_time\",\n",
      "        \"arguments\": {\n",
      "            \"time\": \"10:00\",\n",
      "            \"from_timezone\": \"Europe/Lisbon\",\n",
      "            \"to_timezone\": \"Australia/Sydney\"\n",
      "        }\n",
      "    }\n",
      "]\u001b[0m\n",
      "\u001b[32m2024-05-03 02:41:23 INFO semantic_router.utils.logger Function inputs: [{'function_name': 'get_time', 'arguments': {'timezone': 'Europe/Lisbon'}}, {'function_name': 'convert_time', 'arguments': {'time': '10:00', 'from_timezone': 'Europe/Lisbon', 'to_timezone': 'Australia/Sydney'}}]\u001b[0m\n",
      "\u001b[32m2024-05-03 02:41:23 INFO semantic_router.utils.logger Document 1 length: 98\u001b[0m\n",
      "\u001b[32m2024-05-03 02:41:23 INFO semantic_router.utils.logger Document 1 trunc length: 98\u001b[0m\n"
     ]
    },
    {
     "name": "stdout",
     "output_type": "stream",
     "text": [
      "23:41\n",
      "19:00\n",
      ">>> PASS <<<.\n",
      "====================================================================================================\n",
      "====================================================================================================\n",
      "Processing utterance:  What is the current time in Budapest? Can you switch 13:20 from Budapest time to Los Angeles time?\n"
     ]
    },
    {
     "name": "stderr",
     "output_type": "stream",
     "text": [
      "\u001b[32m2024-05-03 02:41:23 INFO semantic_router.utils.logger Extracting function input...\u001b[0m\n",
      "\u001b[32m2024-05-03 02:41:25 INFO semantic_router.utils.logger LLM output: [\n",
      "    {\n",
      "        \"function_name\": \"get_time\",\n",
      "        \"arguments\": {\n",
      "            \"timezone\": \"Europe/Budapest\"\n",
      "        }\n",
      "    },\n",
      "    {\n",
      "        \"function_name\": \"convert_time\",\n",
      "        \"arguments\": {\n",
      "            \"time\": \"13:20\",\n",
      "            \"from_timezone\": \"Europe/Budapest\",\n",
      "            \"to_timezone\": \"America/Los_Angeles\"\n",
      "        }\n",
      "    }\n",
      "]\u001b[0m\n",
      "\u001b[32m2024-05-03 02:41:25 INFO semantic_router.utils.logger Function inputs: [{'function_name': 'get_time', 'arguments': {'timezone': 'Europe/Budapest'}}, {'function_name': 'convert_time', 'arguments': {'time': '13:20', 'from_timezone': 'Europe/Budapest', 'to_timezone': 'America/Los_Angeles'}}]\u001b[0m\n",
      "\u001b[32m2024-05-03 02:41:25 INFO semantic_router.utils.logger Document 1 length: 78\u001b[0m\n",
      "\u001b[32m2024-05-03 02:41:25 INFO semantic_router.utils.logger Document 1 trunc length: 78\u001b[0m\n"
     ]
    },
    {
     "name": "stdout",
     "output_type": "stream",
     "text": [
      "00:41\n",
      "04:20\n",
      ">>> PASS <<<.\n",
      "====================================================================================================\n",
      "====================================================================================================\n",
      "Processing utterance:  Display the current time in Jakarta. Change 18:00 Jakarta time to Moscow time.\n"
     ]
    },
    {
     "name": "stderr",
     "output_type": "stream",
     "text": [
      "\u001b[32m2024-05-03 02:41:26 INFO semantic_router.utils.logger Extracting function input...\u001b[0m\n",
      "\u001b[32m2024-05-03 02:41:27 INFO semantic_router.utils.logger LLM output: [\n",
      "    {\n",
      "        \"function_name\": \"get_time\",\n",
      "        \"arguments\": {\n",
      "            \"timezone\": \"Asia/Jakarta\"\n",
      "        }\n",
      "    },\n",
      "    {\n",
      "        \"function_name\": \"convert_time\",\n",
      "        \"arguments\": {\n",
      "            \"time\": \"18:00\",\n",
      "            \"from_timezone\": \"Asia/Jakarta\",\n",
      "            \"to_timezone\": \"Europe/Moscow\"\n",
      "        }\n",
      "    }\n",
      "]\u001b[0m\n",
      "\u001b[32m2024-05-03 02:41:27 INFO semantic_router.utils.logger Function inputs: [{'function_name': 'get_time', 'arguments': {'timezone': 'Asia/Jakarta'}}, {'function_name': 'convert_time', 'arguments': {'time': '18:00', 'from_timezone': 'Asia/Jakarta', 'to_timezone': 'Europe/Moscow'}}]\u001b[0m\n",
      "\u001b[32m2024-05-03 02:41:27 INFO semantic_router.utils.logger Document 1 length: 80\u001b[0m\n",
      "\u001b[32m2024-05-03 02:41:27 INFO semantic_router.utils.logger Document 1 trunc length: 80\u001b[0m\n"
     ]
    },
    {
     "name": "stdout",
     "output_type": "stream",
     "text": [
      "05:41\n",
      "14:00\n",
      ">>> PASS <<<.\n",
      "====================================================================================================\n",
      "====================================================================================================\n",
      "Processing utterance:  Tell me the current time in Seoul. Convert 09:45 from Seoul time to Berlin time.\n"
     ]
    },
    {
     "name": "stderr",
     "output_type": "stream",
     "text": [
      "\u001b[32m2024-05-03 02:41:28 INFO semantic_router.utils.logger Extracting function input...\u001b[0m\n",
      "\u001b[32m2024-05-03 02:41:30 INFO semantic_router.utils.logger LLM output: [\n",
      "    {\n",
      "        \"function_name\": \"get_time\",\n",
      "        \"arguments\": {\n",
      "            \"timezone\": \"Asia/Seoul\"\n",
      "        }\n",
      "    },\n",
      "    {\n",
      "        \"function_name\": \"convert_time\",\n",
      "        \"arguments\": {\n",
      "            \"time\": \"09:45\",\n",
      "            \"from_timezone\": \"Asia/Seoul\",\n",
      "            \"to_timezone\": \"Europe/Berlin\"\n",
      "        }\n",
      "    }\n",
      "]\u001b[0m\n",
      "\u001b[32m2024-05-03 02:41:30 INFO semantic_router.utils.logger Function inputs: [{'function_name': 'get_time', 'arguments': {'timezone': 'Asia/Seoul'}}, {'function_name': 'convert_time', 'arguments': {'time': '09:45', 'from_timezone': 'Asia/Seoul', 'to_timezone': 'Europe/Berlin'}}]\u001b[0m\n",
      "\u001b[32m2024-05-03 02:41:30 INFO semantic_router.utils.logger Document 1 length: 89\u001b[0m\n",
      "\u001b[32m2024-05-03 02:41:30 INFO semantic_router.utils.logger Document 1 trunc length: 89\u001b[0m\n"
     ]
    },
    {
     "name": "stdout",
     "output_type": "stream",
     "text": [
      "07:41\n",
      "02:45\n",
      ">>> PASS <<<.\n",
      "====================================================================================================\n",
      "====================================================================================================\n",
      "Processing utterance:  Can you show the current time in Zurich? And adjust 12:00 from Zurich time to Dubai time?\n"
     ]
    },
    {
     "name": "stderr",
     "output_type": "stream",
     "text": [
      "\u001b[32m2024-05-03 02:41:30 INFO semantic_router.utils.logger Extracting function input...\u001b[0m\n",
      "\u001b[32m2024-05-03 02:41:32 INFO semantic_router.utils.logger LLM output: [\n",
      "    {\n",
      "        \"function_name\": \"get_time\",\n",
      "        \"arguments\": {\n",
      "            \"timezone\": \"Europe/Zurich\"\n",
      "        }\n",
      "    },\n",
      "    {\n",
      "        \"function_name\": \"convert_time\",\n",
      "        \"arguments\": {\n",
      "            \"time\": \"12:00\",\n",
      "            \"from_timezone\": \"Europe/Zurich\",\n",
      "            \"to_timezone\": \"Asia/Dubai\"\n",
      "        }\n",
      "    }\n",
      "]\u001b[0m\n",
      "\u001b[32m2024-05-03 02:41:32 INFO semantic_router.utils.logger Function inputs: [{'function_name': 'get_time', 'arguments': {'timezone': 'Europe/Zurich'}}, {'function_name': 'convert_time', 'arguments': {'time': '12:00', 'from_timezone': 'Europe/Zurich', 'to_timezone': 'Asia/Dubai'}}]\u001b[0m\n",
      "\u001b[32m2024-05-03 02:41:32 INFO semantic_router.utils.logger Document 1 length: 91\u001b[0m\n",
      "\u001b[32m2024-05-03 02:41:32 INFO semantic_router.utils.logger Document 1 trunc length: 91\u001b[0m\n"
     ]
    },
    {
     "name": "stdout",
     "output_type": "stream",
     "text": [
      "00:41\n",
      "14:00\n",
      ">>> PASS <<<.\n",
      "====================================================================================================\n",
      "====================================================================================================\n",
      "Processing utterance:  Please provide the current time in Toronto. Convert 20:00 from Toronto time to Madrid time.\n"
     ]
    },
    {
     "name": "stderr",
     "output_type": "stream",
     "text": [
      "\u001b[32m2024-05-03 02:41:32 INFO semantic_router.utils.logger Extracting function input...\u001b[0m\n",
      "\u001b[32m2024-05-03 02:41:34 INFO semantic_router.utils.logger LLM output: [\n",
      "    {\n",
      "        \"function_name\": \"get_time\",\n",
      "        \"arguments\": {\n",
      "            \"timezone\": \"America/Toronto\"\n",
      "        }\n",
      "    },\n",
      "    {\n",
      "        \"function_name\": \"convert_time\",\n",
      "        \"arguments\": {\n",
      "            \"time\": \"20:00\",\n",
      "            \"from_timezone\": \"America/Toronto\",\n",
      "            \"to_timezone\": \"Europe/Madrid\"\n",
      "        }\n",
      "    }\n",
      "]\u001b[0m\n",
      "\u001b[32m2024-05-03 02:41:34 INFO semantic_router.utils.logger Function inputs: [{'function_name': 'get_time', 'arguments': {'timezone': 'America/Toronto'}}, {'function_name': 'convert_time', 'arguments': {'time': '20:00', 'from_timezone': 'America/Toronto', 'to_timezone': 'Europe/Madrid'}}]\u001b[0m\n",
      "\u001b[32m2024-05-03 02:41:34 INFO semantic_router.utils.logger Document 1 length: 89\u001b[0m\n",
      "\u001b[32m2024-05-03 02:41:34 INFO semantic_router.utils.logger Document 1 trunc length: 89\u001b[0m\n"
     ]
    },
    {
     "name": "stdout",
     "output_type": "stream",
     "text": [
      "18:41\n",
      "02:00\n",
      ">>> PASS <<<.\n",
      "====================================================================================================\n",
      "====================================================================================================\n",
      "Processing utterance:  What's the current time in Mumbai? Can you change 15:30 from Mumbai time to Chicago time?\n"
     ]
    },
    {
     "name": "stderr",
     "output_type": "stream",
     "text": [
      "\u001b[32m2024-05-03 02:41:35 INFO semantic_router.utils.logger Extracting function input...\u001b[0m\n",
      "\u001b[32m2024-05-03 02:41:37 INFO semantic_router.utils.logger LLM output: [\n",
      "    {\n",
      "        \"function_name\": \"get_time\",\n",
      "        \"arguments\": {\n",
      "            \"timezone\": \"Asia/Kolkata\"\n",
      "        }\n",
      "    },\n",
      "    {\n",
      "        \"function_name\": \"convert_time\",\n",
      "        \"arguments\": {\n",
      "            \"time\": \"15:30\",\n",
      "            \"from_timezone\": \"Asia/Kolkata\",\n",
      "            \"to_timezone\": \"America/Chicago\"\n",
      "        }\n",
      "    }\n",
      "]\u001b[0m\n",
      "\u001b[32m2024-05-03 02:41:37 INFO semantic_router.utils.logger Function inputs: [{'function_name': 'get_time', 'arguments': {'timezone': 'Asia/Kolkata'}}, {'function_name': 'convert_time', 'arguments': {'time': '15:30', 'from_timezone': 'Asia/Kolkata', 'to_timezone': 'America/Chicago'}}]\u001b[0m\n",
      "\u001b[32m2024-05-03 02:41:37 INFO semantic_router.utils.logger Document 1 length: 83\u001b[0m\n",
      "\u001b[32m2024-05-03 02:41:37 INFO semantic_router.utils.logger Document 1 trunc length: 83\u001b[0m\n"
     ]
    },
    {
     "name": "stdout",
     "output_type": "stream",
     "text": [
      "04:11\n",
      "05:00\n",
      ">>> PASS <<<.\n",
      "====================================================================================================\n",
      "====================================================================================================\n",
      "Processing utterance:  Find the current time in Rio de Janeiro. Switch it to San Francisco time for 22:00.\n"
     ]
    },
    {
     "name": "stderr",
     "output_type": "stream",
     "text": [
      "\u001b[32m2024-05-03 02:41:37 INFO semantic_router.utils.logger Extracting function input...\u001b[0m\n",
      "\u001b[32m2024-05-03 02:41:40 INFO semantic_router.utils.logger LLM output: [\n",
      "    {\n",
      "        \"function_name\": \"get_time\",\n",
      "        \"arguments\": {\n",
      "            \"timezone\": \"America/Sao_Paulo\"\n",
      "        }\n",
      "    },\n",
      "    {\n",
      "        \"function_name\": \"convert_time\",\n",
      "        \"arguments\": {\n",
      "            \"time\": \"22:00\",\n",
      "            \"from_timezone\": \"America/Sao_Paulo\",\n",
      "            \"to_timezone\": \"America/Los_Angeles\"\n",
      "        }\n",
      "    }\n",
      "]\u001b[0m\n",
      "\u001b[32m2024-05-03 02:41:40 INFO semantic_router.utils.logger Function inputs: [{'function_name': 'get_time', 'arguments': {'timezone': 'America/Sao_Paulo'}}, {'function_name': 'convert_time', 'arguments': {'time': '22:00', 'from_timezone': 'America/Sao_Paulo', 'to_timezone': 'America/Los_Angeles'}}]\u001b[0m\n",
      "\u001b[32m2024-05-03 02:41:40 INFO semantic_router.utils.logger Document 1 length: 96\u001b[0m\n",
      "\u001b[32m2024-05-03 02:41:40 INFO semantic_router.utils.logger Document 1 trunc length: 96\u001b[0m\n"
     ]
    },
    {
     "name": "stdout",
     "output_type": "stream",
     "text": [
      "19:41\n",
      "18:00\n",
      ">>> PASS <<<.\n",
      "====================================================================================================\n",
      "====================================================================================================\n",
      "Processing utterance:  Could you check the current time in Montreal? Convert 07:00 from Montreal time to Istanbul time.\n"
     ]
    },
    {
     "name": "stderr",
     "output_type": "stream",
     "text": [
      "\u001b[32m2024-05-03 02:41:41 INFO semantic_router.utils.logger Extracting function input...\u001b[0m\n",
      "\u001b[32m2024-05-03 02:41:42 INFO semantic_router.utils.logger LLM output: [\n",
      "    {\n",
      "        \"function_name\": \"get_time\",\n",
      "        \"arguments\": {\n",
      "            \"timezone\": \"America/Montreal\"\n",
      "        }\n",
      "    },\n",
      "    {\n",
      "        \"function_name\": \"convert_time\",\n",
      "        \"arguments\": {\n",
      "            \"time\": \"07:00\",\n",
      "            \"from_timezone\": \"America/Montreal\",\n",
      "            \"to_timezone\": \"Europe/Istanbul\"\n",
      "        }\n",
      "    }\n",
      "]\u001b[0m\n",
      "\u001b[32m2024-05-03 02:41:42 INFO semantic_router.utils.logger Function inputs: [{'function_name': 'get_time', 'arguments': {'timezone': 'America/Montreal'}}, {'function_name': 'convert_time', 'arguments': {'time': '07:00', 'from_timezone': 'America/Montreal', 'to_timezone': 'Europe/Istanbul'}}]\u001b[0m\n",
      "\u001b[32m2024-05-03 02:41:42 INFO semantic_router.utils.logger Document 1 length: 90\u001b[0m\n",
      "\u001b[32m2024-05-03 02:41:42 INFO semantic_router.utils.logger Document 1 trunc length: 90\u001b[0m\n"
     ]
    },
    {
     "name": "stdout",
     "output_type": "stream",
     "text": [
      "18:41\n",
      "14:00\n",
      ">>> PASS <<<.\n",
      "====================================================================================================\n",
      "====================================================================================================\n",
      "Processing utterance:  I'd like to know the current time in Manila. Adjust 17:50 from Manila time to Athens time.\n"
     ]
    },
    {
     "name": "stderr",
     "output_type": "stream",
     "text": [
      "\u001b[32m2024-05-03 02:41:43 INFO semantic_router.utils.logger Extracting function input...\u001b[0m\n",
      "\u001b[32m2024-05-03 02:41:45 INFO semantic_router.utils.logger LLM output: [\n",
      "    {\n",
      "        \"function_name\": \"get_time\",\n",
      "        \"arguments\": {\n",
      "            \"timezone\": \"Asia/Manila\"\n",
      "        }\n",
      "    },\n",
      "    {\n",
      "        \"function_name\": \"convert_time\",\n",
      "        \"arguments\": {\n",
      "            \"time\": \"17:50\",\n",
      "            \"from_timezone\": \"Asia/Manila\",\n",
      "            \"to_timezone\": \"Europe/Athens\"\n",
      "        }\n",
      "    }\n",
      "]\u001b[0m\n",
      "\u001b[32m2024-05-03 02:41:45 INFO semantic_router.utils.logger Function inputs: [{'function_name': 'get_time', 'arguments': {'timezone': 'Asia/Manila'}}, {'function_name': 'convert_time', 'arguments': {'time': '17:50', 'from_timezone': 'Asia/Manila', 'to_timezone': 'Europe/Athens'}}]\u001b[0m\n",
      "\u001b[32m2024-05-03 02:41:45 INFO semantic_router.utils.logger Document 1 length: 90\u001b[0m\n",
      "\u001b[32m2024-05-03 02:41:45 INFO semantic_router.utils.logger Document 1 trunc length: 90\u001b[0m\n"
     ]
    },
    {
     "name": "stdout",
     "output_type": "stream",
     "text": [
      "06:41\n",
      "12:50\n",
      ">>> PASS <<<.\n",
      "====================================================================================================\n",
      "====================================================================================================\n",
      "Processing utterance:  Please tell me the current time in Dubai. Convert 19:25 from Dubai time to Vancouver time.\n"
     ]
    },
    {
     "name": "stderr",
     "output_type": "stream",
     "text": [
      "\u001b[32m2024-05-03 02:41:45 INFO semantic_router.utils.logger Extracting function input...\u001b[0m\n",
      "\u001b[32m2024-05-03 02:41:47 INFO semantic_router.utils.logger LLM output: [\n",
      "    {\n",
      "        \"function_name\": \"get_time\",\n",
      "        \"arguments\": {\n",
      "            \"timezone\": \"Asia/Dubai\"\n",
      "        }\n",
      "    },\n",
      "    {\n",
      "        \"function_name\": \"convert_time\",\n",
      "        \"arguments\": {\n",
      "            \"time\": \"19:25\",\n",
      "            \"from_timezone\": \"Asia/Dubai\",\n",
      "            \"to_timezone\": \"America/Vancouver\"\n",
      "        }\n",
      "    }\n",
      "]\u001b[0m\n",
      "\u001b[32m2024-05-03 02:41:47 INFO semantic_router.utils.logger Function inputs: [{'function_name': 'get_time', 'arguments': {'timezone': 'Asia/Dubai'}}, {'function_name': 'convert_time', 'arguments': {'time': '19:25', 'from_timezone': 'Asia/Dubai', 'to_timezone': 'America/Vancouver'}}]\u001b[0m\n",
      "\u001b[32m2024-05-03 02:41:47 INFO semantic_router.utils.logger Document 1 length: 83\u001b[0m\n",
      "\u001b[32m2024-05-03 02:41:47 INFO semantic_router.utils.logger Document 1 trunc length: 83\u001b[0m\n"
     ]
    },
    {
     "name": "stdout",
     "output_type": "stream",
     "text": [
      "02:41\n",
      "08:25\n",
      ">>> PASS <<<.\n",
      "====================================================================================================\n",
      "====================================================================================================\n",
      "Processing utterance:  Show the current time in Barcelona. Change 08:15 from Barcelona time to Tokyo time.\n"
     ]
    },
    {
     "name": "stderr",
     "output_type": "stream",
     "text": [
      "\u001b[32m2024-05-03 02:41:47 INFO semantic_router.utils.logger Extracting function input...\u001b[0m\n",
      "\u001b[32m2024-05-03 02:41:49 INFO semantic_router.utils.logger LLM output: [\n",
      "    {\n",
      "        \"function_name\": \"get_time\",\n",
      "        \"arguments\": {\n",
      "            \"timezone\": \"Europe/Barcelona\"\n",
      "        }\n",
      "    },\n",
      "    {\n",
      "        \"function_name\": \"convert_time\",\n",
      "        \"arguments\": {\n",
      "            \"time\": \"08:15\",\n",
      "            \"from_timezone\": \"Europe/Barcelona\",\n",
      "            \"to_timezone\": \"Asia/Tokyo\"\n",
      "        }\n",
      "    }\n",
      "]\u001b[0m\n",
      "\u001b[32m2024-05-03 02:41:49 INFO semantic_router.utils.logger Function inputs: [{'function_name': 'get_time', 'arguments': {'timezone': 'Europe/Barcelona'}}, {'function_name': 'convert_time', 'arguments': {'time': '08:15', 'from_timezone': 'Europe/Barcelona', 'to_timezone': 'Asia/Tokyo'}}]\u001b[0m\n",
      "\u001b[32m2024-05-03 02:41:49 INFO semantic_router.utils.logger Document 1 length: 90\u001b[0m\n",
      "\u001b[32m2024-05-03 02:41:49 INFO semantic_router.utils.logger Document 1 trunc length: 90\u001b[0m\n"
     ]
    },
    {
     "name": "stdout",
     "output_type": "stream",
     "text": [
      ">>> FAIL <<<.\n",
      "Failed to process: Show the current time in Barcelona. Change 08:15 from Barcelona time to Tokyo time. with error: 'No time zone found with key Europe/Barcelona'\n",
      "====================================================================================================\n",
      "====================================================================================================\n",
      "Processing utterance:  Can you provide the current time in Houston? Switch 12:30 from Houston time to Paris time.\n"
     ]
    },
    {
     "name": "stderr",
     "output_type": "stream",
     "text": [
      "\u001b[32m2024-05-03 02:41:49 INFO semantic_router.utils.logger Extracting function input...\u001b[0m\n",
      "\u001b[32m2024-05-03 02:41:51 INFO semantic_router.utils.logger LLM output: [\n",
      "    {\n",
      "        \"function_name\": \"get_time\",\n",
      "        \"arguments\": {\n",
      "            \"timezone\": \"America/Chicago\"\n",
      "        }\n",
      "    },\n",
      "    {\n",
      "        \"function_name\": \"convert_time\",\n",
      "        \"arguments\": {\n",
      "            \"time\": \"12:30\",\n",
      "            \"from_timezone\": \"America/Chicago\",\n",
      "            \"to_timezone\": \"Europe/Paris\"\n",
      "        }\n",
      "    }\n",
      "]\u001b[0m\n",
      "\u001b[32m2024-05-03 02:41:51 INFO semantic_router.utils.logger Function inputs: [{'function_name': 'get_time', 'arguments': {'timezone': 'America/Chicago'}}, {'function_name': 'convert_time', 'arguments': {'time': '12:30', 'from_timezone': 'America/Chicago', 'to_timezone': 'Europe/Paris'}}]\u001b[0m\n",
      "\u001b[32m2024-05-03 02:41:51 INFO semantic_router.utils.logger Document 1 length: 89\u001b[0m\n",
      "\u001b[32m2024-05-03 02:41:51 INFO semantic_router.utils.logger Document 1 trunc length: 89\u001b[0m\n"
     ]
    },
    {
     "name": "stdout",
     "output_type": "stream",
     "text": [
      "17:41\n",
      "19:30\n",
      ">>> PASS <<<.\n",
      "====================================================================================================\n",
      "====================================================================================================\n",
      "Processing utterance:  What is the current time in Prague? Can you convert 14:50 from Prague time to Seoul time?\n"
     ]
    },
    {
     "name": "stderr",
     "output_type": "stream",
     "text": [
      "\u001b[32m2024-05-03 02:41:51 INFO semantic_router.utils.logger Extracting function input...\u001b[0m\n",
      "\u001b[32m2024-05-03 02:41:53 INFO semantic_router.utils.logger LLM output: [\n",
      "    {\n",
      "        \"function_name\": \"get_time\",\n",
      "        \"arguments\": {\n",
      "            \"timezone\": \"Europe/Prague\"\n",
      "        }\n",
      "    },\n",
      "    {\n",
      "        \"function_name\": \"convert_time\",\n",
      "        \"arguments\": {\n",
      "            \"time\": \"14:50\",\n",
      "            \"from_timezone\": \"Europe/Prague\",\n",
      "            \"to_timezone\": \"Asia/Seoul\"\n",
      "        }\n",
      "    }\n",
      "]\u001b[0m\n",
      "\u001b[32m2024-05-03 02:41:53 INFO semantic_router.utils.logger Function inputs: [{'function_name': 'get_time', 'arguments': {'timezone': 'Europe/Prague'}}, {'function_name': 'convert_time', 'arguments': {'time': '14:50', 'from_timezone': 'Europe/Prague', 'to_timezone': 'Asia/Seoul'}}]\u001b[0m\n",
      "\u001b[32m2024-05-03 02:41:53 INFO semantic_router.utils.logger Document 1 length: 93\u001b[0m\n",
      "\u001b[32m2024-05-03 02:41:53 INFO semantic_router.utils.logger Document 1 trunc length: 93\u001b[0m\n"
     ]
    },
    {
     "name": "stdout",
     "output_type": "stream",
     "text": [
      "00:41\n",
      "21:50\n",
      ">>> PASS <<<.\n",
      "====================================================================================================\n",
      "====================================================================================================\n",
      "Processing utterance:  Display the current time in Stockholm. Adjust 11:00 from Stockholm time to Johannesburg time.\n"
     ]
    },
    {
     "name": "stderr",
     "output_type": "stream",
     "text": [
      "\u001b[32m2024-05-03 02:41:54 INFO semantic_router.utils.logger Extracting function input...\u001b[0m\n",
      "\u001b[32m2024-05-03 02:41:56 INFO semantic_router.utils.logger LLM output: [\n",
      "    {\n",
      "        \"function_name\": \"get_time\",\n",
      "        \"arguments\": {\n",
      "            \"timezone\": \"Europe/Stockholm\"\n",
      "        }\n",
      "    },\n",
      "    {\n",
      "        \"function_name\": \"convert_time\",\n",
      "        \"arguments\": {\n",
      "            \"time\": \"11:00\",\n",
      "            \"from_timezone\": \"Europe/Stockholm\",\n",
      "            \"to_timezone\": \"Africa/Johannesburg\"\n",
      "        }\n",
      "    }\n",
      "]\u001b[0m\n",
      "\u001b[32m2024-05-03 02:41:56 INFO semantic_router.utils.logger Function inputs: [{'function_name': 'get_time', 'arguments': {'timezone': 'Europe/Stockholm'}}, {'function_name': 'convert_time', 'arguments': {'time': '11:00', 'from_timezone': 'Europe/Stockholm', 'to_timezone': 'Africa/Johannesburg'}}]\u001b[0m\n",
      "\u001b[32m2024-05-03 02:41:56 INFO semantic_router.utils.logger Document 1 length: 86\u001b[0m\n",
      "\u001b[32m2024-05-03 02:41:56 INFO semantic_router.utils.logger Document 1 trunc length: 86\u001b[0m\n"
     ]
    },
    {
     "name": "stdout",
     "output_type": "stream",
     "text": [
      "00:41\n",
      "11:00\n",
      ">>> PASS <<<.\n",
      "====================================================================================================\n",
      "====================================================================================================\n",
      "Processing utterance:  Tell me the current time in Las Vegas. Convert 16:40 from Las Vegas time to Rome time.\n"
     ]
    },
    {
     "name": "stderr",
     "output_type": "stream",
     "text": [
      "\u001b[32m2024-05-03 02:41:56 INFO semantic_router.utils.logger Extracting function input...\u001b[0m\n",
      "\u001b[32m2024-05-03 02:41:58 INFO semantic_router.utils.logger LLM output: [\n",
      "    {\n",
      "        \"function_name\": \"get_time\",\n",
      "        \"arguments\": {\n",
      "            \"timezone\": \"America/Los_Angeles\"\n",
      "        }\n",
      "    },\n",
      "    {\n",
      "        \"function_name\": \"convert_time\",\n",
      "        \"arguments\": {\n",
      "            \"time\": \"16:40\",\n",
      "            \"from_timezone\": \"America/Los_Angeles\",\n",
      "            \"to_timezone\": \"Europe/Rome\"\n",
      "        }\n",
      "    }\n",
      "]\u001b[0m\n",
      "\u001b[32m2024-05-03 02:41:58 INFO semantic_router.utils.logger Function inputs: [{'function_name': 'get_time', 'arguments': {'timezone': 'America/Los_Angeles'}}, {'function_name': 'convert_time', 'arguments': {'time': '16:40', 'from_timezone': 'America/Los_Angeles', 'to_timezone': 'Europe/Rome'}}]\u001b[0m\n",
      "\u001b[32m2024-05-03 02:41:58 INFO semantic_router.utils.logger Document 1 length: 95\u001b[0m\n",
      "\u001b[32m2024-05-03 02:41:58 INFO semantic_router.utils.logger Document 1 trunc length: 95\u001b[0m\n"
     ]
    },
    {
     "name": "stdout",
     "output_type": "stream",
     "text": [
      "15:41\n",
      "01:40\n",
      ">>> PASS <<<.\n",
      "====================================================================================================\n",
      "====================================================================================================\n",
      "Processing utterance:  Can you find the current time in San Diego? Change 13:00 from San Diego time to Hong Kong time.\n"
     ]
    },
    {
     "name": "stderr",
     "output_type": "stream",
     "text": [
      "\u001b[32m2024-05-03 02:41:58 INFO semantic_router.utils.logger Extracting function input...\u001b[0m\n",
      "\u001b[32m2024-05-03 02:42:00 INFO semantic_router.utils.logger LLM output: [\n",
      "    {\n",
      "        \"function_name\": \"get_time\",\n",
      "        \"arguments\": {\n",
      "            \"timezone\": \"America/Los_Angeles\"\n",
      "        }\n",
      "    },\n",
      "    {\n",
      "        \"function_name\": \"convert_time\",\n",
      "        \"arguments\": {\n",
      "            \"time\": \"13:00\",\n",
      "            \"from_timezone\": \"America/Los_Angeles\",\n",
      "            \"to_timezone\": \"Asia/Hong_Kong\"\n",
      "        }\n",
      "    }\n",
      "]\u001b[0m\n",
      "\u001b[32m2024-05-03 02:42:00 INFO semantic_router.utils.logger Function inputs: [{'function_name': 'get_time', 'arguments': {'timezone': 'America/Los_Angeles'}}, {'function_name': 'convert_time', 'arguments': {'time': '13:00', 'from_timezone': 'America/Los_Angeles', 'to_timezone': 'Asia/Hong_Kong'}}]\u001b[0m\n",
      "\u001b[32m2024-05-03 02:42:00 INFO semantic_router.utils.logger Document 1 length: 90\u001b[0m\n",
      "\u001b[32m2024-05-03 02:42:00 INFO semantic_router.utils.logger Document 1 trunc length: 90\u001b[0m\n"
     ]
    },
    {
     "name": "stdout",
     "output_type": "stream",
     "text": [
      "15:42\n",
      "04:00\n",
      ">>> PASS <<<.\n",
      "====================================================================================================\n",
      "====================================================================================================\n",
      "Processing utterance:  Please show the current time in Brussels. Convert 18:30 from Brussels time to Sydney time.\n"
     ]
    },
    {
     "name": "stderr",
     "output_type": "stream",
     "text": [
      "\u001b[32m2024-05-03 02:42:01 INFO semantic_router.utils.logger Extracting function input...\u001b[0m\n",
      "\u001b[32m2024-05-03 02:42:02 INFO semantic_router.utils.logger LLM output: [\n",
      "    {\n",
      "        \"function_name\": \"get_time\",\n",
      "        \"arguments\": {\n",
      "            \"timezone\": \"Europe/Brussels\"\n",
      "        }\n",
      "    },\n",
      "    {\n",
      "        \"function_name\": \"convert_time\",\n",
      "        \"arguments\": {\n",
      "            \"time\": \"18:30\",\n",
      "            \"from_timezone\": \"Europe/Brussels\",\n",
      "            \"to_timezone\": \"Australia/Sydney\"\n",
      "        }\n",
      "    }\n",
      "]\u001b[0m\n",
      "\u001b[32m2024-05-03 02:42:02 INFO semantic_router.utils.logger Function inputs: [{'function_name': 'get_time', 'arguments': {'timezone': 'Europe/Brussels'}}, {'function_name': 'convert_time', 'arguments': {'time': '18:30', 'from_timezone': 'Europe/Brussels', 'to_timezone': 'Australia/Sydney'}}]\u001b[0m\n",
      "\u001b[32m2024-05-03 02:42:02 INFO semantic_router.utils.logger Document 1 length: 99\u001b[0m\n",
      "\u001b[32m2024-05-03 02:42:02 INFO semantic_router.utils.logger Document 1 trunc length: 99\u001b[0m\n"
     ]
    },
    {
     "name": "stdout",
     "output_type": "stream",
     "text": [
      "00:42\n",
      "02:30\n",
      ">>> PASS <<<.\n",
      "====================================================================================================\n",
      "====================================================================================================\n",
      "Processing utterance:  What's the current time in Copenhagen? Can you adjust 15:20 from Copenhagen time to New Delhi time?\n"
     ]
    },
    {
     "name": "stderr",
     "output_type": "stream",
     "text": [
      "\u001b[32m2024-05-03 02:42:03 INFO semantic_router.utils.logger Extracting function input...\u001b[0m\n",
      "\u001b[32m2024-05-03 02:42:05 INFO semantic_router.utils.logger LLM output: [\n",
      "    {\n",
      "        \"function_name\": \"get_time\",\n",
      "        \"arguments\": {\n",
      "            \"timezone\": \"Europe/Copenhagen\"\n",
      "        }\n",
      "    },\n",
      "    {\n",
      "        \"function_name\": \"convert_time\",\n",
      "        \"arguments\": {\n",
      "            \"time\": \"15:20\",\n",
      "            \"from_timezone\": \"Europe/Copenhagen\",\n",
      "            \"to_timezone\": \"Asia/Kolkata\"\n",
      "        }\n",
      "    }\n",
      "]\u001b[0m\n",
      "\u001b[32m2024-05-03 02:42:05 INFO semantic_router.utils.logger Function inputs: [{'function_name': 'get_time', 'arguments': {'timezone': 'Europe/Copenhagen'}}, {'function_name': 'convert_time', 'arguments': {'time': '15:20', 'from_timezone': 'Europe/Copenhagen', 'to_timezone': 'Asia/Kolkata'}}]\u001b[0m\n",
      "\u001b[32m2024-05-03 02:42:05 INFO semantic_router.utils.logger Document 1 length: 87\u001b[0m\n",
      "\u001b[32m2024-05-03 02:42:05 INFO semantic_router.utils.logger Document 1 trunc length: 87\u001b[0m\n"
     ]
    },
    {
     "name": "stdout",
     "output_type": "stream",
     "text": [
      "00:42\n",
      "18:50\n",
      ">>> PASS <<<.\n",
      "====================================================================================================\n",
      "====================================================================================================\n",
      "Processing utterance:  Find out the current time in Warsaw. Switch 20:00 from Warsaw time to Los Angeles time.\n"
     ]
    },
    {
     "name": "stderr",
     "output_type": "stream",
     "text": [
      "\u001b[32m2024-05-03 02:42:05 INFO semantic_router.utils.logger Extracting function input...\u001b[0m\n",
      "\u001b[32m2024-05-03 02:42:07 INFO semantic_router.utils.logger LLM output: [\n",
      "    {\n",
      "        \"function_name\": \"get_time\",\n",
      "        \"arguments\": {\n",
      "            \"timezone\": \"Europe/Warsaw\"\n",
      "        }\n",
      "    },\n",
      "    {\n",
      "        \"function_name\": \"convert_time\",\n",
      "        \"arguments\": {\n",
      "            \"time\": \"20:00\",\n",
      "            \"from_timezone\": \"Europe/Warsaw\",\n",
      "            \"to_timezone\": \"America/Los_Angeles\"\n",
      "        }\n",
      "    }\n",
      "]\u001b[0m\n",
      "\u001b[32m2024-05-03 02:42:07 INFO semantic_router.utils.logger Function inputs: [{'function_name': 'get_time', 'arguments': {'timezone': 'Europe/Warsaw'}}, {'function_name': 'convert_time', 'arguments': {'time': '20:00', 'from_timezone': 'Europe/Warsaw', 'to_timezone': 'America/Los_Angeles'}}]\u001b[0m\n",
      "\u001b[32m2024-05-03 02:42:07 INFO semantic_router.utils.logger Document 1 length: 96\u001b[0m\n",
      "\u001b[32m2024-05-03 02:42:07 INFO semantic_router.utils.logger Document 1 trunc length: 96\u001b[0m\n"
     ]
    },
    {
     "name": "stdout",
     "output_type": "stream",
     "text": [
      "00:42\n",
      "11:00\n",
      ">>> PASS <<<.\n",
      "====================================================================================================\n",
      "====================================================================================================\n",
      "Processing utterance:  Could you show the current time in Frankfurt? Convert 10:00 from Frankfurt time to Beijing time.\n"
     ]
    },
    {
     "name": "stderr",
     "output_type": "stream",
     "text": [
      "\u001b[32m2024-05-03 02:42:07 INFO semantic_router.utils.logger Extracting function input...\u001b[0m\n",
      "\u001b[32m2024-05-03 02:42:09 INFO semantic_router.utils.logger LLM output: [\n",
      "    {\n",
      "        \"function_name\": \"get_time\",\n",
      "        \"arguments\": {\n",
      "            \"timezone\": \"Europe/Berlin\"\n",
      "        }\n",
      "    },\n",
      "    {\n",
      "        \"function_name\": \"convert_time\",\n",
      "        \"arguments\": {\n",
      "            \"time\": \"10:00\",\n",
      "            \"from_timezone\": \"Europe/Berlin\",\n",
      "            \"to_timezone\": \"Asia/Shanghai\"\n",
      "        }\n",
      "    }\n",
      "]\u001b[0m\n",
      "\u001b[32m2024-05-03 02:42:09 INFO semantic_router.utils.logger Function inputs: [{'function_name': 'get_time', 'arguments': {'timezone': 'Europe/Berlin'}}, {'function_name': 'convert_time', 'arguments': {'time': '10:00', 'from_timezone': 'Europe/Berlin', 'to_timezone': 'Asia/Shanghai'}}]\u001b[0m\n",
      "\u001b[32m2024-05-03 02:42:09 INFO semantic_router.utils.logger Document 1 length: 90\u001b[0m\n",
      "\u001b[32m2024-05-03 02:42:09 INFO semantic_router.utils.logger Document 1 trunc length: 90\u001b[0m\n"
     ]
    },
    {
     "name": "stdout",
     "output_type": "stream",
     "text": [
      "00:42\n",
      "16:00\n",
      ">>> PASS <<<.\n",
      "====================================================================================================\n",
      "====================================================================================================\n",
      "Processing utterance:  What is the current time in Atlanta? Can you switch 15:00 from Atlanta time to Paris time?\n"
     ]
    },
    {
     "name": "stderr",
     "output_type": "stream",
     "text": [
      "\u001b[32m2024-05-03 02:42:09 INFO semantic_router.utils.logger Extracting function input...\u001b[0m\n",
      "\u001b[32m2024-05-03 02:42:11 INFO semantic_router.utils.logger LLM output: [\n",
      "    {\n",
      "        \"function_name\": \"get_time\",\n",
      "        \"arguments\": {\n",
      "            \"timezone\": \"America/Atlanta\"\n",
      "        }\n",
      "    },\n",
      "    {\n",
      "        \"function_name\": \"convert_time\",\n",
      "        \"arguments\": {\n",
      "            \"time\": \"15:00\",\n",
      "            \"from_timezone\": \"America/Atlanta\",\n",
      "            \"to_timezone\": \"Europe/Paris\"\n",
      "        }\n",
      "    }\n",
      "]\u001b[0m\n",
      "\u001b[32m2024-05-03 02:42:11 INFO semantic_router.utils.logger Function inputs: [{'function_name': 'get_time', 'arguments': {'timezone': 'America/Atlanta'}}, {'function_name': 'convert_time', 'arguments': {'time': '15:00', 'from_timezone': 'America/Atlanta', 'to_timezone': 'Europe/Paris'}}]\u001b[0m\n",
      "\u001b[32m2024-05-03 02:42:11 INFO semantic_router.utils.logger Document 1 length: 93\u001b[0m\n",
      "\u001b[32m2024-05-03 02:42:11 INFO semantic_router.utils.logger Document 1 trunc length: 93\u001b[0m\n"
     ]
    },
    {
     "name": "stdout",
     "output_type": "stream",
     "text": [
      ">>> FAIL <<<.\n",
      "Failed to process: What is the current time in Atlanta? Can you switch 15:00 from Atlanta time to Paris time? with error: 'No time zone found with key America/Atlanta'\n",
      "====================================================================================================\n",
      "====================================================================================================\n",
      "Processing utterance:  Please find the current time in Cape Town. Adjust 12:45 from Cape Town time to New York time.\n"
     ]
    },
    {
     "name": "stderr",
     "output_type": "stream",
     "text": [
      "\u001b[32m2024-05-03 02:42:12 INFO semantic_router.utils.logger Extracting function input...\u001b[0m\n",
      "\u001b[32m2024-05-03 02:42:14 INFO semantic_router.utils.logger LLM output: [\n",
      "    {\n",
      "        \"function_name\": \"get_time\",\n",
      "        \"arguments\": {\n",
      "            \"timezone\": \"Africa/Johannesburg\"\n",
      "        }\n",
      "    },\n",
      "    {\n",
      "        \"function_name\": \"convert_time\",\n",
      "        \"arguments\": {\n",
      "            \"time\": \"12:45\",\n",
      "            \"from_timezone\": \"Africa/Johannesburg\",\n",
      "            \"to_timezone\": \"America/New_York\"\n",
      "        }\n",
      "    }\n",
      "]\u001b[0m\n",
      "\u001b[32m2024-05-03 02:42:14 INFO semantic_router.utils.logger Function inputs: [{'function_name': 'get_time', 'arguments': {'timezone': 'Africa/Johannesburg'}}, {'function_name': 'convert_time', 'arguments': {'time': '12:45', 'from_timezone': 'Africa/Johannesburg', 'to_timezone': 'America/New_York'}}]\u001b[0m\n",
      "\u001b[32m2024-05-03 02:42:14 INFO semantic_router.utils.logger Document 1 length: 81\u001b[0m\n",
      "\u001b[32m2024-05-03 02:42:14 INFO semantic_router.utils.logger Document 1 trunc length: 81\u001b[0m\n"
     ]
    },
    {
     "name": "stdout",
     "output_type": "stream",
     "text": [
      "00:42\n",
      "06:45\n",
      ">>> PASS <<<.\n",
      "====================================================================================================\n",
      "====================================================================================================\n",
      "Processing utterance:  Tell me the current time in Ankara. Change 17:30 from Ankara time to London time.\n"
     ]
    },
    {
     "name": "stderr",
     "output_type": "stream",
     "text": [
      "\u001b[32m2024-05-03 02:42:14 INFO semantic_router.utils.logger Extracting function input...\u001b[0m\n",
      "\u001b[32m2024-05-03 02:42:16 INFO semantic_router.utils.logger LLM output: [\n",
      "    {\n",
      "        \"function_name\": \"get_time\",\n",
      "        \"arguments\": {\n",
      "            \"timezone\": \"Europe/Istanbul\"\n",
      "        }\n",
      "    },\n",
      "    {\n",
      "        \"function_name\": \"convert_time\",\n",
      "        \"arguments\": {\n",
      "            \"time\": \"17:30\",\n",
      "            \"from_timezone\": \"Europe/Istanbul\",\n",
      "            \"to_timezone\": \"Europe/London\"\n",
      "        }\n",
      "    }\n",
      "]\u001b[0m\n",
      "\u001b[32m2024-05-03 02:42:16 INFO semantic_router.utils.logger Function inputs: [{'function_name': 'get_time', 'arguments': {'timezone': 'Europe/Istanbul'}}, {'function_name': 'convert_time', 'arguments': {'time': '17:30', 'from_timezone': 'Europe/Istanbul', 'to_timezone': 'Europe/London'}}]\u001b[0m\n",
      "\u001b[32m2024-05-03 02:42:16 INFO semantic_router.utils.logger Document 1 length: 87\u001b[0m\n",
      "\u001b[32m2024-05-03 02:42:16 INFO semantic_router.utils.logger Document 1 trunc length: 87\u001b[0m\n"
     ]
    },
    {
     "name": "stdout",
     "output_type": "stream",
     "text": [
      "01:42\n",
      "15:30\n",
      ">>> PASS <<<.\n",
      "====================================================================================================\n",
      "====================================================================================================\n",
      "Processing utterance:  Can you provide the current time in Milan? Convert 14:20 from Milan time to Tokyo time.\n"
     ]
    },
    {
     "name": "stderr",
     "output_type": "stream",
     "text": [
      "\u001b[32m2024-05-03 02:42:17 INFO semantic_router.utils.logger Extracting function input...\u001b[0m\n",
      "\u001b[32m2024-05-03 02:42:18 INFO semantic_router.utils.logger LLM output: [\n",
      "    {\n",
      "        \"function_name\": \"get_time\",\n",
      "        \"arguments\": {\n",
      "            \"timezone\": \"Europe/Rome\"\n",
      "        }\n",
      "    },\n",
      "    {\n",
      "        \"function_name\": \"convert_time\",\n",
      "        \"arguments\": {\n",
      "            \"time\": \"14:20\",\n",
      "            \"from_timezone\": \"Europe/Rome\",\n",
      "            \"to_timezone\": \"Asia/Tokyo\"\n",
      "        }\n",
      "    }\n",
      "]\u001b[0m\n",
      "\u001b[32m2024-05-03 02:42:18 INFO semantic_router.utils.logger Function inputs: [{'function_name': 'get_time', 'arguments': {'timezone': 'Europe/Rome'}}, {'function_name': 'convert_time', 'arguments': {'time': '14:20', 'from_timezone': 'Europe/Rome', 'to_timezone': 'Asia/Tokyo'}}]\u001b[0m\n",
      "\u001b[32m2024-05-03 02:42:18 INFO semantic_router.utils.logger Document 1 length: 83\u001b[0m\n",
      "\u001b[32m2024-05-03 02:42:18 INFO semantic_router.utils.logger Document 1 trunc length: 83\u001b[0m\n"
     ]
    },
    {
     "name": "stdout",
     "output_type": "stream",
     "text": [
      "00:42\n",
      "21:20\n",
      ">>> PASS <<<.\n",
      "====================================================================================================\n",
      "====================================================================================================\n",
      "Processing utterance:  Display the current time in Phoenix. Switch 11:00 from Phoenix time to Moscow time.\n"
     ]
    },
    {
     "name": "stderr",
     "output_type": "stream",
     "text": [
      "\u001b[32m2024-05-03 02:42:18 INFO semantic_router.utils.logger Extracting function input...\u001b[0m\n",
      "\u001b[32m2024-05-03 02:42:20 INFO semantic_router.utils.logger LLM output: [\n",
      "    {\n",
      "        \"function_name\": \"get_time\",\n",
      "        \"arguments\": {\n",
      "            \"timezone\": \"America/Phoenix\"\n",
      "        }\n",
      "    },\n",
      "    {\n",
      "        \"function_name\": \"convert_time\",\n",
      "        \"arguments\": {\n",
      "            \"time\": \"11:00\",\n",
      "            \"from_timezone\": \"America/Phoenix\",\n",
      "            \"to_timezone\": \"Europe/Moscow\"\n",
      "        }\n",
      "    }\n",
      "]\u001b[0m\n",
      "\u001b[32m2024-05-03 02:42:20 INFO semantic_router.utils.logger Function inputs: [{'function_name': 'get_time', 'arguments': {'timezone': 'America/Phoenix'}}, {'function_name': 'convert_time', 'arguments': {'time': '11:00', 'from_timezone': 'America/Phoenix', 'to_timezone': 'Europe/Moscow'}}]\u001b[0m\n",
      "\u001b[32m2024-05-03 02:42:20 INFO semantic_router.utils.logger Document 1 length: 94\u001b[0m\n",
      "\u001b[32m2024-05-03 02:42:20 INFO semantic_router.utils.logger Document 1 trunc length: 94\u001b[0m\n"
     ]
    },
    {
     "name": "stdout",
     "output_type": "stream",
     "text": [
      "15:42\n",
      "21:00\n",
      ">>> PASS <<<.\n",
      "====================================================================================================\n",
      "====================================================================================================\n",
      "Processing utterance:  I need the current time in Buenos Aires. Please convert 19:00 Buenos Aires time to Seoul time.\n"
     ]
    },
    {
     "name": "stderr",
     "output_type": "stream",
     "text": [
      "\u001b[32m2024-05-03 02:42:21 INFO semantic_router.utils.logger Extracting function input...\u001b[0m\n",
      "\u001b[32m2024-05-03 02:42:23 INFO semantic_router.utils.logger LLM output: [\n",
      "    {\n",
      "        \"function_name\": \"get_time\",\n",
      "        \"arguments\": {\n",
      "            \"timezone\": \"America/Argentina/Buenos_Aires\"\n",
      "        }\n",
      "    },\n",
      "    {\n",
      "        \"function_name\": \"convert_time\",\n",
      "        \"arguments\": {\n",
      "            \"time\": \"19:00\",\n",
      "            \"from_timezone\": \"America/Argentina/Buenos_Aires\",\n",
      "            \"to_timezone\": \"Asia/Seoul\"\n",
      "        }\n",
      "    }\n",
      "]\u001b[0m\n",
      "\u001b[32m2024-05-03 02:42:23 INFO semantic_router.utils.logger Function inputs: [{'function_name': 'get_time', 'arguments': {'timezone': 'America/Argentina/Buenos_Aires'}}, {'function_name': 'convert_time', 'arguments': {'time': '19:00', 'from_timezone': 'America/Argentina/Buenos_Aires', 'to_timezone': 'Asia/Seoul'}}]\u001b[0m\n",
      "\u001b[32m2024-05-03 02:42:23 INFO semantic_router.utils.logger Document 1 length: 90\u001b[0m\n",
      "\u001b[32m2024-05-03 02:42:23 INFO semantic_router.utils.logger Document 1 trunc length: 90\u001b[0m\n"
     ]
    },
    {
     "name": "stdout",
     "output_type": "stream",
     "text": [
      "19:42\n",
      "07:00\n",
      ">>> PASS <<<.\n",
      "====================================================================================================\n",
      "====================================================================================================\n",
      "Processing utterance:  What's the current time in Dublin? Can you adjust 13:15 from Dublin time to Shanghai time?\n"
     ]
    },
    {
     "name": "stderr",
     "output_type": "stream",
     "text": [
      "\u001b[32m2024-05-03 02:42:23 INFO semantic_router.utils.logger Extracting function input...\u001b[0m\n",
      "\u001b[32m2024-05-03 02:42:25 INFO semantic_router.utils.logger LLM output: [\n",
      "    {\n",
      "        \"function_name\": \"get_time\",\n",
      "        \"arguments\": {\n",
      "            \"timezone\": \"Europe/Dublin\"\n",
      "        }\n",
      "    },\n",
      "    {\n",
      "        \"function_name\": \"convert_time\",\n",
      "        \"arguments\": {\n",
      "            \"time\": \"13:15\",\n",
      "            \"from_timezone\": \"Europe/Dublin\",\n",
      "            \"to_timezone\": \"Asia/Shanghai\"\n",
      "        }\n",
      "    }\n",
      "]\u001b[0m\n",
      "\u001b[32m2024-05-03 02:42:25 INFO semantic_router.utils.logger Function inputs: [{'function_name': 'get_time', 'arguments': {'timezone': 'Europe/Dublin'}}, {'function_name': 'convert_time', 'arguments': {'time': '13:15', 'from_timezone': 'Europe/Dublin', 'to_timezone': 'Asia/Shanghai'}}]\u001b[0m\n",
      "\u001b[32m2024-05-03 02:42:25 INFO semantic_router.utils.logger Document 1 length: 81\u001b[0m\n",
      "\u001b[32m2024-05-03 02:42:25 INFO semantic_router.utils.logger Document 1 trunc length: 81\u001b[0m\n"
     ]
    },
    {
     "name": "stdout",
     "output_type": "stream",
     "text": [
      "23:42\n",
      "20:15\n",
      ">>> PASS <<<.\n",
      "====================================================================================================\n",
      "====================================================================================================\n",
      "Processing utterance:  Show me the current time in Tehran. Change 16:00 from Tehran time to Berlin time.\n"
     ]
    },
    {
     "name": "stderr",
     "output_type": "stream",
     "text": [
      "\u001b[32m2024-05-03 02:42:25 INFO semantic_router.utils.logger Extracting function input...\u001b[0m\n",
      "\u001b[32m2024-05-03 02:42:27 INFO semantic_router.utils.logger LLM output: [\n",
      "    {\n",
      "        \"function_name\": \"get_time\",\n",
      "        \"arguments\": {\n",
      "            \"timezone\": \"Asia/Tehran\"\n",
      "        }\n",
      "    },\n",
      "    {\n",
      "        \"function_name\": \"convert_time\",\n",
      "        \"arguments\": {\n",
      "            \"time\": \"16:00\",\n",
      "            \"from_timezone\": \"Asia/Tehran\",\n",
      "            \"to_timezone\": \"Europe/Berlin\"\n",
      "        }\n",
      "    }\n",
      "]\u001b[0m\n",
      "\u001b[32m2024-05-03 02:42:27 INFO semantic_router.utils.logger Function inputs: [{'function_name': 'get_time', 'arguments': {'timezone': 'Asia/Tehran'}}, {'function_name': 'convert_time', 'arguments': {'time': '16:00', 'from_timezone': 'Asia/Tehran', 'to_timezone': 'Europe/Berlin'}}]\u001b[0m\n",
      "\u001b[32m2024-05-03 02:42:27 INFO semantic_router.utils.logger Document 1 length: 90\u001b[0m\n",
      "\u001b[32m2024-05-03 02:42:27 INFO semantic_router.utils.logger Document 1 trunc length: 90\u001b[0m\n"
     ]
    },
    {
     "name": "stdout",
     "output_type": "stream",
     "text": [
      "02:12\n",
      "14:30\n",
      ">>> PASS <<<.\n",
      "====================================================================================================\n",
      "====================================================================================================\n",
      "Processing utterance:  Can you tell me the current time in Bogota? Convert 18:30 from Bogota time to Sydney time.\n"
     ]
    },
    {
     "name": "stderr",
     "output_type": "stream",
     "text": [
      "\u001b[32m2024-05-03 02:42:27 INFO semantic_router.utils.logger Extracting function input...\u001b[0m\n",
      "\u001b[32m2024-05-03 02:42:29 INFO semantic_router.utils.logger LLM output: [\n",
      "    {\n",
      "        \"function_name\": \"get_time\",\n",
      "        \"arguments\": {\n",
      "            \"timezone\": \"America/Bogota\"\n",
      "        }\n",
      "    },\n",
      "    {\n",
      "        \"function_name\": \"convert_time\",\n",
      "        \"arguments\": {\n",
      "            \"time\": \"18:30\",\n",
      "            \"from_timezone\": \"America/Bogota\",\n",
      "            \"to_timezone\": \"Australia/Sydney\"\n",
      "        }\n",
      "    }\n",
      "]\u001b[0m\n",
      "\u001b[32m2024-05-03 02:42:29 INFO semantic_router.utils.logger Function inputs: [{'function_name': 'get_time', 'arguments': {'timezone': 'America/Bogota'}}, {'function_name': 'convert_time', 'arguments': {'time': '18:30', 'from_timezone': 'America/Bogota', 'to_timezone': 'Australia/Sydney'}}]\u001b[0m\n",
      "\u001b[32m2024-05-03 02:42:29 INFO semantic_router.utils.logger Document 1 length: 95\u001b[0m\n",
      "\u001b[32m2024-05-03 02:42:29 INFO semantic_router.utils.logger Document 1 trunc length: 95\u001b[0m\n"
     ]
    },
    {
     "name": "stdout",
     "output_type": "stream",
     "text": [
      "17:42\n",
      "09:30\n",
      ">>> PASS <<<.\n",
      "====================================================================================================\n",
      "====================================================================================================\n",
      "Processing utterance:  Please check the current time in Santiago. Switch 20:45 from Santiago time to Los Angeles time.\n"
     ]
    },
    {
     "name": "stderr",
     "output_type": "stream",
     "text": [
      "\u001b[32m2024-05-03 02:42:29 INFO semantic_router.utils.logger Extracting function input...\u001b[0m\n",
      "\u001b[32m2024-05-03 02:42:32 INFO semantic_router.utils.logger LLM output: [\n",
      "    {\n",
      "        \"function_name\": \"get_time\",\n",
      "        \"arguments\": {\n",
      "            \"timezone\": \"America/Santiago\"\n",
      "        }\n",
      "    },\n",
      "    {\n",
      "        \"function_name\": \"convert_time\",\n",
      "        \"arguments\": {\n",
      "            \"time\": \"20:45\",\n",
      "            \"from_timezone\": \"America/Santiago\",\n",
      "            \"to_timezone\": \"America/Los_Angeles\"\n",
      "        }\n",
      "    }\n",
      "]\u001b[0m\n",
      "\u001b[32m2024-05-03 02:42:32 INFO semantic_router.utils.logger Function inputs: [{'function_name': 'get_time', 'arguments': {'timezone': 'America/Santiago'}}, {'function_name': 'convert_time', 'arguments': {'time': '20:45', 'from_timezone': 'America/Santiago', 'to_timezone': 'America/Los_Angeles'}}]\u001b[0m\n",
      "\u001b[32m2024-05-03 02:42:32 INFO semantic_router.utils.logger Document 1 length: 83\u001b[0m\n",
      "\u001b[32m2024-05-03 02:42:32 INFO semantic_router.utils.logger Document 1 trunc length: 83\u001b[0m\n"
     ]
    },
    {
     "name": "stdout",
     "output_type": "stream",
     "text": [
      "18:42\n",
      "17:45\n",
      ">>> PASS <<<.\n",
      "====================================================================================================\n",
      "====================================================================================================\n",
      "Processing utterance:  Find out the current time in Lagos. Adjust 09:00 from Lagos time to Hong Kong time.\n"
     ]
    },
    {
     "name": "stderr",
     "output_type": "stream",
     "text": [
      "\u001b[32m2024-05-03 02:42:32 INFO semantic_router.utils.logger Extracting function input...\u001b[0m\n",
      "\u001b[32m2024-05-03 02:42:34 INFO semantic_router.utils.logger LLM output: [\n",
      "    {\n",
      "        \"function_name\": \"get_time\",\n",
      "        \"arguments\": {\n",
      "            \"timezone\": \"Africa/Lagos\"\n",
      "        }\n",
      "    },\n",
      "    {\n",
      "        \"function_name\": \"convert_time\",\n",
      "        \"arguments\": {\n",
      "            \"time\": \"09:00\",\n",
      "            \"from_timezone\": \"Africa/Lagos\",\n",
      "            \"to_timezone\": \"Asia/Hong_Kong\"\n",
      "        }\n",
      "    }\n",
      "]\u001b[0m\n",
      "\u001b[32m2024-05-03 02:42:34 INFO semantic_router.utils.logger Function inputs: [{'function_name': 'get_time', 'arguments': {'timezone': 'Africa/Lagos'}}, {'function_name': 'convert_time', 'arguments': {'time': '09:00', 'from_timezone': 'Africa/Lagos', 'to_timezone': 'Asia/Hong_Kong'}}]\u001b[0m\n",
      "\u001b[32m2024-05-03 02:42:34 INFO semantic_router.utils.logger Document 1 length: 90\u001b[0m\n",
      "\u001b[32m2024-05-03 02:42:34 INFO semantic_router.utils.logger Document 1 trunc length: 90\u001b[0m\n"
     ]
    },
    {
     "name": "stdout",
     "output_type": "stream",
     "text": [
      "23:42\n",
      "16:00\n",
      ">>> PASS <<<.\n",
      "====================================================================================================\n",
      "====================================================================================================\n",
      "Processing utterance:  Could you provide the current time in Perth? Convert 22:15 from Perth time to Madrid time.\n"
     ]
    },
    {
     "name": "stderr",
     "output_type": "stream",
     "text": [
      "\u001b[32m2024-05-03 02:42:34 INFO semantic_router.utils.logger Extracting function input...\u001b[0m\n",
      "\u001b[32m2024-05-03 02:42:36 INFO semantic_router.utils.logger LLM output: [\n",
      "    {\n",
      "        \"function_name\": \"get_time\",\n",
      "        \"arguments\": {\n",
      "            \"timezone\": \"Australia/Perth\"\n",
      "        }\n",
      "    },\n",
      "    {\n",
      "        \"function_name\": \"convert_time\",\n",
      "        \"arguments\": {\n",
      "            \"time\": \"22:15\",\n",
      "            \"from_timezone\": \"Australia/Perth\",\n",
      "            \"to_timezone\": \"Europe/Madrid\"\n",
      "        }\n",
      "    }\n",
      "]\u001b[0m\n",
      "\u001b[32m2024-05-03 02:42:36 INFO semantic_router.utils.logger Function inputs: [{'function_name': 'get_time', 'arguments': {'timezone': 'Australia/Perth'}}, {'function_name': 'convert_time', 'arguments': {'time': '22:15', 'from_timezone': 'Australia/Perth', 'to_timezone': 'Europe/Madrid'}}]\u001b[0m\n",
      "\u001b[32m2024-05-03 02:42:36 INFO semantic_router.utils.logger Document 1 length: 90\u001b[0m\n",
      "\u001b[32m2024-05-03 02:42:36 INFO semantic_router.utils.logger Document 1 trunc length: 90\u001b[0m\n"
     ]
    },
    {
     "name": "stdout",
     "output_type": "stream",
     "text": [
      "06:42\n",
      "16:15\n",
      ">>> PASS <<<.\n",
      "====================================================================================================\n",
      "====================================================================================================\n",
      "Processing utterance:  What is the current time in Beirut? Can you change 07:30 from Beirut time to Toronto time?\n"
     ]
    },
    {
     "name": "stderr",
     "output_type": "stream",
     "text": [
      "\u001b[32m2024-05-03 02:42:37 INFO semantic_router.utils.logger Extracting function input...\u001b[0m\n",
      "\u001b[32m2024-05-03 02:42:39 INFO semantic_router.utils.logger LLM output: [\n",
      "    {\n",
      "        \"function_name\": \"get_time\",\n",
      "        \"arguments\": {\n",
      "            \"timezone\": \"Asia/Beirut\"\n",
      "        }\n",
      "    },\n",
      "    {\n",
      "        \"function_name\": \"convert_time\",\n",
      "        \"arguments\": {\n",
      "            \"time\": \"07:30\",\n",
      "            \"from_timezone\": \"Asia/Beirut\",\n",
      "            \"to_timezone\": \"America/Toronto\"\n",
      "        }\n",
      "    }\n",
      "]\u001b[0m\n",
      "\u001b[32m2024-05-03 02:42:39 INFO semantic_router.utils.logger Function inputs: [{'function_name': 'get_time', 'arguments': {'timezone': 'Asia/Beirut'}}, {'function_name': 'convert_time', 'arguments': {'time': '07:30', 'from_timezone': 'Asia/Beirut', 'to_timezone': 'America/Toronto'}}]\u001b[0m\n",
      "\u001b[32m2024-05-03 02:42:39 INFO semantic_router.utils.logger Document 1 length: 80\u001b[0m\n",
      "\u001b[32m2024-05-03 02:42:39 INFO semantic_router.utils.logger Document 1 trunc length: 80\u001b[0m\n"
     ]
    },
    {
     "name": "stdout",
     "output_type": "stream",
     "text": [
      "01:42\n",
      "00:30\n",
      ">>> PASS <<<.\n",
      "====================================================================================================\n",
      "====================================================================================================\n",
      "Processing utterance:  Display the current time in Kiev. Switch 12:50 from Kiev time to Vancouver time.\n"
     ]
    },
    {
     "name": "stderr",
     "output_type": "stream",
     "text": [
      "\u001b[32m2024-05-03 02:42:39 INFO semantic_router.utils.logger Extracting function input...\u001b[0m\n",
      "\u001b[32m2024-05-03 02:42:41 INFO semantic_router.utils.logger LLM output: [\n",
      "    {\n",
      "        \"function_name\": \"get_time\",\n",
      "        \"arguments\": {\n",
      "            \"timezone\": \"Europe/Kiev\"\n",
      "        }\n",
      "    },\n",
      "    {\n",
      "        \"function_name\": \"convert_time\",\n",
      "        \"arguments\": {\n",
      "            \"time\": \"12:50\",\n",
      "            \"from_timezone\": \"Europe/Kiev\",\n",
      "            \"to_timezone\": \"America/Vancouver\"\n",
      "        }\n",
      "    }\n",
      "]\u001b[0m\n",
      "\u001b[32m2024-05-03 02:42:41 INFO semantic_router.utils.logger Function inputs: [{'function_name': 'get_time', 'arguments': {'timezone': 'Europe/Kiev'}}, {'function_name': 'convert_time', 'arguments': {'time': '12:50', 'from_timezone': 'Europe/Kiev', 'to_timezone': 'America/Vancouver'}}]\u001b[0m\n",
      "\u001b[32m2024-05-03 02:42:41 INFO semantic_router.utils.logger Document 1 length: 87\u001b[0m\n",
      "\u001b[32m2024-05-03 02:42:41 INFO semantic_router.utils.logger Document 1 trunc length: 87\u001b[0m\n"
     ]
    },
    {
     "name": "stdout",
     "output_type": "stream",
     "text": [
      "01:42\n",
      "02:50\n",
      ">>> PASS <<<.\n",
      "====================================================================================================\n",
      "====================================================================================================\n",
      "Processing utterance:  Tell me the current time in Edinburgh. Convert 15:40 from Edinburgh time to Dubai time.\n"
     ]
    },
    {
     "name": "stderr",
     "output_type": "stream",
     "text": [
      "\u001b[32m2024-05-03 02:42:41 INFO semantic_router.utils.logger Extracting function input...\u001b[0m\n",
      "\u001b[32m2024-05-03 02:42:43 INFO semantic_router.utils.logger LLM output: [\n",
      "    {\n",
      "        \"function_name\": \"get_time\",\n",
      "        \"arguments\": {\n",
      "            \"timezone\": \"Europe/Edinburgh\"\n",
      "        }\n",
      "    },\n",
      "    {\n",
      "        \"function_name\": \"convert_time\",\n",
      "        \"arguments\": {\n",
      "            \"time\": \"15:40\",\n",
      "            \"from_timezone\": \"Europe/Edinburgh\",\n",
      "            \"to_timezone\": \"Asia/Dubai\"\n",
      "        }\n",
      "    }\n",
      "]\u001b[0m\n",
      "\u001b[32m2024-05-03 02:42:43 INFO semantic_router.utils.logger Function inputs: [{'function_name': 'get_time', 'arguments': {'timezone': 'Europe/Edinburgh'}}, {'function_name': 'convert_time', 'arguments': {'time': '15:40', 'from_timezone': 'Europe/Edinburgh', 'to_timezone': 'Asia/Dubai'}}]\u001b[0m\n",
      "\u001b[32m2024-05-03 02:42:43 INFO semantic_router.utils.logger Document 1 length: 93\u001b[0m\n",
      "\u001b[32m2024-05-03 02:42:43 INFO semantic_router.utils.logger Document 1 trunc length: 93\u001b[0m\n"
     ]
    },
    {
     "name": "stdout",
     "output_type": "stream",
     "text": [
      ">>> FAIL <<<.\n",
      "Failed to process: Tell me the current time in Edinburgh. Convert 15:40 from Edinburgh time to Dubai time. with error: 'No time zone found with key Europe/Edinburgh'\n",
      "====================================================================================================\n",
      "====================================================================================================\n",
      "Processing utterance:  Can you show the current time in Belgrade? Adjust 14:25 from Belgrade time to Singapore time.\n"
     ]
    },
    {
     "name": "stderr",
     "output_type": "stream",
     "text": [
      "\u001b[32m2024-05-03 02:42:43 INFO semantic_router.utils.logger Extracting function input...\u001b[0m\n",
      "\u001b[32m2024-05-03 02:42:45 INFO semantic_router.utils.logger LLM output: [\n",
      "    {\n",
      "        \"function_name\": \"get_time\",\n",
      "        \"arguments\": {\n",
      "            \"timezone\": \"Europe/Belgrade\"\n",
      "        }\n",
      "    },\n",
      "    {\n",
      "        \"function_name\": \"convert_time\",\n",
      "        \"arguments\": {\n",
      "            \"time\": \"14:25\",\n",
      "            \"from_timezone\": \"Europe/Belgrade\",\n",
      "            \"to_timezone\": \"Asia/Singapore\"\n",
      "        }\n",
      "    }\n",
      "]\u001b[0m\n",
      "\u001b[32m2024-05-03 02:42:45 INFO semantic_router.utils.logger Function inputs: [{'function_name': 'get_time', 'arguments': {'timezone': 'Europe/Belgrade'}}, {'function_name': 'convert_time', 'arguments': {'time': '14:25', 'from_timezone': 'Europe/Belgrade', 'to_timezone': 'Asia/Singapore'}}]\u001b[0m\n",
      "\u001b[32m2024-05-03 02:42:45 INFO semantic_router.utils.logger Document 1 length: 94\u001b[0m\n",
      "\u001b[32m2024-05-03 02:42:45 INFO semantic_router.utils.logger Document 1 trunc length: 94\u001b[0m\n"
     ]
    },
    {
     "name": "stdout",
     "output_type": "stream",
     "text": [
      "00:42\n",
      "20:25\n",
      ">>> PASS <<<.\n",
      "====================================================================================================\n",
      "====================================================================================================\n",
      "Processing utterance:  Please provide the current time in Vienna. Change 17:00 from Vienna time to Johannesburg time.\n"
     ]
    },
    {
     "name": "stderr",
     "output_type": "stream",
     "text": [
      "\u001b[32m2024-05-03 02:42:45 INFO semantic_router.utils.logger Extracting function input...\u001b[0m\n",
      "\u001b[32m2024-05-03 02:42:47 INFO semantic_router.utils.logger LLM output: [\n",
      "    {\n",
      "        \"function_name\": \"get_time\",\n",
      "        \"arguments\": {\n",
      "            \"timezone\": \"Europe/Vienna\"\n",
      "        }\n",
      "    },\n",
      "    {\n",
      "        \"function_name\": \"convert_time\",\n",
      "        \"arguments\": {\n",
      "            \"time\": \"17:00\",\n",
      "            \"from_timezone\": \"Europe/Vienna\",\n",
      "            \"to_timezone\": \"Africa/Johannesburg\"\n",
      "        }\n",
      "    }\n",
      "]\u001b[0m\n",
      "\u001b[32m2024-05-03 02:42:47 INFO semantic_router.utils.logger Function inputs: [{'function_name': 'get_time', 'arguments': {'timezone': 'Europe/Vienna'}}, {'function_name': 'convert_time', 'arguments': {'time': '17:00', 'from_timezone': 'Europe/Vienna', 'to_timezone': 'Africa/Johannesburg'}}]\u001b[0m\n",
      "\u001b[32m2024-05-03 02:42:47 INFO semantic_router.utils.logger Document 1 length: 84\u001b[0m\n",
      "\u001b[32m2024-05-03 02:42:47 INFO semantic_router.utils.logger Document 1 trunc length: 84\u001b[0m\n"
     ]
    },
    {
     "name": "stdout",
     "output_type": "stream",
     "text": [
      "00:42\n",
      "17:00\n",
      ">>> PASS <<<.\n",
      "====================================================================================================\n",
      "====================================================================================================\n",
      "Processing utterance:  What's the current time in Oslo? Can you convert 19:00 from Oslo time to Cairo time?\n"
     ]
    },
    {
     "name": "stderr",
     "output_type": "stream",
     "text": [
      "\u001b[32m2024-05-03 02:42:48 INFO semantic_router.utils.logger Extracting function input...\u001b[0m\n",
      "\u001b[32m2024-05-03 02:42:49 INFO semantic_router.utils.logger LLM output: [\n",
      "    {\n",
      "        \"function_name\": \"get_time\",\n",
      "        \"arguments\": {\n",
      "            \"timezone\": \"Europe/Oslo\"\n",
      "        }\n",
      "    },\n",
      "    {\n",
      "        \"function_name\": \"convert_time\",\n",
      "        \"arguments\": {\n",
      "            \"time\": \"19:00\",\n",
      "            \"from_timezone\": \"Europe/Oslo\",\n",
      "            \"to_timezone\": \"Africa/Cairo\"\n",
      "        }\n",
      "    }\n",
      "]\u001b[0m\n",
      "\u001b[32m2024-05-03 02:42:49 INFO semantic_router.utils.logger Function inputs: [{'function_name': 'get_time', 'arguments': {'timezone': 'Europe/Oslo'}}, {'function_name': 'convert_time', 'arguments': {'time': '19:00', 'from_timezone': 'Europe/Oslo', 'to_timezone': 'Africa/Cairo'}}]\u001b[0m\n",
      "\u001b[32m2024-05-03 02:42:49 INFO semantic_router.utils.logger Document 1 length: 71\u001b[0m\n",
      "\u001b[32m2024-05-03 02:42:49 INFO semantic_router.utils.logger Document 1 trunc length: 71\u001b[0m\n"
     ]
    },
    {
     "name": "stdout",
     "output_type": "stream",
     "text": [
      "00:42\n",
      "20:00\n",
      ">>> PASS <<<.\n",
      "====================================================================================================\n",
      "====================================================================================================\n",
      "Processing utterance:  Find the current time in Havana. Switch it to Melbourne time for 21:30.\n"
     ]
    },
    {
     "name": "stderr",
     "output_type": "stream",
     "text": [
      "\u001b[32m2024-05-03 02:42:50 INFO semantic_router.utils.logger Extracting function input...\u001b[0m\n",
      "\u001b[32m2024-05-03 02:42:52 INFO semantic_router.utils.logger LLM output: [\n",
      "    {\n",
      "        \"function_name\": \"get_time\",\n",
      "        \"arguments\": {\n",
      "            \"timezone\": \"America/Havana\"\n",
      "        }\n",
      "    },\n",
      "    {\n",
      "        \"function_name\": \"convert_time\",\n",
      "        \"arguments\": {\n",
      "            \"time\": \"21:30\",\n",
      "            \"from_timezone\": \"America/Havana\",\n",
      "            \"to_timezone\": \"Australia/Melbourne\"\n",
      "        }\n",
      "    }\n",
      "]\u001b[0m\n",
      "\u001b[32m2024-05-03 02:42:52 INFO semantic_router.utils.logger Function inputs: [{'function_name': 'get_time', 'arguments': {'timezone': 'America/Havana'}}, {'function_name': 'convert_time', 'arguments': {'time': '21:30', 'from_timezone': 'America/Havana', 'to_timezone': 'Australia/Melbourne'}}]\u001b[0m\n",
      "\u001b[32m2024-05-03 02:42:52 INFO semantic_router.utils.logger Document 1 length: 86\u001b[0m\n",
      "\u001b[32m2024-05-03 02:42:52 INFO semantic_router.utils.logger Document 1 trunc length: 86\u001b[0m\n"
     ]
    },
    {
     "name": "stdout",
     "output_type": "stream",
     "text": [
      "18:42\n",
      "11:30\n",
      ">>> PASS <<<.\n",
      "====================================================================================================\n",
      "====================================================================================================\n",
      "Processing utterance:  Could you check the current time in Dhaka? Convert 08:45 from Dhaka time to Rome time.\n"
     ]
    },
    {
     "name": "stderr",
     "output_type": "stream",
     "text": [
      "\u001b[32m2024-05-03 02:42:52 INFO semantic_router.utils.logger Extracting function input...\u001b[0m\n",
      "\u001b[32m2024-05-03 02:42:54 INFO semantic_router.utils.logger LLM output: [\n",
      "    {\n",
      "        \"function_name\": \"get_time\",\n",
      "        \"arguments\": {\n",
      "            \"timezone\": \"Asia/Dhaka\"\n",
      "        }\n",
      "    },\n",
      "    {\n",
      "        \"function_name\": \"convert_time\",\n",
      "        \"arguments\": {\n",
      "            \"time\": \"08:45\",\n",
      "            \"from_timezone\": \"Asia/Dhaka\",\n",
      "            \"to_timezone\": \"Europe/Rome\"\n",
      "        }\n",
      "    }\n",
      "]\u001b[0m\n",
      "\u001b[32m2024-05-03 02:42:54 INFO semantic_router.utils.logger Function inputs: [{'function_name': 'get_time', 'arguments': {'timezone': 'Asia/Dhaka'}}, {'function_name': 'convert_time', 'arguments': {'time': '08:45', 'from_timezone': 'Asia/Dhaka', 'to_timezone': 'Europe/Rome'}}]\u001b[0m\n",
      "\u001b[32m2024-05-03 02:42:54 INFO semantic_router.utils.logger Document 1 length: 87\u001b[0m\n",
      "\u001b[32m2024-05-03 02:42:54 INFO semantic_router.utils.logger Document 1 trunc length: 87\u001b[0m\n"
     ]
    },
    {
     "name": "stdout",
     "output_type": "stream",
     "text": [
      "04:42\n",
      "04:45\n",
      ">>> PASS <<<.\n",
      "====================================================================================================\n",
      "====================================================================================================\n",
      "Processing utterance:  I'd like to know the current time in Quito. Adjust 10:30 from Quito time to Paris time.\n"
     ]
    },
    {
     "name": "stderr",
     "output_type": "stream",
     "text": [
      "\u001b[32m2024-05-03 02:42:54 INFO semantic_router.utils.logger Extracting function input...\u001b[0m\n",
      "\u001b[32m2024-05-03 02:42:57 INFO semantic_router.utils.logger LLM output: [\n",
      "    {\n",
      "        \"function_name\": \"get_time\",\n",
      "        \"arguments\": {\n",
      "            \"timezone\": \"America/Quito\"\n",
      "        }\n",
      "    },\n",
      "    {\n",
      "        \"function_name\": \"convert_time\",\n",
      "        \"arguments\": {\n",
      "            \"time\": \"10:30\",\n",
      "            \"from_timezone\": \"America/Quito\",\n",
      "            \"to_timezone\": \"Europe/Paris\"\n",
      "        }\n",
      "    }\n",
      "]\u001b[0m\n",
      "\u001b[32m2024-05-03 02:42:57 INFO semantic_router.utils.logger Function inputs: [{'function_name': 'get_time', 'arguments': {'timezone': 'America/Quito'}}, {'function_name': 'convert_time', 'arguments': {'time': '10:30', 'from_timezone': 'America/Quito', 'to_timezone': 'Europe/Paris'}}]\u001b[0m\n",
      "\u001b[32m2024-05-03 02:42:57 INFO semantic_router.utils.logger Document 1 length: 91\u001b[0m\n",
      "\u001b[32m2024-05-03 02:42:57 INFO semantic_router.utils.logger Document 1 trunc length: 91\u001b[0m\n"
     ]
    },
    {
     "name": "stdout",
     "output_type": "stream",
     "text": [
      ">>> FAIL <<<.\n",
      "Failed to process: I'd like to know the current time in Quito. Adjust 10:30 from Quito time to Paris time. with error: 'No time zone found with key America/Quito'\n",
      "====================================================================================================\n",
      "====================================================================================================\n",
      "Processing utterance:  Please tell me the current time in Antwerp. Change 13:50 from Antwerp time to Beijing time.\n"
     ]
    },
    {
     "name": "stderr",
     "output_type": "stream",
     "text": [
      "\u001b[32m2024-05-03 02:42:57 INFO semantic_router.utils.logger Extracting function input...\u001b[0m\n",
      "\u001b[32m2024-05-03 02:42:59 INFO semantic_router.utils.logger LLM output: [\n",
      "    {\n",
      "        \"function_name\": \"get_time\",\n",
      "        \"arguments\": {\n",
      "            \"timezone\": \"Europe/Brussels\"\n",
      "        }\n",
      "    },\n",
      "    {\n",
      "        \"function_name\": \"convert_time\",\n",
      "        \"arguments\": {\n",
      "            \"time\": \"13:50\",\n",
      "            \"from_timezone\": \"Europe/Brussels\",\n",
      "            \"to_timezone\": \"Asia/Shanghai\"\n",
      "        }\n",
      "    }\n",
      "]\u001b[0m\n",
      "\u001b[32m2024-05-03 02:42:59 INFO semantic_router.utils.logger Function inputs: [{'function_name': 'get_time', 'arguments': {'timezone': 'Europe/Brussels'}}, {'function_name': 'convert_time', 'arguments': {'time': '13:50', 'from_timezone': 'Europe/Brussels', 'to_timezone': 'Asia/Shanghai'}}]\u001b[0m\n",
      "\u001b[32m2024-05-03 02:42:59 INFO semantic_router.utils.logger Document 1 length: 84\u001b[0m\n",
      "\u001b[32m2024-05-03 02:42:59 INFO semantic_router.utils.logger Document 1 trunc length: 84\u001b[0m\n"
     ]
    },
    {
     "name": "stdout",
     "output_type": "stream",
     "text": [
      "00:42\n",
      "19:50\n",
      ">>> PASS <<<.\n",
      "====================================================================================================\n",
      "====================================================================================================\n",
      "Processing utterance:  Show the current time in Glasgow. Convert 11:15 from Glasgow time to New Delhi time.\n"
     ]
    },
    {
     "name": "stderr",
     "output_type": "stream",
     "text": [
      "\u001b[32m2024-05-03 02:42:59 INFO semantic_router.utils.logger Extracting function input...\u001b[0m\n",
      "\u001b[32m2024-05-03 02:43:01 INFO semantic_router.utils.logger LLM output: [\n",
      "    {\n",
      "        \"function_name\": \"get_time\",\n",
      "        \"arguments\": {\n",
      "            \"timezone\": \"Europe/London\"\n",
      "        }\n",
      "    },\n",
      "    {\n",
      "        \"function_name\": \"convert_time\",\n",
      "        \"arguments\": {\n",
      "            \"time\": \"11:15\",\n",
      "            \"from_timezone\": \"Europe/London\",\n",
      "            \"to_timezone\": \"Asia/Kolkata\"\n",
      "        }\n",
      "    }\n",
      "]\u001b[0m\n",
      "\u001b[32m2024-05-03 02:43:01 INFO semantic_router.utils.logger Function inputs: [{'function_name': 'get_time', 'arguments': {'timezone': 'Europe/London'}}, {'function_name': 'convert_time', 'arguments': {'time': '11:15', 'from_timezone': 'Europe/London', 'to_timezone': 'Asia/Kolkata'}}]\u001b[0m\n",
      "\u001b[32m2024-05-03 02:43:01 INFO semantic_router.utils.logger Document 1 length: 87\u001b[0m\n",
      "\u001b[32m2024-05-03 02:43:01 INFO semantic_router.utils.logger Document 1 trunc length: 87\u001b[0m\n"
     ]
    },
    {
     "name": "stdout",
     "output_type": "stream",
     "text": [
      "23:43\n",
      "15:45\n",
      ">>> PASS <<<.\n",
      "====================================================================================================\n",
      "====================================================================================================\n",
      "Processing utterance:  Can you find the current time in Caracas? Switch 16:00 from Caracas time to Tokyo time.\n"
     ]
    },
    {
     "name": "stderr",
     "output_type": "stream",
     "text": [
      "\u001b[32m2024-05-03 02:43:01 INFO semantic_router.utils.logger Extracting function input...\u001b[0m\n",
      "\u001b[32m2024-05-03 02:43:03 INFO semantic_router.utils.logger LLM output: [\n",
      "    {\n",
      "        \"function_name\": \"get_time\",\n",
      "        \"arguments\": {\n",
      "            \"timezone\": \"America/Caracas\"\n",
      "        }\n",
      "    },\n",
      "    {\n",
      "        \"function_name\": \"convert_time\",\n",
      "        \"arguments\": {\n",
      "            \"time\": \"16:00\",\n",
      "            \"from_timezone\": \"America/Caracas\",\n",
      "            \"to_timezone\": \"Asia/Tokyo\"\n",
      "        }\n",
      "    }\n",
      "]\u001b[0m\n",
      "\u001b[32m2024-05-03 02:43:03 INFO semantic_router.utils.logger Function inputs: [{'function_name': 'get_time', 'arguments': {'timezone': 'America/Caracas'}}, {'function_name': 'convert_time', 'arguments': {'time': '16:00', 'from_timezone': 'America/Caracas', 'to_timezone': 'Asia/Tokyo'}}]\u001b[0m\n"
     ]
    },
    {
     "name": "stdout",
     "output_type": "stream",
     "text": [
      "18:43\n",
      "05:00\n",
      ">>> PASS <<<.\n",
      "====================================================================================================\n",
      "====================================================================================================\n",
      "Number of successful responses: 46\n",
      "Number of failed responses: 4\n",
      "====================================================================================================\n"
     ]
    }
   ],
   "source": [
    "test_function_calling(\n",
    "    utterances=test_utterances_get_time_and_convert_time,\n",
    "    function_name='get_time_and_convert_time',\n",
    "    expected_num_responses=2\n",
    "    )"
   ]
  },
  {
   "cell_type": "markdown",
   "metadata": {},
   "source": [
    "### Test `get_time_difference` and `convert_time` Function Argument Extractions"
   ]
  },
  {
   "cell_type": "code",
   "execution_count": 26,
   "metadata": {},
   "outputs": [
    {
     "name": "stderr",
     "output_type": "stream",
     "text": [
      "\u001b[32m2024-05-03 02:43:03 INFO semantic_router.utils.logger Document 1 length: 115\u001b[0m\n",
      "\u001b[32m2024-05-03 02:43:03 INFO semantic_router.utils.logger Document 1 trunc length: 115\u001b[0m\n"
     ]
    },
    {
     "name": "stdout",
     "output_type": "stream",
     "text": [
      "====================================================================================================\n",
      "Processing utterance:  What's the time difference between Los Angeles and Tokyo, and can you convert 10:00 from Los Angeles to Tokyo time?\n"
     ]
    },
    {
     "name": "stderr",
     "output_type": "stream",
     "text": [
      "\u001b[32m2024-05-03 02:43:04 INFO semantic_router.utils.logger Extracting function input...\u001b[0m\n",
      "\u001b[32m2024-05-03 02:43:06 INFO semantic_router.utils.logger LLM output: [\n",
      "    {\n",
      "        \"function_name\": \"get_time_difference\",\n",
      "        \"arguments\": {\n",
      "            \"timezone1\": \"America/Los_Angeles\",\n",
      "            \"timezone2\": \"Asia/Tokyo\"\n",
      "        }\n",
      "    },\n",
      "    {\n",
      "        \"function_name\": \"convert_time\",\n",
      "        \"arguments\": {\n",
      "            \"time\": \"10:00\",\n",
      "            \"from_timezone\": \"America/Los_Angeles\",\n",
      "            \"to_timezone\": \"Asia/Tokyo\"\n",
      "        }\n",
      "    }\n",
      "]\u001b[0m\n",
      "\u001b[32m2024-05-03 02:43:06 INFO semantic_router.utils.logger Function inputs: [{'function_name': 'get_time_difference', 'arguments': {'timezone1': 'America/Los_Angeles', 'timezone2': 'Asia/Tokyo'}}, {'function_name': 'convert_time', 'arguments': {'time': '10:00', 'from_timezone': 'America/Los_Angeles', 'to_timezone': 'Asia/Tokyo'}}]\u001b[0m\n",
      "\u001b[32m2024-05-03 02:43:06 INFO semantic_router.utils.logger Document 1 length: 107\u001b[0m\n",
      "\u001b[32m2024-05-03 02:43:06 INFO semantic_router.utils.logger Document 1 trunc length: 107\u001b[0m\n"
     ]
    },
    {
     "name": "stdout",
     "output_type": "stream",
     "text": [
      "The time difference between America/Los_Angeles and Asia/Tokyo is 16.0 hours.\n",
      "02:00\n",
      ">>> PASS <<<.\n",
      "====================================================================================================\n",
      "====================================================================================================\n",
      "Processing utterance:  Please find out how many hours ahead London is from New York and switch 14:30 from London to New York time.\n"
     ]
    },
    {
     "name": "stderr",
     "output_type": "stream",
     "text": [
      "\u001b[32m2024-05-03 02:43:07 INFO semantic_router.utils.logger Extracting function input...\u001b[0m\n",
      "\u001b[32m2024-05-03 02:43:09 INFO semantic_router.utils.logger LLM output: [\n",
      "    {\n",
      "        \"function_name\": \"get_time_difference\",\n",
      "        \"arguments\": {\n",
      "            \"timezone1\": \"America/New_York\",\n",
      "            \"timezone2\": \"Europe/London\"\n",
      "        }\n",
      "    },\n",
      "    {\n",
      "        \"function_name\": \"convert_time\",\n",
      "        \"arguments\": {\n",
      "            \"time\": \"14:30\",\n",
      "            \"from_timezone\": \"Europe/London\",\n",
      "            \"to_timezone\": \"America/New_York\"\n",
      "        }\n",
      "    }\n",
      "]\u001b[0m\n",
      "\u001b[32m2024-05-03 02:43:09 INFO semantic_router.utils.logger Function inputs: [{'function_name': 'get_time_difference', 'arguments': {'timezone1': 'America/New_York', 'timezone2': 'Europe/London'}}, {'function_name': 'convert_time', 'arguments': {'time': '14:30', 'from_timezone': 'Europe/London', 'to_timezone': 'America/New_York'}}]\u001b[0m\n",
      "\u001b[32m2024-05-03 02:43:09 INFO semantic_router.utils.logger Document 1 length: 100\u001b[0m\n",
      "\u001b[32m2024-05-03 02:43:09 INFO semantic_router.utils.logger Document 1 trunc length: 100\u001b[0m\n"
     ]
    },
    {
     "name": "stdout",
     "output_type": "stream",
     "text": [
      "The time difference between America/New_York and Europe/London is 5.0 hours.\n",
      "09:30\n",
      ">>> PASS <<<.\n",
      "====================================================================================================\n",
      "====================================================================================================\n",
      "Processing utterance:  Can you determine the hour gap between Paris and Sydney, and adjust 16:00 Paris time to Sydney time?\n"
     ]
    },
    {
     "name": "stderr",
     "output_type": "stream",
     "text": [
      "\u001b[32m2024-05-03 02:43:09 INFO semantic_router.utils.logger Extracting function input...\u001b[0m\n",
      "\u001b[32m2024-05-03 02:43:12 INFO semantic_router.utils.logger LLM output: [\n",
      "    {\n",
      "        \"function_name\": \"get_time_difference\",\n",
      "        \"arguments\": {\n",
      "            \"timezone1\": \"Europe/Paris\",\n",
      "            \"timezone2\": \"Australia/Sydney\"\n",
      "        }\n",
      "    },\n",
      "    {\n",
      "        \"function_name\": \"convert_time\",\n",
      "        \"arguments\": {\n",
      "            \"time\": \"16:00\",\n",
      "            \"from_timezone\": \"Europe/Paris\",\n",
      "            \"to_timezone\": \"Australia/Sydney\"\n",
      "        }\n",
      "    }\n",
      "]\u001b[0m\n",
      "\u001b[32m2024-05-03 02:43:12 INFO semantic_router.utils.logger Function inputs: [{'function_name': 'get_time_difference', 'arguments': {'timezone1': 'Europe/Paris', 'timezone2': 'Australia/Sydney'}}, {'function_name': 'convert_time', 'arguments': {'time': '16:00', 'from_timezone': 'Europe/Paris', 'to_timezone': 'Australia/Sydney'}}]\u001b[0m\n",
      "\u001b[32m2024-05-03 02:43:12 INFO semantic_router.utils.logger Document 1 length: 89\u001b[0m\n",
      "\u001b[32m2024-05-03 02:43:12 INFO semantic_router.utils.logger Document 1 trunc length: 89\u001b[0m\n"
     ]
    },
    {
     "name": "stdout",
     "output_type": "stream",
     "text": [
      "The time difference between Europe/Paris and Australia/Sydney is 8.0 hours.\n",
      "00:00\n",
      ">>> PASS <<<.\n",
      "====================================================================================================\n",
      "====================================================================================================\n",
      "Processing utterance:  Show the time difference from Rome to Beijing and change 18:15 from Rome to Beijing time.\n"
     ]
    },
    {
     "name": "stderr",
     "output_type": "stream",
     "text": [
      "\u001b[32m2024-05-03 02:43:12 INFO semantic_router.utils.logger Extracting function input...\u001b[0m\n",
      "\u001b[32m2024-05-03 02:43:14 INFO semantic_router.utils.logger LLM output: [\n",
      "    {\n",
      "        \"function_name\": \"get_time_difference\",\n",
      "        \"arguments\": {\n",
      "            \"timezone1\": \"Europe/Rome\",\n",
      "            \"timezone2\": \"Asia/Shanghai\"\n",
      "        }\n",
      "    },\n",
      "    {\n",
      "        \"function_name\": \"convert_time\",\n",
      "        \"arguments\": {\n",
      "            \"time\": \"18:15\",\n",
      "            \"from_timezone\": \"Europe/Rome\",\n",
      "            \"to_timezone\": \"Asia/Shanghai\"\n",
      "        }\n",
      "    }\n",
      "]\u001b[0m\n",
      "\u001b[32m2024-05-03 02:43:14 INFO semantic_router.utils.logger Function inputs: [{'function_name': 'get_time_difference', 'arguments': {'timezone1': 'Europe/Rome', 'timezone2': 'Asia/Shanghai'}}, {'function_name': 'convert_time', 'arguments': {'time': '18:15', 'from_timezone': 'Europe/Rome', 'to_timezone': 'Asia/Shanghai'}}]\u001b[0m\n",
      "\u001b[32m2024-05-03 02:43:14 INFO semantic_router.utils.logger Document 1 length: 93\u001b[0m\n",
      "\u001b[32m2024-05-03 02:43:14 INFO semantic_router.utils.logger Document 1 trunc length: 93\u001b[0m\n"
     ]
    },
    {
     "name": "stdout",
     "output_type": "stream",
     "text": [
      "The time difference between Europe/Rome and Asia/Shanghai is 6.0 hours.\n",
      "00:15\n",
      ">>> PASS <<<.\n",
      "====================================================================================================\n",
      "====================================================================================================\n",
      "Processing utterance:  Calculate how far ahead Mumbai is from Toronto and convert 20:00 Mumbai time to Toronto time.\n"
     ]
    },
    {
     "name": "stderr",
     "output_type": "stream",
     "text": [
      "\u001b[32m2024-05-03 02:43:14 INFO semantic_router.utils.logger Extracting function input...\u001b[0m\n",
      "\u001b[32m2024-05-03 02:43:16 INFO semantic_router.utils.logger LLM output: [\n",
      "    {\n",
      "        \"function_name\": \"get_time_difference\",\n",
      "        \"arguments\": {\n",
      "            \"timezone1\": \"Asia/Kolkata\",\n",
      "            \"timezone2\": \"America/Toronto\"\n",
      "        }\n",
      "    },\n",
      "    {\n",
      "        \"function_name\": \"convert_time\",\n",
      "        \"arguments\": {\n",
      "            \"time\": \"20:00\",\n",
      "            \"from_timezone\": \"Asia/Kolkata\",\n",
      "            \"to_timezone\": \"America/Toronto\"\n",
      "        }\n",
      "    }\n",
      "]\u001b[0m\n",
      "\u001b[32m2024-05-03 02:43:16 INFO semantic_router.utils.logger Function inputs: [{'function_name': 'get_time_difference', 'arguments': {'timezone1': 'Asia/Kolkata', 'timezone2': 'America/Toronto'}}, {'function_name': 'convert_time', 'arguments': {'time': '20:00', 'from_timezone': 'Asia/Kolkata', 'to_timezone': 'America/Toronto'}}]\u001b[0m\n",
      "\u001b[32m2024-05-03 02:43:16 INFO semantic_router.utils.logger Document 1 length: 100\u001b[0m\n",
      "\u001b[32m2024-05-03 02:43:16 INFO semantic_router.utils.logger Document 1 trunc length: 100\u001b[0m\n"
     ]
    },
    {
     "name": "stdout",
     "output_type": "stream",
     "text": [
      "The time difference between Asia/Kolkata and America/Toronto is -9.5 hours.\n",
      "10:30\n",
      ">>> PASS <<<.\n",
      "====================================================================================================\n",
      "====================================================================================================\n",
      "Processing utterance:  Find out the hours difference between Seoul and London, and convert 09:00 Seoul time to London time.\n"
     ]
    },
    {
     "name": "stderr",
     "output_type": "stream",
     "text": [
      "\u001b[32m2024-05-03 02:43:17 INFO semantic_router.utils.logger Extracting function input...\u001b[0m\n",
      "\u001b[32m2024-05-03 02:43:19 INFO semantic_router.utils.logger LLM output: [\n",
      "    {\n",
      "        \"function_name\": \"get_time_difference\",\n",
      "        \"arguments\": {\n",
      "            \"timezone1\": \"Asia/Seoul\",\n",
      "            \"timezone2\": \"Europe/London\"\n",
      "        }\n",
      "    },\n",
      "    {\n",
      "        \"function_name\": \"convert_time\",\n",
      "        \"arguments\": {\n",
      "            \"time\": \"09:00\",\n",
      "            \"from_timezone\": \"Asia/Seoul\",\n",
      "            \"to_timezone\": \"Europe/London\"\n",
      "        }\n",
      "    }\n",
      "]\u001b[0m\n",
      "\u001b[32m2024-05-03 02:43:19 INFO semantic_router.utils.logger Function inputs: [{'function_name': 'get_time_difference', 'arguments': {'timezone1': 'Asia/Seoul', 'timezone2': 'Europe/London'}}, {'function_name': 'convert_time', 'arguments': {'time': '09:00', 'from_timezone': 'Asia/Seoul', 'to_timezone': 'Europe/London'}}]\u001b[0m\n",
      "\u001b[32m2024-05-03 02:43:19 INFO semantic_router.utils.logger Document 1 length: 100\u001b[0m\n",
      "\u001b[32m2024-05-03 02:43:19 INFO semantic_router.utils.logger Document 1 trunc length: 100\u001b[0m\n"
     ]
    },
    {
     "name": "stdout",
     "output_type": "stream",
     "text": [
      "The time difference between Asia/Seoul and Europe/London is -8.0 hours.\n",
      "01:00\n",
      ">>> PASS <<<.\n",
      "====================================================================================================\n",
      "====================================================================================================\n",
      "Processing utterance:  What is the time gap between Chicago and Dubai, and can you switch 12:45 from Chicago to Dubai time?\n"
     ]
    },
    {
     "name": "stderr",
     "output_type": "stream",
     "text": [
      "\u001b[32m2024-05-03 02:43:19 INFO semantic_router.utils.logger Extracting function input...\u001b[0m\n",
      "\u001b[32m2024-05-03 02:43:21 INFO semantic_router.utils.logger LLM output: [\n",
      "    {\n",
      "        \"function_name\": \"get_time_difference\",\n",
      "        \"arguments\": {\n",
      "            \"timezone1\": \"America/Chicago\",\n",
      "            \"timezone2\": \"Asia/Dubai\"\n",
      "        }\n",
      "    },\n",
      "    {\n",
      "        \"function_name\": \"convert_time\",\n",
      "        \"arguments\": {\n",
      "            \"time\": \"12:45\",\n",
      "            \"from_timezone\": \"America/Chicago\",\n",
      "            \"to_timezone\": \"Asia/Dubai\"\n",
      "        }\n",
      "    }\n",
      "]\u001b[0m\n",
      "\u001b[32m2024-05-03 02:43:21 INFO semantic_router.utils.logger Function inputs: [{'function_name': 'get_time_difference', 'arguments': {'timezone1': 'America/Chicago', 'timezone2': 'Asia/Dubai'}}, {'function_name': 'convert_time', 'arguments': {'time': '12:45', 'from_timezone': 'America/Chicago', 'to_timezone': 'Asia/Dubai'}}]\u001b[0m\n",
      "\u001b[32m2024-05-03 02:43:21 INFO semantic_router.utils.logger Document 1 length: 116\u001b[0m\n",
      "\u001b[32m2024-05-03 02:43:21 INFO semantic_router.utils.logger Document 1 trunc length: 116\u001b[0m\n"
     ]
    },
    {
     "name": "stdout",
     "output_type": "stream",
     "text": [
      "The time difference between America/Chicago and Asia/Dubai is 9.0 hours.\n",
      "21:45\n",
      ">>> PASS <<<.\n",
      "====================================================================================================\n",
      "====================================================================================================\n",
      "Processing utterance:  Determine how many hours are between Johannesburg and New York, and adjust 11:00 Johannesburg time to New York time.\n"
     ]
    },
    {
     "name": "stderr",
     "output_type": "stream",
     "text": [
      "\u001b[32m2024-05-03 02:43:22 INFO semantic_router.utils.logger Extracting function input...\u001b[0m\n",
      "\u001b[32m2024-05-03 02:43:24 INFO semantic_router.utils.logger LLM output: [\n",
      "    {\n",
      "        \"function_name\": \"get_time_difference\",\n",
      "        \"arguments\": {\n",
      "            \"timezone1\": \"Africa/Johannesburg\",\n",
      "            \"timezone2\": \"America/New_York\"\n",
      "        }\n",
      "    },\n",
      "    {\n",
      "        \"function_name\": \"convert_time\",\n",
      "        \"arguments\": {\n",
      "            \"time\": \"11:00\",\n",
      "            \"from_timezone\": \"Africa/Johannesburg\",\n",
      "            \"to_timezone\": \"America/New_York\"\n",
      "        }\n",
      "    }\n",
      "]\u001b[0m\n",
      "\u001b[32m2024-05-03 02:43:24 INFO semantic_router.utils.logger Function inputs: [{'function_name': 'get_time_difference', 'arguments': {'timezone1': 'Africa/Johannesburg', 'timezone2': 'America/New_York'}}, {'function_name': 'convert_time', 'arguments': {'time': '11:00', 'from_timezone': 'Africa/Johannesburg', 'to_timezone': 'America/New_York'}}]\u001b[0m\n",
      "\u001b[32m2024-05-03 02:43:24 INFO semantic_router.utils.logger Document 1 length: 107\u001b[0m\n",
      "\u001b[32m2024-05-03 02:43:24 INFO semantic_router.utils.logger Document 1 trunc length: 107\u001b[0m\n"
     ]
    },
    {
     "name": "stdout",
     "output_type": "stream",
     "text": [
      "The time difference between Africa/Johannesburg and America/New_York is -6.0 hours.\n",
      "05:00\n",
      ">>> PASS <<<.\n",
      "====================================================================================================\n",
      "====================================================================================================\n",
      "Processing utterance:  Measure the time difference from Bangkok to Los Angeles and convert 13:30 Bangkok time to Los Angeles time.\n"
     ]
    },
    {
     "name": "stderr",
     "output_type": "stream",
     "text": [
      "\u001b[32m2024-05-03 02:43:25 INFO semantic_router.utils.logger Extracting function input...\u001b[0m\n",
      "\u001b[32m2024-05-03 02:43:27 INFO semantic_router.utils.logger LLM output: [\n",
      "    {\n",
      "        \"function_name\": \"get_time_difference\",\n",
      "        \"arguments\": {\n",
      "            \"timezone1\": \"Asia/Bangkok\",\n",
      "            \"timezone2\": \"America/Los_Angeles\"\n",
      "        }\n",
      "    },\n",
      "    {\n",
      "        \"function_name\": \"convert_time\",\n",
      "        \"arguments\": {\n",
      "            \"time\": \"13:30\",\n",
      "            \"from_timezone\": \"Asia/Bangkok\",\n",
      "            \"to_timezone\": \"America/Los_Angeles\"\n",
      "        }\n",
      "    }\n",
      "]\u001b[0m\n",
      "\u001b[32m2024-05-03 02:43:27 INFO semantic_router.utils.logger Function inputs: [{'function_name': 'get_time_difference', 'arguments': {'timezone1': 'Asia/Bangkok', 'timezone2': 'America/Los_Angeles'}}, {'function_name': 'convert_time', 'arguments': {'time': '13:30', 'from_timezone': 'Asia/Bangkok', 'to_timezone': 'America/Los_Angeles'}}]\u001b[0m\n",
      "\u001b[32m2024-05-03 02:43:27 INFO semantic_router.utils.logger Document 1 length: 102\u001b[0m\n",
      "\u001b[32m2024-05-03 02:43:27 INFO semantic_router.utils.logger Document 1 trunc length: 102\u001b[0m\n"
     ]
    },
    {
     "name": "stdout",
     "output_type": "stream",
     "text": [
      "The time difference between Asia/Bangkok and America/Los_Angeles is -14.0 hours.\n",
      "23:30\n",
      ">>> PASS <<<.\n",
      "====================================================================================================\n",
      "====================================================================================================\n",
      "Processing utterance:  Assess the hour difference between Vancouver and Paris, and change 15:00 Vancouver time to Paris time.\n"
     ]
    },
    {
     "name": "stderr",
     "output_type": "stream",
     "text": [
      "\u001b[32m2024-05-03 02:43:27 INFO semantic_router.utils.logger Extracting function input...\u001b[0m\n",
      "\u001b[32m2024-05-03 02:43:30 INFO semantic_router.utils.logger LLM output: [\n",
      "    {\n",
      "        \"function_name\": \"get_time_difference\",\n",
      "        \"arguments\": {\n",
      "            \"timezone1\": \"America/Vancouver\",\n",
      "            \"timezone2\": \"Europe/Paris\"\n",
      "        }\n",
      "    },\n",
      "    {\n",
      "        \"function_name\": \"convert_time\",\n",
      "        \"arguments\": {\n",
      "            \"time\": \"15:00\",\n",
      "            \"from_timezone\": \"America/Vancouver\",\n",
      "            \"to_timezone\": \"Europe/Paris\"\n",
      "        }\n",
      "    }\n",
      "]\u001b[0m\n",
      "\u001b[32m2024-05-03 02:43:30 INFO semantic_router.utils.logger Function inputs: [{'function_name': 'get_time_difference', 'arguments': {'timezone1': 'America/Vancouver', 'timezone2': 'Europe/Paris'}}, {'function_name': 'convert_time', 'arguments': {'time': '15:00', 'from_timezone': 'America/Vancouver', 'to_timezone': 'Europe/Paris'}}]\u001b[0m\n",
      "\u001b[32m2024-05-03 02:43:30 INFO semantic_router.utils.logger Document 1 length: 97\u001b[0m\n",
      "\u001b[32m2024-05-03 02:43:30 INFO semantic_router.utils.logger Document 1 trunc length: 97\u001b[0m\n"
     ]
    },
    {
     "name": "stdout",
     "output_type": "stream",
     "text": [
      "The time difference between America/Vancouver and Europe/Paris is 9.0 hours.\n",
      "00:00\n",
      ">>> PASS <<<.\n",
      "====================================================================================================\n",
      "====================================================================================================\n",
      "Processing utterance:  Calculate the time offset between Houston and Tokyo, and switch 17:00 Houston time to Tokyo time.\n"
     ]
    },
    {
     "name": "stderr",
     "output_type": "stream",
     "text": [
      "\u001b[32m2024-05-03 02:43:30 INFO semantic_router.utils.logger Extracting function input...\u001b[0m\n",
      "\u001b[32m2024-05-03 02:43:32 INFO semantic_router.utils.logger LLM output: [\n",
      "    {\n",
      "        \"function_name\": \"get_time_difference\",\n",
      "        \"arguments\": {\n",
      "            \"timezone1\": \"America/Chicago\",\n",
      "            \"timezone2\": \"Asia/Tokyo\"\n",
      "        }\n",
      "    },\n",
      "    {\n",
      "        \"function_name\": \"convert_time\",\n",
      "        \"arguments\": {\n",
      "            \"time\": \"17:00\",\n",
      "            \"from_timezone\": \"America/Chicago\",\n",
      "            \"to_timezone\": \"Asia/Tokyo\"\n",
      "        }\n",
      "    }\n",
      "]\u001b[0m\n",
      "\u001b[32m2024-05-03 02:43:32 INFO semantic_router.utils.logger Function inputs: [{'function_name': 'get_time_difference', 'arguments': {'timezone1': 'America/Chicago', 'timezone2': 'Asia/Tokyo'}}, {'function_name': 'convert_time', 'arguments': {'time': '17:00', 'from_timezone': 'America/Chicago', 'to_timezone': 'Asia/Tokyo'}}]\u001b[0m\n",
      "\u001b[32m2024-05-03 02:43:32 INFO semantic_router.utils.logger Document 1 length: 90\u001b[0m\n",
      "\u001b[32m2024-05-03 02:43:32 INFO semantic_router.utils.logger Document 1 trunc length: 90\u001b[0m\n"
     ]
    },
    {
     "name": "stdout",
     "output_type": "stream",
     "text": [
      "The time difference between America/Chicago and Asia/Tokyo is 14.0 hours.\n",
      "07:00\n",
      ">>> PASS <<<.\n",
      "====================================================================================================\n",
      "====================================================================================================\n",
      "Processing utterance:  How many hours separate Cairo from Berlin? Please convert 19:00 Cairo time to Berlin time.\n"
     ]
    },
    {
     "name": "stderr",
     "output_type": "stream",
     "text": [
      "\u001b[32m2024-05-03 02:43:32 INFO semantic_router.utils.logger Extracting function input...\u001b[0m\n",
      "\u001b[32m2024-05-03 02:43:34 INFO semantic_router.utils.logger LLM output: [\n",
      "    {\n",
      "        \"function_name\": \"get_time_difference\",\n",
      "        \"arguments\": {\n",
      "            \"timezone1\": \"Africa/Cairo\",\n",
      "            \"timezone2\": \"Europe/Berlin\"\n",
      "        }\n",
      "    },\n",
      "    {\n",
      "        \"function_name\": \"convert_time\",\n",
      "        \"arguments\": {\n",
      "            \"time\": \"19:00\",\n",
      "            \"from_timezone\": \"Africa/Cairo\",\n",
      "            \"to_timezone\": \"Europe/Berlin\"\n",
      "        }\n",
      "    }\n",
      "]\u001b[0m\n",
      "\u001b[32m2024-05-03 02:43:34 INFO semantic_router.utils.logger Function inputs: [{'function_name': 'get_time_difference', 'arguments': {'timezone1': 'Africa/Cairo', 'timezone2': 'Europe/Berlin'}}, {'function_name': 'convert_time', 'arguments': {'time': '19:00', 'from_timezone': 'Africa/Cairo', 'to_timezone': 'Europe/Berlin'}}]\u001b[0m\n",
      "\u001b[32m2024-05-03 02:43:34 INFO semantic_router.utils.logger Document 1 length: 122\u001b[0m\n",
      "\u001b[32m2024-05-03 02:43:34 INFO semantic_router.utils.logger Document 1 trunc length: 122\u001b[0m\n"
     ]
    },
    {
     "name": "stdout",
     "output_type": "stream",
     "text": [
      "The time difference between Africa/Cairo and Europe/Berlin is -1.0 hours.\n",
      "18:00\n",
      ">>> PASS <<<.\n",
      "====================================================================================================\n",
      "====================================================================================================\n",
      "Processing utterance:  What's the time difference from Singapore to San Francisco, and can you adjust 21:00 Singapore time to San Francisco time?\n"
     ]
    },
    {
     "name": "stderr",
     "output_type": "stream",
     "text": [
      "\u001b[32m2024-05-03 02:43:35 INFO semantic_router.utils.logger Extracting function input...\u001b[0m\n",
      "\u001b[32m2024-05-03 02:43:37 INFO semantic_router.utils.logger LLM output: [\n",
      "    {\n",
      "        \"function_name\": \"get_time_difference\",\n",
      "        \"arguments\": {\n",
      "            \"timezone1\": \"Asia/Singapore\",\n",
      "            \"timezone2\": \"America/Los_Angeles\"\n",
      "        }\n",
      "    },\n",
      "    {\n",
      "        \"function_name\": \"convert_time\",\n",
      "        \"arguments\": {\n",
      "            \"time\": \"21:00\",\n",
      "            \"from_timezone\": \"Asia/Singapore\",\n",
      "            \"to_timezone\": \"America/Los_Angeles\"\n",
      "        }\n",
      "    }\n",
      "]\u001b[0m\n",
      "\u001b[32m2024-05-03 02:43:37 INFO semantic_router.utils.logger Function inputs: [{'function_name': 'get_time_difference', 'arguments': {'timezone1': 'Asia/Singapore', 'timezone2': 'America/Los_Angeles'}}, {'function_name': 'convert_time', 'arguments': {'time': '21:00', 'from_timezone': 'Asia/Singapore', 'to_timezone': 'America/Los_Angeles'}}]\u001b[0m\n",
      "\u001b[32m2024-05-03 02:43:37 INFO semantic_router.utils.logger Document 1 length: 102\u001b[0m\n",
      "\u001b[32m2024-05-03 02:43:37 INFO semantic_router.utils.logger Document 1 trunc length: 102\u001b[0m\n"
     ]
    },
    {
     "name": "stdout",
     "output_type": "stream",
     "text": [
      "The time difference between Asia/Singapore and America/Los_Angeles is -15.0 hours.\n",
      "06:00\n",
      ">>> PASS <<<.\n",
      "====================================================================================================\n",
      "====================================================================================================\n",
      "Processing utterance:  Determine the hours separating Melbourne from Madrid, and convert 08:00 Melbourne time to Madrid time.\n"
     ]
    },
    {
     "name": "stderr",
     "output_type": "stream",
     "text": [
      "\u001b[32m2024-05-03 02:43:37 INFO semantic_router.utils.logger Extracting function input...\u001b[0m\n",
      "\u001b[32m2024-05-03 02:43:41 INFO semantic_router.utils.logger LLM output: [\n",
      "    {\n",
      "        \"function_name\": \"get_time_difference\",\n",
      "        \"arguments\": {\n",
      "            \"timezone1\": \"Australia/Melbourne\",\n",
      "            \"timezone2\": \"Europe/Madrid\"\n",
      "        }\n",
      "    },\n",
      "    {\n",
      "        \"function_name\": \"convert_time\",\n",
      "        \"arguments\": {\n",
      "            \"time\": \"08:00\",\n",
      "            \"from_timezone\": \"Australia/Melbourne\",\n",
      "            \"to_timezone\": \"Europe/Madrid\"\n",
      "        }\n",
      "    }\n",
      "]\u001b[0m\n",
      "\u001b[32m2024-05-03 02:43:41 INFO semantic_router.utils.logger Function inputs: [{'function_name': 'get_time_difference', 'arguments': {'timezone1': 'Australia/Melbourne', 'timezone2': 'Europe/Madrid'}}, {'function_name': 'convert_time', 'arguments': {'time': '08:00', 'from_timezone': 'Australia/Melbourne', 'to_timezone': 'Europe/Madrid'}}]\u001b[0m\n",
      "\u001b[32m2024-05-03 02:43:41 INFO semantic_router.utils.logger Document 1 length: 89\u001b[0m\n",
      "\u001b[32m2024-05-03 02:43:41 INFO semantic_router.utils.logger Document 1 trunc length: 89\u001b[0m\n"
     ]
    },
    {
     "name": "stdout",
     "output_type": "stream",
     "text": [
      "The time difference between Australia/Melbourne and Europe/Madrid is -8.0 hours.\n",
      "00:00\n",
      ">>> PASS <<<.\n",
      "====================================================================================================\n",
      "====================================================================================================\n",
      "Processing utterance:  Find the time gap between Zurich and Sydney, and change 10:15 Zurich time to Sydney time.\n"
     ]
    },
    {
     "name": "stderr",
     "output_type": "stream",
     "text": [
      "\u001b[32m2024-05-03 02:43:41 INFO semantic_router.utils.logger Extracting function input...\u001b[0m\n",
      "\u001b[32m2024-05-03 02:43:43 INFO semantic_router.utils.logger LLM output: [\n",
      "    {\n",
      "        \"function_name\": \"get_time_difference\",\n",
      "        \"arguments\": {\n",
      "            \"timezone1\": \"Europe/Zurich\",\n",
      "            \"timezone2\": \"Australia/Sydney\"\n",
      "        }\n",
      "    },\n",
      "    {\n",
      "        \"function_name\": \"convert_time\",\n",
      "        \"arguments\": {\n",
      "            \"time\": \"10:15\",\n",
      "            \"from_timezone\": \"Europe/Zurich\",\n",
      "            \"to_timezone\": \"Australia/Sydney\"\n",
      "        }\n",
      "    }\n",
      "]\u001b[0m\n",
      "\u001b[32m2024-05-03 02:43:43 INFO semantic_router.utils.logger Function inputs: [{'function_name': 'get_time_difference', 'arguments': {'timezone1': 'Europe/Zurich', 'timezone2': 'Australia/Sydney'}}, {'function_name': 'convert_time', 'arguments': {'time': '10:15', 'from_timezone': 'Europe/Zurich', 'to_timezone': 'Australia/Sydney'}}]\u001b[0m\n",
      "\u001b[32m2024-05-03 02:43:43 INFO semantic_router.utils.logger Document 1 length: 89\u001b[0m\n",
      "\u001b[32m2024-05-03 02:43:43 INFO semantic_router.utils.logger Document 1 trunc length: 89\u001b[0m\n"
     ]
    },
    {
     "name": "stdout",
     "output_type": "stream",
     "text": [
      "The time difference between Europe/Zurich and Australia/Sydney is 8.0 hours.\n",
      "18:15\n",
      ">>> PASS <<<.\n",
      "====================================================================================================\n",
      "====================================================================================================\n",
      "Processing utterance:  How far ahead is Helsinki compared to Denver? Convert 12:30 Helsinki time to Denver time.\n"
     ]
    },
    {
     "name": "stderr",
     "output_type": "stream",
     "text": [
      "\u001b[32m2024-05-03 02:43:43 INFO semantic_router.utils.logger Extracting function input...\u001b[0m\n",
      "\u001b[32m2024-05-03 02:43:45 INFO semantic_router.utils.logger LLM output: [\n",
      "    {\n",
      "        \"function_name\": \"get_time_difference\",\n",
      "        \"arguments\": {\n",
      "            \"timezone1\": \"Europe/Helsinki\",\n",
      "            \"timezone2\": \"America/Denver\"\n",
      "        }\n",
      "    },\n",
      "    {\n",
      "        \"function_name\": \"convert_time\",\n",
      "        \"arguments\": {\n",
      "            \"time\": \"12:30\",\n",
      "            \"from_timezone\": \"Europe/Helsinki\",\n",
      "            \"to_timezone\": \"America/Denver\"\n",
      "        }\n",
      "    }\n",
      "]\u001b[0m\n",
      "\u001b[32m2024-05-03 02:43:45 INFO semantic_router.utils.logger Function inputs: [{'function_name': 'get_time_difference', 'arguments': {'timezone1': 'Europe/Helsinki', 'timezone2': 'America/Denver'}}, {'function_name': 'convert_time', 'arguments': {'time': '12:30', 'from_timezone': 'Europe/Helsinki', 'to_timezone': 'America/Denver'}}]\u001b[0m\n",
      "\u001b[32m2024-05-03 02:43:45 INFO semantic_router.utils.logger Document 1 length: 114\u001b[0m\n",
      "\u001b[32m2024-05-03 02:43:45 INFO semantic_router.utils.logger Document 1 trunc length: 114\u001b[0m\n"
     ]
    },
    {
     "name": "stdout",
     "output_type": "stream",
     "text": [
      "The time difference between Europe/Helsinki and America/Denver is -9.0 hours.\n",
      "03:30\n",
      ">>> PASS <<<.\n",
      "====================================================================================================\n",
      "====================================================================================================\n",
      "Processing utterance:  What is the hour difference between Oslo and Los Angeles, and can you convert 14:45 Oslo time to Los Angeles time?\n"
     ]
    },
    {
     "name": "stderr",
     "output_type": "stream",
     "text": [
      "\u001b[32m2024-05-03 02:43:46 INFO semantic_router.utils.logger Extracting function input...\u001b[0m\n",
      "\u001b[32m2024-05-03 02:43:48 INFO semantic_router.utils.logger LLM output: [\n",
      "    {\n",
      "        \"function_name\": \"get_time_difference\",\n",
      "        \"arguments\": {\n",
      "            \"timezone1\": \"Europe/Oslo\",\n",
      "            \"timezone2\": \"America/Los_Angeles\"\n",
      "        }\n",
      "    },\n",
      "    {\n",
      "        \"function_name\": \"convert_time\",\n",
      "        \"arguments\": {\n",
      "            \"time\": \"14:45\",\n",
      "            \"from_timezone\": \"Europe/Oslo\",\n",
      "            \"to_timezone\": \"America/Los_Angeles\"\n",
      "        }\n",
      "    }\n",
      "]\u001b[0m\n",
      "\u001b[32m2024-05-03 02:43:48 INFO semantic_router.utils.logger Function inputs: [{'function_name': 'get_time_difference', 'arguments': {'timezone1': 'Europe/Oslo', 'timezone2': 'America/Los_Angeles'}}, {'function_name': 'convert_time', 'arguments': {'time': '14:45', 'from_timezone': 'Europe/Oslo', 'to_timezone': 'America/Los_Angeles'}}]\u001b[0m\n",
      "\u001b[32m2024-05-03 02:43:48 INFO semantic_router.utils.logger Document 1 length: 96\u001b[0m\n",
      "\u001b[32m2024-05-03 02:43:48 INFO semantic_router.utils.logger Document 1 trunc length: 96\u001b[0m\n"
     ]
    },
    {
     "name": "stdout",
     "output_type": "stream",
     "text": [
      "The time difference between Europe/Oslo and America/Los_Angeles is -9.0 hours.\n",
      "05:45\n",
      ">>> PASS <<<.\n",
      "====================================================================================================\n",
      "====================================================================================================\n",
      "Processing utterance:  Measure the time difference from Montreal to Dubai and switch 16:20 Montreal time to Dubai time.\n"
     ]
    },
    {
     "name": "stderr",
     "output_type": "stream",
     "text": [
      "\u001b[32m2024-05-03 02:43:48 INFO semantic_router.utils.logger Extracting function input...\u001b[0m\n",
      "\u001b[32m2024-05-03 02:43:50 INFO semantic_router.utils.logger LLM output: [\n",
      "    {\n",
      "        \"function_name\": \"get_time_difference\",\n",
      "        \"arguments\": {\n",
      "            \"timezone1\": \"America/Montreal\",\n",
      "            \"timezone2\": \"Asia/Dubai\"\n",
      "        }\n",
      "    },\n",
      "    {\n",
      "        \"function_name\": \"convert_time\",\n",
      "        \"arguments\": {\n",
      "            \"time\": \"16:20\",\n",
      "            \"from_timezone\": \"America/Montreal\",\n",
      "            \"to_timezone\": \"Asia/Dubai\"\n",
      "        }\n",
      "    }\n",
      "]\u001b[0m\n",
      "\u001b[32m2024-05-03 02:43:50 INFO semantic_router.utils.logger Function inputs: [{'function_name': 'get_time_difference', 'arguments': {'timezone1': 'America/Montreal', 'timezone2': 'Asia/Dubai'}}, {'function_name': 'convert_time', 'arguments': {'time': '16:20', 'from_timezone': 'America/Montreal', 'to_timezone': 'Asia/Dubai'}}]\u001b[0m\n",
      "\u001b[32m2024-05-03 02:43:50 INFO semantic_router.utils.logger Document 1 length: 114\u001b[0m\n",
      "\u001b[32m2024-05-03 02:43:50 INFO semantic_router.utils.logger Document 1 trunc length: 114\u001b[0m\n"
     ]
    },
    {
     "name": "stdout",
     "output_type": "stream",
     "text": [
      "The time difference between America/Montreal and Asia/Dubai is 8.0 hours.\n",
      "00:20\n",
      ">>> PASS <<<.\n",
      "====================================================================================================\n",
      "====================================================================================================\n",
      "Processing utterance:  Can you tell me how many hours are between Amsterdam and Beijing, and adjust 18:00 Amsterdam time to Beijing time?\n"
     ]
    },
    {
     "name": "stderr",
     "output_type": "stream",
     "text": [
      "\u001b[32m2024-05-03 02:43:51 INFO semantic_router.utils.logger Extracting function input...\u001b[0m\n",
      "\u001b[32m2024-05-03 02:43:53 INFO semantic_router.utils.logger LLM output: [\n",
      "    {\n",
      "        \"function_name\": \"get_time_difference\",\n",
      "        \"arguments\": {\n",
      "            \"timezone1\": \"Europe/Amsterdam\",\n",
      "            \"timezone2\": \"Asia/Shanghai\"\n",
      "        }\n",
      "    },\n",
      "    {\n",
      "        \"function_name\": \"convert_time\",\n",
      "        \"arguments\": {\n",
      "            \"time\": \"18:00\",\n",
      "            \"from_timezone\": \"Europe/Amsterdam\",\n",
      "            \"to_timezone\": \"Asia/Shanghai\"\n",
      "        }\n",
      "    }\n",
      "]\u001b[0m\n",
      "\u001b[32m2024-05-03 02:43:53 INFO semantic_router.utils.logger Function inputs: [{'function_name': 'get_time_difference', 'arguments': {'timezone1': 'Europe/Amsterdam', 'timezone2': 'Asia/Shanghai'}}, {'function_name': 'convert_time', 'arguments': {'time': '18:00', 'from_timezone': 'Europe/Amsterdam', 'to_timezone': 'Asia/Shanghai'}}]\u001b[0m\n",
      "\u001b[32m2024-05-03 02:43:53 INFO semantic_router.utils.logger Document 1 length: 106\u001b[0m\n",
      "\u001b[32m2024-05-03 02:43:53 INFO semantic_router.utils.logger Document 1 trunc length: 106\u001b[0m\n"
     ]
    },
    {
     "name": "stdout",
     "output_type": "stream",
     "text": [
      "The time difference between Europe/Amsterdam and Asia/Shanghai is 6.0 hours.\n",
      "00:00\n",
      ">>> PASS <<<.\n",
      "====================================================================================================\n",
      "====================================================================================================\n",
      "Processing utterance:  Determine the time gap from Brussels to Johannesburg and convert 20:30 Brussels time to Johannesburg time.\n"
     ]
    },
    {
     "name": "stderr",
     "output_type": "stream",
     "text": [
      "\u001b[32m2024-05-03 02:43:53 INFO semantic_router.utils.logger Extracting function input...\u001b[0m\n",
      "\u001b[32m2024-05-03 02:43:55 INFO semantic_router.utils.logger LLM output: [\n",
      "    {\n",
      "        \"function_name\": \"get_time_difference\",\n",
      "        \"arguments\": {\n",
      "            \"timezone1\": \"Europe/Brussels\",\n",
      "            \"timezone2\": \"Africa/Johannesburg\"\n",
      "        }\n",
      "    },\n",
      "    {\n",
      "        \"function_name\": \"convert_time\",\n",
      "        \"arguments\": {\n",
      "            \"time\": \"20:30\",\n",
      "            \"from_timezone\": \"Europe/Brussels\",\n",
      "            \"to_timezone\": \"Africa/Johannesburg\"\n",
      "        }\n",
      "    }\n",
      "]\u001b[0m\n",
      "\u001b[32m2024-05-03 02:43:55 INFO semantic_router.utils.logger Function inputs: [{'function_name': 'get_time_difference', 'arguments': {'timezone1': 'Europe/Brussels', 'timezone2': 'Africa/Johannesburg'}}, {'function_name': 'convert_time', 'arguments': {'time': '20:30', 'from_timezone': 'Europe/Brussels', 'to_timezone': 'Africa/Johannesburg'}}]\u001b[0m\n",
      "\u001b[32m2024-05-03 02:43:55 INFO semantic_router.utils.logger Document 1 length: 99\u001b[0m\n",
      "\u001b[32m2024-05-03 02:43:55 INFO semantic_router.utils.logger Document 1 trunc length: 99\u001b[0m\n"
     ]
    },
    {
     "name": "stdout",
     "output_type": "stream",
     "text": [
      "The time difference between Europe/Brussels and Africa/Johannesburg is 0.0 hours.\n",
      "20:30\n",
      ">>> PASS <<<.\n",
      "====================================================================================================\n",
      "====================================================================================================\n",
      "Processing utterance:  Calculate the hours between Stockholm and Houston, and change 07:00 Stockholm time to Houston time.\n"
     ]
    },
    {
     "name": "stderr",
     "output_type": "stream",
     "text": [
      "\u001b[32m2024-05-03 02:43:55 INFO semantic_router.utils.logger Extracting function input...\u001b[0m\n",
      "\u001b[32m2024-05-03 02:43:57 INFO semantic_router.utils.logger LLM output: [\n",
      "    {\n",
      "        \"function_name\": \"get_time_difference\",\n",
      "        \"arguments\": {\n",
      "            \"timezone1\": \"Europe/Stockholm\",\n",
      "            \"timezone2\": \"America/Chicago\"\n",
      "        }\n",
      "    },\n",
      "    {\n",
      "        \"function_name\": \"convert_time\",\n",
      "        \"arguments\": {\n",
      "            \"time\": \"07:00\",\n",
      "            \"from_timezone\": \"Europe/Stockholm\",\n",
      "            \"to_timezone\": \"America/Chicago\"\n",
      "        }\n",
      "    }\n",
      "]\u001b[0m\n",
      "\u001b[32m2024-05-03 02:43:57 INFO semantic_router.utils.logger Function inputs: [{'function_name': 'get_time_difference', 'arguments': {'timezone1': 'Europe/Stockholm', 'timezone2': 'America/Chicago'}}, {'function_name': 'convert_time', 'arguments': {'time': '07:00', 'from_timezone': 'Europe/Stockholm', 'to_timezone': 'America/Chicago'}}]\u001b[0m\n",
      "\u001b[32m2024-05-03 02:43:57 INFO semantic_router.utils.logger Document 1 length: 101\u001b[0m\n",
      "\u001b[32m2024-05-03 02:43:57 INFO semantic_router.utils.logger Document 1 trunc length: 101\u001b[0m\n"
     ]
    },
    {
     "name": "stdout",
     "output_type": "stream",
     "text": [
      "The time difference between Europe/Stockholm and America/Chicago is -7.0 hours.\n",
      "00:00\n",
      ">>> PASS <<<.\n",
      "====================================================================================================\n",
      "====================================================================================================\n",
      "Processing utterance:  What's the time difference from Dublin to Tokyo, and can you convert 09:30 Dublin time to Tokyo time?\n"
     ]
    },
    {
     "name": "stderr",
     "output_type": "stream",
     "text": [
      "\u001b[32m2024-05-03 02:43:58 INFO semantic_router.utils.logger Extracting function input...\u001b[0m\n",
      "\u001b[32m2024-05-03 02:44:00 INFO semantic_router.utils.logger LLM output: [\n",
      "    {\n",
      "        \"function_name\": \"get_time_difference\",\n",
      "        \"arguments\": {\n",
      "            \"timezone1\": \"Europe/Dublin\",\n",
      "            \"timezone2\": \"Asia/Tokyo\"\n",
      "        }\n",
      "    },\n",
      "    {\n",
      "        \"function_name\": \"convert_time\",\n",
      "        \"arguments\": {\n",
      "            \"time\": \"09:30\",\n",
      "            \"from_timezone\": \"Europe/Dublin\",\n",
      "            \"to_timezone\": \"Asia/Tokyo\"\n",
      "        }\n",
      "    }\n",
      "]\u001b[0m\n",
      "\u001b[32m2024-05-03 02:44:00 INFO semantic_router.utils.logger Function inputs: [{'function_name': 'get_time_difference', 'arguments': {'timezone1': 'Europe/Dublin', 'timezone2': 'Asia/Tokyo'}}, {'function_name': 'convert_time', 'arguments': {'time': '09:30', 'from_timezone': 'Europe/Dublin', 'to_timezone': 'Asia/Tokyo'}}]\u001b[0m\n",
      "\u001b[32m2024-05-03 02:44:00 INFO semantic_router.utils.logger Document 1 length: 101\u001b[0m\n",
      "\u001b[32m2024-05-03 02:44:00 INFO semantic_router.utils.logger Document 1 trunc length: 101\u001b[0m\n"
     ]
    },
    {
     "name": "stdout",
     "output_type": "stream",
     "text": [
      "The time difference between Europe/Dublin and Asia/Tokyo is 8.0 hours.\n",
      "17:30\n",
      ">>> PASS <<<.\n",
      "====================================================================================================\n",
      "====================================================================================================\n",
      "Processing utterance:  How many hours ahead is Copenhagen from Phoenix? Please adjust 11:45 Copenhagen time to Phoenix time.\n"
     ]
    },
    {
     "name": "stderr",
     "output_type": "stream",
     "text": [
      "\u001b[32m2024-05-03 02:44:00 INFO semantic_router.utils.logger Extracting function input...\u001b[0m\n",
      "\u001b[32m2024-05-03 02:44:02 INFO semantic_router.utils.logger LLM output: [\n",
      "    {\n",
      "        \"function_name\": \"get_time_difference\",\n",
      "        \"arguments\": {\n",
      "            \"timezone1\": \"Europe/Copenhagen\",\n",
      "            \"timezone2\": \"America/Phoenix\"\n",
      "        }\n",
      "    },\n",
      "    {\n",
      "        \"function_name\": \"convert_time\",\n",
      "        \"arguments\": {\n",
      "            \"time\": \"11:45\",\n",
      "            \"from_timezone\": \"Europe/Copenhagen\",\n",
      "            \"to_timezone\": \"America/Phoenix\"\n",
      "        }\n",
      "    }\n",
      "]\u001b[0m\n",
      "\u001b[32m2024-05-03 02:44:02 INFO semantic_router.utils.logger Function inputs: [{'function_name': 'get_time_difference', 'arguments': {'timezone1': 'Europe/Copenhagen', 'timezone2': 'America/Phoenix'}}, {'function_name': 'convert_time', 'arguments': {'time': '11:45', 'from_timezone': 'Europe/Copenhagen', 'to_timezone': 'America/Phoenix'}}]\u001b[0m\n",
      "\u001b[32m2024-05-03 02:44:02 INFO semantic_router.utils.logger Document 1 length: 102\u001b[0m\n",
      "\u001b[32m2024-05-03 02:44:02 INFO semantic_router.utils.logger Document 1 trunc length: 102\u001b[0m\n"
     ]
    },
    {
     "name": "stdout",
     "output_type": "stream",
     "text": [
      "The time difference between Europe/Copenhagen and America/Phoenix is -9.0 hours.\n",
      "02:45\n",
      ">>> PASS <<<.\n",
      "====================================================================================================\n",
      "====================================================================================================\n",
      "Processing utterance:  Find out the time difference between Warsaw and Atlanta, and switch 13:15 Warsaw time to Atlanta time.\n"
     ]
    },
    {
     "name": "stderr",
     "output_type": "stream",
     "text": [
      "\u001b[32m2024-05-03 02:44:03 INFO semantic_router.utils.logger Extracting function input...\u001b[0m\n",
      "\u001b[32m2024-05-03 02:44:05 INFO semantic_router.utils.logger LLM output: [\n",
      "    {\n",
      "        \"function_name\": \"get_time_difference\",\n",
      "        \"arguments\": {\n",
      "            \"timezone1\": \"Europe/Warsaw\",\n",
      "            \"timezone2\": \"America/New_York\"\n",
      "        }\n",
      "    },\n",
      "    {\n",
      "        \"function_name\": \"convert_time\",\n",
      "        \"arguments\": {\n",
      "            \"time\": \"13:15\",\n",
      "            \"from_timezone\": \"Europe/Warsaw\",\n",
      "            \"to_timezone\": \"America/New_York\"\n",
      "        }\n",
      "    }\n",
      "]\u001b[0m\n",
      "\u001b[32m2024-05-03 02:44:05 INFO semantic_router.utils.logger Function inputs: [{'function_name': 'get_time_difference', 'arguments': {'timezone1': 'Europe/Warsaw', 'timezone2': 'America/New_York'}}, {'function_name': 'convert_time', 'arguments': {'time': '13:15', 'from_timezone': 'Europe/Warsaw', 'to_timezone': 'America/New_York'}}]\u001b[0m\n",
      "\u001b[32m2024-05-03 02:44:05 INFO semantic_router.utils.logger Document 1 length: 99\u001b[0m\n",
      "\u001b[32m2024-05-03 02:44:05 INFO semantic_router.utils.logger Document 1 trunc length: 99\u001b[0m\n"
     ]
    },
    {
     "name": "stdout",
     "output_type": "stream",
     "text": [
      "The time difference between Europe/Warsaw and America/New_York is -6.0 hours.\n",
      "07:15\n",
      ">>> PASS <<<.\n",
      "====================================================================================================\n",
      "====================================================================================================\n",
      "Processing utterance:  Measure the time gap between Lisbon and Hong Kong, and convert 15:50 Lisbon time to Hong Kong time.\n"
     ]
    },
    {
     "name": "stderr",
     "output_type": "stream",
     "text": [
      "\u001b[32m2024-05-03 02:44:05 INFO semantic_router.utils.logger Extracting function input...\u001b[0m\n",
      "\u001b[32m2024-05-03 02:44:07 INFO semantic_router.utils.logger LLM output: [\n",
      "    {\n",
      "        \"function_name\": \"get_time_difference\",\n",
      "        \"arguments\": {\n",
      "            \"timezone1\": \"Europe/Lisbon\",\n",
      "            \"timezone2\": \"Asia/Hong_Kong\"\n",
      "        }\n",
      "    },\n",
      "    {\n",
      "        \"function_name\": \"convert_time\",\n",
      "        \"arguments\": {\n",
      "            \"time\": \"15:50\",\n",
      "            \"from_timezone\": \"Europe/Lisbon\",\n",
      "            \"to_timezone\": \"Asia/Hong_Kong\"\n",
      "        }\n",
      "    }\n",
      "]\u001b[0m\n",
      "\u001b[32m2024-05-03 02:44:07 INFO semantic_router.utils.logger Function inputs: [{'function_name': 'get_time_difference', 'arguments': {'timezone1': 'Europe/Lisbon', 'timezone2': 'Asia/Hong_Kong'}}, {'function_name': 'convert_time', 'arguments': {'time': '15:50', 'from_timezone': 'Europe/Lisbon', 'to_timezone': 'Asia/Hong_Kong'}}]\u001b[0m\n",
      "\u001b[32m2024-05-03 02:44:07 INFO semantic_router.utils.logger Document 1 length: 105\u001b[0m\n",
      "\u001b[32m2024-05-03 02:44:07 INFO semantic_router.utils.logger Document 1 trunc length: 105\u001b[0m\n"
     ]
    },
    {
     "name": "stdout",
     "output_type": "stream",
     "text": [
      "The time difference between Europe/Lisbon and Asia/Hong_Kong is 7.0 hours.\n",
      "22:50\n",
      ">>> PASS <<<.\n",
      "====================================================================================================\n",
      "====================================================================================================\n",
      "Processing utterance:  Identify the time difference between Miami and Singapore, and convert 08:00 Miami time to Singapore time.\n"
     ]
    },
    {
     "name": "stderr",
     "output_type": "stream",
     "text": [
      "\u001b[32m2024-05-03 02:44:07 INFO semantic_router.utils.logger Extracting function input...\u001b[0m\n",
      "\u001b[32m2024-05-03 02:44:09 INFO semantic_router.utils.logger LLM output: [\n",
      "    {\n",
      "        \"function_name\": \"get_time_difference\",\n",
      "        \"arguments\": {\n",
      "            \"timezone1\": \"America/New_York\",\n",
      "            \"timezone2\": \"Asia/Singapore\"\n",
      "        }\n",
      "    },\n",
      "    {\n",
      "        \"function_name\": \"convert_time\",\n",
      "        \"arguments\": {\n",
      "            \"time\": \"08:00\",\n",
      "            \"from_timezone\": \"America/New_York\",\n",
      "            \"to_timezone\": \"Asia/Singapore\"\n",
      "        }\n",
      "    }\n",
      "]\u001b[0m\n",
      "\u001b[32m2024-05-03 02:44:09 INFO semantic_router.utils.logger Function inputs: [{'function_name': 'get_time_difference', 'arguments': {'timezone1': 'America/New_York', 'timezone2': 'Asia/Singapore'}}, {'function_name': 'convert_time', 'arguments': {'time': '08:00', 'from_timezone': 'America/New_York', 'to_timezone': 'Asia/Singapore'}}]\u001b[0m\n",
      "\u001b[32m2024-05-03 02:44:09 INFO semantic_router.utils.logger Document 1 length: 107\u001b[0m\n",
      "\u001b[32m2024-05-03 02:44:09 INFO semantic_router.utils.logger Document 1 trunc length: 107\u001b[0m\n"
     ]
    },
    {
     "name": "stdout",
     "output_type": "stream",
     "text": [
      "The time difference between America/New_York and Asia/Singapore is 12.0 hours.\n",
      "20:00\n",
      ">>> PASS <<<.\n",
      "====================================================================================================\n",
      "====================================================================================================\n",
      "Processing utterance:  Estimate how many hours ahead is Berlin from Los Angeles, and switch 12:00 Berlin time to Los Angeles time.\n"
     ]
    },
    {
     "name": "stderr",
     "output_type": "stream",
     "text": [
      "\u001b[32m2024-05-03 02:44:10 INFO semantic_router.utils.logger Extracting function input...\u001b[0m\n",
      "\u001b[32m2024-05-03 02:44:12 INFO semantic_router.utils.logger LLM output: [\n",
      "    {\n",
      "        \"function_name\": \"get_time_difference\",\n",
      "        \"arguments\": {\n",
      "            \"timezone1\": \"Europe/Berlin\",\n",
      "            \"timezone2\": \"America/Los_Angeles\"\n",
      "        }\n",
      "    },\n",
      "    {\n",
      "        \"function_name\": \"convert_time\",\n",
      "        \"arguments\": {\n",
      "            \"time\": \"12:00\",\n",
      "            \"from_timezone\": \"Europe/Berlin\",\n",
      "            \"to_timezone\": \"America/Los_Angeles\"\n",
      "        }\n",
      "    }\n",
      "]\u001b[0m\n",
      "\u001b[32m2024-05-03 02:44:12 INFO semantic_router.utils.logger Function inputs: [{'function_name': 'get_time_difference', 'arguments': {'timezone1': 'Europe/Berlin', 'timezone2': 'America/Los_Angeles'}}, {'function_name': 'convert_time', 'arguments': {'time': '12:00', 'from_timezone': 'Europe/Berlin', 'to_timezone': 'America/Los_Angeles'}}]\u001b[0m\n",
      "\u001b[32m2024-05-03 02:44:12 INFO semantic_router.utils.logger Document 1 length: 96\u001b[0m\n",
      "\u001b[32m2024-05-03 02:44:12 INFO semantic_router.utils.logger Document 1 trunc length: 96\u001b[0m\n"
     ]
    },
    {
     "name": "stdout",
     "output_type": "stream",
     "text": [
      "The time difference between Europe/Berlin and America/Los_Angeles is -9.0 hours.\n",
      "03:00\n",
      ">>> PASS <<<.\n",
      "====================================================================================================\n",
      "====================================================================================================\n",
      "Processing utterance:  Can you calculate the time gap between Tokyo and Rome, and adjust 15:30 Tokyo time to Rome time?\n"
     ]
    },
    {
     "name": "stderr",
     "output_type": "stream",
     "text": [
      "\u001b[32m2024-05-03 02:44:12 INFO semantic_router.utils.logger Extracting function input...\u001b[0m\n",
      "\u001b[32m2024-05-03 02:44:14 INFO semantic_router.utils.logger LLM output: [\n",
      "    {\n",
      "        \"function_name\": \"get_time_difference\",\n",
      "        \"arguments\": {\n",
      "            \"timezone1\": \"Asia/Tokyo\",\n",
      "            \"timezone2\": \"Europe/Rome\"\n",
      "        }\n",
      "    },\n",
      "    {\n",
      "        \"function_name\": \"convert_time\",\n",
      "        \"arguments\": {\n",
      "            \"time\": \"15:30\",\n",
      "            \"from_timezone\": \"Asia/Tokyo\",\n",
      "            \"to_timezone\": \"Europe/Rome\"\n",
      "        }\n",
      "    }\n",
      "]\u001b[0m\n",
      "\u001b[32m2024-05-03 02:44:14 INFO semantic_router.utils.logger Function inputs: [{'function_name': 'get_time_difference', 'arguments': {'timezone1': 'Asia/Tokyo', 'timezone2': 'Europe/Rome'}}, {'function_name': 'convert_time', 'arguments': {'time': '15:30', 'from_timezone': 'Asia/Tokyo', 'to_timezone': 'Europe/Rome'}}]\u001b[0m\n",
      "\u001b[32m2024-05-03 02:44:14 INFO semantic_router.utils.logger Document 1 length: 99\u001b[0m\n",
      "\u001b[32m2024-05-03 02:44:14 INFO semantic_router.utils.logger Document 1 trunc length: 99\u001b[0m\n"
     ]
    },
    {
     "name": "stdout",
     "output_type": "stream",
     "text": [
      "The time difference between Asia/Tokyo and Europe/Rome is -7.0 hours.\n",
      "08:30\n",
      ">>> PASS <<<.\n",
      "====================================================================================================\n",
      "====================================================================================================\n",
      "Processing utterance:  Reveal the hours difference from Madrid to Shanghai, and change 17:45 Madrid time to Shanghai time.\n"
     ]
    },
    {
     "name": "stderr",
     "output_type": "stream",
     "text": [
      "\u001b[32m2024-05-03 02:44:15 INFO semantic_router.utils.logger Extracting function input...\u001b[0m\n",
      "\u001b[32m2024-05-03 02:44:17 INFO semantic_router.utils.logger LLM output: [\n",
      "    {\n",
      "        \"function_name\": \"get_time_difference\",\n",
      "        \"arguments\": {\n",
      "            \"timezone1\": \"Europe/Madrid\",\n",
      "            \"timezone2\": \"Asia/Shanghai\"\n",
      "        }\n",
      "    },\n",
      "    {\n",
      "        \"function_name\": \"convert_time\",\n",
      "        \"arguments\": {\n",
      "            \"time\": \"17:45\",\n",
      "            \"from_timezone\": \"Europe/Madrid\",\n",
      "            \"to_timezone\": \"Asia/Shanghai\"\n",
      "        }\n",
      "    }\n",
      "]\u001b[0m\n",
      "\u001b[32m2024-05-03 02:44:17 INFO semantic_router.utils.logger Function inputs: [{'function_name': 'get_time_difference', 'arguments': {'timezone1': 'Europe/Madrid', 'timezone2': 'Asia/Shanghai'}}, {'function_name': 'convert_time', 'arguments': {'time': '17:45', 'from_timezone': 'Europe/Madrid', 'to_timezone': 'Asia/Shanghai'}}]\u001b[0m\n",
      "\u001b[32m2024-05-03 02:44:17 INFO semantic_router.utils.logger Document 1 length: 96\u001b[0m\n",
      "\u001b[32m2024-05-03 02:44:17 INFO semantic_router.utils.logger Document 1 trunc length: 96\u001b[0m\n"
     ]
    },
    {
     "name": "stdout",
     "output_type": "stream",
     "text": [
      "The time difference between Europe/Madrid and Asia/Shanghai is 6.0 hours.\n",
      "23:45\n",
      ">>> PASS <<<.\n",
      "====================================================================================================\n",
      "====================================================================================================\n",
      "Processing utterance:  Compute the time offset between Toronto and Cairo, and convert 13:00 Toronto time to Cairo time.\n"
     ]
    },
    {
     "name": "stderr",
     "output_type": "stream",
     "text": [
      "\u001b[32m2024-05-03 02:44:17 INFO semantic_router.utils.logger Extracting function input...\u001b[0m\n",
      "\u001b[32m2024-05-03 02:44:19 INFO semantic_router.utils.logger LLM output: [\n",
      "    {\n",
      "        \"function_name\": \"get_time_difference\",\n",
      "        \"arguments\": {\n",
      "            \"timezone1\": \"America/Toronto\",\n",
      "            \"timezone2\": \"Africa/Cairo\"\n",
      "        }\n",
      "    },\n",
      "    {\n",
      "        \"function_name\": \"convert_time\",\n",
      "        \"arguments\": {\n",
      "            \"time\": \"13:00\",\n",
      "            \"from_timezone\": \"America/Toronto\",\n",
      "            \"to_timezone\": \"Africa/Cairo\"\n",
      "        }\n",
      "    }\n",
      "]\u001b[0m\n",
      "\u001b[32m2024-05-03 02:44:19 INFO semantic_router.utils.logger Function inputs: [{'function_name': 'get_time_difference', 'arguments': {'timezone1': 'America/Toronto', 'timezone2': 'Africa/Cairo'}}, {'function_name': 'convert_time', 'arguments': {'time': '13:00', 'from_timezone': 'America/Toronto', 'to_timezone': 'Africa/Cairo'}}]\u001b[0m\n",
      "\u001b[32m2024-05-03 02:44:19 INFO semantic_router.utils.logger Document 1 length: 97\u001b[0m\n",
      "\u001b[32m2024-05-03 02:44:19 INFO semantic_router.utils.logger Document 1 trunc length: 97\u001b[0m\n"
     ]
    },
    {
     "name": "stdout",
     "output_type": "stream",
     "text": [
      "The time difference between America/Toronto and Africa/Cairo is 7.0 hours.\n",
      "20:00\n",
      ">>> PASS <<<.\n",
      "====================================================================================================\n",
      "====================================================================================================\n",
      "Processing utterance:  Examine the time difference from Sydney to Chicago, and switch 19:00 Sydney time to Chicago time.\n"
     ]
    },
    {
     "name": "stderr",
     "output_type": "stream",
     "text": [
      "\u001b[32m2024-05-03 02:44:20 INFO semantic_router.utils.logger Extracting function input...\u001b[0m\n",
      "\u001b[32m2024-05-03 02:44:22 INFO semantic_router.utils.logger LLM output: [\n",
      "    {\n",
      "        \"function_name\": \"get_time_difference\",\n",
      "        \"arguments\": {\n",
      "            \"timezone1\": \"Australia/Sydney\",\n",
      "            \"timezone2\": \"America/Chicago\"\n",
      "        }\n",
      "    },\n",
      "    {\n",
      "        \"function_name\": \"convert_time\",\n",
      "        \"arguments\": {\n",
      "            \"time\": \"19:00\",\n",
      "            \"from_timezone\": \"Australia/Sydney\",\n",
      "            \"to_timezone\": \"America/Chicago\"\n",
      "        }\n",
      "    }\n",
      "]\u001b[0m\n",
      "\u001b[32m2024-05-03 02:44:22 INFO semantic_router.utils.logger Function inputs: [{'function_name': 'get_time_difference', 'arguments': {'timezone1': 'Australia/Sydney', 'timezone2': 'America/Chicago'}}, {'function_name': 'convert_time', 'arguments': {'time': '19:00', 'from_timezone': 'Australia/Sydney', 'to_timezone': 'America/Chicago'}}]\u001b[0m\n",
      "\u001b[32m2024-05-03 02:44:22 INFO semantic_router.utils.logger Document 1 length: 112\u001b[0m\n",
      "\u001b[32m2024-05-03 02:44:22 INFO semantic_router.utils.logger Document 1 trunc length: 112\u001b[0m\n"
     ]
    },
    {
     "name": "stdout",
     "output_type": "stream",
     "text": [
      "The time difference between Australia/Sydney and America/Chicago is -15.0 hours.\n",
      "04:00\n",
      ">>> PASS <<<.\n",
      "====================================================================================================\n",
      "====================================================================================================\n",
      "Processing utterance:  What's the hour gap between Dubai and San Francisco, and can you convert 11:15 Dubai time to San Francisco time?\n"
     ]
    },
    {
     "name": "stderr",
     "output_type": "stream",
     "text": [
      "\u001b[32m2024-05-03 02:44:22 INFO semantic_router.utils.logger Extracting function input...\u001b[0m\n",
      "\u001b[32m2024-05-03 02:44:24 INFO semantic_router.utils.logger LLM output: [\n",
      "    {\n",
      "        \"function_name\": \"get_time_difference\",\n",
      "        \"arguments\": {\n",
      "            \"timezone1\": \"Asia/Dubai\",\n",
      "            \"timezone2\": \"America/Los_Angeles\"\n",
      "        }\n",
      "    },\n",
      "    {\n",
      "        \"function_name\": \"convert_time\",\n",
      "        \"arguments\": {\n",
      "            \"time\": \"11:15\",\n",
      "            \"from_timezone\": \"Asia/Dubai\",\n",
      "            \"to_timezone\": \"America/Los_Angeles\"\n",
      "        }\n",
      "    }\n",
      "]\u001b[0m\n",
      "\u001b[32m2024-05-03 02:44:24 INFO semantic_router.utils.logger Function inputs: [{'function_name': 'get_time_difference', 'arguments': {'timezone1': 'Asia/Dubai', 'timezone2': 'America/Los_Angeles'}}, {'function_name': 'convert_time', 'arguments': {'time': '11:15', 'from_timezone': 'Asia/Dubai', 'to_timezone': 'America/Los_Angeles'}}]\u001b[0m\n",
      "\u001b[32m2024-05-03 02:44:24 INFO semantic_router.utils.logger Document 1 length: 107\u001b[0m\n",
      "\u001b[32m2024-05-03 02:44:24 INFO semantic_router.utils.logger Document 1 trunc length: 107\u001b[0m\n"
     ]
    },
    {
     "name": "stdout",
     "output_type": "stream",
     "text": [
      "The time difference between Asia/Dubai and America/Los_Angeles is -11.0 hours.\n",
      "00:15\n",
      ">>> PASS <<<.\n",
      "====================================================================================================\n",
      "====================================================================================================\n",
      "Processing utterance:  Determine the time difference from Paris to Johannesburg, and adjust 14:00 Paris time to Johannesburg time.\n"
     ]
    },
    {
     "name": "stderr",
     "output_type": "stream",
     "text": [
      "\u001b[32m2024-05-03 02:44:24 INFO semantic_router.utils.logger Extracting function input...\u001b[0m\n",
      "\u001b[32m2024-05-03 02:44:27 INFO semantic_router.utils.logger LLM output: [\n",
      "    {\n",
      "        \"function_name\": \"get_time_difference\",\n",
      "        \"arguments\": {\n",
      "            \"timezone1\": \"Europe/Paris\",\n",
      "            \"timezone2\": \"Africa/Johannesburg\"\n",
      "        }\n",
      "    },\n",
      "    {\n",
      "        \"function_name\": \"convert_time\",\n",
      "        \"arguments\": {\n",
      "            \"time\": \"14:00\",\n",
      "            \"from_timezone\": \"Europe/Paris\",\n",
      "            \"to_timezone\": \"Africa/Johannesburg\"\n",
      "        }\n",
      "    }\n",
      "]\u001b[0m\n",
      "\u001b[32m2024-05-03 02:44:27 INFO semantic_router.utils.logger Function inputs: [{'function_name': 'get_time_difference', 'arguments': {'timezone1': 'Europe/Paris', 'timezone2': 'Africa/Johannesburg'}}, {'function_name': 'convert_time', 'arguments': {'time': '14:00', 'from_timezone': 'Europe/Paris', 'to_timezone': 'Africa/Johannesburg'}}]\u001b[0m\n",
      "\u001b[32m2024-05-03 02:44:27 INFO semantic_router.utils.logger Document 1 length: 106\u001b[0m\n",
      "\u001b[32m2024-05-03 02:44:27 INFO semantic_router.utils.logger Document 1 trunc length: 106\u001b[0m\n"
     ]
    },
    {
     "name": "stdout",
     "output_type": "stream",
     "text": [
      "The time difference between Europe/Paris and Africa/Johannesburg is 0.0 hours.\n",
      "14:00\n",
      ">>> PASS <<<.\n",
      "====================================================================================================\n",
      "====================================================================================================\n",
      "Processing utterance:  Calculate how many hours separate Beijing from Vancouver, and change 16:30 Beijing time to Vancouver time.\n"
     ]
    },
    {
     "name": "stderr",
     "output_type": "stream",
     "text": [
      "\u001b[32m2024-05-03 02:44:27 INFO semantic_router.utils.logger Extracting function input...\u001b[0m\n",
      "\u001b[32m2024-05-03 02:44:29 INFO semantic_router.utils.logger LLM output: [\n",
      "    {\n",
      "        \"function_name\": \"get_time_difference\",\n",
      "        \"arguments\": {\n",
      "            \"timezone1\": \"Asia/Shanghai\",\n",
      "            \"timezone2\": \"America/Vancouver\"\n",
      "        }\n",
      "    },\n",
      "    {\n",
      "        \"function_name\": \"convert_time\",\n",
      "        \"arguments\": {\n",
      "            \"time\": \"16:30\",\n",
      "            \"from_timezone\": \"Asia/Shanghai\",\n",
      "            \"to_timezone\": \"America/Vancouver\"\n",
      "        }\n",
      "    }\n",
      "]\u001b[0m\n",
      "\u001b[32m2024-05-03 02:44:29 INFO semantic_router.utils.logger Function inputs: [{'function_name': 'get_time_difference', 'arguments': {'timezone1': 'Asia/Shanghai', 'timezone2': 'America/Vancouver'}}, {'function_name': 'convert_time', 'arguments': {'time': '16:30', 'from_timezone': 'Asia/Shanghai', 'to_timezone': 'America/Vancouver'}}]\u001b[0m\n",
      "\u001b[32m2024-05-03 02:44:29 INFO semantic_router.utils.logger Document 1 length: 97\u001b[0m\n",
      "\u001b[32m2024-05-03 02:44:29 INFO semantic_router.utils.logger Document 1 trunc length: 97\u001b[0m\n"
     ]
    },
    {
     "name": "stdout",
     "output_type": "stream",
     "text": [
      "The time difference between Asia/Shanghai and America/Vancouver is -15.0 hours.\n",
      "01:30\n",
      ">>> PASS <<<.\n",
      "====================================================================================================\n",
      "====================================================================================================\n",
      "Processing utterance:  Assess the time offset between Seattle and London, and convert 18:00 Seattle time to London time.\n"
     ]
    },
    {
     "name": "stderr",
     "output_type": "stream",
     "text": [
      "\u001b[32m2024-05-03 02:44:29 INFO semantic_router.utils.logger Extracting function input...\u001b[0m\n",
      "\u001b[32m2024-05-03 02:44:32 INFO semantic_router.utils.logger LLM output: [\n",
      "    {\n",
      "        \"function_name\": \"get_time_difference\",\n",
      "        \"arguments\": {\n",
      "            \"timezone1\": \"America/Los_Angeles\",\n",
      "            \"timezone2\": \"Europe/London\"\n",
      "        }\n",
      "    },\n",
      "    {\n",
      "        \"function_name\": \"convert_time\",\n",
      "        \"arguments\": {\n",
      "            \"time\": \"18:00\",\n",
      "            \"from_timezone\": \"America/Los_Angeles\",\n",
      "            \"to_timezone\": \"Europe/London\"\n",
      "        }\n",
      "    }\n",
      "]\u001b[0m\n",
      "\u001b[32m2024-05-03 02:44:32 INFO semantic_router.utils.logger Function inputs: [{'function_name': 'get_time_difference', 'arguments': {'timezone1': 'America/Los_Angeles', 'timezone2': 'Europe/London'}}, {'function_name': 'convert_time', 'arguments': {'time': '18:00', 'from_timezone': 'America/Los_Angeles', 'to_timezone': 'Europe/London'}}]\u001b[0m\n",
      "\u001b[32m2024-05-03 02:44:32 INFO semantic_router.utils.logger Document 1 length: 102\u001b[0m\n",
      "\u001b[32m2024-05-03 02:44:32 INFO semantic_router.utils.logger Document 1 trunc length: 102\u001b[0m\n"
     ]
    },
    {
     "name": "stdout",
     "output_type": "stream",
     "text": [
      "The time difference between America/Los_Angeles and Europe/London is 8.0 hours.\n",
      "02:00\n",
      ">>> PASS <<<.\n",
      "====================================================================================================\n",
      "====================================================================================================\n",
      "Processing utterance:  Find out how far ahead is Buenos Aires from Moscow, and switch 20:00 Buenos Aires time to Moscow time.\n"
     ]
    },
    {
     "name": "stderr",
     "output_type": "stream",
     "text": [
      "\u001b[32m2024-05-03 02:44:32 INFO semantic_router.utils.logger Extracting function input...\u001b[0m\n",
      "\u001b[32m2024-05-03 02:44:34 INFO semantic_router.utils.logger LLM output: [\n",
      "    {\n",
      "        \"function_name\": \"get_time_difference\",\n",
      "        \"arguments\": {\n",
      "            \"timezone1\": \"America/Argentina/Buenos_Aires\",\n",
      "            \"timezone2\": \"Europe/Moscow\"\n",
      "        }\n",
      "    },\n",
      "    {\n",
      "        \"function_name\": \"convert_time\",\n",
      "        \"arguments\": {\n",
      "            \"time\": \"20:00\",\n",
      "            \"from_timezone\": \"America/Argentina/Buenos_Aires\",\n",
      "            \"to_timezone\": \"Europe/Moscow\"\n",
      "        }\n",
      "    }\n",
      "]\u001b[0m\n",
      "\u001b[32m2024-05-03 02:44:34 INFO semantic_router.utils.logger Function inputs: [{'function_name': 'get_time_difference', 'arguments': {'timezone1': 'America/Argentina/Buenos_Aires', 'timezone2': 'Europe/Moscow'}}, {'function_name': 'convert_time', 'arguments': {'time': '20:00', 'from_timezone': 'America/Argentina/Buenos_Aires', 'to_timezone': 'Europe/Moscow'}}]\u001b[0m\n",
      "\u001b[32m2024-05-03 02:44:34 INFO semantic_router.utils.logger Document 1 length: 113\u001b[0m\n",
      "\u001b[32m2024-05-03 02:44:34 INFO semantic_router.utils.logger Document 1 trunc length: 113\u001b[0m\n"
     ]
    },
    {
     "name": "stdout",
     "output_type": "stream",
     "text": [
      "The time difference between America/Argentina/Buenos_Aires and Europe/Moscow is 6.0 hours.\n",
      "02:00\n",
      ">>> PASS <<<.\n",
      "====================================================================================================\n",
      "====================================================================================================\n",
      "Processing utterance:  What is the time difference between New Delhi and Athens, and can you adjust 09:45 New Delhi time to Athens time?\n"
     ]
    },
    {
     "name": "stderr",
     "output_type": "stream",
     "text": [
      "\u001b[32m2024-05-03 02:44:35 INFO semantic_router.utils.logger Extracting function input...\u001b[0m\n",
      "\u001b[32m2024-05-03 02:44:37 INFO semantic_router.utils.logger LLM output: [\n",
      "    {\n",
      "        \"function_name\": \"get_time_difference\",\n",
      "        \"arguments\": {\n",
      "            \"timezone1\": \"Asia/Kolkata\",\n",
      "            \"timezone2\": \"Europe/Athens\"\n",
      "        }\n",
      "    },\n",
      "    {\n",
      "        \"function_name\": \"convert_time\",\n",
      "        \"arguments\": {\n",
      "            \"time\": \"09:45\",\n",
      "            \"from_timezone\": \"Asia/Kolkata\",\n",
      "            \"to_timezone\": \"Europe/Athens\"\n",
      "        }\n",
      "    }\n",
      "]\u001b[0m\n",
      "\u001b[32m2024-05-03 02:44:37 INFO semantic_router.utils.logger Function inputs: [{'function_name': 'get_time_difference', 'arguments': {'timezone1': 'Asia/Kolkata', 'timezone2': 'Europe/Athens'}}, {'function_name': 'convert_time', 'arguments': {'time': '09:45', 'from_timezone': 'Asia/Kolkata', 'to_timezone': 'Europe/Athens'}}]\u001b[0m\n",
      "\u001b[32m2024-05-03 02:44:37 INFO semantic_router.utils.logger Document 1 length: 96\u001b[0m\n",
      "\u001b[32m2024-05-03 02:44:37 INFO semantic_router.utils.logger Document 1 trunc length: 96\u001b[0m\n"
     ]
    },
    {
     "name": "stdout",
     "output_type": "stream",
     "text": [
      "The time difference between Asia/Kolkata and Europe/Athens is -2.5 hours.\n",
      "07:15\n",
      ">>> PASS <<<.\n",
      "====================================================================================================\n",
      "====================================================================================================\n",
      "Processing utterance:  Measure the hours separating Houston from Berlin, and convert 12:10 Houston time to Berlin time.\n"
     ]
    },
    {
     "name": "stderr",
     "output_type": "stream",
     "text": [
      "\u001b[32m2024-05-03 02:44:37 INFO semantic_router.utils.logger Extracting function input...\u001b[0m\n",
      "\u001b[32m2024-05-03 02:44:41 INFO semantic_router.utils.logger LLM output: [\n",
      "    {\n",
      "        \"function_name\": \"get_time_difference\",\n",
      "        \"arguments\": {\n",
      "            \"timezone1\": \"America/Chicago\",\n",
      "            \"timezone2\": \"Europe/Berlin\"\n",
      "        }\n",
      "    },\n",
      "    {\n",
      "        \"function_name\": \"convert_time\",\n",
      "        \"arguments\": {\n",
      "            \"time\": \"12:10\",\n",
      "            \"from_timezone\": \"America/Chicago\",\n",
      "            \"to_timezone\": \"Europe/Berlin\"\n",
      "        }\n",
      "    }\n",
      "]\u001b[0m\n",
      "\u001b[32m2024-05-03 02:44:41 INFO semantic_router.utils.logger Function inputs: [{'function_name': 'get_time_difference', 'arguments': {'timezone1': 'America/Chicago', 'timezone2': 'Europe/Berlin'}}, {'function_name': 'convert_time', 'arguments': {'time': '12:10', 'from_timezone': 'America/Chicago', 'to_timezone': 'Europe/Berlin'}}]\u001b[0m\n",
      "\u001b[32m2024-05-03 02:44:41 INFO semantic_router.utils.logger Document 1 length: 92\u001b[0m\n",
      "\u001b[32m2024-05-03 02:44:41 INFO semantic_router.utils.logger Document 1 trunc length: 92\u001b[0m\n"
     ]
    },
    {
     "name": "stdout",
     "output_type": "stream",
     "text": [
      "The time difference between America/Chicago and Europe/Berlin is 7.0 hours.\n",
      "19:10\n",
      ">>> PASS <<<.\n",
      "====================================================================================================\n",
      "====================================================================================================\n",
      "Processing utterance:  Determine the time gap from Montreal to Tokyo, and change 14:25 Montreal time to Tokyo time.\n"
     ]
    },
    {
     "name": "stderr",
     "output_type": "stream",
     "text": [
      "\u001b[32m2024-05-03 02:44:41 INFO semantic_router.utils.logger Extracting function input...\u001b[0m\n",
      "\u001b[32m2024-05-03 02:44:43 INFO semantic_router.utils.logger LLM output: [\n",
      "    {\n",
      "        \"function_name\": \"get_time_difference\",\n",
      "        \"arguments\": {\n",
      "            \"timezone1\": \"America/Montreal\",\n",
      "            \"timezone2\": \"Asia/Tokyo\"\n",
      "        }\n",
      "    },\n",
      "    {\n",
      "        \"function_name\": \"convert_time\",\n",
      "        \"arguments\": {\n",
      "            \"time\": \"14:25\",\n",
      "            \"from_timezone\": \"America/Montreal\",\n",
      "            \"to_timezone\": \"Asia/Tokyo\"\n",
      "        }\n",
      "    }\n",
      "]\u001b[0m\n",
      "\u001b[32m2024-05-03 02:44:43 INFO semantic_router.utils.logger Function inputs: [{'function_name': 'get_time_difference', 'arguments': {'timezone1': 'America/Montreal', 'timezone2': 'Asia/Tokyo'}}, {'function_name': 'convert_time', 'arguments': {'time': '14:25', 'from_timezone': 'America/Montreal', 'to_timezone': 'Asia/Tokyo'}}]\u001b[0m\n",
      "\u001b[32m2024-05-03 02:44:43 INFO semantic_router.utils.logger Document 1 length: 111\u001b[0m\n",
      "\u001b[32m2024-05-03 02:44:43 INFO semantic_router.utils.logger Document 1 trunc length: 111\u001b[0m\n"
     ]
    },
    {
     "name": "stdout",
     "output_type": "stream",
     "text": [
      "The time difference between America/Montreal and Asia/Tokyo is 13.0 hours.\n",
      "03:25\n",
      ">>> PASS <<<.\n",
      "====================================================================================================\n",
      "====================================================================================================\n",
      "Processing utterance:  Calculate the hour difference between Zurich and Los Angeles, and switch 17:15 Zurich time to Los Angeles time.\n"
     ]
    },
    {
     "name": "stderr",
     "output_type": "stream",
     "text": [
      "\u001b[32m2024-05-03 02:44:44 INFO semantic_router.utils.logger Extracting function input...\u001b[0m\n",
      "\u001b[32m2024-05-03 02:44:46 INFO semantic_router.utils.logger LLM output: [\n",
      "    {\n",
      "        \"function_name\": \"get_time_difference\",\n",
      "        \"arguments\": {\n",
      "            \"timezone1\": \"Europe/Zurich\",\n",
      "            \"timezone2\": \"America/Los_Angeles\"\n",
      "        }\n",
      "    },\n",
      "    {\n",
      "        \"function_name\": \"convert_time\",\n",
      "        \"arguments\": {\n",
      "            \"time\": \"17:15\",\n",
      "            \"from_timezone\": \"Europe/Zurich\",\n",
      "            \"to_timezone\": \"America/Los_Angeles\"\n",
      "        }\n",
      "    }\n",
      "]\u001b[0m\n",
      "\u001b[32m2024-05-03 02:44:46 INFO semantic_router.utils.logger Function inputs: [{'function_name': 'get_time_difference', 'arguments': {'timezone1': 'Europe/Zurich', 'timezone2': 'America/Los_Angeles'}}, {'function_name': 'convert_time', 'arguments': {'time': '17:15', 'from_timezone': 'Europe/Zurich', 'to_timezone': 'America/Los_Angeles'}}]\u001b[0m\n",
      "\u001b[32m2024-05-03 02:44:46 INFO semantic_router.utils.logger Document 1 length: 91\u001b[0m\n",
      "\u001b[32m2024-05-03 02:44:46 INFO semantic_router.utils.logger Document 1 trunc length: 91\u001b[0m\n"
     ]
    },
    {
     "name": "stdout",
     "output_type": "stream",
     "text": [
      "The time difference between Europe/Zurich and America/Los_Angeles is -9.0 hours.\n",
      "08:15\n",
      ">>> PASS <<<.\n",
      "====================================================================================================\n",
      "====================================================================================================\n",
      "Processing utterance:  How many hours ahead is Stockholm from Denver? Convert 19:30 Stockholm time to Denver time.\n"
     ]
    },
    {
     "name": "stderr",
     "output_type": "stream",
     "text": [
      "\u001b[32m2024-05-03 02:44:46 INFO semantic_router.utils.logger Extracting function input...\u001b[0m\n",
      "\u001b[32m2024-05-03 02:44:48 INFO semantic_router.utils.logger LLM output: [\n",
      "    {\n",
      "        \"function_name\": \"get_time_difference\",\n",
      "        \"arguments\": {\n",
      "            \"timezone1\": \"Europe/Stockholm\",\n",
      "            \"timezone2\": \"America/Denver\"\n",
      "        }\n",
      "    },\n",
      "    {\n",
      "        \"function_name\": \"convert_time\",\n",
      "        \"arguments\": {\n",
      "            \"time\": \"19:30\",\n",
      "            \"from_timezone\": \"Europe/Stockholm\",\n",
      "            \"to_timezone\": \"America/Denver\"\n",
      "        }\n",
      "    }\n",
      "]\u001b[0m\n",
      "\u001b[32m2024-05-03 02:44:48 INFO semantic_router.utils.logger Function inputs: [{'function_name': 'get_time_difference', 'arguments': {'timezone1': 'Europe/Stockholm', 'timezone2': 'America/Denver'}}, {'function_name': 'convert_time', 'arguments': {'time': '19:30', 'from_timezone': 'Europe/Stockholm', 'to_timezone': 'America/Denver'}}]\u001b[0m\n",
      "\u001b[32m2024-05-03 02:44:48 INFO semantic_router.utils.logger Document 1 length: 107\u001b[0m\n",
      "\u001b[32m2024-05-03 02:44:48 INFO semantic_router.utils.logger Document 1 trunc length: 107\u001b[0m\n"
     ]
    },
    {
     "name": "stdout",
     "output_type": "stream",
     "text": [
      "The time difference between Europe/Stockholm and America/Denver is -8.0 hours.\n",
      "11:30\n",
      ">>> PASS <<<.\n",
      "====================================================================================================\n",
      "====================================================================================================\n",
      "Processing utterance:  What's the time difference from Amsterdam to Cairo, and can you convert 21:00 Amsterdam time to Cairo time?\n"
     ]
    },
    {
     "name": "stderr",
     "output_type": "stream",
     "text": [
      "\u001b[32m2024-05-03 02:44:49 INFO semantic_router.utils.logger Extracting function input...\u001b[0m\n",
      "\u001b[32m2024-05-03 02:44:51 INFO semantic_router.utils.logger LLM output: [\n",
      "    {\n",
      "        \"function_name\": \"get_time_difference\",\n",
      "        \"arguments\": {\n",
      "            \"timezone1\": \"Europe/Amsterdam\",\n",
      "            \"timezone2\": \"Africa/Cairo\"\n",
      "        }\n",
      "    },\n",
      "    {\n",
      "        \"function_name\": \"convert_time\",\n",
      "        \"arguments\": {\n",
      "            \"time\": \"21:00\",\n",
      "            \"from_timezone\": \"Europe/Amsterdam\",\n",
      "            \"to_timezone\": \"Africa/Cairo\"\n",
      "        }\n",
      "    }\n",
      "]\u001b[0m\n",
      "\u001b[32m2024-05-03 02:44:51 INFO semantic_router.utils.logger Function inputs: [{'function_name': 'get_time_difference', 'arguments': {'timezone1': 'Europe/Amsterdam', 'timezone2': 'Africa/Cairo'}}, {'function_name': 'convert_time', 'arguments': {'time': '21:00', 'from_timezone': 'Europe/Amsterdam', 'to_timezone': 'Africa/Cairo'}}]\u001b[0m\n",
      "\u001b[32m2024-05-03 02:44:51 INFO semantic_router.utils.logger Document 1 length: 96\u001b[0m\n",
      "\u001b[32m2024-05-03 02:44:51 INFO semantic_router.utils.logger Document 1 trunc length: 96\u001b[0m\n"
     ]
    },
    {
     "name": "stdout",
     "output_type": "stream",
     "text": [
      "The time difference between Europe/Amsterdam and Africa/Cairo is 1.0 hours.\n",
      "22:00\n",
      ">>> PASS <<<.\n",
      "====================================================================================================\n",
      "====================================================================================================\n",
      "Processing utterance:  Measure the time gap between Brussels and Sydney, and adjust 10:20 Brussels time to Sydney time.\n"
     ]
    },
    {
     "name": "stderr",
     "output_type": "stream",
     "text": [
      "\u001b[32m2024-05-03 02:44:51 INFO semantic_router.utils.logger Extracting function input...\u001b[0m\n",
      "\u001b[32m2024-05-03 02:44:53 INFO semantic_router.utils.logger LLM output: [\n",
      "    {\n",
      "        \"function_name\": \"get_time_difference\",\n",
      "        \"arguments\": {\n",
      "            \"timezone1\": \"Europe/Brussels\",\n",
      "            \"timezone2\": \"Australia/Sydney\"\n",
      "        }\n",
      "    },\n",
      "    {\n",
      "        \"function_name\": \"convert_time\",\n",
      "        \"arguments\": {\n",
      "            \"time\": \"10:20\",\n",
      "            \"from_timezone\": \"Europe/Brussels\",\n",
      "            \"to_timezone\": \"Australia/Sydney\"\n",
      "        }\n",
      "    }\n",
      "]\u001b[0m\n",
      "\u001b[32m2024-05-03 02:44:53 INFO semantic_router.utils.logger Function inputs: [{'function_name': 'get_time_difference', 'arguments': {'timezone1': 'Europe/Brussels', 'timezone2': 'Australia/Sydney'}}, {'function_name': 'convert_time', 'arguments': {'time': '10:20', 'from_timezone': 'Europe/Brussels', 'to_timezone': 'Australia/Sydney'}}]\u001b[0m\n",
      "\u001b[32m2024-05-03 02:44:53 INFO semantic_router.utils.logger Document 1 length: 108\u001b[0m\n",
      "\u001b[32m2024-05-03 02:44:53 INFO semantic_router.utils.logger Document 1 trunc length: 108\u001b[0m\n"
     ]
    },
    {
     "name": "stdout",
     "output_type": "stream",
     "text": [
      "The time difference between Europe/Brussels and Australia/Sydney is 8.0 hours.\n",
      "18:20\n",
      ">>> PASS <<<.\n",
      "====================================================================================================\n",
      "====================================================================================================\n",
      "Processing utterance:  Can you tell me how many hours are between Lisbon and Beijing, and change 12:40 Lisbon time to Beijing time?\n"
     ]
    },
    {
     "name": "stderr",
     "output_type": "stream",
     "text": [
      "\u001b[32m2024-05-03 02:44:53 INFO semantic_router.utils.logger Extracting function input...\u001b[0m\n",
      "\u001b[32m2024-05-03 02:44:55 INFO semantic_router.utils.logger LLM output: [\n",
      "    {\n",
      "        \"function_name\": \"get_time_difference\",\n",
      "        \"arguments\": {\n",
      "            \"timezone1\": \"Europe/Lisbon\",\n",
      "            \"timezone2\": \"Asia/Shanghai\"\n",
      "        }\n",
      "    },\n",
      "    {\n",
      "        \"function_name\": \"convert_time\",\n",
      "        \"arguments\": {\n",
      "            \"time\": \"12:40\",\n",
      "            \"from_timezone\": \"Europe/Lisbon\",\n",
      "            \"to_timezone\": \"Asia/Shanghai\"\n",
      "        }\n",
      "    }\n",
      "]\u001b[0m\n",
      "\u001b[32m2024-05-03 02:44:55 INFO semantic_router.utils.logger Function inputs: [{'function_name': 'get_time_difference', 'arguments': {'timezone1': 'Europe/Lisbon', 'timezone2': 'Asia/Shanghai'}}, {'function_name': 'convert_time', 'arguments': {'time': '12:40', 'from_timezone': 'Europe/Lisbon', 'to_timezone': 'Asia/Shanghai'}}]\u001b[0m\n",
      "\u001b[32m2024-05-03 02:44:55 INFO semantic_router.utils.logger Document 1 length: 96\u001b[0m\n",
      "\u001b[32m2024-05-03 02:44:55 INFO semantic_router.utils.logger Document 1 trunc length: 96\u001b[0m\n"
     ]
    },
    {
     "name": "stdout",
     "output_type": "stream",
     "text": [
      "The time difference between Europe/Lisbon and Asia/Shanghai is 7.0 hours.\n",
      "19:40\n",
      ">>> PASS <<<.\n",
      "====================================================================================================\n",
      "====================================================================================================\n",
      "Processing utterance:  Determine the hours separating Oslo from New York, and convert 15:00 Oslo time to New York time.\n"
     ]
    },
    {
     "name": "stderr",
     "output_type": "stream",
     "text": [
      "\u001b[32m2024-05-03 02:44:56 INFO semantic_router.utils.logger Extracting function input...\u001b[0m\n",
      "\u001b[32m2024-05-03 02:44:58 INFO semantic_router.utils.logger LLM output: [\n",
      "    {\n",
      "        \"function_name\": \"get_time_difference\",\n",
      "        \"arguments\": {\n",
      "            \"timezone1\": \"Europe/Oslo\",\n",
      "            \"timezone2\": \"America/New_York\"\n",
      "        }\n",
      "    },\n",
      "    {\n",
      "        \"function_name\": \"convert_time\",\n",
      "        \"arguments\": {\n",
      "            \"time\": \"15:00\",\n",
      "            \"from_timezone\": \"Europe/Oslo\",\n",
      "            \"to_timezone\": \"America/New_York\"\n",
      "        }\n",
      "    }\n",
      "]\u001b[0m\n",
      "\u001b[32m2024-05-03 02:44:58 INFO semantic_router.utils.logger Function inputs: [{'function_name': 'get_time_difference', 'arguments': {'timezone1': 'Europe/Oslo', 'timezone2': 'America/New_York'}}, {'function_name': 'convert_time', 'arguments': {'time': '15:00', 'from_timezone': 'Europe/Oslo', 'to_timezone': 'America/New_York'}}]\u001b[0m\n",
      "\u001b[32m2024-05-03 02:44:58 INFO semantic_router.utils.logger Document 1 length: 103\u001b[0m\n",
      "\u001b[32m2024-05-03 02:44:58 INFO semantic_router.utils.logger Document 1 trunc length: 103\u001b[0m\n"
     ]
    },
    {
     "name": "stdout",
     "output_type": "stream",
     "text": [
      "The time difference between Europe/Oslo and America/New_York is -6.0 hours.\n",
      "09:00\n",
      ">>> PASS <<<.\n",
      "====================================================================================================\n",
      "====================================================================================================\n",
      "Processing utterance:  Calculate the time difference from Copenhagen to Dubai, and switch 18:15 Copenhagen time to Dubai time.\n"
     ]
    },
    {
     "name": "stderr",
     "output_type": "stream",
     "text": [
      "\u001b[32m2024-05-03 02:44:58 INFO semantic_router.utils.logger Extracting function input...\u001b[0m\n",
      "\u001b[32m2024-05-03 02:45:00 INFO semantic_router.utils.logger LLM output: [\n",
      "    {\n",
      "        \"function_name\": \"get_time_difference\",\n",
      "        \"arguments\": {\n",
      "            \"timezone1\": \"Europe/Copenhagen\",\n",
      "            \"timezone2\": \"Asia/Dubai\"\n",
      "        }\n",
      "    },\n",
      "    {\n",
      "        \"function_name\": \"convert_time\",\n",
      "        \"arguments\": {\n",
      "            \"time\": \"18:15\",\n",
      "            \"from_timezone\": \"Europe/Copenhagen\",\n",
      "            \"to_timezone\": \"Asia/Dubai\"\n",
      "        }\n",
      "    }\n",
      "]\u001b[0m\n",
      "\u001b[32m2024-05-03 02:45:00 INFO semantic_router.utils.logger Function inputs: [{'function_name': 'get_time_difference', 'arguments': {'timezone1': 'Europe/Copenhagen', 'timezone2': 'Asia/Dubai'}}, {'function_name': 'convert_time', 'arguments': {'time': '18:15', 'from_timezone': 'Europe/Copenhagen', 'to_timezone': 'Asia/Dubai'}}]\u001b[0m\n",
      "\u001b[32m2024-05-03 02:45:00 INFO semantic_router.utils.logger Document 1 length: 107\u001b[0m\n",
      "\u001b[32m2024-05-03 02:45:00 INFO semantic_router.utils.logger Document 1 trunc length: 107\u001b[0m\n"
     ]
    },
    {
     "name": "stdout",
     "output_type": "stream",
     "text": [
      "The time difference between Europe/Copenhagen and Asia/Dubai is 2.0 hours.\n",
      "20:15\n",
      ">>> PASS <<<.\n",
      "====================================================================================================\n",
      "====================================================================================================\n",
      "Processing utterance:  Find out the hour gap between Warsaw and San Francisco, and adjust 20:45 Warsaw time to San Francisco time.\n"
     ]
    },
    {
     "name": "stderr",
     "output_type": "stream",
     "text": [
      "\u001b[32m2024-05-03 02:45:01 INFO semantic_router.utils.logger Extracting function input...\u001b[0m\n",
      "\u001b[32m2024-05-03 02:45:03 INFO semantic_router.utils.logger LLM output: [\n",
      "    {\n",
      "        \"function_name\": \"get_time_difference\",\n",
      "        \"arguments\": {\n",
      "            \"timezone1\": \"Europe/Warsaw\",\n",
      "            \"timezone2\": \"America/Los_Angeles\"\n",
      "        }\n",
      "    },\n",
      "    {\n",
      "        \"function_name\": \"convert_time\",\n",
      "        \"arguments\": {\n",
      "            \"time\": \"20:45\",\n",
      "            \"from_timezone\": \"Europe/Warsaw\",\n",
      "            \"to_timezone\": \"America/Los_Angeles\"\n",
      "        }\n",
      "    }\n",
      "]\u001b[0m\n",
      "\u001b[32m2024-05-03 02:45:03 INFO semantic_router.utils.logger Function inputs: [{'function_name': 'get_time_difference', 'arguments': {'timezone1': 'Europe/Warsaw', 'timezone2': 'America/Los_Angeles'}}, {'function_name': 'convert_time', 'arguments': {'time': '20:45', 'from_timezone': 'Europe/Warsaw', 'to_timezone': 'America/Los_Angeles'}}]\u001b[0m\n",
      "\u001b[32m2024-05-03 02:45:03 INFO semantic_router.utils.logger Document 1 length: 98\u001b[0m\n",
      "\u001b[32m2024-05-03 02:45:03 INFO semantic_router.utils.logger Document 1 trunc length: 98\u001b[0m\n"
     ]
    },
    {
     "name": "stdout",
     "output_type": "stream",
     "text": [
      "The time difference between Europe/Warsaw and America/Los_Angeles is -9.0 hours.\n",
      "11:45\n",
      ">>> PASS <<<.\n",
      "====================================================================================================\n",
      "====================================================================================================\n",
      "Processing utterance:  How far ahead is Helsinki compared to Houston? Please convert 07:30 Helsinki time to Houston time.\n"
     ]
    },
    {
     "name": "stderr",
     "output_type": "stream",
     "text": [
      "\u001b[32m2024-05-03 02:45:03 INFO semantic_router.utils.logger Extracting function input...\u001b[0m\n",
      "\u001b[32m2024-05-03 02:45:05 INFO semantic_router.utils.logger LLM output: [\n",
      "    {\n",
      "        \"function_name\": \"get_time_difference\",\n",
      "        \"arguments\": {\n",
      "            \"timezone1\": \"Europe/Helsinki\",\n",
      "            \"timezone2\": \"America/Chicago\"\n",
      "        }\n",
      "    },\n",
      "    {\n",
      "        \"function_name\": \"convert_time\",\n",
      "        \"arguments\": {\n",
      "            \"time\": \"07:30\",\n",
      "            \"from_timezone\": \"Europe/Helsinki\",\n",
      "            \"to_timezone\": \"America/Chicago\"\n",
      "        }\n",
      "    }\n",
      "]\u001b[0m\n",
      "\u001b[32m2024-05-03 02:45:05 INFO semantic_router.utils.logger Function inputs: [{'function_name': 'get_time_difference', 'arguments': {'timezone1': 'Europe/Helsinki', 'timezone2': 'America/Chicago'}}, {'function_name': 'convert_time', 'arguments': {'time': '07:30', 'from_timezone': 'Europe/Helsinki', 'to_timezone': 'America/Chicago'}}]\u001b[0m\n",
      "\u001b[32m2024-05-03 02:45:05 INFO semantic_router.utils.logger Document 1 length: 109\u001b[0m\n",
      "\u001b[32m2024-05-03 02:45:05 INFO semantic_router.utils.logger Document 1 trunc length: 109\u001b[0m\n"
     ]
    },
    {
     "name": "stdout",
     "output_type": "stream",
     "text": [
      "The time difference between Europe/Helsinki and America/Chicago is -8.0 hours.\n",
      "23:30\n",
      ">>> PASS <<<.\n",
      "====================================================================================================\n",
      "====================================================================================================\n",
      "Processing utterance:  What is the time difference between Prague and Toronto, and can you switch 09:50 Prague time to Toronto time?\n"
     ]
    },
    {
     "name": "stderr",
     "output_type": "stream",
     "text": [
      "\u001b[32m2024-05-03 02:45:06 INFO semantic_router.utils.logger Extracting function input...\u001b[0m\n",
      "\u001b[32m2024-05-03 02:45:08 INFO semantic_router.utils.logger LLM output: [\n",
      "    {\n",
      "        \"function_name\": \"get_time_difference\",\n",
      "        \"arguments\": {\n",
      "            \"timezone1\": \"Europe/Prague\",\n",
      "            \"timezone2\": \"America/Toronto\"\n",
      "        }\n",
      "    },\n",
      "    {\n",
      "        \"function_name\": \"convert_time\",\n",
      "        \"arguments\": {\n",
      "            \"time\": \"09:50\",\n",
      "            \"from_timezone\": \"Europe/Prague\",\n",
      "            \"to_timezone\": \"America/Toronto\"\n",
      "        }\n",
      "    }\n",
      "]\u001b[0m\n",
      "\u001b[32m2024-05-03 02:45:08 INFO semantic_router.utils.logger Function inputs: [{'function_name': 'get_time_difference', 'arguments': {'timezone1': 'Europe/Prague', 'timezone2': 'America/Toronto'}}, {'function_name': 'convert_time', 'arguments': {'time': '09:50', 'from_timezone': 'Europe/Prague', 'to_timezone': 'America/Toronto'}}]\u001b[0m\n",
      "\u001b[32m2024-05-03 02:45:08 INFO semantic_router.utils.logger Document 1 length: 103\u001b[0m\n",
      "\u001b[32m2024-05-03 02:45:08 INFO semantic_router.utils.logger Document 1 trunc length: 103\u001b[0m\n"
     ]
    },
    {
     "name": "stdout",
     "output_type": "stream",
     "text": [
      "The time difference between Europe/Prague and America/Toronto is -6.0 hours.\n",
      "03:50\n",
      ">>> PASS <<<.\n",
      "====================================================================================================\n",
      "====================================================================================================\n",
      "Processing utterance:  Measure the time gap between Budapest and Melbourne, and convert 11:55 Budapest time to Melbourne time.\n"
     ]
    },
    {
     "name": "stderr",
     "output_type": "stream",
     "text": [
      "\u001b[32m2024-05-03 02:45:08 INFO semantic_router.utils.logger Extracting function input...\u001b[0m\n",
      "\u001b[32m2024-05-03 02:45:10 INFO semantic_router.utils.logger LLM output: [\n",
      "    {\n",
      "        \"function_name\": \"get_time_difference\",\n",
      "        \"arguments\": {\n",
      "            \"timezone1\": \"Europe/Budapest\",\n",
      "            \"timezone2\": \"Australia/Melbourne\"\n",
      "        }\n",
      "    },\n",
      "    {\n",
      "        \"function_name\": \"convert_time\",\n",
      "        \"arguments\": {\n",
      "            \"time\": \"11:55\",\n",
      "            \"from_timezone\": \"Europe/Budapest\",\n",
      "            \"to_timezone\": \"Australia/Melbourne\"\n",
      "        }\n",
      "    }\n",
      "]\u001b[0m\n",
      "\u001b[32m2024-05-03 02:45:10 INFO semantic_router.utils.logger Function inputs: [{'function_name': 'get_time_difference', 'arguments': {'timezone1': 'Europe/Budapest', 'timezone2': 'Australia/Melbourne'}}, {'function_name': 'convert_time', 'arguments': {'time': '11:55', 'from_timezone': 'Europe/Budapest', 'to_timezone': 'Australia/Melbourne'}}]\u001b[0m\n"
     ]
    },
    {
     "name": "stdout",
     "output_type": "stream",
     "text": [
      "The time difference between Europe/Budapest and Australia/Melbourne is 8.0 hours.\n",
      "19:55\n",
      ">>> PASS <<<.\n",
      "====================================================================================================\n",
      "====================================================================================================\n",
      "Number of successful responses: 50\n",
      "Number of failed responses: 0\n",
      "====================================================================================================\n"
     ]
    }
   ],
   "source": [
    "test_function_calling(\n",
    "    utterances=test_utterances_get_time_difference_and_convert_time,\n",
    "    function_name='get_time_difference_and_convert_time',\n",
    "    expected_num_responses=2\n",
    "    )"
   ]
  },
  {
   "cell_type": "markdown",
   "metadata": {},
   "source": [
    "### Test All Function Argument Extractions"
   ]
  },
  {
   "cell_type": "code",
   "execution_count": 27,
   "metadata": {},
   "outputs": [
    {
     "name": "stderr",
     "output_type": "stream",
     "text": [
      "\u001b[32m2024-05-03 02:45:10 INFO semantic_router.utils.logger Document 1 length: 136\u001b[0m\n",
      "\u001b[32m2024-05-03 02:45:10 INFO semantic_router.utils.logger Document 1 trunc length: 136\u001b[0m\n"
     ]
    },
    {
     "name": "stdout",
     "output_type": "stream",
     "text": [
      "====================================================================================================\n",
      "Processing utterance:  What's the current time in Atlanta? How many hours is Atlanta ahead of Vancouver? And convert 14:20 from Atlanta time to Vancouver time.\n"
     ]
    },
    {
     "name": "stderr",
     "output_type": "stream",
     "text": [
      "\u001b[32m2024-05-03 02:45:11 INFO semantic_router.utils.logger Extracting function input...\u001b[0m\n",
      "\u001b[32m2024-05-03 02:45:14 INFO semantic_router.utils.logger LLM output: [\n",
      "    {\n",
      "        \"function_name\": \"get_time\",\n",
      "        \"arguments\": {\n",
      "            \"timezone\": \"America/New_York\"\n",
      "        }\n",
      "    },\n",
      "    {\n",
      "        \"function_name\": \"get_time_difference\",\n",
      "        \"arguments\": {\n",
      "            \"timezone1\": \"America/New_York\",\n",
      "            \"timezone2\": \"Vancouver\"\n",
      "        }\n",
      "    },\n",
      "    {\n",
      "        \"function_name\": \"convert_time\",\n",
      "        \"arguments\": {\n",
      "            \"time\": \"14:20\",\n",
      "            \"from_timezone\": \"America/New_York\",\n",
      "            \"to_timezone\": \"Vancouver\"\n",
      "        }\n",
      "    }\n",
      "]\u001b[0m\n",
      "\u001b[32m2024-05-03 02:45:14 INFO semantic_router.utils.logger Function inputs: [{'function_name': 'get_time', 'arguments': {'timezone': 'America/New_York'}}, {'function_name': 'get_time_difference', 'arguments': {'timezone1': 'America/New_York', 'timezone2': 'Vancouver'}}, {'function_name': 'convert_time', 'arguments': {'time': '14:20', 'from_timezone': 'America/New_York', 'to_timezone': 'Vancouver'}}]\u001b[0m\n",
      "\u001b[32m2024-05-03 02:45:14 INFO semantic_router.utils.logger Document 1 length: 120\u001b[0m\n",
      "\u001b[32m2024-05-03 02:45:14 INFO semantic_router.utils.logger Document 1 trunc length: 120\u001b[0m\n"
     ]
    },
    {
     "name": "stdout",
     "output_type": "stream",
     "text": [
      "18:45\n",
      ">>> FAIL <<<.\n",
      "Failed to process: What's the current time in Atlanta? How many hours is Atlanta ahead of Vancouver? And convert 14:20 from Atlanta time to Vancouver time. with error: 'No time zone found with key Vancouver'\n",
      "====================================================================================================\n",
      "====================================================================================================\n",
      "Processing utterance:  Please tell me the current time in Boston, the time difference with Zurich, and change 16:00 Boston time to Zurich time.\n"
     ]
    },
    {
     "name": "stderr",
     "output_type": "stream",
     "text": [
      "\u001b[32m2024-05-03 02:45:14 INFO semantic_router.utils.logger Extracting function input...\u001b[0m\n",
      "\u001b[32m2024-05-03 02:45:17 INFO semantic_router.utils.logger LLM output: [\n",
      "    {\n",
      "        \"function_name\": \"get_time\",\n",
      "        \"arguments\": {\n",
      "            \"timezone\": \"America/New_York\"\n",
      "        }\n",
      "    },\n",
      "    {\n",
      "        \"function_name\": \"get_time_difference\",\n",
      "        \"arguments\": {\n",
      "            \"timezone1\": \"Boston\",\n",
      "            \"timezone2\": \"Zurich\"\n",
      "        }\n",
      "    },\n",
      "    {\n",
      "        \"function_name\": \"convert_time\",\n",
      "        \"arguments\": {\n",
      "            \"time\": \"16:00\",\n",
      "            \"from_timezone\": \"America/New_York\",\n",
      "            \"to_timezone\": \"Zurich\"\n",
      "        }\n",
      "    }\n",
      "]\u001b[0m\n",
      "\u001b[32m2024-05-03 02:45:17 INFO semantic_router.utils.logger Function inputs: [{'function_name': 'get_time', 'arguments': {'timezone': 'America/New_York'}}, {'function_name': 'get_time_difference', 'arguments': {'timezone1': 'Boston', 'timezone2': 'Zurich'}}, {'function_name': 'convert_time', 'arguments': {'time': '16:00', 'from_timezone': 'America/New_York', 'to_timezone': 'Zurich'}}]\u001b[0m\n",
      "\u001b[32m2024-05-03 02:45:17 INFO semantic_router.utils.logger Document 1 length: 155\u001b[0m\n",
      "\u001b[32m2024-05-03 02:45:17 INFO semantic_router.utils.logger Document 1 trunc length: 155\u001b[0m\n"
     ]
    },
    {
     "name": "stdout",
     "output_type": "stream",
     "text": [
      "18:45\n",
      ">>> FAIL <<<.\n",
      "Failed to process: Please tell me the current time in Boston, the time difference with Zurich, and change 16:00 Boston time to Zurich time. with error: 'No time zone found with key Boston'\n",
      "====================================================================================================\n",
      "====================================================================================================\n",
      "Processing utterance:  Can you show me the current time in Denver? What's the hour difference between Denver and Amsterdam? Also, adjust 18:30 from Denver time to Amsterdam time.\n"
     ]
    },
    {
     "name": "stderr",
     "output_type": "stream",
     "text": [
      "\u001b[32m2024-05-03 02:45:18 INFO semantic_router.utils.logger Extracting function input...\u001b[0m\n",
      "\u001b[32m2024-05-03 02:45:20 INFO semantic_router.utils.logger LLM output: [\n",
      "    {\n",
      "        \"function_name\": \"get_time\",\n",
      "        \"arguments\": {\n",
      "            \"timezone\": \"America/Denver\"\n",
      "        }\n",
      "    },\n",
      "    {\n",
      "        \"function_name\": \"get_time_difference\",\n",
      "        \"arguments\": {\n",
      "            \"timezone1\": \"America/Denver\",\n",
      "            \"timezone2\": \"Europe/Amsterdam\"\n",
      "        }\n",
      "    },\n",
      "    {\n",
      "        \"function_name\": \"convert_time\",\n",
      "        \"arguments\": {\n",
      "            \"time\": \"18:30\",\n",
      "            \"from_timezone\": \"America/Denver\",\n",
      "            \"to_timezone\": \"Europe/Amsterdam\"\n",
      "        }\n",
      "    }\n",
      "]\u001b[0m\n",
      "\u001b[32m2024-05-03 02:45:20 INFO semantic_router.utils.logger Function inputs: [{'function_name': 'get_time', 'arguments': {'timezone': 'America/Denver'}}, {'function_name': 'get_time_difference', 'arguments': {'timezone1': 'America/Denver', 'timezone2': 'Europe/Amsterdam'}}, {'function_name': 'convert_time', 'arguments': {'time': '18:30', 'from_timezone': 'America/Denver', 'to_timezone': 'Europe/Amsterdam'}}]\u001b[0m\n",
      "\u001b[32m2024-05-03 02:45:20 INFO semantic_router.utils.logger Document 1 length: 129\u001b[0m\n",
      "\u001b[32m2024-05-03 02:45:20 INFO semantic_router.utils.logger Document 1 trunc length: 129\u001b[0m\n"
     ]
    },
    {
     "name": "stdout",
     "output_type": "stream",
     "text": [
      "16:45\n",
      "The time difference between America/Denver and Europe/Amsterdam is 8.0 hours.\n",
      "02:30\n",
      ">>> PASS <<<.\n",
      "====================================================================================================\n",
      "====================================================================================================\n",
      "Processing utterance:  I need the current time in Houston, the time gap between Houston and Singapore, and convert 20:15 Houston time to Singapore time.\n"
     ]
    },
    {
     "name": "stderr",
     "output_type": "stream",
     "text": [
      "\u001b[32m2024-05-03 02:45:21 INFO semantic_router.utils.logger Extracting function input...\u001b[0m\n",
      "\u001b[32m2024-05-03 02:45:24 INFO semantic_router.utils.logger LLM output: [\n",
      "    {\n",
      "        \"function_name\": \"get_time\",\n",
      "        \"arguments\": {\n",
      "            \"timezone\": \"America/Chicago\"\n",
      "        }\n",
      "    },\n",
      "    {\n",
      "        \"function_name\": \"get_time_difference\",\n",
      "        \"arguments\": {\n",
      "            \"timezone1\": \"America/Chicago\",\n",
      "            \"timezone2\": \"Asia/Singapore\"\n",
      "        }\n",
      "    },\n",
      "    {\n",
      "        \"function_name\": \"convert_time\",\n",
      "        \"arguments\": {\n",
      "            \"time\": \"20:15\",\n",
      "            \"from_timezone\": \"America/Chicago\",\n",
      "            \"to_timezone\": \"Asia/Singapore\"\n",
      "        }\n",
      "    }\n",
      "]\u001b[0m\n",
      "\u001b[32m2024-05-03 02:45:24 INFO semantic_router.utils.logger Function inputs: [{'function_name': 'get_time', 'arguments': {'timezone': 'America/Chicago'}}, {'function_name': 'get_time_difference', 'arguments': {'timezone1': 'America/Chicago', 'timezone2': 'Asia/Singapore'}}, {'function_name': 'convert_time', 'arguments': {'time': '20:15', 'from_timezone': 'America/Chicago', 'to_timezone': 'Asia/Singapore'}}]\u001b[0m\n",
      "\u001b[32m2024-05-03 02:45:24 INFO semantic_router.utils.logger Document 1 length: 140\u001b[0m\n",
      "\u001b[32m2024-05-03 02:45:24 INFO semantic_router.utils.logger Document 1 trunc length: 140\u001b[0m\n"
     ]
    },
    {
     "name": "stdout",
     "output_type": "stream",
     "text": [
      "17:45\n",
      "The time difference between America/Chicago and Asia/Singapore is 13.0 hours.\n",
      "09:15\n",
      ">>> PASS <<<.\n",
      "====================================================================================================\n",
      "====================================================================================================\n",
      "Processing utterance:  Display the current time in Phoenix, calculate the time difference between Phoenix and Madrid, and switch 22:00 Phoenix time to Madrid time.\n"
     ]
    },
    {
     "name": "stderr",
     "output_type": "stream",
     "text": [
      "\u001b[32m2024-05-03 02:45:24 INFO semantic_router.utils.logger Extracting function input...\u001b[0m\n",
      "\u001b[32m2024-05-03 02:45:26 INFO semantic_router.utils.logger LLM output: [\n",
      "    {\n",
      "        \"function_name\": \"get_time\",\n",
      "        \"arguments\": {\n",
      "            \"timezone\": \"America/Phoenix\"\n",
      "        }\n",
      "    },\n",
      "    {\n",
      "        \"function_name\": \"get_time_difference\",\n",
      "        \"arguments\": {\n",
      "            \"timezone1\": \"America/Phoenix\",\n",
      "            \"timezone2\": \"Europe/Madrid\"\n",
      "        }\n",
      "    },\n",
      "    {\n",
      "        \"function_name\": \"convert_time\",\n",
      "        \"arguments\": {\n",
      "            \"time\": \"22:00\",\n",
      "            \"from_timezone\": \"America/Phoenix\",\n",
      "            \"to_timezone\": \"Europe/Madrid\"\n",
      "        }\n",
      "    }\n",
      "]\u001b[0m\n",
      "\u001b[32m2024-05-03 02:45:26 INFO semantic_router.utils.logger Function inputs: [{'function_name': 'get_time', 'arguments': {'timezone': 'America/Phoenix'}}, {'function_name': 'get_time_difference', 'arguments': {'timezone1': 'America/Phoenix', 'timezone2': 'Europe/Madrid'}}, {'function_name': 'convert_time', 'arguments': {'time': '22:00', 'from_timezone': 'America/Phoenix', 'to_timezone': 'Europe/Madrid'}}]\u001b[0m\n",
      "\u001b[32m2024-05-03 02:45:26 INFO semantic_router.utils.logger Document 1 length: 126\u001b[0m\n",
      "\u001b[32m2024-05-03 02:45:26 INFO semantic_router.utils.logger Document 1 trunc length: 126\u001b[0m\n"
     ]
    },
    {
     "name": "stdout",
     "output_type": "stream",
     "text": [
      "15:45\n",
      "The time difference between America/Phoenix and Europe/Madrid is 9.0 hours.\n",
      "07:00\n",
      ">>> PASS <<<.\n",
      "====================================================================================================\n",
      "====================================================================================================\n",
      "Processing utterance:  Tell me the current time in Toronto, how many hours behind is Toronto from Dubai, and change 09:00 Toronto time to Dubai time.\n"
     ]
    },
    {
     "name": "stderr",
     "output_type": "stream",
     "text": [
      "\u001b[32m2024-05-03 02:45:27 INFO semantic_router.utils.logger Extracting function input...\u001b[0m\n",
      "\u001b[32m2024-05-03 02:45:29 INFO semantic_router.utils.logger LLM output: [\n",
      "    {\n",
      "        \"function_name\": \"get_time\",\n",
      "        \"arguments\": {\n",
      "            \"timezone\": \"America/Toronto\"\n",
      "        }\n",
      "    },\n",
      "    {\n",
      "        \"function_name\": \"get_time_difference\",\n",
      "        \"arguments\": {\n",
      "            \"timezone1\": \"America/Toronto\",\n",
      "            \"timezone2\": \"Asia/Dubai\"\n",
      "        }\n",
      "    },\n",
      "    {\n",
      "        \"function_name\": \"convert_time\",\n",
      "        \"arguments\": {\n",
      "            \"time\": \"09:00\",\n",
      "            \"from_timezone\": \"America/Toronto\",\n",
      "            \"to_timezone\": \"Asia/Dubai\"\n",
      "        }\n",
      "    }\n",
      "]\u001b[0m\n",
      "\u001b[32m2024-05-03 02:45:29 INFO semantic_router.utils.logger Function inputs: [{'function_name': 'get_time', 'arguments': {'timezone': 'America/Toronto'}}, {'function_name': 'get_time_difference', 'arguments': {'timezone1': 'America/Toronto', 'timezone2': 'Asia/Dubai'}}, {'function_name': 'convert_time', 'arguments': {'time': '09:00', 'from_timezone': 'America/Toronto', 'to_timezone': 'Asia/Dubai'}}]\u001b[0m\n",
      "\u001b[32m2024-05-03 02:45:29 INFO semantic_router.utils.logger Document 1 length: 144\u001b[0m\n",
      "\u001b[32m2024-05-03 02:45:29 INFO semantic_router.utils.logger Document 1 trunc length: 144\u001b[0m\n"
     ]
    },
    {
     "name": "stdout",
     "output_type": "stream",
     "text": [
      "18:45\n",
      "The time difference between America/Toronto and Asia/Dubai is 8.0 hours.\n",
      "17:00\n",
      ">>> PASS <<<.\n",
      "====================================================================================================\n",
      "====================================================================================================\n",
      "Processing utterance:  What is the current time in Montreal? What is the time difference between Montreal and Beijing? And convert 11:30 Montreal time to Beijing time.\n"
     ]
    },
    {
     "name": "stderr",
     "output_type": "stream",
     "text": [
      "\u001b[32m2024-05-03 02:45:29 INFO semantic_router.utils.logger Extracting function input...\u001b[0m\n",
      "\u001b[32m2024-05-03 02:45:32 INFO semantic_router.utils.logger LLM output: [\n",
      "    {\n",
      "        \"function_name\": \"get_time\",\n",
      "        \"arguments\": {\n",
      "            \"timezone\": \"America/Montreal\"\n",
      "        }\n",
      "    },\n",
      "    {\n",
      "        \"function_name\": \"get_time_difference\",\n",
      "        \"arguments\": {\n",
      "            \"timezone1\": \"America/Montreal\",\n",
      "            \"timezone2\": \"Asia/Shanghai\"\n",
      "        }\n",
      "    },\n",
      "    {\n",
      "        \"function_name\": \"convert_time\",\n",
      "        \"arguments\": {\n",
      "            \"time\": \"11:30\",\n",
      "            \"from_timezone\": \"America/Montreal\",\n",
      "            \"to_timezone\": \"Asia/Shanghai\"\n",
      "        }\n",
      "    }\n",
      "]\u001b[0m\n",
      "\u001b[32m2024-05-03 02:45:32 INFO semantic_router.utils.logger Function inputs: [{'function_name': 'get_time', 'arguments': {'timezone': 'America/Montreal'}}, {'function_name': 'get_time_difference', 'arguments': {'timezone1': 'America/Montreal', 'timezone2': 'Asia/Shanghai'}}, {'function_name': 'convert_time', 'arguments': {'time': '11:30', 'from_timezone': 'America/Montreal', 'to_timezone': 'Asia/Shanghai'}}]\u001b[0m\n",
      "\u001b[32m2024-05-03 02:45:32 INFO semantic_router.utils.logger Document 1 length: 112\u001b[0m\n",
      "\u001b[32m2024-05-03 02:45:32 INFO semantic_router.utils.logger Document 1 trunc length: 112\u001b[0m\n"
     ]
    },
    {
     "name": "stdout",
     "output_type": "stream",
     "text": [
      "18:45\n",
      "The time difference between America/Montreal and Asia/Shanghai is 12.0 hours.\n",
      "23:30\n",
      ">>> PASS <<<.\n",
      "====================================================================================================\n",
      "====================================================================================================\n",
      "Processing utterance:  Show me the current time in Miami, the hours difference with Moscow, and adjust 13:45 Miami time to Moscow time.\n"
     ]
    },
    {
     "name": "stderr",
     "output_type": "stream",
     "text": [
      "\u001b[32m2024-05-03 02:45:32 INFO semantic_router.utils.logger Extracting function input...\u001b[0m\n",
      "\u001b[32m2024-05-03 02:45:35 INFO semantic_router.utils.logger LLM output: [\n",
      "    {\n",
      "        \"function_name\": \"get_time\",\n",
      "        \"arguments\": {\n",
      "            \"timezone\": \"America/New_York\"\n",
      "        }\n",
      "    },\n",
      "    {\n",
      "        \"function_name\": \"get_time_difference\",\n",
      "        \"arguments\": {\n",
      "            \"timezone1\": \"America/New_York\",\n",
      "            \"timezone2\": \"Moscow\"\n",
      "        }\n",
      "    },\n",
      "    {\n",
      "        \"function_name\": \"convert_time\",\n",
      "        \"arguments\": {\n",
      "            \"time\": \"13:45\",\n",
      "            \"from_timezone\": \"America/New_York\",\n",
      "            \"to_timezone\": \"Europe/Moscow\"\n",
      "        }\n",
      "    }\n",
      "]\u001b[0m\n",
      "\u001b[32m2024-05-03 02:45:35 INFO semantic_router.utils.logger Function inputs: [{'function_name': 'get_time', 'arguments': {'timezone': 'America/New_York'}}, {'function_name': 'get_time_difference', 'arguments': {'timezone1': 'America/New_York', 'timezone2': 'Moscow'}}, {'function_name': 'convert_time', 'arguments': {'time': '13:45', 'from_timezone': 'America/New_York', 'to_timezone': 'Europe/Moscow'}}]\u001b[0m\n",
      "\u001b[32m2024-05-03 02:45:35 INFO semantic_router.utils.logger Document 1 length: 128\u001b[0m\n",
      "\u001b[32m2024-05-03 02:45:35 INFO semantic_router.utils.logger Document 1 trunc length: 128\u001b[0m\n"
     ]
    },
    {
     "name": "stdout",
     "output_type": "stream",
     "text": [
      "18:45\n",
      ">>> FAIL <<<.\n",
      "Failed to process: Show me the current time in Miami, the hours difference with Moscow, and adjust 13:45 Miami time to Moscow time. with error: 'No time zone found with key Moscow'\n",
      "====================================================================================================\n",
      "====================================================================================================\n",
      "Processing utterance:  Can you provide the current time in Seattle, the time gap between Seattle and Rome, and convert 15:10 Seattle time to Rome time?\n"
     ]
    },
    {
     "name": "stderr",
     "output_type": "stream",
     "text": [
      "\u001b[32m2024-05-03 02:45:35 INFO semantic_router.utils.logger Extracting function input...\u001b[0m\n",
      "\u001b[32m2024-05-03 02:45:38 INFO semantic_router.utils.logger LLM output: [\n",
      "    {\n",
      "        \"function_name\": \"get_time\",\n",
      "        \"arguments\": {\n",
      "            \"timezone\": \"America/Los_Angeles\"\n",
      "        }\n",
      "    },\n",
      "    {\n",
      "        \"function_name\": \"get_time_difference\",\n",
      "        \"arguments\": {\n",
      "            \"timezone1\": \"America/Los_Angeles\",\n",
      "            \"timezone2\": \"Europe/Rome\"\n",
      "        }\n",
      "    },\n",
      "    {\n",
      "        \"function_name\": \"convert_time\",\n",
      "        \"arguments\": {\n",
      "            \"time\": \"15:10\",\n",
      "            \"from_timezone\": \"America/Los_Angeles\",\n",
      "            \"to_timezone\": \"Europe/Rome\"\n",
      "        }\n",
      "    }\n",
      "]\u001b[0m\n",
      "\u001b[32m2024-05-03 02:45:38 INFO semantic_router.utils.logger Function inputs: [{'function_name': 'get_time', 'arguments': {'timezone': 'America/Los_Angeles'}}, {'function_name': 'get_time_difference', 'arguments': {'timezone1': 'America/Los_Angeles', 'timezone2': 'Europe/Rome'}}, {'function_name': 'convert_time', 'arguments': {'time': '15:10', 'from_timezone': 'America/Los_Angeles', 'to_timezone': 'Europe/Rome'}}]\u001b[0m\n",
      "\u001b[32m2024-05-03 02:45:38 INFO semantic_router.utils.logger Document 1 length: 132\u001b[0m\n",
      "\u001b[32m2024-05-03 02:45:38 INFO semantic_router.utils.logger Document 1 trunc length: 132\u001b[0m\n"
     ]
    },
    {
     "name": "stdout",
     "output_type": "stream",
     "text": [
      "15:45\n",
      "The time difference between America/Los_Angeles and Europe/Rome is 9.0 hours.\n",
      "00:10\n",
      ">>> PASS <<<.\n",
      "====================================================================================================\n",
      "====================================================================================================\n",
      "Processing utterance:  Find out the current time in San Diego, how many hours ahead is San Diego from Cairo, and switch 17:25 San Diego time to Cairo time.\n"
     ]
    },
    {
     "name": "stderr",
     "output_type": "stream",
     "text": [
      "\u001b[32m2024-05-03 02:45:38 INFO semantic_router.utils.logger Extracting function input...\u001b[0m\n",
      "\u001b[32m2024-05-03 02:45:41 INFO semantic_router.utils.logger LLM output: [\n",
      "    {\n",
      "        \"function_name\": \"get_time\",\n",
      "        \"arguments\": {\n",
      "            \"timezone\": \"America/Los_Angeles\"\n",
      "        }\n",
      "    },\n",
      "    {\n",
      "        \"function_name\": \"get_time_difference\",\n",
      "        \"arguments\": {\n",
      "            \"timezone1\": \"America/Los_Angeles\",\n",
      "            \"timezone2\": \"Africa/Cairo\"\n",
      "        }\n",
      "    },\n",
      "    {\n",
      "        \"function_name\": \"convert_time\",\n",
      "        \"arguments\": {\n",
      "            \"time\": \"17:25\",\n",
      "            \"from_timezone\": \"America/Los_Angeles\",\n",
      "            \"to_timezone\": \"Africa/Cairo\"\n",
      "        }\n",
      "    }\n",
      "]\u001b[0m\n",
      "\u001b[32m2024-05-03 02:45:41 INFO semantic_router.utils.logger Function inputs: [{'function_name': 'get_time', 'arguments': {'timezone': 'America/Los_Angeles'}}, {'function_name': 'get_time_difference', 'arguments': {'timezone1': 'America/Los_Angeles', 'timezone2': 'Africa/Cairo'}}, {'function_name': 'convert_time', 'arguments': {'time': '17:25', 'from_timezone': 'America/Los_Angeles', 'to_timezone': 'Africa/Cairo'}}]\u001b[0m\n",
      "\u001b[32m2024-05-03 02:45:41 INFO semantic_router.utils.logger Document 1 length: 127\u001b[0m\n",
      "\u001b[32m2024-05-03 02:45:41 INFO semantic_router.utils.logger Document 1 trunc length: 127\u001b[0m\n"
     ]
    },
    {
     "name": "stdout",
     "output_type": "stream",
     "text": [
      "15:45\n",
      "The time difference between America/Los_Angeles and Africa/Cairo is 10.0 hours.\n",
      "03:25\n",
      ">>> PASS <<<.\n",
      "====================================================================================================\n",
      "====================================================================================================\n",
      "Processing utterance:  What's the current time in Minneapolis? How far behind is Minneapolis from Tokyo? Convert 19:00 Minneapolis time to Tokyo time.\n"
     ]
    },
    {
     "name": "stderr",
     "output_type": "stream",
     "text": [
      "\u001b[32m2024-05-03 02:45:42 INFO semantic_router.utils.logger Extracting function input...\u001b[0m\n",
      "\u001b[32m2024-05-03 02:45:44 INFO semantic_router.utils.logger LLM output: [\n",
      "    {\n",
      "        \"function_name\": \"get_time\",\n",
      "        \"arguments\": {\n",
      "            \"timezone\": \"America/Chicago\"\n",
      "        }\n",
      "    },\n",
      "    {\n",
      "        \"function_name\": \"get_time_difference\",\n",
      "        \"arguments\": {\n",
      "            \"timezone1\": \"America/Chicago\",\n",
      "            \"timezone2\": \"Asia/Tokyo\"\n",
      "        }\n",
      "    },\n",
      "    {\n",
      "        \"function_name\": \"convert_time\",\n",
      "        \"arguments\": {\n",
      "            \"time\": \"19:00\",\n",
      "            \"from_timezone\": \"America/Chicago\",\n",
      "            \"to_timezone\": \"Asia/Tokyo\"\n",
      "        }\n",
      "    }\n",
      "]\u001b[0m\n",
      "\u001b[32m2024-05-03 02:45:44 INFO semantic_router.utils.logger Function inputs: [{'function_name': 'get_time', 'arguments': {'timezone': 'America/Chicago'}}, {'function_name': 'get_time_difference', 'arguments': {'timezone1': 'America/Chicago', 'timezone2': 'Asia/Tokyo'}}, {'function_name': 'convert_time', 'arguments': {'time': '19:00', 'from_timezone': 'America/Chicago', 'to_timezone': 'Asia/Tokyo'}}]\u001b[0m\n",
      "\u001b[32m2024-05-03 02:45:44 INFO semantic_router.utils.logger Document 1 length: 124\u001b[0m\n",
      "\u001b[32m2024-05-03 02:45:44 INFO semantic_router.utils.logger Document 1 trunc length: 124\u001b[0m\n"
     ]
    },
    {
     "name": "stdout",
     "output_type": "stream",
     "text": [
      "17:45\n",
      "The time difference between America/Chicago and Asia/Tokyo is 14.0 hours.\n",
      "09:00\n",
      ">>> PASS <<<.\n",
      "====================================================================================================\n",
      "====================================================================================================\n",
      "Processing utterance:  Please display the current time in Las Vegas, the hour difference with Paris, and adjust 21:15 Las Vegas time to Paris time.\n"
     ]
    },
    {
     "name": "stderr",
     "output_type": "stream",
     "text": [
      "\u001b[32m2024-05-03 02:45:45 INFO semantic_router.utils.logger Extracting function input...\u001b[0m\n",
      "\u001b[32m2024-05-03 02:45:48 INFO semantic_router.utils.logger LLM output: [\n",
      "    {\n",
      "        \"function_name\": \"get_time\",\n",
      "        \"arguments\": {\n",
      "            \"timezone\": \"America/Los_Angeles\"\n",
      "        }\n",
      "    },\n",
      "    {\n",
      "        \"function_name\": \"get_time_difference\",\n",
      "        \"arguments\": {\n",
      "            \"timezone1\": \"America/Los_Angeles\",\n",
      "            \"timezone2\": \"Europe/Paris\"\n",
      "        }\n",
      "    },\n",
      "    {\n",
      "        \"function_name\": \"convert_time\",\n",
      "        \"arguments\": {\n",
      "            \"time\": \"21:15\",\n",
      "            \"from_timezone\": \"America/Los_Angeles\",\n",
      "            \"to_timezone\": \"Europe/Paris\"\n",
      "        }\n",
      "    }\n",
      "]\u001b[0m\n",
      "\u001b[32m2024-05-03 02:45:48 INFO semantic_router.utils.logger Function inputs: [{'function_name': 'get_time', 'arguments': {'timezone': 'America/Los_Angeles'}}, {'function_name': 'get_time_difference', 'arguments': {'timezone1': 'America/Los_Angeles', 'timezone2': 'Europe/Paris'}}, {'function_name': 'convert_time', 'arguments': {'time': '21:15', 'from_timezone': 'America/Los_Angeles', 'to_timezone': 'Europe/Paris'}}]\u001b[0m\n",
      "\u001b[32m2024-05-03 02:45:48 INFO semantic_router.utils.logger Document 1 length: 153\u001b[0m\n",
      "\u001b[32m2024-05-03 02:45:48 INFO semantic_router.utils.logger Document 1 trunc length: 153\u001b[0m\n"
     ]
    },
    {
     "name": "stdout",
     "output_type": "stream",
     "text": [
      "15:45\n",
      "The time difference between America/Los_Angeles and Europe/Paris is 9.0 hours.\n",
      "06:15\n",
      ">>> PASS <<<.\n",
      "====================================================================================================\n",
      "====================================================================================================\n",
      "Processing utterance:  Can you tell me the current time in Philadelphia, the time difference between Philadelphia and London, and change 08:00 Philadelphia time to London time?\n"
     ]
    },
    {
     "name": "stderr",
     "output_type": "stream",
     "text": [
      "\u001b[32m2024-05-03 02:45:48 INFO semantic_router.utils.logger Extracting function input...\u001b[0m\n",
      "\u001b[32m2024-05-03 02:45:51 INFO semantic_router.utils.logger LLM output: [\n",
      "    {\n",
      "        \"function_name\": \"get_time\",\n",
      "        \"arguments\": {\n",
      "            \"timezone\": \"America/New_York\"\n",
      "        }\n",
      "    },\n",
      "    {\n",
      "        \"function_name\": \"get_time_difference\",\n",
      "        \"arguments\": {\n",
      "            \"timezone1\": \"America/New_York\",\n",
      "            \"timezone2\": \"Europe/London\"\n",
      "        }\n",
      "    },\n",
      "    {\n",
      "        \"function_name\": \"convert_time\",\n",
      "        \"arguments\": {\n",
      "            \"time\": \"08:00\",\n",
      "            \"from_timezone\": \"America/New_York\",\n",
      "            \"to_timezone\": \"Europe/London\"\n",
      "        }\n",
      "    }\n",
      "]\u001b[0m\n",
      "\u001b[32m2024-05-03 02:45:51 INFO semantic_router.utils.logger Function inputs: [{'function_name': 'get_time', 'arguments': {'timezone': 'America/New_York'}}, {'function_name': 'get_time_difference', 'arguments': {'timezone1': 'America/New_York', 'timezone2': 'Europe/London'}}, {'function_name': 'convert_time', 'arguments': {'time': '08:00', 'from_timezone': 'America/New_York', 'to_timezone': 'Europe/London'}}]\u001b[0m\n",
      "\u001b[32m2024-05-03 02:45:51 INFO semantic_router.utils.logger Document 1 length: 134\u001b[0m\n",
      "\u001b[32m2024-05-03 02:45:51 INFO semantic_router.utils.logger Document 1 trunc length: 134\u001b[0m\n"
     ]
    },
    {
     "name": "stdout",
     "output_type": "stream",
     "text": [
      "18:45\n",
      "The time difference between America/New_York and Europe/London is 5.0 hours.\n",
      "13:00\n",
      ">>> PASS <<<.\n",
      "====================================================================================================\n",
      "====================================================================================================\n",
      "Processing utterance:  I'd like to know the current time in Dallas, how many hours it is ahead of Hong Kong, and convert 10:30 Dallas time to Hong Kong time.\n"
     ]
    },
    {
     "name": "stderr",
     "output_type": "stream",
     "text": [
      "\u001b[32m2024-05-03 02:45:51 INFO semantic_router.utils.logger Extracting function input...\u001b[0m\n",
      "\u001b[32m2024-05-03 02:45:54 INFO semantic_router.utils.logger LLM output: [\n",
      "    {\n",
      "        \"function_name\": \"get_time\",\n",
      "        \"arguments\": {\n",
      "            \"timezone\": \"America/Chicago\"\n",
      "        }\n",
      "    },\n",
      "    {\n",
      "        \"function_name\": \"get_time_difference\",\n",
      "        \"arguments\": {\n",
      "            \"timezone1\": \"America/Chicago\",\n",
      "            \"timezone2\": \"Asia/Hong_Kong\"\n",
      "        }\n",
      "    },\n",
      "    {\n",
      "        \"function_name\": \"convert_time\",\n",
      "        \"arguments\": {\n",
      "            \"time\": \"10:30\",\n",
      "            \"from_timezone\": \"America/Chicago\",\n",
      "            \"to_timezone\": \"Asia/Hong_Kong\"\n",
      "        }\n",
      "    }\n",
      "]\u001b[0m\n",
      "\u001b[32m2024-05-03 02:45:54 INFO semantic_router.utils.logger Function inputs: [{'function_name': 'get_time', 'arguments': {'timezone': 'America/Chicago'}}, {'function_name': 'get_time_difference', 'arguments': {'timezone1': 'America/Chicago', 'timezone2': 'Asia/Hong_Kong'}}, {'function_name': 'convert_time', 'arguments': {'time': '10:30', 'from_timezone': 'America/Chicago', 'to_timezone': 'Asia/Hong_Kong'}}]\u001b[0m\n",
      "\u001b[32m2024-05-03 02:45:54 INFO semantic_router.utils.logger Document 1 length: 127\u001b[0m\n",
      "\u001b[32m2024-05-03 02:45:54 INFO semantic_router.utils.logger Document 1 trunc length: 127\u001b[0m\n"
     ]
    },
    {
     "name": "stdout",
     "output_type": "stream",
     "text": [
      "17:45\n",
      "The time difference between America/Chicago and Asia/Hong_Kong is 13.0 hours.\n",
      "23:30\n",
      ">>> PASS <<<.\n",
      "====================================================================================================\n",
      "====================================================================================================\n",
      "Processing utterance:  Show the current time in San Francisco, calculate the time gap with Berlin, and switch 12:45 San Francisco time to Berlin time.\n"
     ]
    },
    {
     "name": "stderr",
     "output_type": "stream",
     "text": [
      "\u001b[32m2024-05-03 02:45:54 INFO semantic_router.utils.logger Extracting function input...\u001b[0m\n",
      "\u001b[32m2024-05-03 02:45:57 INFO semantic_router.utils.logger LLM output: [\n",
      "    {\n",
      "        \"function_name\": \"get_time\",\n",
      "        \"arguments\": {\n",
      "            \"timezone\": \"America/Los_Angeles\"\n",
      "        }\n",
      "    },\n",
      "    {\n",
      "        \"function_name\": \"get_time_difference\",\n",
      "        \"arguments\": {\n",
      "            \"timezone1\": \"America/Los_Angeles\",\n",
      "            \"timezone2\": \"Europe/Berlin\"\n",
      "        }\n",
      "    },\n",
      "    {\n",
      "        \"function_name\": \"convert_time\",\n",
      "        \"arguments\": {\n",
      "            \"time\": \"12:45\",\n",
      "            \"from_timezone\": \"America/Los_Angeles\",\n",
      "            \"to_timezone\": \"Europe/Berlin\"\n",
      "        }\n",
      "    }\n",
      "]\u001b[0m\n",
      "\u001b[32m2024-05-03 02:45:57 INFO semantic_router.utils.logger Function inputs: [{'function_name': 'get_time', 'arguments': {'timezone': 'America/Los_Angeles'}}, {'function_name': 'get_time_difference', 'arguments': {'timezone1': 'America/Los_Angeles', 'timezone2': 'Europe/Berlin'}}, {'function_name': 'convert_time', 'arguments': {'time': '12:45', 'from_timezone': 'America/Los_Angeles', 'to_timezone': 'Europe/Berlin'}}]\u001b[0m\n",
      "\u001b[32m2024-05-03 02:45:57 INFO semantic_router.utils.logger Document 1 length: 145\u001b[0m\n",
      "\u001b[32m2024-05-03 02:45:57 INFO semantic_router.utils.logger Document 1 trunc length: 145\u001b[0m\n"
     ]
    },
    {
     "name": "stdout",
     "output_type": "stream",
     "text": [
      "15:45\n",
      "The time difference between America/Los_Angeles and Europe/Berlin is 9.0 hours.\n",
      "21:45\n",
      ">>> PASS <<<.\n",
      "====================================================================================================\n",
      "====================================================================================================\n",
      "Processing utterance:  Could you provide the current time in Baltimore and tell me how many hours it is behind Lisbon? Also, adjust 14:55 Baltimore time to Lisbon time.\n"
     ]
    },
    {
     "name": "stderr",
     "output_type": "stream",
     "text": [
      "\u001b[32m2024-05-03 02:45:58 INFO semantic_router.utils.logger Extracting function input...\u001b[0m\n",
      "\u001b[32m2024-05-03 02:46:00 INFO semantic_router.utils.logger LLM output: [\n",
      "    {\n",
      "        \"function_name\": \"get_time\",\n",
      "        \"arguments\": {\n",
      "            \"timezone\": \"America/New_York\"\n",
      "        }\n",
      "    },\n",
      "    {\n",
      "        \"function_name\": \"get_time_difference\",\n",
      "        \"arguments\": {\n",
      "            \"timezone1\": \"America/New_York\",\n",
      "            \"timezone2\": \"Europe/Lisbon\"\n",
      "        }\n",
      "    },\n",
      "    {\n",
      "        \"function_name\": \"convert_time\",\n",
      "        \"arguments\": {\n",
      "            \"time\": \"14:55\",\n",
      "            \"from_timezone\": \"America/New_York\",\n",
      "            \"to_timezone\": \"Europe/Lisbon\"\n",
      "        }\n",
      "    }\n",
      "]\u001b[0m\n",
      "\u001b[32m2024-05-03 02:46:00 INFO semantic_router.utils.logger Function inputs: [{'function_name': 'get_time', 'arguments': {'timezone': 'America/New_York'}}, {'function_name': 'get_time_difference', 'arguments': {'timezone1': 'America/New_York', 'timezone2': 'Europe/Lisbon'}}, {'function_name': 'convert_time', 'arguments': {'time': '14:55', 'from_timezone': 'America/New_York', 'to_timezone': 'Europe/Lisbon'}}]\u001b[0m\n",
      "\u001b[32m2024-05-03 02:46:00 INFO semantic_router.utils.logger Document 1 length: 129\u001b[0m\n",
      "\u001b[32m2024-05-03 02:46:00 INFO semantic_router.utils.logger Document 1 trunc length: 129\u001b[0m\n"
     ]
    },
    {
     "name": "stdout",
     "output_type": "stream",
     "text": [
      "18:46\n",
      "The time difference between America/New_York and Europe/Lisbon is 5.0 hours.\n",
      "19:55\n",
      ">>> PASS <<<.\n",
      "====================================================================================================\n",
      "====================================================================================================\n",
      "Processing utterance:  What is the current time in Chicago and how many hours ahead is it from Sydney? Please convert 16:40 Chicago time to Sydney time.\n"
     ]
    },
    {
     "name": "stderr",
     "output_type": "stream",
     "text": [
      "\u001b[32m2024-05-03 02:46:02 INFO semantic_router.utils.logger Extracting function input...\u001b[0m\n",
      "\u001b[32m2024-05-03 02:46:04 INFO semantic_router.utils.logger LLM output: [\n",
      "    {\n",
      "        \"function_name\": \"get_time\",\n",
      "        \"arguments\": {\n",
      "            \"timezone\": \"America/Chicago\"\n",
      "        }\n",
      "    },\n",
      "    {\n",
      "        \"function_name\": \"get_time_difference\",\n",
      "        \"arguments\": {\n",
      "            \"timezone1\": \"America/Chicago\",\n",
      "            \"timezone2\": \"Australia/Sydney\"\n",
      "        }\n",
      "    },\n",
      "    {\n",
      "        \"function_name\": \"convert_time\",\n",
      "        \"arguments\": {\n",
      "            \"time\": \"16:40\",\n",
      "            \"from_timezone\": \"America/Chicago\",\n",
      "            \"to_timezone\": \"Australia/Sydney\"\n",
      "        }\n",
      "    }\n",
      "]\u001b[0m\n",
      "\u001b[32m2024-05-03 02:46:04 INFO semantic_router.utils.logger Function inputs: [{'function_name': 'get_time', 'arguments': {'timezone': 'America/Chicago'}}, {'function_name': 'get_time_difference', 'arguments': {'timezone1': 'America/Chicago', 'timezone2': 'Australia/Sydney'}}, {'function_name': 'convert_time', 'arguments': {'time': '16:40', 'from_timezone': 'America/Chicago', 'to_timezone': 'Australia/Sydney'}}]\u001b[0m\n",
      "\u001b[32m2024-05-03 02:46:04 INFO semantic_router.utils.logger Document 1 length: 137\u001b[0m\n",
      "\u001b[32m2024-05-03 02:46:04 INFO semantic_router.utils.logger Document 1 trunc length: 137\u001b[0m\n"
     ]
    },
    {
     "name": "stdout",
     "output_type": "stream",
     "text": [
      "17:46\n",
      "The time difference between America/Chicago and Australia/Sydney is 15.0 hours.\n",
      "07:40\n",
      ">>> PASS <<<.\n",
      "====================================================================================================\n",
      "====================================================================================================\n",
      "Processing utterance:  Can you display the current time in New Orleans and the hours difference with Frankfurt? Change 18:20 New Orleans time to Frankfurt time.\n"
     ]
    },
    {
     "name": "stderr",
     "output_type": "stream",
     "text": [
      "\u001b[32m2024-05-03 02:46:04 INFO semantic_router.utils.logger Extracting function input...\u001b[0m\n",
      "\u001b[32m2024-05-03 02:46:07 INFO semantic_router.utils.logger LLM output: [\n",
      "    {\n",
      "        \"function_name\": \"get_time\",\n",
      "        \"arguments\": {\n",
      "            \"timezone\": \"America/New_Orleans\"\n",
      "        }\n",
      "    },\n",
      "    {\n",
      "        \"function_name\": \"get_time_difference\",\n",
      "        \"arguments\": {\n",
      "            \"timezone1\": \"America/New_Orleans\",\n",
      "            \"timezone2\": \"Europe/Frankfurt\"\n",
      "        }\n",
      "    },\n",
      "    {\n",
      "        \"function_name\": \"convert_time\",\n",
      "        \"arguments\": {\n",
      "            \"time\": \"18:20\",\n",
      "            \"from_timezone\": \"America/New_Orleans\",\n",
      "            \"to_timezone\": \"Europe/Frankfurt\"\n",
      "        }\n",
      "    }\n",
      "]\u001b[0m\n",
      "\u001b[32m2024-05-03 02:46:07 INFO semantic_router.utils.logger Function inputs: [{'function_name': 'get_time', 'arguments': {'timezone': 'America/New_Orleans'}}, {'function_name': 'get_time_difference', 'arguments': {'timezone1': 'America/New_Orleans', 'timezone2': 'Europe/Frankfurt'}}, {'function_name': 'convert_time', 'arguments': {'time': '18:20', 'from_timezone': 'America/New_Orleans', 'to_timezone': 'Europe/Frankfurt'}}]\u001b[0m\n",
      "\u001b[32m2024-05-03 02:46:07 INFO semantic_router.utils.logger Document 1 length: 136\u001b[0m\n",
      "\u001b[32m2024-05-03 02:46:07 INFO semantic_router.utils.logger Document 1 trunc length: 136\u001b[0m\n"
     ]
    },
    {
     "name": "stdout",
     "output_type": "stream",
     "text": [
      ">>> FAIL <<<.\n",
      "Failed to process: Can you display the current time in New Orleans and the hours difference with Frankfurt? Change 18:20 New Orleans time to Frankfurt time. with error: 'No time zone found with key America/New_Orleans'\n",
      "====================================================================================================\n",
      "====================================================================================================\n",
      "Processing utterance:  Tell me the current time in Salt Lake City and how many hours it is behind Istanbul. Convert 20:00 Salt Lake City time to Istanbul time.\n"
     ]
    },
    {
     "name": "stderr",
     "output_type": "stream",
     "text": [
      "\u001b[32m2024-05-03 02:46:07 INFO semantic_router.utils.logger Extracting function input...\u001b[0m\n",
      "\u001b[32m2024-05-03 02:46:10 INFO semantic_router.utils.logger LLM output: [\n",
      "    {\n",
      "        \"function_name\": \"get_time\",\n",
      "        \"arguments\": {\n",
      "            \"timezone\": \"America/Denver\"\n",
      "        }\n",
      "    },\n",
      "    {\n",
      "        \"function_name\": \"get_time_difference\",\n",
      "        \"arguments\": {\n",
      "            \"timezone1\": \"America/Denver\",\n",
      "            \"timezone2\": \"Europe/Istanbul\"\n",
      "        }\n",
      "    },\n",
      "    {\n",
      "        \"function_name\": \"convert_time\",\n",
      "        \"arguments\": {\n",
      "            \"time\": \"20:00\",\n",
      "            \"from_timezone\": \"America/Denver\",\n",
      "            \"to_timezone\": \"Europe/Istanbul\"\n",
      "        }\n",
      "    }\n",
      "]\u001b[0m\n",
      "\u001b[32m2024-05-03 02:46:10 INFO semantic_router.utils.logger Function inputs: [{'function_name': 'get_time', 'arguments': {'timezone': 'America/Denver'}}, {'function_name': 'get_time_difference', 'arguments': {'timezone1': 'America/Denver', 'timezone2': 'Europe/Istanbul'}}, {'function_name': 'convert_time', 'arguments': {'time': '20:00', 'from_timezone': 'America/Denver', 'to_timezone': 'Europe/Istanbul'}}]\u001b[0m\n",
      "\u001b[32m2024-05-03 02:46:10 INFO semantic_router.utils.logger Document 1 length: 129\u001b[0m\n",
      "\u001b[32m2024-05-03 02:46:10 INFO semantic_router.utils.logger Document 1 trunc length: 129\u001b[0m\n"
     ]
    },
    {
     "name": "stdout",
     "output_type": "stream",
     "text": [
      "16:46\n",
      "The time difference between America/Denver and Europe/Istanbul is 9.0 hours.\n",
      "05:00\n",
      ">>> PASS <<<.\n",
      "====================================================================================================\n",
      "====================================================================================================\n",
      "Processing utterance:  Please find the current time in Milwaukee, the time difference with Melbourne, and adjust 07:30 Milwaukee time to Melbourne time.\n"
     ]
    },
    {
     "name": "stderr",
     "output_type": "stream",
     "text": [
      "\u001b[32m2024-05-03 02:46:11 INFO semantic_router.utils.logger Extracting function input...\u001b[0m\n",
      "\u001b[32m2024-05-03 02:46:13 INFO semantic_router.utils.logger LLM output: [\n",
      "    {\n",
      "        \"function_name\": \"get_time\",\n",
      "        \"arguments\": {\n",
      "            \"timezone\": \"America/Chicago\"\n",
      "        }\n",
      "    },\n",
      "    {\n",
      "        \"function_name\": \"get_time_difference\",\n",
      "        \"arguments\": {\n",
      "            \"timezone1\": \"America/Chicago\",\n",
      "            \"timezone2\": \"Australia/Melbourne\"\n",
      "        }\n",
      "    },\n",
      "    {\n",
      "        \"function_name\": \"convert_time\",\n",
      "        \"arguments\": {\n",
      "            \"time\": \"07:30\",\n",
      "            \"from_timezone\": \"America/Chicago\",\n",
      "            \"to_timezone\": \"Australia/Melbourne\"\n",
      "        }\n",
      "    }\n",
      "]\u001b[0m\n",
      "\u001b[32m2024-05-03 02:46:13 INFO semantic_router.utils.logger Function inputs: [{'function_name': 'get_time', 'arguments': {'timezone': 'America/Chicago'}}, {'function_name': 'get_time_difference', 'arguments': {'timezone1': 'America/Chicago', 'timezone2': 'Australia/Melbourne'}}, {'function_name': 'convert_time', 'arguments': {'time': '07:30', 'from_timezone': 'America/Chicago', 'to_timezone': 'Australia/Melbourne'}}]\u001b[0m\n",
      "\u001b[32m2024-05-03 02:46:13 INFO semantic_router.utils.logger Document 1 length: 133\u001b[0m\n",
      "\u001b[32m2024-05-03 02:46:13 INFO semantic_router.utils.logger Document 1 trunc length: 133\u001b[0m\n"
     ]
    },
    {
     "name": "stdout",
     "output_type": "stream",
     "text": [
      "17:46\n",
      "The time difference between America/Chicago and Australia/Melbourne is 15.0 hours.\n",
      "22:30\n",
      ">>> PASS <<<.\n",
      "====================================================================================================\n",
      "====================================================================================================\n",
      "Processing utterance:  What's the current time in Nashville? How far ahead is Nashville from Buenos Aires? Switch 09:15 Nashville time to Buenos Aires time.\n"
     ]
    },
    {
     "name": "stderr",
     "output_type": "stream",
     "text": [
      "\u001b[32m2024-05-03 02:46:14 INFO semantic_router.utils.logger Extracting function input...\u001b[0m\n",
      "\u001b[32m2024-05-03 02:46:16 INFO semantic_router.utils.logger LLM output: [\n",
      "    {\n",
      "        \"function_name\": \"get_time\",\n",
      "        \"arguments\": {\n",
      "            \"timezone\": \"America/Chicago\"\n",
      "        }\n",
      "    },\n",
      "    {\n",
      "        \"function_name\": \"get_time_difference\",\n",
      "        \"arguments\": {\n",
      "            \"timezone1\": \"America/Chicago\",\n",
      "            \"timezone2\": \"America/Argentina/Buenos_Aires\"\n",
      "        }\n",
      "    },\n",
      "    {\n",
      "        \"function_name\": \"convert_time\",\n",
      "        \"arguments\": {\n",
      "            \"time\": \"09:15\",\n",
      "            \"from_timezone\": \"America/Chicago\",\n",
      "            \"to_timezone\": \"America/Argentina/Buenos_Aires\"\n",
      "        }\n",
      "    }\n",
      "]\u001b[0m\n",
      "\u001b[32m2024-05-03 02:46:16 INFO semantic_router.utils.logger Function inputs: [{'function_name': 'get_time', 'arguments': {'timezone': 'America/Chicago'}}, {'function_name': 'get_time_difference', 'arguments': {'timezone1': 'America/Chicago', 'timezone2': 'America/Argentina/Buenos_Aires'}}, {'function_name': 'convert_time', 'arguments': {'time': '09:15', 'from_timezone': 'America/Chicago', 'to_timezone': 'America/Argentina/Buenos_Aires'}}]\u001b[0m\n",
      "\u001b[32m2024-05-03 02:46:16 INFO semantic_router.utils.logger Document 1 length: 142\u001b[0m\n",
      "\u001b[32m2024-05-03 02:46:16 INFO semantic_router.utils.logger Document 1 trunc length: 142\u001b[0m\n"
     ]
    },
    {
     "name": "stdout",
     "output_type": "stream",
     "text": [
      "17:46\n",
      "The time difference between America/Chicago and America/Argentina/Buenos_Aires is 2.0 hours.\n",
      "11:15\n",
      ">>> PASS <<<.\n",
      "====================================================================================================\n",
      "====================================================================================================\n",
      "Processing utterance:  Can you show the current time in Indianapolis, the hour gap between Indianapolis and Seoul, and convert 11:00 Indianapolis time to Seoul time?\n"
     ]
    },
    {
     "name": "stderr",
     "output_type": "stream",
     "text": [
      "\u001b[32m2024-05-03 02:46:17 INFO semantic_router.utils.logger Extracting function input...\u001b[0m\n",
      "\u001b[32m2024-05-03 02:46:19 INFO semantic_router.utils.logger LLM output: [\n",
      "    {\n",
      "        \"function_name\": \"get_time\",\n",
      "        \"arguments\": {\n",
      "            \"timezone\": \"America/Indianapolis\"\n",
      "        }\n",
      "    },\n",
      "    {\n",
      "        \"function_name\": \"get_time_difference\",\n",
      "        \"arguments\": {\n",
      "            \"timezone1\": \"America/Indianapolis\",\n",
      "            \"timezone2\": \"Asia/Seoul\"\n",
      "        }\n",
      "    },\n",
      "    {\n",
      "        \"function_name\": \"convert_time\",\n",
      "        \"arguments\": {\n",
      "            \"time\": \"11:00\",\n",
      "            \"from_timezone\": \"America/Indianapolis\",\n",
      "            \"to_timezone\": \"Asia/Seoul\"\n",
      "        }\n",
      "    }\n",
      "]\u001b[0m\n",
      "\u001b[32m2024-05-03 02:46:19 INFO semantic_router.utils.logger Function inputs: [{'function_name': 'get_time', 'arguments': {'timezone': 'America/Indianapolis'}}, {'function_name': 'get_time_difference', 'arguments': {'timezone1': 'America/Indianapolis', 'timezone2': 'Asia/Seoul'}}, {'function_name': 'convert_time', 'arguments': {'time': '11:00', 'from_timezone': 'America/Indianapolis', 'to_timezone': 'Asia/Seoul'}}]\u001b[0m\n",
      "\u001b[32m2024-05-03 02:46:19 INFO semantic_router.utils.logger Document 1 length: 155\u001b[0m\n",
      "\u001b[32m2024-05-03 02:46:19 INFO semantic_router.utils.logger Document 1 trunc length: 155\u001b[0m\n"
     ]
    },
    {
     "name": "stdout",
     "output_type": "stream",
     "text": [
      "18:46\n",
      "The time difference between America/Indianapolis and Asia/Seoul is 13.0 hours.\n",
      "00:00\n",
      ">>> PASS <<<.\n",
      "====================================================================================================\n",
      "====================================================================================================\n",
      "Processing utterance:  Display the current time in Columbus, calculate the time difference between Columbus and Johannesburg, and change 13:20 Columbus time to Johannesburg time.\n"
     ]
    },
    {
     "name": "stderr",
     "output_type": "stream",
     "text": [
      "\u001b[32m2024-05-03 02:46:20 INFO semantic_router.utils.logger Extracting function input...\u001b[0m\n",
      "\u001b[32m2024-05-03 02:46:23 INFO semantic_router.utils.logger LLM output: [\n",
      "    {\n",
      "        \"function_name\": \"get_time\",\n",
      "        \"arguments\": {\n",
      "            \"timezone\": \"America/New_York\"\n",
      "        }\n",
      "    },\n",
      "    {\n",
      "        \"function_name\": \"get_time_difference\",\n",
      "        \"arguments\": {\n",
      "            \"timezone1\": \"America/New_York\",\n",
      "            \"timezone2\": \"Africa/Johannesburg\"\n",
      "        }\n",
      "    },\n",
      "    {\n",
      "        \"function_name\": \"convert_time\",\n",
      "        \"arguments\": {\n",
      "            \"time\": \"13:20\",\n",
      "            \"from_timezone\": \"America/New_York\",\n",
      "            \"to_timezone\": \"Africa/Johannesburg\"\n",
      "        }\n",
      "    }\n",
      "]\u001b[0m\n",
      "\u001b[32m2024-05-03 02:46:23 INFO semantic_router.utils.logger Function inputs: [{'function_name': 'get_time', 'arguments': {'timezone': 'America/New_York'}}, {'function_name': 'get_time_difference', 'arguments': {'timezone1': 'America/New_York', 'timezone2': 'Africa/Johannesburg'}}, {'function_name': 'convert_time', 'arguments': {'time': '13:20', 'from_timezone': 'America/New_York', 'to_timezone': 'Africa/Johannesburg'}}]\u001b[0m\n",
      "\u001b[32m2024-05-03 02:46:23 INFO semantic_router.utils.logger Document 1 length: 132\u001b[0m\n",
      "\u001b[32m2024-05-03 02:46:23 INFO semantic_router.utils.logger Document 1 trunc length: 132\u001b[0m\n"
     ]
    },
    {
     "name": "stdout",
     "output_type": "stream",
     "text": [
      "18:46\n",
      "The time difference between America/New_York and Africa/Johannesburg is 6.0 hours.\n",
      "19:20\n",
      ">>> PASS <<<.\n",
      "====================================================================================================\n",
      "====================================================================================================\n",
      "Processing utterance:  Tell me the current time in Charlotte, how many hours behind is Charlotte from Dubai, and adjust 15:40 Charlotte time to Dubai time.\n"
     ]
    },
    {
     "name": "stderr",
     "output_type": "stream",
     "text": [
      "\u001b[32m2024-05-03 02:46:23 INFO semantic_router.utils.logger Extracting function input...\u001b[0m\n",
      "\u001b[32m2024-05-03 02:46:26 INFO semantic_router.utils.logger LLM output: [\n",
      "    {\n",
      "        \"function_name\": \"get_time\",\n",
      "        \"arguments\": {\n",
      "            \"timezone\": \"America/New_York\"\n",
      "        }\n",
      "    },\n",
      "    {\n",
      "        \"function_name\": \"get_time_difference\",\n",
      "        \"arguments\": {\n",
      "            \"timezone1\": \"Charlotte\",\n",
      "            \"timezone2\": \"Dubai\"\n",
      "        }\n",
      "    },\n",
      "    {\n",
      "        \"function_name\": \"convert_time\",\n",
      "        \"arguments\": {\n",
      "            \"time\": \"15:40\",\n",
      "            \"from_timezone\": \"America/New_York\",\n",
      "            \"to_timezone\": \"Asia/Dubai\"\n",
      "        }\n",
      "    }\n",
      "]\u001b[0m\n",
      "\u001b[32m2024-05-03 02:46:26 INFO semantic_router.utils.logger Function inputs: [{'function_name': 'get_time', 'arguments': {'timezone': 'America/New_York'}}, {'function_name': 'get_time_difference', 'arguments': {'timezone1': 'Charlotte', 'timezone2': 'Dubai'}}, {'function_name': 'convert_time', 'arguments': {'time': '15:40', 'from_timezone': 'America/New_York', 'to_timezone': 'Asia/Dubai'}}]\u001b[0m\n",
      "\u001b[32m2024-05-03 02:46:26 INFO semantic_router.utils.logger Document 1 length: 141\u001b[0m\n",
      "\u001b[32m2024-05-03 02:46:26 INFO semantic_router.utils.logger Document 1 trunc length: 141\u001b[0m\n"
     ]
    },
    {
     "name": "stdout",
     "output_type": "stream",
     "text": [
      "18:46\n",
      ">>> FAIL <<<.\n",
      "Failed to process: Tell me the current time in Charlotte, how many hours behind is Charlotte from Dubai, and adjust 15:40 Charlotte time to Dubai time. with error: 'No time zone found with key Charlotte'\n",
      "====================================================================================================\n",
      "====================================================================================================\n",
      "Processing utterance:  What is the current time in Detroit? What is the time difference between Detroit and Beijing? And convert 17:55 Detroit time to Beijing time.\n"
     ]
    },
    {
     "name": "stderr",
     "output_type": "stream",
     "text": [
      "\u001b[32m2024-05-03 02:46:26 INFO semantic_router.utils.logger Extracting function input...\u001b[0m\n",
      "\u001b[32m2024-05-03 02:46:29 INFO semantic_router.utils.logger LLM output: [\n",
      "    {\n",
      "        \"function_name\": \"get_time\",\n",
      "        \"arguments\": {\n",
      "            \"timezone\": \"America/Detroit\"\n",
      "        }\n",
      "    },\n",
      "    {\n",
      "        \"function_name\": \"get_time_difference\",\n",
      "        \"arguments\": {\n",
      "            \"timezone1\": \"America/Detroit\",\n",
      "            \"timezone2\": \"Asia/Shanghai\"\n",
      "        }\n",
      "    },\n",
      "    {\n",
      "        \"function_name\": \"convert_time\",\n",
      "        \"arguments\": {\n",
      "            \"time\": \"17:55\",\n",
      "            \"from_timezone\": \"America/Detroit\",\n",
      "            \"to_timezone\": \"Asia/Shanghai\"\n",
      "        }\n",
      "    }\n",
      "]\u001b[0m\n",
      "\u001b[32m2024-05-03 02:46:29 INFO semantic_router.utils.logger Function inputs: [{'function_name': 'get_time', 'arguments': {'timezone': 'America/Detroit'}}, {'function_name': 'get_time_difference', 'arguments': {'timezone1': 'America/Detroit', 'timezone2': 'Asia/Shanghai'}}, {'function_name': 'convert_time', 'arguments': {'time': '17:55', 'from_timezone': 'America/Detroit', 'to_timezone': 'Asia/Shanghai'}}]\u001b[0m\n",
      "\u001b[32m2024-05-03 02:46:29 INFO semantic_router.utils.logger Document 1 length: 137\u001b[0m\n",
      "\u001b[32m2024-05-03 02:46:29 INFO semantic_router.utils.logger Document 1 trunc length: 137\u001b[0m\n"
     ]
    },
    {
     "name": "stdout",
     "output_type": "stream",
     "text": [
      "18:46\n",
      "The time difference between America/Detroit and Asia/Shanghai is 12.0 hours.\n",
      "05:55\n",
      ">>> PASS <<<.\n",
      "====================================================================================================\n",
      "====================================================================================================\n",
      "Processing utterance:  What's the current time in London? How many hours is London ahead of Los Angeles? And convert 15:30 from London time to Los Angeles time.\n"
     ]
    },
    {
     "name": "stderr",
     "output_type": "stream",
     "text": [
      "\u001b[32m2024-05-03 02:46:29 INFO semantic_router.utils.logger Extracting function input...\u001b[0m\n",
      "\u001b[32m2024-05-03 02:46:32 INFO semantic_router.utils.logger LLM output: [\n",
      "    {\n",
      "        \"function_name\": \"get_time\",\n",
      "        \"arguments\": {\n",
      "            \"timezone\": \"Europe/London\"\n",
      "        }\n",
      "    },\n",
      "    {\n",
      "        \"function_name\": \"get_time_difference\",\n",
      "        \"arguments\": {\n",
      "            \"timezone1\": \"Europe/London\",\n",
      "            \"timezone2\": \"America/Los_Angeles\"\n",
      "        }\n",
      "    },\n",
      "    {\n",
      "        \"function_name\": \"convert_time\",\n",
      "        \"arguments\": {\n",
      "            \"time\": \"15:30\",\n",
      "            \"from_timezone\": \"Europe/London\",\n",
      "            \"to_timezone\": \"America/Los_Angeles\"\n",
      "        }\n",
      "    }\n",
      "]\u001b[0m\n",
      "\u001b[32m2024-05-03 02:46:32 INFO semantic_router.utils.logger Function inputs: [{'function_name': 'get_time', 'arguments': {'timezone': 'Europe/London'}}, {'function_name': 'get_time_difference', 'arguments': {'timezone1': 'Europe/London', 'timezone2': 'America/Los_Angeles'}}, {'function_name': 'convert_time', 'arguments': {'time': '15:30', 'from_timezone': 'Europe/London', 'to_timezone': 'America/Los_Angeles'}}]\u001b[0m\n",
      "\u001b[32m2024-05-03 02:46:32 INFO semantic_router.utils.logger Document 1 length: 116\u001b[0m\n",
      "\u001b[32m2024-05-03 02:46:32 INFO semantic_router.utils.logger Document 1 trunc length: 116\u001b[0m\n"
     ]
    },
    {
     "name": "stdout",
     "output_type": "stream",
     "text": [
      "23:46\n",
      "The time difference between Europe/London and America/Los_Angeles is -8.0 hours.\n",
      "07:30\n",
      ">>> PASS <<<.\n",
      "====================================================================================================\n",
      "====================================================================================================\n",
      "Processing utterance:  Please tell me the current time in Cairo, the time difference with Tokyo, and change 17:00 Cairo time to Tokyo time.\n"
     ]
    },
    {
     "name": "stderr",
     "output_type": "stream",
     "text": [
      "\u001b[32m2024-05-03 02:46:32 INFO semantic_router.utils.logger Extracting function input...\u001b[0m\n",
      "\u001b[32m2024-05-03 02:46:35 INFO semantic_router.utils.logger LLM output: [\n",
      "    {\n",
      "        \"function_name\": \"get_time\",\n",
      "        \"arguments\": {\n",
      "            \"timezone\": \"Africa/Cairo\"\n",
      "        }\n",
      "    },\n",
      "    {\n",
      "        \"function_name\": \"get_time_difference\",\n",
      "        \"arguments\": {\n",
      "            \"timezone1\": \"Africa/Cairo\",\n",
      "            \"timezone2\": \"Asia/Tokyo\"\n",
      "        }\n",
      "    },\n",
      "    {\n",
      "        \"function_name\": \"convert_time\",\n",
      "        \"arguments\": {\n",
      "            \"time\": \"17:00\",\n",
      "            \"from_timezone\": \"Africa/Cairo\",\n",
      "            \"to_timezone\": \"Asia/Tokyo\"\n",
      "        }\n",
      "    }\n",
      "]\u001b[0m\n",
      "\u001b[32m2024-05-03 02:46:35 INFO semantic_router.utils.logger Function inputs: [{'function_name': 'get_time', 'arguments': {'timezone': 'Africa/Cairo'}}, {'function_name': 'get_time_difference', 'arguments': {'timezone1': 'Africa/Cairo', 'timezone2': 'Asia/Tokyo'}}, {'function_name': 'convert_time', 'arguments': {'time': '17:00', 'from_timezone': 'Africa/Cairo', 'to_timezone': 'Asia/Tokyo'}}]\u001b[0m\n",
      "\u001b[32m2024-05-03 02:46:35 INFO semantic_router.utils.logger Document 1 length: 151\u001b[0m\n",
      "\u001b[32m2024-05-03 02:46:35 INFO semantic_router.utils.logger Document 1 trunc length: 151\u001b[0m\n"
     ]
    },
    {
     "name": "stdout",
     "output_type": "stream",
     "text": [
      "01:46\n",
      "The time difference between Africa/Cairo and Asia/Tokyo is 6.0 hours.\n",
      "23:00\n",
      ">>> PASS <<<.\n",
      "====================================================================================================\n",
      "====================================================================================================\n",
      "Processing utterance:  Can you show me the current time in Madrid? What's the hour difference between Madrid and Beijing? Also, adjust 19:00 from Madrid time to Beijing time.\n"
     ]
    },
    {
     "name": "stderr",
     "output_type": "stream",
     "text": [
      "\u001b[32m2024-05-03 02:46:35 INFO semantic_router.utils.logger Extracting function input...\u001b[0m\n",
      "\u001b[32m2024-05-03 02:46:38 INFO semantic_router.utils.logger LLM output: [\n",
      "    {\n",
      "        \"function_name\": \"get_time\",\n",
      "        \"arguments\": {\n",
      "            \"timezone\": \"Europe/Madrid\"\n",
      "        }\n",
      "    },\n",
      "    {\n",
      "        \"function_name\": \"get_time_difference\",\n",
      "        \"arguments\": {\n",
      "            \"timezone1\": \"Europe/Madrid\",\n",
      "            \"timezone2\": \"Asia/Shanghai\"\n",
      "        }\n",
      "    },\n",
      "    {\n",
      "        \"function_name\": \"convert_time\",\n",
      "        \"arguments\": {\n",
      "            \"time\": \"19:00\",\n",
      "            \"from_timezone\": \"Europe/Madrid\",\n",
      "            \"to_timezone\": \"Asia/Shanghai\"\n",
      "        }\n",
      "    }\n",
      "]\u001b[0m\n",
      "\u001b[32m2024-05-03 02:46:38 INFO semantic_router.utils.logger Function inputs: [{'function_name': 'get_time', 'arguments': {'timezone': 'Europe/Madrid'}}, {'function_name': 'get_time_difference', 'arguments': {'timezone1': 'Europe/Madrid', 'timezone2': 'Asia/Shanghai'}}, {'function_name': 'convert_time', 'arguments': {'time': '19:00', 'from_timezone': 'Europe/Madrid', 'to_timezone': 'Asia/Shanghai'}}]\u001b[0m\n",
      "\u001b[32m2024-05-03 02:46:38 INFO semantic_router.utils.logger Document 1 length: 114\u001b[0m\n",
      "\u001b[32m2024-05-03 02:46:38 INFO semantic_router.utils.logger Document 1 trunc length: 114\u001b[0m\n"
     ]
    },
    {
     "name": "stdout",
     "output_type": "stream",
     "text": [
      "00:46\n",
      "The time difference between Europe/Madrid and Asia/Shanghai is 6.0 hours.\n",
      "01:00\n",
      ">>> PASS <<<.\n",
      "====================================================================================================\n",
      "====================================================================================================\n",
      "Processing utterance:  I need the current time in Rome, the time gap between Rome and Sydney, and convert 21:00 Rome time to Sydney time.\n"
     ]
    },
    {
     "name": "stderr",
     "output_type": "stream",
     "text": [
      "\u001b[32m2024-05-03 02:46:38 INFO semantic_router.utils.logger Extracting function input...\u001b[0m\n",
      "\u001b[32m2024-05-03 02:46:41 INFO semantic_router.utils.logger LLM output: [\n",
      "    {\n",
      "        \"function_name\": \"get_time\",\n",
      "        \"arguments\": {\n",
      "            \"timezone\": \"Europe/Rome\"\n",
      "        }\n",
      "    },\n",
      "    {\n",
      "        \"function_name\": \"get_time_difference\",\n",
      "        \"arguments\": {\n",
      "            \"timezone1\": \"Europe/Rome\",\n",
      "            \"timezone2\": \"Australia/Sydney\"\n",
      "        }\n",
      "    },\n",
      "    {\n",
      "        \"function_name\": \"convert_time\",\n",
      "        \"arguments\": {\n",
      "            \"time\": \"21:00\",\n",
      "            \"from_timezone\": \"Europe/Rome\",\n",
      "            \"to_timezone\": \"Australia/Sydney\"\n",
      "        }\n",
      "    }\n",
      "]\u001b[0m\n",
      "\u001b[32m2024-05-03 02:46:41 INFO semantic_router.utils.logger Function inputs: [{'function_name': 'get_time', 'arguments': {'timezone': 'Europe/Rome'}}, {'function_name': 'get_time_difference', 'arguments': {'timezone1': 'Europe/Rome', 'timezone2': 'Australia/Sydney'}}, {'function_name': 'convert_time', 'arguments': {'time': '21:00', 'from_timezone': 'Europe/Rome', 'to_timezone': 'Australia/Sydney'}}]\u001b[0m\n",
      "\u001b[32m2024-05-03 02:46:41 INFO semantic_router.utils.logger Document 1 length: 136\u001b[0m\n",
      "\u001b[32m2024-05-03 02:46:41 INFO semantic_router.utils.logger Document 1 trunc length: 136\u001b[0m\n"
     ]
    },
    {
     "name": "stdout",
     "output_type": "stream",
     "text": [
      "00:46\n",
      "The time difference between Europe/Rome and Australia/Sydney is 8.0 hours.\n",
      "05:00\n",
      ">>> PASS <<<.\n",
      "====================================================================================================\n",
      "====================================================================================================\n",
      "Processing utterance:  Display the current time in Paris, calculate the time difference between Paris and Chicago, and switch 23:00 Paris time to Chicago time.\n"
     ]
    },
    {
     "name": "stderr",
     "output_type": "stream",
     "text": [
      "\u001b[32m2024-05-03 02:46:41 INFO semantic_router.utils.logger Extracting function input...\u001b[0m\n",
      "\u001b[32m2024-05-03 02:46:44 INFO semantic_router.utils.logger LLM output: [\n",
      "    {\n",
      "        \"function_name\": \"get_time\",\n",
      "        \"arguments\": {\n",
      "            \"timezone\": \"Europe/Paris\"\n",
      "        }\n",
      "    },\n",
      "    {\n",
      "        \"function_name\": \"get_time_difference\",\n",
      "        \"arguments\": {\n",
      "            \"timezone1\": \"Europe/Paris\",\n",
      "            \"timezone2\": \"America/Chicago\"\n",
      "        }\n",
      "    },\n",
      "    {\n",
      "        \"function_name\": \"convert_time\",\n",
      "        \"arguments\": {\n",
      "            \"time\": \"23:00\",\n",
      "            \"from_timezone\": \"Europe/Paris\",\n",
      "            \"to_timezone\": \"America/Chicago\"\n",
      "        }\n",
      "    }\n",
      "]\u001b[0m\n",
      "\u001b[32m2024-05-03 02:46:44 INFO semantic_router.utils.logger Function inputs: [{'function_name': 'get_time', 'arguments': {'timezone': 'Europe/Paris'}}, {'function_name': 'get_time_difference', 'arguments': {'timezone1': 'Europe/Paris', 'timezone2': 'America/Chicago'}}, {'function_name': 'convert_time', 'arguments': {'time': '23:00', 'from_timezone': 'Europe/Paris', 'to_timezone': 'America/Chicago'}}]\u001b[0m\n",
      "\u001b[32m2024-05-03 02:46:44 INFO semantic_router.utils.logger Document 1 length: 123\u001b[0m\n",
      "\u001b[32m2024-05-03 02:46:44 INFO semantic_router.utils.logger Document 1 trunc length: 123\u001b[0m\n"
     ]
    },
    {
     "name": "stdout",
     "output_type": "stream",
     "text": [
      "00:46\n",
      "The time difference between Europe/Paris and America/Chicago is -7.0 hours.\n",
      "16:00\n",
      ">>> PASS <<<.\n",
      "====================================================================================================\n",
      "====================================================================================================\n",
      "Processing utterance:  Tell me the current time in Berlin, how many hours behind is Berlin from Dubai, and change 08:30 Berlin time to Dubai time.\n"
     ]
    },
    {
     "name": "stderr",
     "output_type": "stream",
     "text": [
      "\u001b[32m2024-05-03 02:46:44 INFO semantic_router.utils.logger Extracting function input...\u001b[0m\n",
      "\u001b[32m2024-05-03 02:46:47 INFO semantic_router.utils.logger LLM output: [\n",
      "    {\n",
      "        \"function_name\": \"get_time\",\n",
      "        \"arguments\": {\n",
      "            \"timezone\": \"Europe/Berlin\"\n",
      "        }\n",
      "    },\n",
      "    {\n",
      "        \"function_name\": \"get_time_difference\",\n",
      "        \"arguments\": {\n",
      "            \"timezone1\": \"Europe/Berlin\",\n",
      "            \"timezone2\": \"Asia/Dubai\"\n",
      "        }\n",
      "    },\n",
      "    {\n",
      "        \"function_name\": \"convert_time\",\n",
      "        \"arguments\": {\n",
      "            \"time\": \"08:30\",\n",
      "            \"from_timezone\": \"Europe/Berlin\",\n",
      "            \"to_timezone\": \"Asia/Dubai\"\n",
      "        }\n",
      "    }\n",
      "]\u001b[0m\n",
      "\u001b[32m2024-05-03 02:46:47 INFO semantic_router.utils.logger Function inputs: [{'function_name': 'get_time', 'arguments': {'timezone': 'Europe/Berlin'}}, {'function_name': 'get_time_difference', 'arguments': {'timezone1': 'Europe/Berlin', 'timezone2': 'Asia/Dubai'}}, {'function_name': 'convert_time', 'arguments': {'time': '08:30', 'from_timezone': 'Europe/Berlin', 'to_timezone': 'Asia/Dubai'}}]\u001b[0m\n",
      "\u001b[32m2024-05-03 02:46:47 INFO semantic_router.utils.logger Document 1 length: 159\u001b[0m\n",
      "\u001b[32m2024-05-03 02:46:47 INFO semantic_router.utils.logger Document 1 trunc length: 159\u001b[0m\n"
     ]
    },
    {
     "name": "stdout",
     "output_type": "stream",
     "text": [
      "00:46\n",
      "The time difference between Europe/Berlin and Asia/Dubai is 2.0 hours.\n",
      "10:30\n",
      ">>> PASS <<<.\n",
      "====================================================================================================\n",
      "====================================================================================================\n",
      "Processing utterance:  What is the current time in Amsterdam? What is the time difference between Amsterdam and San Francisco? And convert 10:15 Amsterdam time to San Francisco time.\n"
     ]
    },
    {
     "name": "stderr",
     "output_type": "stream",
     "text": [
      "\u001b[32m2024-05-03 02:46:48 INFO semantic_router.utils.logger Extracting function input...\u001b[0m\n",
      "\u001b[32m2024-05-03 02:46:50 INFO semantic_router.utils.logger LLM output: [\n",
      "    {\n",
      "        \"function_name\": \"get_time\",\n",
      "        \"arguments\": {\n",
      "            \"timezone\": \"Europe/Amsterdam\"\n",
      "        }\n",
      "    },\n",
      "    {\n",
      "        \"function_name\": \"get_time_difference\",\n",
      "        \"arguments\": {\n",
      "            \"timezone1\": \"Europe/Amsterdam\",\n",
      "            \"timezone2\": \"America/Los_Angeles\"\n",
      "        }\n",
      "    },\n",
      "    {\n",
      "        \"function_name\": \"convert_time\",\n",
      "        \"arguments\": {\n",
      "            \"time\": \"10:15\",\n",
      "            \"from_timezone\": \"Europe/Amsterdam\",\n",
      "            \"to_timezone\": \"America/Los_Angeles\"\n",
      "        }\n",
      "    }\n",
      "]\u001b[0m\n",
      "\u001b[32m2024-05-03 02:46:50 INFO semantic_router.utils.logger Function inputs: [{'function_name': 'get_time', 'arguments': {'timezone': 'Europe/Amsterdam'}}, {'function_name': 'get_time_difference', 'arguments': {'timezone1': 'Europe/Amsterdam', 'timezone2': 'America/Los_Angeles'}}, {'function_name': 'convert_time', 'arguments': {'time': '10:15', 'from_timezone': 'Europe/Amsterdam', 'to_timezone': 'America/Los_Angeles'}}]\u001b[0m\n",
      "\u001b[32m2024-05-03 02:46:50 INFO semantic_router.utils.logger Document 1 length: 112\u001b[0m\n",
      "\u001b[32m2024-05-03 02:46:50 INFO semantic_router.utils.logger Document 1 trunc length: 112\u001b[0m\n"
     ]
    },
    {
     "name": "stdout",
     "output_type": "stream",
     "text": [
      "00:46\n",
      "The time difference between Europe/Amsterdam and America/Los_Angeles is -9.0 hours.\n",
      "01:15\n",
      ">>> PASS <<<.\n",
      "====================================================================================================\n",
      "====================================================================================================\n",
      "Processing utterance:  Show me the current time in Vienna, the hours difference with Seoul, and adjust 12:00 Vienna time to Seoul time.\n"
     ]
    },
    {
     "name": "stderr",
     "output_type": "stream",
     "text": [
      "\u001b[32m2024-05-03 02:46:50 INFO semantic_router.utils.logger Extracting function input...\u001b[0m\n",
      "\u001b[32m2024-05-03 02:46:53 INFO semantic_router.utils.logger LLM output: [\n",
      "    {\n",
      "        \"function_name\": \"get_time\",\n",
      "        \"arguments\": {\n",
      "            \"timezone\": \"Europe/Vienna\"\n",
      "        }\n",
      "    },\n",
      "    {\n",
      "        \"function_name\": \"get_time_difference\",\n",
      "        \"arguments\": {\n",
      "            \"timezone1\": \"Europe/Vienna\",\n",
      "            \"timezone2\": \"Asia/Seoul\"\n",
      "        }\n",
      "    },\n",
      "    {\n",
      "        \"function_name\": \"convert_time\",\n",
      "        \"arguments\": {\n",
      "            \"time\": \"12:00\",\n",
      "            \"from_timezone\": \"Europe/Vienna\",\n",
      "            \"to_timezone\": \"Asia/Seoul\"\n",
      "        }\n",
      "    }\n",
      "]\u001b[0m\n",
      "\u001b[32m2024-05-03 02:46:53 INFO semantic_router.utils.logger Function inputs: [{'function_name': 'get_time', 'arguments': {'timezone': 'Europe/Vienna'}}, {'function_name': 'get_time_difference', 'arguments': {'timezone1': 'Europe/Vienna', 'timezone2': 'Asia/Seoul'}}, {'function_name': 'convert_time', 'arguments': {'time': '12:00', 'from_timezone': 'Europe/Vienna', 'to_timezone': 'Asia/Seoul'}}]\u001b[0m\n",
      "\u001b[32m2024-05-03 02:46:53 INFO semantic_router.utils.logger Document 1 length: 129\u001b[0m\n",
      "\u001b[32m2024-05-03 02:46:53 INFO semantic_router.utils.logger Document 1 trunc length: 129\u001b[0m\n"
     ]
    },
    {
     "name": "stdout",
     "output_type": "stream",
     "text": [
      "00:46\n",
      "The time difference between Europe/Vienna and Asia/Seoul is 7.0 hours.\n",
      "19:00\n",
      ">>> PASS <<<.\n",
      "====================================================================================================\n",
      "====================================================================================================\n",
      "Processing utterance:  Can you provide the current time in Zurich, the time gap between Zurich and Mumbai, and convert 14:00 Zurich time to Mumbai time?\n"
     ]
    },
    {
     "name": "stderr",
     "output_type": "stream",
     "text": [
      "\u001b[32m2024-05-03 02:46:53 INFO semantic_router.utils.logger Extracting function input...\u001b[0m\n",
      "\u001b[32m2024-05-03 02:46:56 INFO semantic_router.utils.logger LLM output: [\n",
      "    {\n",
      "        \"function_name\": \"get_time\",\n",
      "        \"arguments\": {\n",
      "            \"timezone\": \"Europe/Zurich\"\n",
      "        }\n",
      "    },\n",
      "    {\n",
      "        \"function_name\": \"get_time_difference\",\n",
      "        \"arguments\": {\n",
      "            \"timezone1\": \"Europe/Zurich\",\n",
      "            \"timezone2\": \"Asia/Kolkata\"\n",
      "        }\n",
      "    },\n",
      "    {\n",
      "        \"function_name\": \"convert_time\",\n",
      "        \"arguments\": {\n",
      "            \"time\": \"14:00\",\n",
      "            \"from_timezone\": \"Europe/Zurich\",\n",
      "            \"to_timezone\": \"Asia/Kolkata\"\n",
      "        }\n",
      "    }\n",
      "]\u001b[0m\n",
      "\u001b[32m2024-05-03 02:46:56 INFO semantic_router.utils.logger Function inputs: [{'function_name': 'get_time', 'arguments': {'timezone': 'Europe/Zurich'}}, {'function_name': 'get_time_difference', 'arguments': {'timezone1': 'Europe/Zurich', 'timezone2': 'Asia/Kolkata'}}, {'function_name': 'convert_time', 'arguments': {'time': '14:00', 'from_timezone': 'Europe/Zurich', 'to_timezone': 'Asia/Kolkata'}}]\u001b[0m\n",
      "\u001b[32m2024-05-03 02:46:56 INFO semantic_router.utils.logger Document 1 length: 150\u001b[0m\n",
      "\u001b[32m2024-05-03 02:46:56 INFO semantic_router.utils.logger Document 1 trunc length: 150\u001b[0m\n"
     ]
    },
    {
     "name": "stdout",
     "output_type": "stream",
     "text": [
      "00:46\n",
      "The time difference between Europe/Zurich and Asia/Kolkata is 3.5 hours.\n",
      "17:30\n",
      ">>> PASS <<<.\n",
      "====================================================================================================\n",
      "====================================================================================================\n",
      "Processing utterance:  Find out the current time in Stockholm, how many hours ahead is Stockholm from Rio de Janeiro, and switch 16:00 Stockholm time to Rio de Janeiro time.\n"
     ]
    },
    {
     "name": "stderr",
     "output_type": "stream",
     "text": [
      "\u001b[32m2024-05-03 02:46:56 INFO semantic_router.utils.logger Extracting function input...\u001b[0m\n",
      "\u001b[32m2024-05-03 02:46:59 INFO semantic_router.utils.logger LLM output: [\n",
      "    {\n",
      "        \"function_name\": \"get_time\",\n",
      "        \"arguments\": {\n",
      "            \"timezone\": \"Europe/Stockholm\"\n",
      "        }\n",
      "    },\n",
      "    {\n",
      "        \"function_name\": \"get_time_difference\",\n",
      "        \"arguments\": {\n",
      "            \"timezone1\": \"Europe/Stockholm\",\n",
      "            \"timezone2\": \"America/Sao_Paulo\"\n",
      "        }\n",
      "    },\n",
      "    {\n",
      "        \"function_name\": \"convert_time\",\n",
      "        \"arguments\": {\n",
      "            \"time\": \"16:00\",\n",
      "            \"from_timezone\": \"Europe/Stockholm\",\n",
      "            \"to_timezone\": \"America/Sao_Paulo\"\n",
      "        }\n",
      "    }\n",
      "]\u001b[0m\n",
      "\u001b[32m2024-05-03 02:46:59 INFO semantic_router.utils.logger Function inputs: [{'function_name': 'get_time', 'arguments': {'timezone': 'Europe/Stockholm'}}, {'function_name': 'get_time_difference', 'arguments': {'timezone1': 'Europe/Stockholm', 'timezone2': 'America/Sao_Paulo'}}, {'function_name': 'convert_time', 'arguments': {'time': '16:00', 'from_timezone': 'Europe/Stockholm', 'to_timezone': 'America/Sao_Paulo'}}]\u001b[0m\n",
      "\u001b[32m2024-05-03 02:46:59 INFO semantic_router.utils.logger Document 1 length: 120\u001b[0m\n",
      "\u001b[32m2024-05-03 02:46:59 INFO semantic_router.utils.logger Document 1 trunc length: 120\u001b[0m\n"
     ]
    },
    {
     "name": "stdout",
     "output_type": "stream",
     "text": [
      "00:46\n",
      "The time difference between Europe/Stockholm and America/Sao_Paulo is -5.0 hours.\n",
      "11:00\n",
      ">>> PASS <<<.\n",
      "====================================================================================================\n",
      "====================================================================================================\n",
      "Processing utterance:  What's the current time in Prague? How far behind is Prague from Singapore? Convert 18:00 Prague time to Singapore time.\n"
     ]
    },
    {
     "name": "stderr",
     "output_type": "stream",
     "text": [
      "\u001b[32m2024-05-03 02:46:59 INFO semantic_router.utils.logger Extracting function input...\u001b[0m\n",
      "\u001b[32m2024-05-03 02:47:02 INFO semantic_router.utils.logger LLM output: [\n",
      "    {\n",
      "        \"function_name\": \"get_time\",\n",
      "        \"arguments\": {\n",
      "            \"timezone\": \"Europe/Prague\"\n",
      "        }\n",
      "    },\n",
      "    {\n",
      "        \"function_name\": \"get_time_difference\",\n",
      "        \"arguments\": {\n",
      "            \"timezone1\": \"Europe/Prague\",\n",
      "            \"timezone2\": \"Asia/Singapore\"\n",
      "        }\n",
      "    },\n",
      "    {\n",
      "        \"function_name\": \"convert_time\",\n",
      "        \"arguments\": {\n",
      "            \"time\": \"18:00\",\n",
      "            \"from_timezone\": \"Europe/Prague\",\n",
      "            \"to_timezone\": \"Asia/Singapore\"\n",
      "        }\n",
      "    }\n",
      "]\u001b[0m\n",
      "\u001b[32m2024-05-03 02:47:02 INFO semantic_router.utils.logger Function inputs: [{'function_name': 'get_time', 'arguments': {'timezone': 'Europe/Prague'}}, {'function_name': 'get_time_difference', 'arguments': {'timezone1': 'Europe/Prague', 'timezone2': 'Asia/Singapore'}}, {'function_name': 'convert_time', 'arguments': {'time': '18:00', 'from_timezone': 'Europe/Prague', 'to_timezone': 'Asia/Singapore'}}]\u001b[0m\n",
      "\u001b[32m2024-05-03 02:47:02 INFO semantic_router.utils.logger Document 1 length: 124\u001b[0m\n",
      "\u001b[32m2024-05-03 02:47:02 INFO semantic_router.utils.logger Document 1 trunc length: 124\u001b[0m\n"
     ]
    },
    {
     "name": "stdout",
     "output_type": "stream",
     "text": [
      "00:47\n",
      "The time difference between Europe/Prague and Asia/Singapore is 6.0 hours.\n",
      "00:00\n",
      ">>> PASS <<<.\n",
      "====================================================================================================\n",
      "====================================================================================================\n",
      "Processing utterance:  Please display the current time in Lisbon, the hour difference with New York, and adjust 20:00 Lisbon time to New York time.\n"
     ]
    },
    {
     "name": "stderr",
     "output_type": "stream",
     "text": [
      "\u001b[32m2024-05-03 02:47:02 INFO semantic_router.utils.logger Extracting function input...\u001b[0m\n",
      "\u001b[32m2024-05-03 02:47:05 INFO semantic_router.utils.logger LLM output: [\n",
      "    {\n",
      "        \"function_name\": \"get_time\",\n",
      "        \"arguments\": {\n",
      "            \"timezone\": \"Europe/Lisbon\"\n",
      "        }\n",
      "    },\n",
      "    {\n",
      "        \"function_name\": \"get_time_difference\",\n",
      "        \"arguments\": {\n",
      "            \"timezone1\": \"Europe/Lisbon\",\n",
      "            \"timezone2\": \"America/New_York\"\n",
      "        }\n",
      "    },\n",
      "    {\n",
      "        \"function_name\": \"convert_time\",\n",
      "        \"arguments\": {\n",
      "            \"time\": \"20:00\",\n",
      "            \"from_timezone\": \"Europe/Lisbon\",\n",
      "            \"to_timezone\": \"America/New_York\"\n",
      "        }\n",
      "    }\n",
      "]\u001b[0m\n",
      "\u001b[32m2024-05-03 02:47:05 INFO semantic_router.utils.logger Function inputs: [{'function_name': 'get_time', 'arguments': {'timezone': 'Europe/Lisbon'}}, {'function_name': 'get_time_difference', 'arguments': {'timezone1': 'Europe/Lisbon', 'timezone2': 'America/New_York'}}, {'function_name': 'convert_time', 'arguments': {'time': '20:00', 'from_timezone': 'Europe/Lisbon', 'to_timezone': 'America/New_York'}}]\u001b[0m\n",
      "\u001b[32m2024-05-03 02:47:05 INFO semantic_router.utils.logger Document 1 length: 143\u001b[0m\n",
      "\u001b[32m2024-05-03 02:47:05 INFO semantic_router.utils.logger Document 1 trunc length: 143\u001b[0m\n"
     ]
    },
    {
     "name": "stdout",
     "output_type": "stream",
     "text": [
      "23:47\n",
      "The time difference between Europe/Lisbon and America/New_York is -5.0 hours.\n",
      "15:00\n",
      ">>> PASS <<<.\n",
      "====================================================================================================\n",
      "====================================================================================================\n",
      "Processing utterance:  Can you tell me the current time in Budapest, the time difference between Budapest and Toronto, and change 07:45 Budapest time to Toronto time?\n"
     ]
    },
    {
     "name": "stderr",
     "output_type": "stream",
     "text": [
      "\u001b[32m2024-05-03 02:47:05 INFO semantic_router.utils.logger Extracting function input...\u001b[0m\n",
      "\u001b[32m2024-05-03 02:47:08 INFO semantic_router.utils.logger LLM output: [\n",
      "    {\n",
      "        \"function_name\": \"get_time\",\n",
      "        \"arguments\": {\n",
      "            \"timezone\": \"Europe/Budapest\"\n",
      "        }\n",
      "    },\n",
      "    {\n",
      "        \"function_name\": \"get_time_difference\",\n",
      "        \"arguments\": {\n",
      "            \"timezone1\": \"Europe/Budapest\",\n",
      "            \"timezone2\": \"America/Toronto\"\n",
      "        }\n",
      "    },\n",
      "    {\n",
      "        \"function_name\": \"convert_time\",\n",
      "        \"arguments\": {\n",
      "            \"time\": \"07:45\",\n",
      "            \"from_timezone\": \"Europe/Budapest\",\n",
      "            \"to_timezone\": \"America/Toronto\"\n",
      "        }\n",
      "    }\n",
      "]\u001b[0m\n",
      "\u001b[32m2024-05-03 02:47:08 INFO semantic_router.utils.logger Function inputs: [{'function_name': 'get_time', 'arguments': {'timezone': 'Europe/Budapest'}}, {'function_name': 'get_time_difference', 'arguments': {'timezone1': 'Europe/Budapest', 'timezone2': 'America/Toronto'}}, {'function_name': 'convert_time', 'arguments': {'time': '07:45', 'from_timezone': 'Europe/Budapest', 'to_timezone': 'America/Toronto'}}]\u001b[0m\n",
      "\u001b[32m2024-05-03 02:47:08 INFO semantic_router.utils.logger Document 1 length: 138\u001b[0m\n",
      "\u001b[32m2024-05-03 02:47:08 INFO semantic_router.utils.logger Document 1 trunc length: 138\u001b[0m\n"
     ]
    },
    {
     "name": "stdout",
     "output_type": "stream",
     "text": [
      "00:47\n",
      "The time difference between Europe/Budapest and America/Toronto is -6.0 hours.\n",
      "01:45\n",
      ">>> PASS <<<.\n",
      "====================================================================================================\n",
      "====================================================================================================\n",
      "Processing utterance:  I'd like to know the current time in Helsinki, how many hours it is ahead of Vancouver, and convert 09:30 Helsinki time to Vancouver time.\n"
     ]
    },
    {
     "name": "stderr",
     "output_type": "stream",
     "text": [
      "\u001b[32m2024-05-03 02:47:08 INFO semantic_router.utils.logger Extracting function input...\u001b[0m\n",
      "\u001b[32m2024-05-03 02:47:11 INFO semantic_router.utils.logger LLM output: [\n",
      "    {\n",
      "        \"function_name\": \"get_time\",\n",
      "        \"arguments\": {\n",
      "            \"timezone\": \"Europe/Helsinki\"\n",
      "        }\n",
      "    },\n",
      "    {\n",
      "        \"function_name\": \"get_time_difference\",\n",
      "        \"arguments\": {\n",
      "            \"timezone1\": \"Europe/Helsinki\",\n",
      "            \"timezone2\": \"America/Vancouver\"\n",
      "        }\n",
      "    },\n",
      "    {\n",
      "        \"function_name\": \"convert_time\",\n",
      "        \"arguments\": {\n",
      "            \"time\": \"09:30\",\n",
      "            \"from_timezone\": \"Europe/Helsinki\",\n",
      "            \"to_timezone\": \"America/Vancouver\"\n",
      "        }\n",
      "    }\n",
      "]\u001b[0m\n",
      "\u001b[32m2024-05-03 02:47:11 INFO semantic_router.utils.logger Function inputs: [{'function_name': 'get_time', 'arguments': {'timezone': 'Europe/Helsinki'}}, {'function_name': 'get_time_difference', 'arguments': {'timezone1': 'Europe/Helsinki', 'timezone2': 'America/Vancouver'}}, {'function_name': 'convert_time', 'arguments': {'time': '09:30', 'from_timezone': 'Europe/Helsinki', 'to_timezone': 'America/Vancouver'}}]\u001b[0m\n",
      "\u001b[32m2024-05-03 02:47:11 INFO semantic_router.utils.logger Document 1 length: 119\u001b[0m\n",
      "\u001b[32m2024-05-03 02:47:11 INFO semantic_router.utils.logger Document 1 trunc length: 119\u001b[0m\n"
     ]
    },
    {
     "name": "stdout",
     "output_type": "stream",
     "text": [
      "01:47\n",
      "The time difference between Europe/Helsinki and America/Vancouver is -10.0 hours.\n",
      "23:30\n",
      ">>> PASS <<<.\n",
      "====================================================================================================\n",
      "====================================================================================================\n",
      "Processing utterance:  Show the current time in Oslo, calculate the time gap with Mexico City, and switch 11:15 Oslo time to Mexico City time.\n"
     ]
    },
    {
     "name": "stderr",
     "output_type": "stream",
     "text": [
      "\u001b[32m2024-05-03 02:47:11 INFO semantic_router.utils.logger Extracting function input...\u001b[0m\n",
      "\u001b[32m2024-05-03 02:47:14 INFO semantic_router.utils.logger LLM output: [\n",
      "    {\n",
      "        \"function_name\": \"get_time\",\n",
      "        \"arguments\": {\n",
      "            \"timezone\": \"Europe/Oslo\"\n",
      "        }\n",
      "    },\n",
      "    {\n",
      "        \"function_name\": \"get_time_difference\",\n",
      "        \"arguments\": {\n",
      "            \"timezone1\": \"Europe/Oslo\",\n",
      "            \"timezone2\": \"America/Mexico_City\"\n",
      "        }\n",
      "    },\n",
      "    {\n",
      "        \"function_name\": \"convert_time\",\n",
      "        \"arguments\": {\n",
      "            \"time\": \"11:15\",\n",
      "            \"from_timezone\": \"Europe/Oslo\",\n",
      "            \"to_timezone\": \"America/Mexico_City\"\n",
      "        }\n",
      "    }\n",
      "]\u001b[0m\n",
      "\u001b[32m2024-05-03 02:47:14 INFO semantic_router.utils.logger Function inputs: [{'function_name': 'get_time', 'arguments': {'timezone': 'Europe/Oslo'}}, {'function_name': 'get_time_difference', 'arguments': {'timezone1': 'Europe/Oslo', 'timezone2': 'America/Mexico_City'}}, {'function_name': 'convert_time', 'arguments': {'time': '11:15', 'from_timezone': 'Europe/Oslo', 'to_timezone': 'America/Mexico_City'}}]\u001b[0m\n",
      "\u001b[32m2024-05-03 02:47:14 INFO semantic_router.utils.logger Document 1 length: 137\u001b[0m\n",
      "\u001b[32m2024-05-03 02:47:14 INFO semantic_router.utils.logger Document 1 trunc length: 137\u001b[0m\n"
     ]
    },
    {
     "name": "stdout",
     "output_type": "stream",
     "text": [
      "00:47\n",
      "The time difference between Europe/Oslo and America/Mexico_City is -8.0 hours.\n",
      "03:15\n",
      ">>> PASS <<<.\n",
      "====================================================================================================\n",
      "====================================================================================================\n",
      "Processing utterance:  Could you provide the current time in Athens and tell me how many hours it is behind Tokyo? Also, adjust 13:00 Athens time to Tokyo time.\n"
     ]
    },
    {
     "name": "stderr",
     "output_type": "stream",
     "text": [
      "\u001b[32m2024-05-03 02:47:15 INFO semantic_router.utils.logger Extracting function input...\u001b[0m\n",
      "\u001b[32m2024-05-03 02:47:19 INFO semantic_router.utils.logger LLM output: [\n",
      "    {\n",
      "        \"function_name\": \"get_time\",\n",
      "        \"arguments\": {\n",
      "            \"timezone\": \"Europe/Athens\"\n",
      "        }\n",
      "    },\n",
      "    {\n",
      "        \"function_name\": \"get_time_difference\",\n",
      "        \"arguments\": {\n",
      "            \"timezone1\": \"Europe/Athens\",\n",
      "            \"timezone2\": \"Asia/Tokyo\"\n",
      "        }\n",
      "    },\n",
      "    {\n",
      "        \"function_name\": \"convert_time\",\n",
      "        \"arguments\": {\n",
      "            \"time\": \"13:00\",\n",
      "            \"from_timezone\": \"Europe/Athens\",\n",
      "            \"to_timezone\": \"Asia/Tokyo\"\n",
      "        }\n",
      "    }\n",
      "]\u001b[0m\n",
      "\u001b[32m2024-05-03 02:47:19 INFO semantic_router.utils.logger Function inputs: [{'function_name': 'get_time', 'arguments': {'timezone': 'Europe/Athens'}}, {'function_name': 'get_time_difference', 'arguments': {'timezone1': 'Europe/Athens', 'timezone2': 'Asia/Tokyo'}}, {'function_name': 'convert_time', 'arguments': {'time': '13:00', 'from_timezone': 'Europe/Athens', 'to_timezone': 'Asia/Tokyo'}}]\u001b[0m\n",
      "\u001b[32m2024-05-03 02:47:19 INFO semantic_router.utils.logger Document 1 length: 131\u001b[0m\n",
      "\u001b[32m2024-05-03 02:47:19 INFO semantic_router.utils.logger Document 1 trunc length: 131\u001b[0m\n"
     ]
    },
    {
     "name": "stdout",
     "output_type": "stream",
     "text": [
      "01:47\n",
      "The time difference between Europe/Athens and Asia/Tokyo is 6.0 hours.\n",
      "19:00\n",
      ">>> PASS <<<.\n",
      "====================================================================================================\n",
      "====================================================================================================\n",
      "Processing utterance:  What is the current time in Warsaw and how many hours ahead is it from Montreal? Please convert 15:00 Warsaw time to Montreal time.\n"
     ]
    },
    {
     "name": "stderr",
     "output_type": "stream",
     "text": [
      "\u001b[32m2024-05-03 02:47:20 INFO semantic_router.utils.logger Extracting function input...\u001b[0m\n",
      "\u001b[32m2024-05-03 02:47:22 INFO semantic_router.utils.logger LLM output: [\n",
      "    {\n",
      "        \"function_name\": \"get_time\",\n",
      "        \"arguments\": {\n",
      "            \"timezone\": \"Europe/Warsaw\"\n",
      "        }\n",
      "    },\n",
      "    {\n",
      "        \"function_name\": \"get_time_difference\",\n",
      "        \"arguments\": {\n",
      "            \"timezone1\": \"Europe/Warsaw\",\n",
      "            \"timezone2\": \"America/Montreal\"\n",
      "        }\n",
      "    },\n",
      "    {\n",
      "        \"function_name\": \"convert_time\",\n",
      "        \"arguments\": {\n",
      "            \"time\": \"15:00\",\n",
      "            \"from_timezone\": \"Europe/Warsaw\",\n",
      "            \"to_timezone\": \"America/Montreal\"\n",
      "        }\n",
      "    }\n",
      "]\u001b[0m\n",
      "\u001b[32m2024-05-03 02:47:22 INFO semantic_router.utils.logger Function inputs: [{'function_name': 'get_time', 'arguments': {'timezone': 'Europe/Warsaw'}}, {'function_name': 'get_time_difference', 'arguments': {'timezone1': 'Europe/Warsaw', 'timezone2': 'America/Montreal'}}, {'function_name': 'convert_time', 'arguments': {'time': '15:00', 'from_timezone': 'Europe/Warsaw', 'to_timezone': 'America/Montreal'}}]\u001b[0m\n",
      "\u001b[32m2024-05-03 02:47:22 INFO semantic_router.utils.logger Document 1 length: 125\u001b[0m\n",
      "\u001b[32m2024-05-03 02:47:22 INFO semantic_router.utils.logger Document 1 trunc length: 125\u001b[0m\n"
     ]
    },
    {
     "name": "stdout",
     "output_type": "stream",
     "text": [
      "00:47\n",
      "The time difference between Europe/Warsaw and America/Montreal is -6.0 hours.\n",
      "09:00\n",
      ">>> PASS <<<.\n",
      "====================================================================================================\n",
      "====================================================================================================\n",
      "Processing utterance:  Can you display the current time in Dublin and the hours difference with Istanbul? Change 17:15 Dublin time to Istanbul time.\n"
     ]
    },
    {
     "name": "stderr",
     "output_type": "stream",
     "text": [
      "\u001b[32m2024-05-03 02:47:23 INFO semantic_router.utils.logger Extracting function input...\u001b[0m\n",
      "\u001b[32m2024-05-03 02:47:25 INFO semantic_router.utils.logger LLM output: [\n",
      "    {\n",
      "        \"function_name\": \"get_time\",\n",
      "        \"arguments\": {\n",
      "            \"timezone\": \"Europe/Dublin\"\n",
      "        }\n",
      "    },\n",
      "    {\n",
      "        \"function_name\": \"get_time_difference\",\n",
      "        \"arguments\": {\n",
      "            \"timezone1\": \"Europe/Dublin\",\n",
      "            \"timezone2\": \"Europe/Istanbul\"\n",
      "        }\n",
      "    },\n",
      "    {\n",
      "        \"function_name\": \"convert_time\",\n",
      "        \"arguments\": {\n",
      "            \"time\": \"17:15\",\n",
      "            \"from_timezone\": \"Europe/Dublin\",\n",
      "            \"to_timezone\": \"Europe/Istanbul\"\n",
      "        }\n",
      "    }\n",
      "]\u001b[0m\n",
      "\u001b[32m2024-05-03 02:47:25 INFO semantic_router.utils.logger Function inputs: [{'function_name': 'get_time', 'arguments': {'timezone': 'Europe/Dublin'}}, {'function_name': 'get_time_difference', 'arguments': {'timezone1': 'Europe/Dublin', 'timezone2': 'Europe/Istanbul'}}, {'function_name': 'convert_time', 'arguments': {'time': '17:15', 'from_timezone': 'Europe/Dublin', 'to_timezone': 'Europe/Istanbul'}}]\u001b[0m\n",
      "\u001b[32m2024-05-03 02:47:25 INFO semantic_router.utils.logger Document 1 length: 126\u001b[0m\n",
      "\u001b[32m2024-05-03 02:47:25 INFO semantic_router.utils.logger Document 1 trunc length: 126\u001b[0m\n"
     ]
    },
    {
     "name": "stdout",
     "output_type": "stream",
     "text": [
      "23:47\n",
      "The time difference between Europe/Dublin and Europe/Istanbul is 2.0 hours.\n",
      "19:15\n",
      ">>> PASS <<<.\n",
      "====================================================================================================\n",
      "====================================================================================================\n",
      "Processing utterance:  Tell me the current time in Brussels and how many hours it is behind Hong Kong. Convert 19:30 Brussels time to Hong Kong time.\n"
     ]
    },
    {
     "name": "stderr",
     "output_type": "stream",
     "text": [
      "\u001b[32m2024-05-03 02:47:26 INFO semantic_router.utils.logger Extracting function input...\u001b[0m\n",
      "\u001b[32m2024-05-03 02:47:30 INFO semantic_router.utils.logger LLM output: [\n",
      "    {\n",
      "        \"function_name\": \"get_time\",\n",
      "        \"arguments\": {\n",
      "            \"timezone\": \"Europe/Brussels\"\n",
      "        }\n",
      "    },\n",
      "    {\n",
      "        \"function_name\": \"get_time_difference\",\n",
      "        \"arguments\": {\n",
      "            \"timezone1\": \"Europe/Brussels\",\n",
      "            \"timezone2\": \"Asia/Hong_Kong\"\n",
      "        }\n",
      "    },\n",
      "    {\n",
      "        \"function_name\": \"convert_time\",\n",
      "        \"arguments\": {\n",
      "            \"time\": \"19:30\",\n",
      "            \"from_timezone\": \"Europe/Brussels\",\n",
      "            \"to_timezone\": \"Asia/Hong_Kong\"\n",
      "        }\n",
      "    }\n",
      "]\u001b[0m\n",
      "\u001b[32m2024-05-03 02:47:30 INFO semantic_router.utils.logger Function inputs: [{'function_name': 'get_time', 'arguments': {'timezone': 'Europe/Brussels'}}, {'function_name': 'get_time_difference', 'arguments': {'timezone1': 'Europe/Brussels', 'timezone2': 'Asia/Hong_Kong'}}, {'function_name': 'convert_time', 'arguments': {'time': '19:30', 'from_timezone': 'Europe/Brussels', 'to_timezone': 'Asia/Hong_Kong'}}]\u001b[0m\n",
      "\u001b[32m2024-05-03 02:47:30 INFO semantic_router.utils.logger Document 1 length: 137\u001b[0m\n",
      "\u001b[32m2024-05-03 02:47:30 INFO semantic_router.utils.logger Document 1 trunc length: 137\u001b[0m\n"
     ]
    },
    {
     "name": "stdout",
     "output_type": "stream",
     "text": [
      "00:47\n",
      "The time difference between Europe/Brussels and Asia/Hong_Kong is 6.0 hours.\n",
      "01:30\n",
      ">>> PASS <<<.\n",
      "====================================================================================================\n",
      "====================================================================================================\n",
      "Processing utterance:  Please find the current time in Copenhagen, the time difference with Johannesburg, and adjust 21:45 Copenhagen time to Johannesburg time.\n"
     ]
    },
    {
     "name": "stderr",
     "output_type": "stream",
     "text": [
      "\u001b[32m2024-05-03 02:47:30 INFO semantic_router.utils.logger Extracting function input...\u001b[0m\n",
      "\u001b[32m2024-05-03 02:47:33 INFO semantic_router.utils.logger LLM output: [\n",
      "    {\n",
      "        \"function_name\": \"get_time\",\n",
      "        \"arguments\": {\n",
      "            \"timezone\": \"Europe/Copenhagen\"\n",
      "        }\n",
      "    },\n",
      "    {\n",
      "        \"function_name\": \"get_time_difference\",\n",
      "        \"arguments\": {\n",
      "            \"timezone1\": \"Europe/Copenhagen\",\n",
      "            \"timezone2\": \"Africa/Johannesburg\"\n",
      "        }\n",
      "    },\n",
      "    {\n",
      "        \"function_name\": \"convert_time\",\n",
      "        \"arguments\": {\n",
      "            \"time\": \"21:45\",\n",
      "            \"from_timezone\": \"Europe/Copenhagen\",\n",
      "            \"to_timezone\": \"Africa/Johannesburg\"\n",
      "        }\n",
      "    }\n",
      "]\u001b[0m\n",
      "\u001b[32m2024-05-03 02:47:33 INFO semantic_router.utils.logger Function inputs: [{'function_name': 'get_time', 'arguments': {'timezone': 'Europe/Copenhagen'}}, {'function_name': 'get_time_difference', 'arguments': {'timezone1': 'Europe/Copenhagen', 'timezone2': 'Africa/Johannesburg'}}, {'function_name': 'convert_time', 'arguments': {'time': '21:45', 'from_timezone': 'Europe/Copenhagen', 'to_timezone': 'Africa/Johannesburg'}}]\u001b[0m\n",
      "\u001b[32m2024-05-03 02:47:33 INFO semantic_router.utils.logger Document 1 length: 127\u001b[0m\n",
      "\u001b[32m2024-05-03 02:47:33 INFO semantic_router.utils.logger Document 1 trunc length: 127\u001b[0m\n"
     ]
    },
    {
     "name": "stdout",
     "output_type": "stream",
     "text": [
      "00:47\n",
      "The time difference between Europe/Copenhagen and Africa/Johannesburg is 0.0 hours.\n",
      "21:45\n",
      ">>> PASS <<<.\n",
      "====================================================================================================\n",
      "====================================================================================================\n",
      "Processing utterance:  What's the current time in Glasgow? How far ahead is Glasgow from Buenos Aires? Switch 08:00 Glasgow time to Buenos Aires time.\n"
     ]
    },
    {
     "name": "stderr",
     "output_type": "stream",
     "text": [
      "\u001b[32m2024-05-03 02:47:33 INFO semantic_router.utils.logger Extracting function input...\u001b[0m\n",
      "\u001b[32m2024-05-03 02:47:37 INFO semantic_router.utils.logger LLM output: [\n",
      "    {\n",
      "        \"function_name\": \"get_time\",\n",
      "        \"arguments\": {\n",
      "            \"timezone\": \"Europe/London\"\n",
      "        }\n",
      "    },\n",
      "    {\n",
      "        \"function_name\": \"get_time_difference\",\n",
      "        \"arguments\": {\n",
      "            \"timezone1\": \"Europe/London\",\n",
      "            \"timezone2\": \"America/Argentina/Buenos_Aires\"\n",
      "        }\n",
      "    },\n",
      "    {\n",
      "        \"function_name\": \"convert_time\",\n",
      "        \"arguments\": {\n",
      "            \"time\": \"08:00\",\n",
      "            \"from_timezone\": \"Europe/London\",\n",
      "            \"to_timezone\": \"America/Argentina/Buenos_Aires\"\n",
      "        }\n",
      "    }\n",
      "]\u001b[0m\n",
      "\u001b[32m2024-05-03 02:47:37 INFO semantic_router.utils.logger Function inputs: [{'function_name': 'get_time', 'arguments': {'timezone': 'Europe/London'}}, {'function_name': 'get_time_difference', 'arguments': {'timezone1': 'Europe/London', 'timezone2': 'America/Argentina/Buenos_Aires'}}, {'function_name': 'convert_time', 'arguments': {'time': '08:00', 'from_timezone': 'Europe/London', 'to_timezone': 'America/Argentina/Buenos_Aires'}}]\u001b[0m\n",
      "\u001b[32m2024-05-03 02:47:37 INFO semantic_router.utils.logger Document 1 length: 127\u001b[0m\n",
      "\u001b[32m2024-05-03 02:47:37 INFO semantic_router.utils.logger Document 1 trunc length: 127\u001b[0m\n"
     ]
    },
    {
     "name": "stdout",
     "output_type": "stream",
     "text": [
      "23:47\n",
      "The time difference between Europe/London and America/Argentina/Buenos_Aires is -4.0 hours.\n",
      "04:00\n",
      ">>> PASS <<<.\n",
      "====================================================================================================\n",
      "====================================================================================================\n",
      "Processing utterance:  Can you show the current time in Cardiff, the hour gap between Cardiff and Seoul, and convert 10:30 Cardiff time to Seoul time?\n"
     ]
    },
    {
     "name": "stderr",
     "output_type": "stream",
     "text": [
      "\u001b[32m2024-05-03 02:47:37 INFO semantic_router.utils.logger Extracting function input...\u001b[0m\n",
      "\u001b[32m2024-05-03 02:47:40 INFO semantic_router.utils.logger LLM output: [\n",
      "    {\n",
      "        \"function_name\": \"get_time\",\n",
      "        \"arguments\": {\n",
      "            \"timezone\": \"Europe/Cardiff\"\n",
      "        }\n",
      "    },\n",
      "    {\n",
      "        \"function_name\": \"get_time_difference\",\n",
      "        \"arguments\": {\n",
      "            \"timezone1\": \"Europe/Cardiff\",\n",
      "            \"timezone2\": \"Asia/Seoul\"\n",
      "        }\n",
      "    },\n",
      "    {\n",
      "        \"function_name\": \"convert_time\",\n",
      "        \"arguments\": {\n",
      "            \"time\": \"10:30\",\n",
      "            \"from_timezone\": \"Europe/Cardiff\",\n",
      "            \"to_timezone\": \"Asia/Seoul\"\n",
      "        }\n",
      "    }\n",
      "]\u001b[0m\n",
      "\u001b[32m2024-05-03 02:47:40 INFO semantic_router.utils.logger Function inputs: [{'function_name': 'get_time', 'arguments': {'timezone': 'Europe/Cardiff'}}, {'function_name': 'get_time_difference', 'arguments': {'timezone1': 'Europe/Cardiff', 'timezone2': 'Asia/Seoul'}}, {'function_name': 'convert_time', 'arguments': {'time': '10:30', 'from_timezone': 'Europe/Cardiff', 'to_timezone': 'Asia/Seoul'}}]\u001b[0m\n",
      "\u001b[32m2024-05-03 02:47:40 INFO semantic_router.utils.logger Document 1 length: 144\u001b[0m\n",
      "\u001b[32m2024-05-03 02:47:40 INFO semantic_router.utils.logger Document 1 trunc length: 144\u001b[0m\n"
     ]
    },
    {
     "name": "stdout",
     "output_type": "stream",
     "text": [
      ">>> FAIL <<<.\n",
      "Failed to process: Can you show the current time in Cardiff, the hour gap between Cardiff and Seoul, and convert 10:30 Cardiff time to Seoul time? with error: 'No time zone found with key Europe/Cardiff'\n",
      "====================================================================================================\n",
      "====================================================================================================\n",
      "Processing utterance:  Display the current time in Edinburgh, calculate the time difference between Edinburgh and Delhi, and change 12:45 Edinburgh time to Delhi time.\n"
     ]
    },
    {
     "name": "stderr",
     "output_type": "stream",
     "text": [
      "\u001b[32m2024-05-03 02:47:40 INFO semantic_router.utils.logger Extracting function input...\u001b[0m\n",
      "\u001b[32m2024-05-03 02:47:42 INFO semantic_router.utils.logger LLM output: [\n",
      "    {\n",
      "        \"function_name\": \"get_time\",\n",
      "        \"arguments\": {\n",
      "            \"timezone\": \"Europe/London\"\n",
      "        }\n",
      "    },\n",
      "    {\n",
      "        \"function_name\": \"get_time_difference\",\n",
      "        \"arguments\": {\n",
      "            \"timezone1\": \"Europe/London\",\n",
      "            \"timezone2\": \"Asia/Kolkata\"\n",
      "        }\n",
      "    },\n",
      "    {\n",
      "        \"function_name\": \"convert_time\",\n",
      "        \"arguments\": {\n",
      "            \"time\": \"12:45\",\n",
      "            \"from_timezone\": \"Europe/London\",\n",
      "            \"to_timezone\": \"Asia/Kolkata\"\n",
      "        }\n",
      "    }\n",
      "]\u001b[0m\n",
      "\u001b[32m2024-05-03 02:47:42 INFO semantic_router.utils.logger Function inputs: [{'function_name': 'get_time', 'arguments': {'timezone': 'Europe/London'}}, {'function_name': 'get_time_difference', 'arguments': {'timezone1': 'Europe/London', 'timezone2': 'Asia/Kolkata'}}, {'function_name': 'convert_time', 'arguments': {'time': '12:45', 'from_timezone': 'Europe/London', 'to_timezone': 'Asia/Kolkata'}}]\u001b[0m\n",
      "\u001b[32m2024-05-03 02:47:42 INFO semantic_router.utils.logger Document 1 length: 135\u001b[0m\n",
      "\u001b[32m2024-05-03 02:47:42 INFO semantic_router.utils.logger Document 1 trunc length: 135\u001b[0m\n"
     ]
    },
    {
     "name": "stdout",
     "output_type": "stream",
     "text": [
      "23:47\n",
      "The time difference between Europe/London and Asia/Kolkata is 4.5 hours.\n",
      "17:15\n",
      ">>> PASS <<<.\n",
      "====================================================================================================\n",
      "====================================================================================================\n",
      "Processing utterance:  Tell me the current time in Manchester, how many hours behind is Manchester from Dubai, and adjust 14:30 Manchester time to Dubai time.\n"
     ]
    },
    {
     "name": "stderr",
     "output_type": "stream",
     "text": [
      "\u001b[32m2024-05-03 02:47:43 INFO semantic_router.utils.logger Extracting function input...\u001b[0m\n",
      "\u001b[32m2024-05-03 02:47:45 INFO semantic_router.utils.logger LLM output: [\n",
      "    {\n",
      "        \"function_name\": \"get_time\",\n",
      "        \"arguments\": {\n",
      "            \"timezone\": \"Europe/London\"\n",
      "        }\n",
      "    },\n",
      "    {\n",
      "        \"function_name\": \"get_time_difference\",\n",
      "        \"arguments\": {\n",
      "            \"timezone1\": \"Europe/London\",\n",
      "            \"timezone2\": \"Asia/Dubai\"\n",
      "        }\n",
      "    },\n",
      "    {\n",
      "        \"function_name\": \"convert_time\",\n",
      "        \"arguments\": {\n",
      "            \"time\": \"14:30\",\n",
      "            \"from_timezone\": \"Europe/London\",\n",
      "            \"to_timezone\": \"Asia/Dubai\"\n",
      "        }\n",
      "    }\n",
      "]\u001b[0m\n",
      "\u001b[32m2024-05-03 02:47:45 INFO semantic_router.utils.logger Function inputs: [{'function_name': 'get_time', 'arguments': {'timezone': 'Europe/London'}}, {'function_name': 'get_time_difference', 'arguments': {'timezone1': 'Europe/London', 'timezone2': 'Asia/Dubai'}}, {'function_name': 'convert_time', 'arguments': {'time': '14:30', 'from_timezone': 'Europe/London', 'to_timezone': 'Asia/Dubai'}}]\u001b[0m\n",
      "\u001b[32m2024-05-03 02:47:45 INFO semantic_router.utils.logger Document 1 length: 147\u001b[0m\n",
      "\u001b[32m2024-05-03 02:47:45 INFO semantic_router.utils.logger Document 1 trunc length: 147\u001b[0m\n"
     ]
    },
    {
     "name": "stdout",
     "output_type": "stream",
     "text": [
      "23:47\n",
      "The time difference between Europe/London and Asia/Dubai is 3.0 hours.\n",
      "17:30\n",
      ">>> PASS <<<.\n",
      "====================================================================================================\n",
      "====================================================================================================\n",
      "Processing utterance:  What is the current time in Liverpool? What is the time difference between Liverpool and Beijing? And convert 16:15 Liverpool time to Beijing time.\n"
     ]
    },
    {
     "name": "stderr",
     "output_type": "stream",
     "text": [
      "\u001b[32m2024-05-03 02:47:46 INFO semantic_router.utils.logger Extracting function input...\u001b[0m\n",
      "\u001b[32m2024-05-03 02:47:48 INFO semantic_router.utils.logger LLM output: [\n",
      "    {\n",
      "        \"function_name\": \"get_time\",\n",
      "        \"arguments\": {\n",
      "            \"timezone\": \"Europe/London\"\n",
      "        }\n",
      "    },\n",
      "    {\n",
      "        \"function_name\": \"get_time_difference\",\n",
      "        \"arguments\": {\n",
      "            \"timezone1\": \"Europe/London\",\n",
      "            \"timezone2\": \"Asia/Shanghai\"\n",
      "        }\n",
      "    },\n",
      "    {\n",
      "        \"function_name\": \"convert_time\",\n",
      "        \"arguments\": {\n",
      "            \"time\": \"16:15\",\n",
      "            \"from_timezone\": \"Europe/London\",\n",
      "            \"to_timezone\": \"Asia/Shanghai\"\n",
      "        }\n",
      "    }\n",
      "]\u001b[0m\n",
      "\u001b[32m2024-05-03 02:47:48 INFO semantic_router.utils.logger Function inputs: [{'function_name': 'get_time', 'arguments': {'timezone': 'Europe/London'}}, {'function_name': 'get_time_difference', 'arguments': {'timezone1': 'Europe/London', 'timezone2': 'Asia/Shanghai'}}, {'function_name': 'convert_time', 'arguments': {'time': '16:15', 'from_timezone': 'Europe/London', 'to_timezone': 'Asia/Shanghai'}}]\u001b[0m\n"
     ]
    },
    {
     "name": "stdout",
     "output_type": "stream",
     "text": [
      "23:47\n",
      "The time difference between Europe/London and Asia/Shanghai is 7.0 hours.\n",
      "23:15\n",
      ">>> PASS <<<.\n",
      "====================================================================================================\n",
      "====================================================================================================\n",
      "Number of successful responses: 44\n",
      "Number of failed responses: 6\n",
      "====================================================================================================\n"
     ]
    }
   ],
   "source": [
    "test_function_calling(\n",
    "    utterances=test_utterances_all_functions,\n",
    "    function_name='all_functions',\n",
    "    expected_num_responses=3\n",
    "    )"
   ]
  },
  {
   "cell_type": "code",
   "execution_count": null,
   "metadata": {},
   "outputs": [],
   "source": [
    "        prompt = f\"\"\"\n",
    "You are an accurate and reliable computer program that only outputs valid JSON. \n",
    "Your task is to:\n",
    "    1) Pick the most relevant Python function schema(s) from FUNCTION_SCHEMAS below, based on the input QUERY.\n",
    "    2) Output JSON representing the input arguments of the chosen function schema(s), where the input argument values are ascertained from information in the QUERY.\n",
    "\n",
    "These are the Python functions' schema:\n",
    "\n",
    "### FUNCTION_SCHEMAS Start ###\n",
    "    {json.dumps(function_schemas, indent=4)}\n",
    "### FUNCTION_SCHEMAS End ###\n",
    "\n",
    "This is the input query.\n",
    "\n",
    "### QUERY Start ###\n",
    "    {query}\n",
    "### QUERY End ###\n",
    "\n",
    "Steps:\n",
    "    1) Pick relevant Python FUNCTION_SCHEMAS based on the following criteria:\n",
    "        - The function output provides information that is requested in the QUERY.\n",
    "        - The information that is required as input to the function is present in the QUERY, or can easily be ascertained from the QUERY.\n",
    "    2) Output the input arguments of the chosen function in valid JSON format (see FORMATTING_INSTRUCTIONS below).\n",
    "Note: Pay special attention to FUNCTION_SCHEMA \"description\" and \"signature\" fields to determine the correct format of the input arguments.\n",
    "\n",
    "### FORMATTING_INSTRUCTIONS Start ###\n",
    "    Return a response in valid JSON format. Do not return any other explanation, text or tokens, just the JSON.\n",
    "    The JSON should be in the following format:\n",
    "    [\n",
    "        {{\n",
    "            \"function_name\": \"FUNCTION_NAME\",\n",
    "            \"arguments\": {{\n",
    "                \"ARGUMENT_NAME\": \"ARGUMENT_VALUE_FROM_QUERY\",\n",
    "                \"ARGUMENT_NAME\": \"ARGUMENT_VALUE_FROM_QUERY\",\n",
    "                ...\n",
    "            }}\n",
    "        }},\n",
    "        {{\n",
    "            \"function_name\": \"FUNCTION_NAME\",\n",
    "            \"arguments\": {{\n",
    "                \"ARGUMENT_NAME\": \"ARGUMENT_VALUE_FROM_QUERY\",\n",
    "                \"ARGUMENT_NAME\": \"ARGUMENT_VALUE_FROM_QUERY\",\n",
    "                ...\n",
    "            }}\n",
    "        }},\n",
    "        ...\n",
    "    ]\n",
    "    NOTE: The same function might be represented in the JSON multiple times, with different arguments, if the function is relevant for different parts of the query.\n",
    "### FORMATTING_INSTRUCTIONS End ###\n",
    "\n",
    "I will tip $500 for an accurate JSON output. You will be penalized for an inaccurate JSON output.\n",
    "\n",
    "Provide JSON output now:\n",
    "    \"\"\""
   ]
  }
 ],
 "metadata": {
  "kernelspec": {
   "display_name": "semantic_router_3",
   "language": "python",
   "name": "python3"
  },
  "language_info": {
   "codemirror_mode": {
    "name": "ipython",
    "version": 3
   },
   "file_extension": ".py",
   "mimetype": "text/x-python",
   "name": "python",
   "nbconvert_exporter": "python",
   "pygments_lexer": "ipython3",
   "version": "3.11.4"
  }
 },
 "nbformat": 4,
 "nbformat_minor": 2
}
